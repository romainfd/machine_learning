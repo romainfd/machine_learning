{
 "cells": [
  {
   "cell_type": "markdown",
   "metadata": {},
   "source": [
    "# Load in Data"
   ]
  },
  {
   "cell_type": "code",
   "execution_count": 4,
   "metadata": {},
   "outputs": [],
   "source": [
    "\"\"\"\n",
    "For this new random forests, we use the features computed in feature_extractor.py\n",
    "    -'title'  # overlap between titles\n",
    "    -'year'  # time difference\n",
    "    -'authors'  # authors in common\n",
    "    \n",
    "    ## Abstract embedding\n",
    "    -'tf-idf'  # tf-idf cosine similarity\n",
    "    -'Doc2Vec'  # Doc2Vec cosine similarity\n",
    "    \n",
    "    ## Features computed on the connection between documents graph (represented by the adjacency matrix D)\n",
    "    -'deg_in(s)'\n",
    "    -'deg_in(t)'\n",
    "    -'deg_out(s)'\n",
    "    -'deg_out(t)'\n",
    "    -'(DD)_st'\n",
    "    -'(D D.T)_st'\n",
    "    -'(D.T D)_st'\n",
    "    -'(DDD)_st'\n",
    "    -'(D.T DD)_st'\n",
    "    -'(D D.T D)_st'\n",
    "    -'(DD D.T)_st'\n",
    "    \n",
    "    ## Features computed on the connection between authors graph (represented by the adjacency matrix A)\n",
    "    -'graph_author_feature'  # number of citations between both group of authors\n",
    "    -'a_degree_in_source'  # sum of all citation received by the authors of the source document\n",
    "    -'a_degree_in_target'  # sum of all citation received by the authors of the targe document\n",
    "    -'a_degree_out_source'  # sum of all citation done by the authors of the source document\n",
    "    -'a_degree_out_target'  # sum of all citation done by the authors of the target document\n",
    "    -'f_AA'  # sum of the coefficient of the matrix AA over all position where i and j are respectively authors of the source and target documents\n",
    "    -'f_AAt' # same with another matrix ...\n",
    "    -'f_AtA'\n",
    "    -'f_AAA'\n",
    "    -'f_AtAA'\n",
    "    -'f_AAtA'\n",
    "    -'f_AAAt'\n",
    "    \n",
    "    ## Others\n",
    "    -'title_cited'  # binary value if the title of the target is found in the abstract of the source\n",
    "    -'journals'  # number of journals in common when the overlap is complete for one of the article\n",
    "\n",
    "\"\"\"\n",
    "\n",
    "import pickle\n",
    "import numpy as np\n",
    "import sklearn\n",
    "import matplotlib.pyplot as plt\n",
    "import csv\n",
    "\n",
    "from keras.models import Sequential\n",
    "from keras.layers import Dense\n",
    "from keras import regularizers\n",
    "\n",
    "\n",
    "## import features computed previously\n",
    "feature_list = [\"title\", \"year\", \"authors\", \"tf-idf\", \"Doc2Vec\", \"deg_in(s)\", \"deg_in(t)\", \"deg_out(s)\", \"deg_out(t)\", \"(DD)_st\", \"(D D.T)_st\", \"(D.T D)_st\", \"(DDD)_st\", \"(D.T DD)_st\", \"(D D.T D)_st\", \"(DD D.T)_st\", \"graph_author_feature\", \"a_degree_in_source\", \"a_degree_in_target\", \"a_degree_out_source\", \"a_degree_out_target\", \"f_AA\", \"f_AAt\", \"f_AtA\", \"f_AAA\", \"f_AtAA\", \"f_AAtA\", \"f_AAAt\", \"title_cited\", \"journals\"]\n",
    "# to_keep = feature_list\n",
    "to_keep = [\"title\", \"year\", \"authors\", \"tf-idf\", \"Doc2Vec\", \"deg_in(t)\", \"deg_out(s)\", \"(DD)_st\", \"(D D.T)_st\", \"(D.T D)_st\", \"(DDD)_st\", \"(D.T DD)_st\", \"(D D.T D)_st\", \"(DD D.T)_st\"]\n",
    "# to_keep = [\"title\", \"year\", \"authors\", \"tf-idf\", \"Doc2Vec\", \"deg_in(t)\", \"deg_out(s)\", \"(D.T DD)_st\", \"(D D.T D)_st\", \"(DD D.T)_st\", \"a_degree_in_target\", \"a_degree_out_source\", \"f_AtAA\", \"f_AAtA\", \"f_AAAt\", \"title_cited\", \"journals\"]\n",
    "#, \"(DD)_st\", \"(D D.T)_st\", \"(D.T D)_st\", \"(DDD)_st\", \"a_degree_in_source\", \"a_degree_out_target\", \"f_AA\", \"f_AAt\", \"f_AtA\", \"f_AAA\"]\n",
    "to_keep_indices = [feature_list.index(feature) for feature in to_keep]\n",
    "\n",
    "train_features = pickle.load(open(\"features/training_features_split.pkl\",'rb'))[:,to_keep_indices]\n",
    "train_labels = pickle.load(open(\"features/training_labels_split.pkl\",'rb'))\n",
    "testing_features = pickle.load(open(\"features/testing_features_split.pkl\",'rb'))\n",
    "# train_features[:2]"
   ]
  },
  {
   "cell_type": "markdown",
   "metadata": {},
   "source": [
    "# Data Preparation"
   ]
  },
  {
   "cell_type": "code",
   "execution_count": 5,
   "metadata": {},
   "outputs": [],
   "source": [
    "# Training and Testing Sets\n",
    "from sklearn.model_selection import train_test_split\n",
    "\n",
    "train_features, test_features, train_labels, test_labels = train_test_split(train_features, train_labels, test_size = 0.2, random_state = 42)"
   ]
  },
  {
   "cell_type": "code",
   "execution_count": 6,
   "metadata": {},
   "outputs": [
    {
     "name": "stdout",
     "output_type": "stream",
     "text": [
      "Training Features Shape: (147721, 14)\n",
      "Training Labels Shape: 147721\n",
      "Testing Features Shape: (36931, 14)\n",
      "Testing Labels Shape: 36931\n",
      "Nb of Features: 14 out of 30\n"
     ]
    }
   ],
   "source": [
    "print('Training Features Shape:', train_features.shape)\n",
    "print('Training Labels Shape:', len(train_labels))\n",
    "print('Testing Features Shape:', test_features.shape)\n",
    "print('Testing Labels Shape:', len(test_labels))\n",
    "print('Nb of Features: {} out of {}'.format(len(to_keep), len(feature_list)))\n",
    "\n"
   ]
  },
  {
   "cell_type": "markdown",
   "metadata": {},
   "source": [
    "### Examine the Default Random Forest to Determine Parameters\n",
    "\n",
    "We will use these parameters as a starting point. I relied on the [sklearn random forest documentation](http://scikit-learn.org/stable/modules/generated/sklearn.ensemble.RandomForestClassifier.html) to determine which features to change and the available options."
   ]
  },
  {
   "cell_type": "code",
   "execution_count": 7,
   "metadata": {},
   "outputs": [
    {
     "name": "stdout",
     "output_type": "stream",
     "text": [
      "Parameters currently in use:\n",
      "\n",
      "{'bootstrap': True,\n",
      " 'class_weight': None,\n",
      " 'criterion': 'gini',\n",
      " 'max_depth': None,\n",
      " 'max_features': 'auto',\n",
      " 'max_leaf_nodes': None,\n",
      " 'min_impurity_decrease': 0.0,\n",
      " 'min_impurity_split': None,\n",
      " 'min_samples_leaf': 1,\n",
      " 'min_samples_split': 2,\n",
      " 'min_weight_fraction_leaf': 0.0,\n",
      " 'n_estimators': 'warn',\n",
      " 'n_jobs': None,\n",
      " 'oob_score': False,\n",
      " 'random_state': 42,\n",
      " 'verbose': 0,\n",
      " 'warm_start': False}\n"
     ]
    }
   ],
   "source": [
    "from sklearn.ensemble import RandomForestClassifier\n",
    "\n",
    "rf = RandomForestClassifier(random_state = 42)\n",
    "\n",
    "from pprint import pprint\n",
    "\n",
    "# Look at parameters used by our current forest\n",
    "print('Parameters currently in use:\\n')\n",
    "pprint(rf.get_params())"
   ]
  },
  {
   "cell_type": "markdown",
   "metadata": {},
   "source": [
    "## Evaluation Function"
   ]
  },
  {
   "cell_type": "code",
   "execution_count": 8,
   "metadata": {},
   "outputs": [],
   "source": [
    "def evaluate(model, test_features, test_labels, train_features, train_labels):\n",
    "    predictions = model.predict(test_features)\n",
    "    errors = abs(predictions - test_labels).sum()  # nb of errors\n",
    "    test_accuracy = (1 - 1. * errors / len(test_features)) * 100\n",
    "    print('Test accuracy = {:0.2f}%. '.format(test_accuracy), end='')\n",
    "    predictions = model.predict(train_features)\n",
    "    errors = abs(predictions - train_labels).sum()  # nb of errors\n",
    "    accuracy = (1 - 1. * errors / len(train_features)) * 100\n",
    "    print('Train accuracy = {:0.2f}%.'.format(accuracy))\n",
    "    return test_accuracy\n",
    "\n",
    "from sklearn.metrics import balanced_accuracy_score, accuracy_score\n",
    "\n",
    "def evaluate2(model, test_features, test_labels, train_features, train_labels):\n",
    "    predictions = model.predict(test_features)\n",
    "    print('Model Performance')\n",
    "    print('Accuracy = {:0.2f}%.'.format(100*accuracy_score(test_labels, predictions)))\n",
    "    predictions = model.predict(train_features)\n",
    "    print('Model Performance')\n",
    "    print('Accuracy = {:0.2f}%.'.format(100*accuracy_score(train_labels, predictions)))"
   ]
  },
  {
   "cell_type": "markdown",
   "metadata": {},
   "source": [
    "## Custom random search"
   ]
  },
  {
   "cell_type": "code",
   "execution_count": 21,
   "metadata": {},
   "outputs": [
    {
     "name": "stdout",
     "output_type": "stream",
     "text": [
      "Nombre d'estimateurs: 103680\n",
      "Nombre d'estimateurs testés en théorie: 518.4\n",
      "1ème itérateur: 1, 1, 1, 5, 1, False\n",
      "Test accuracy = 62.94%. Train accuracy = 63.15%.\n",
      "Best accuracy reached so far: 62.94170209309252 for params: 1, 1, 1, 5, 1, False\n",
      "2ème itérateur: 1, 1, 1, 20, 2, False\n"
     ]
    },
    {
     "name": "stderr",
     "output_type": "stream",
     "text": [
      "[Parallel(n_jobs=6)]: Using backend ThreadingBackend with 6 concurrent workers.\n",
      "[Parallel(n_jobs=6)]: Done   1 out of   1 | elapsed:    0.0s finished\n",
      "[Parallel(n_jobs=1)]: Using backend SequentialBackend with 1 concurrent workers.\n",
      "[Parallel(n_jobs=1)]: Done   1 out of   1 | elapsed:    0.0s finished\n",
      "[Parallel(n_jobs=1)]: Using backend SequentialBackend with 1 concurrent workers.\n",
      "[Parallel(n_jobs=1)]: Done   1 out of   1 | elapsed:    0.0s finished\n",
      "[Parallel(n_jobs=6)]: Using backend ThreadingBackend with 6 concurrent workers.\n",
      "[Parallel(n_jobs=6)]: Done   1 out of   1 | elapsed:    0.0s finished\n",
      "[Parallel(n_jobs=1)]: Using backend SequentialBackend with 1 concurrent workers.\n",
      "[Parallel(n_jobs=1)]: Done   1 out of   1 | elapsed:    0.0s finished\n",
      "[Parallel(n_jobs=1)]: Using backend SequentialBackend with 1 concurrent workers.\n",
      "[Parallel(n_jobs=1)]: Done   1 out of   1 | elapsed:    0.0s finished\n",
      "[Parallel(n_jobs=6)]: Using backend ThreadingBackend with 6 concurrent workers.\n",
      "[Parallel(n_jobs=6)]: Done   1 out of   1 | elapsed:    0.0s finished\n",
      "[Parallel(n_jobs=1)]: Using backend SequentialBackend with 1 concurrent workers.\n",
      "[Parallel(n_jobs=1)]: Done   1 out of   1 | elapsed:    0.0s finished\n",
      "[Parallel(n_jobs=1)]: Using backend SequentialBackend with 1 concurrent workers.\n",
      "[Parallel(n_jobs=1)]: Done   1 out of   1 | elapsed:    0.0s finished\n",
      "[Parallel(n_jobs=6)]: Using backend ThreadingBackend with 6 concurrent workers.\n",
      "[Parallel(n_jobs=6)]: Done   1 out of   1 | elapsed:    0.0s finished\n"
     ]
    },
    {
     "name": "stdout",
     "output_type": "stream",
     "text": [
      "Test accuracy = 62.94%. Train accuracy = 63.15%.\n",
      "Best accuracy reached so far: 62.94170209309252 for params: 1, 1, 1, 5, 1, False\n",
      "3ème itérateur: 1, 1, 2, 40, 8, False\n",
      "Test accuracy = 70.88%. Train accuracy = 71.04%.\n",
      "Best accuracy reached so far: 70.88353957379978 for params: 1, 1, 2, 40, 8, False\n",
      "4ème itérateur: 1, 1, 4, 50, 1, True\n"
     ]
    },
    {
     "name": "stderr",
     "output_type": "stream",
     "text": [
      "[Parallel(n_jobs=1)]: Using backend SequentialBackend with 1 concurrent workers.\n",
      "[Parallel(n_jobs=1)]: Done   1 out of   1 | elapsed:    0.0s finished\n",
      "[Parallel(n_jobs=1)]: Using backend SequentialBackend with 1 concurrent workers.\n",
      "[Parallel(n_jobs=1)]: Done   1 out of   1 | elapsed:    0.0s finished\n",
      "[Parallel(n_jobs=6)]: Using backend ThreadingBackend with 6 concurrent workers.\n",
      "[Parallel(n_jobs=6)]: Done   1 out of   1 | elapsed:    0.1s finished\n",
      "[Parallel(n_jobs=1)]: Using backend SequentialBackend with 1 concurrent workers.\n",
      "[Parallel(n_jobs=1)]: Done   1 out of   1 | elapsed:    0.0s finished\n",
      "[Parallel(n_jobs=1)]: Using backend SequentialBackend with 1 concurrent workers.\n",
      "[Parallel(n_jobs=1)]: Done   1 out of   1 | elapsed:    0.0s finished\n",
      "[Parallel(n_jobs=6)]: Using backend ThreadingBackend with 6 concurrent workers.\n"
     ]
    },
    {
     "name": "stdout",
     "output_type": "stream",
     "text": [
      "Test accuracy = 88.55%. Train accuracy = 88.87%.\n",
      "Best accuracy reached so far: 88.55433104979556 for params: 1, 1, 4, 50, 1, True\n",
      "5ème itérateur: 1, 1, 10, 60, 1, True\n",
      "Test accuracy = 91.60%. Train accuracy = 91.90%.\n",
      "Best accuracy reached so far: 91.59784462917332 for params: 1, 1, 10, 60, 1, True\n",
      "6ème itérateur: 1, 1, 20, 30, 1, True\n"
     ]
    },
    {
     "name": "stderr",
     "output_type": "stream",
     "text": [
      "[Parallel(n_jobs=6)]: Done   1 out of   1 | elapsed:    0.1s finished\n",
      "[Parallel(n_jobs=1)]: Using backend SequentialBackend with 1 concurrent workers.\n",
      "[Parallel(n_jobs=1)]: Done   1 out of   1 | elapsed:    0.0s finished\n",
      "[Parallel(n_jobs=1)]: Using backend SequentialBackend with 1 concurrent workers.\n",
      "[Parallel(n_jobs=1)]: Done   1 out of   1 | elapsed:    0.0s finished\n",
      "[Parallel(n_jobs=6)]: Using backend ThreadingBackend with 6 concurrent workers.\n",
      "[Parallel(n_jobs=6)]: Done   1 out of   1 | elapsed:    0.1s finished\n",
      "[Parallel(n_jobs=1)]: Using backend SequentialBackend with 1 concurrent workers.\n",
      "[Parallel(n_jobs=1)]: Done   1 out of   1 | elapsed:    0.0s finished\n",
      "[Parallel(n_jobs=1)]: Using backend SequentialBackend with 1 concurrent workers.\n",
      "[Parallel(n_jobs=1)]: Done   1 out of   1 | elapsed:    0.0s finished\n",
      "[Parallel(n_jobs=6)]: Using backend ThreadingBackend with 6 concurrent workers.\n"
     ]
    },
    {
     "name": "stdout",
     "output_type": "stream",
     "text": [
      "Test accuracy = 94.19%. Train accuracy = 95.10%.\n",
      "Best accuracy reached so far: 94.18916357531613 for params: 1, 1, 20, 30, 1, True\n",
      "7ème itérateur: 1, 1, 20, 40, 2, True\n",
      "Test accuracy = 93.49%. Train accuracy = 94.18%.\n",
      "Best accuracy reached so far: 94.18916357531613 for params: 1, 1, 20, 30, 1, True\n",
      "8ème itérateur: 1, 1, 20, 60, 16, True\n"
     ]
    },
    {
     "name": "stderr",
     "output_type": "stream",
     "text": [
      "[Parallel(n_jobs=6)]: Done   1 out of   1 | elapsed:    0.1s finished\n",
      "[Parallel(n_jobs=1)]: Using backend SequentialBackend with 1 concurrent workers.\n",
      "[Parallel(n_jobs=1)]: Done   1 out of   1 | elapsed:    0.0s finished\n",
      "[Parallel(n_jobs=1)]: Using backend SequentialBackend with 1 concurrent workers.\n",
      "[Parallel(n_jobs=1)]: Done   1 out of   1 | elapsed:    0.0s finished\n",
      "[Parallel(n_jobs=6)]: Using backend ThreadingBackend with 6 concurrent workers.\n",
      "[Parallel(n_jobs=6)]: Done   1 out of   1 | elapsed:    0.1s finished\n",
      "[Parallel(n_jobs=1)]: Using backend SequentialBackend with 1 concurrent workers.\n",
      "[Parallel(n_jobs=1)]: Done   1 out of   1 | elapsed:    0.0s finished\n",
      "[Parallel(n_jobs=1)]: Using backend SequentialBackend with 1 concurrent workers.\n",
      "[Parallel(n_jobs=1)]: Done   1 out of   1 | elapsed:    0.0s finished\n"
     ]
    },
    {
     "name": "stdout",
     "output_type": "stream",
     "text": [
      "Test accuracy = 92.94%. Train accuracy = 93.28%.\n",
      "Best accuracy reached so far: 94.18916357531613 for params: 1, 1, 20, 30, 1, True\n",
      "9ème itérateur: 1, 1, None, 10, 16, False\n",
      "Test accuracy = 91.65%. Train accuracy = 92.09%.\n",
      "Best accuracy reached so far: 94.18916357531613 for params: 1, 1, 20, 30, 1, True\n",
      "10ème itérateur: 1, 2, 1, 60, 16, False\n"
     ]
    },
    {
     "name": "stderr",
     "output_type": "stream",
     "text": [
      "[Parallel(n_jobs=6)]: Using backend ThreadingBackend with 6 concurrent workers.\n",
      "[Parallel(n_jobs=6)]: Done   1 out of   1 | elapsed:    0.0s finished\n",
      "[Parallel(n_jobs=1)]: Using backend SequentialBackend with 1 concurrent workers.\n",
      "[Parallel(n_jobs=1)]: Done   1 out of   1 | elapsed:    0.0s finished\n",
      "[Parallel(n_jobs=1)]: Using backend SequentialBackend with 1 concurrent workers.\n",
      "[Parallel(n_jobs=1)]: Done   1 out of   1 | elapsed:    0.0s finished\n",
      "[Parallel(n_jobs=6)]: Using backend ThreadingBackend with 6 concurrent workers.\n",
      "[Parallel(n_jobs=6)]: Done   1 out of   1 | elapsed:    0.1s finished\n"
     ]
    },
    {
     "name": "stdout",
     "output_type": "stream",
     "text": [
      "Test accuracy = 62.94%. Train accuracy = 63.15%.\n",
      "Best accuracy reached so far: 94.18916357531613 for params: 1, 1, 20, 30, 1, True\n",
      "11ème itérateur: 1, 2, 4, 20, 128, True\n",
      "Test accuracy = 87.38%. Train accuracy = 87.54%.\n",
      "Best accuracy reached so far: 94.18916357531613 for params: 1, 1, 20, 30, 1, True\n",
      "12ème itérateur: 1, 2, 5, 40, 2, True\n"
     ]
    },
    {
     "name": "stderr",
     "output_type": "stream",
     "text": [
      "[Parallel(n_jobs=1)]: Using backend SequentialBackend with 1 concurrent workers.\n",
      "[Parallel(n_jobs=1)]: Done   1 out of   1 | elapsed:    0.0s finished\n",
      "[Parallel(n_jobs=1)]: Using backend SequentialBackend with 1 concurrent workers.\n",
      "[Parallel(n_jobs=1)]: Done   1 out of   1 | elapsed:    0.0s finished\n",
      "[Parallel(n_jobs=6)]: Using backend ThreadingBackend with 6 concurrent workers.\n",
      "[Parallel(n_jobs=6)]: Done   1 out of   1 | elapsed:    0.1s finished\n",
      "[Parallel(n_jobs=1)]: Using backend SequentialBackend with 1 concurrent workers.\n",
      "[Parallel(n_jobs=1)]: Done   1 out of   1 | elapsed:    0.0s finished\n",
      "[Parallel(n_jobs=1)]: Using backend SequentialBackend with 1 concurrent workers.\n",
      "[Parallel(n_jobs=1)]: Done   1 out of   1 | elapsed:    0.0s finished\n",
      "[Parallel(n_jobs=6)]: Using backend ThreadingBackend with 6 concurrent workers.\n"
     ]
    },
    {
     "name": "stdout",
     "output_type": "stream",
     "text": [
      "Test accuracy = 90.41%. Train accuracy = 90.41%.\n",
      "Best accuracy reached so far: 94.18916357531613 for params: 1, 1, 20, 30, 1, True\n",
      "13ème itérateur: 1, 2, 10, 2, 1, True\n",
      "Test accuracy = 92.91%. Train accuracy = 93.19%.\n",
      "Best accuracy reached so far: 94.18916357531613 for params: 1, 1, 20, 30, 1, True\n",
      "14ème itérateur: 1, 2, 13, 20, 64, True\n"
     ]
    },
    {
     "name": "stderr",
     "output_type": "stream",
     "text": [
      "[Parallel(n_jobs=6)]: Done   1 out of   1 | elapsed:    0.1s finished\n",
      "[Parallel(n_jobs=1)]: Using backend SequentialBackend with 1 concurrent workers.\n",
      "[Parallel(n_jobs=1)]: Done   1 out of   1 | elapsed:    0.0s finished\n",
      "[Parallel(n_jobs=1)]: Using backend SequentialBackend with 1 concurrent workers.\n",
      "[Parallel(n_jobs=1)]: Done   1 out of   1 | elapsed:    0.0s finished\n",
      "[Parallel(n_jobs=6)]: Using backend ThreadingBackend with 6 concurrent workers.\n",
      "[Parallel(n_jobs=6)]: Done   1 out of   1 | elapsed:    0.1s finished\n",
      "[Parallel(n_jobs=1)]: Using backend SequentialBackend with 1 concurrent workers.\n",
      "[Parallel(n_jobs=1)]: Done   1 out of   1 | elapsed:    0.0s finished\n",
      "[Parallel(n_jobs=1)]: Using backend SequentialBackend with 1 concurrent workers.\n",
      "[Parallel(n_jobs=1)]: Done   1 out of   1 | elapsed:    0.0s finished\n",
      "[Parallel(n_jobs=6)]: Using backend ThreadingBackend with 6 concurrent workers.\n"
     ]
    },
    {
     "name": "stdout",
     "output_type": "stream",
     "text": [
      "Test accuracy = 94.25%. Train accuracy = 94.34%.\n",
      "Best accuracy reached so far: 94.24873412580217 for params: 1, 2, 13, 20, 64, True\n",
      "15ème itérateur: 1, 2, 13, 40, 1, False\n"
     ]
    },
    {
     "name": "stderr",
     "output_type": "stream",
     "text": [
      "[Parallel(n_jobs=6)]: Done   1 out of   1 | elapsed:    0.2s finished\n",
      "[Parallel(n_jobs=1)]: Using backend SequentialBackend with 1 concurrent workers.\n",
      "[Parallel(n_jobs=1)]: Done   1 out of   1 | elapsed:    0.0s finished\n",
      "[Parallel(n_jobs=1)]: Using backend SequentialBackend with 1 concurrent workers.\n",
      "[Parallel(n_jobs=1)]: Done   1 out of   1 | elapsed:    0.0s finished\n",
      "[Parallel(n_jobs=6)]: Using backend ThreadingBackend with 6 concurrent workers.\n"
     ]
    },
    {
     "name": "stdout",
     "output_type": "stream",
     "text": [
      "Test accuracy = 94.70%. Train accuracy = 95.28%.\n",
      "Best accuracy reached so far: 94.6982210067423 for params: 1, 2, 13, 40, 1, False\n",
      "16ème itérateur: 1, 2, 17, 40, 8, False\n"
     ]
    },
    {
     "name": "stderr",
     "output_type": "stream",
     "text": [
      "[Parallel(n_jobs=6)]: Done   1 out of   1 | elapsed:    0.2s finished\n",
      "[Parallel(n_jobs=1)]: Using backend SequentialBackend with 1 concurrent workers.\n",
      "[Parallel(n_jobs=1)]: Done   1 out of   1 | elapsed:    0.0s finished\n",
      "[Parallel(n_jobs=1)]: Using backend SequentialBackend with 1 concurrent workers.\n",
      "[Parallel(n_jobs=1)]: Done   1 out of   1 | elapsed:    0.0s finished\n",
      "[Parallel(n_jobs=6)]: Using backend ThreadingBackend with 6 concurrent workers.\n",
      "[Parallel(n_jobs=6)]: Done   1 out of   1 | elapsed:    0.1s finished\n",
      "[Parallel(n_jobs=1)]: Using backend SequentialBackend with 1 concurrent workers.\n",
      "[Parallel(n_jobs=1)]: Done   1 out of   1 | elapsed:    0.0s finished\n",
      "[Parallel(n_jobs=1)]: Using backend SequentialBackend with 1 concurrent workers.\n"
     ]
    },
    {
     "name": "stdout",
     "output_type": "stream",
     "text": [
      "Test accuracy = 94.42%. Train accuracy = 94.99%.\n",
      "Best accuracy reached so far: 94.6982210067423 for params: 1, 2, 13, 40, 1, False\n",
      "17ème itérateur: 1, 2, 20, 20, 64, True\n",
      "Test accuracy = 93.48%. Train accuracy = 93.70%.\n",
      "Best accuracy reached so far: 94.6982210067423 for params: 1, 2, 13, 40, 1, False\n",
      "18ème itérateur: 1, 3, 3, 60, 8, False\n"
     ]
    },
    {
     "name": "stderr",
     "output_type": "stream",
     "text": [
      "[Parallel(n_jobs=1)]: Done   1 out of   1 | elapsed:    0.0s finished\n",
      "[Parallel(n_jobs=6)]: Using backend ThreadingBackend with 6 concurrent workers.\n",
      "[Parallel(n_jobs=6)]: Done   1 out of   1 | elapsed:    0.1s finished\n",
      "[Parallel(n_jobs=1)]: Using backend SequentialBackend with 1 concurrent workers.\n",
      "[Parallel(n_jobs=1)]: Done   1 out of   1 | elapsed:    0.0s finished\n",
      "[Parallel(n_jobs=1)]: Using backend SequentialBackend with 1 concurrent workers.\n",
      "[Parallel(n_jobs=1)]: Done   1 out of   1 | elapsed:    0.0s finished\n",
      "[Parallel(n_jobs=6)]: Using backend ThreadingBackend with 6 concurrent workers.\n"
     ]
    },
    {
     "name": "stdout",
     "output_type": "stream",
     "text": [
      "Test accuracy = 86.86%. Train accuracy = 87.10%.\n",
      "Best accuracy reached so far: 94.6982210067423 for params: 1, 2, 13, 40, 1, False\n",
      "19ème itérateur: 1, 3, 10, 2, 128, True\n"
     ]
    },
    {
     "name": "stderr",
     "output_type": "stream",
     "text": [
      "[Parallel(n_jobs=6)]: Done   1 out of   1 | elapsed:    0.1s finished\n",
      "[Parallel(n_jobs=1)]: Using backend SequentialBackend with 1 concurrent workers.\n",
      "[Parallel(n_jobs=1)]: Done   1 out of   1 | elapsed:    0.0s finished\n",
      "[Parallel(n_jobs=1)]: Using backend SequentialBackend with 1 concurrent workers.\n",
      "[Parallel(n_jobs=1)]: Done   1 out of   1 | elapsed:    0.0s finished\n",
      "[Parallel(n_jobs=6)]: Using backend ThreadingBackend with 6 concurrent workers.\n"
     ]
    },
    {
     "name": "stdout",
     "output_type": "stream",
     "text": [
      "Test accuracy = 94.53%. Train accuracy = 94.63%.\n",
      "Best accuracy reached so far: 94.6982210067423 for params: 1, 2, 13, 40, 1, False\n",
      "20ème itérateur: 1, 3, 10, 5, 32, False\n"
     ]
    },
    {
     "name": "stderr",
     "output_type": "stream",
     "text": [
      "[Parallel(n_jobs=6)]: Done   1 out of   1 | elapsed:    0.2s finished\n",
      "[Parallel(n_jobs=1)]: Using backend SequentialBackend with 1 concurrent workers.\n",
      "[Parallel(n_jobs=1)]: Done   1 out of   1 | elapsed:    0.0s finished\n",
      "[Parallel(n_jobs=1)]: Using backend SequentialBackend with 1 concurrent workers.\n",
      "[Parallel(n_jobs=1)]: Done   1 out of   1 | elapsed:    0.0s finished\n",
      "[Parallel(n_jobs=6)]: Using backend ThreadingBackend with 6 concurrent workers.\n"
     ]
    },
    {
     "name": "stdout",
     "output_type": "stream",
     "text": [
      "Test accuracy = 94.95%. Train accuracy = 95.22%.\n",
      "Best accuracy reached so far: 94.95004197016057 for params: 1, 3, 10, 5, 32, False\n",
      "21ème itérateur: 1, 3, 17, 60, 32, True\n"
     ]
    },
    {
     "name": "stderr",
     "output_type": "stream",
     "text": [
      "[Parallel(n_jobs=6)]: Done   1 out of   1 | elapsed:    0.2s finished\n",
      "[Parallel(n_jobs=1)]: Using backend SequentialBackend with 1 concurrent workers.\n",
      "[Parallel(n_jobs=1)]: Done   1 out of   1 | elapsed:    0.0s finished\n",
      "[Parallel(n_jobs=1)]: Using backend SequentialBackend with 1 concurrent workers.\n",
      "[Parallel(n_jobs=1)]: Done   1 out of   1 | elapsed:    0.0s finished\n",
      "[Parallel(n_jobs=6)]: Using backend ThreadingBackend with 6 concurrent workers.\n"
     ]
    },
    {
     "name": "stdout",
     "output_type": "stream",
     "text": [
      "Test accuracy = 95.08%. Train accuracy = 95.31%.\n",
      "Best accuracy reached so far: 95.08272183260675 for params: 1, 3, 17, 60, 32, True\n",
      "22ème itérateur: 1, 3, None, 40, 128, False\n"
     ]
    },
    {
     "name": "stderr",
     "output_type": "stream",
     "text": [
      "[Parallel(n_jobs=6)]: Done   1 out of   1 | elapsed:    0.2s finished\n",
      "[Parallel(n_jobs=1)]: Using backend SequentialBackend with 1 concurrent workers.\n",
      "[Parallel(n_jobs=1)]: Done   1 out of   1 | elapsed:    0.0s finished\n",
      "[Parallel(n_jobs=1)]: Using backend SequentialBackend with 1 concurrent workers.\n",
      "[Parallel(n_jobs=1)]: Done   1 out of   1 | elapsed:    0.0s finished\n",
      "[Parallel(n_jobs=6)]: Using backend ThreadingBackend with 6 concurrent workers.\n"
     ]
    },
    {
     "name": "stdout",
     "output_type": "stream",
     "text": [
      "Test accuracy = 94.75%. Train accuracy = 94.89%.\n",
      "Best accuracy reached so far: 95.08272183260675 for params: 1, 3, 17, 60, 32, True\n",
      "23ème itérateur: 1, 3, None, 70, 1, False\n"
     ]
    },
    {
     "name": "stderr",
     "output_type": "stream",
     "text": [
      "[Parallel(n_jobs=6)]: Done   1 out of   1 | elapsed:    0.3s finished\n",
      "[Parallel(n_jobs=1)]: Using backend SequentialBackend with 1 concurrent workers.\n",
      "[Parallel(n_jobs=1)]: Done   1 out of   1 | elapsed:    0.0s finished\n",
      "[Parallel(n_jobs=1)]: Using backend SequentialBackend with 1 concurrent workers.\n",
      "[Parallel(n_jobs=1)]: Done   1 out of   1 | elapsed:    0.0s finished\n",
      "[Parallel(n_jobs=6)]: Using backend ThreadingBackend with 6 concurrent workers.\n",
      "[Parallel(n_jobs=6)]: Done   1 out of   1 | elapsed:    0.0s finished\n",
      "[Parallel(n_jobs=1)]: Using backend SequentialBackend with 1 concurrent workers.\n",
      "[Parallel(n_jobs=1)]: Done   1 out of   1 | elapsed:    0.0s finished\n",
      "[Parallel(n_jobs=1)]: Using backend SequentialBackend with 1 concurrent workers.\n"
     ]
    },
    {
     "name": "stdout",
     "output_type": "stream",
     "text": [
      "Test accuracy = 95.46%. Train accuracy = 96.44%.\n",
      "Best accuracy reached so far: 95.45909940158674 for params: 1, 3, None, 70, 1, False\n",
      "24ème itérateur: 1, 8, 1, 10, 4, True\n",
      "Test accuracy = 92.47%. Train accuracy = 92.53%.\n",
      "Best accuracy reached so far: 95.45909940158674 for params: 1, 3, None, 70, 1, False\n",
      "25ème itérateur: 1, 8, 3, 30, 4, False\n"
     ]
    },
    {
     "name": "stderr",
     "output_type": "stream",
     "text": [
      "[Parallel(n_jobs=1)]: Done   1 out of   1 | elapsed:    0.0s finished\n",
      "[Parallel(n_jobs=6)]: Using backend ThreadingBackend with 6 concurrent workers.\n",
      "[Parallel(n_jobs=6)]: Done   1 out of   1 | elapsed:    0.2s finished\n",
      "[Parallel(n_jobs=1)]: Using backend SequentialBackend with 1 concurrent workers.\n",
      "[Parallel(n_jobs=1)]: Done   1 out of   1 | elapsed:    0.0s finished\n",
      "[Parallel(n_jobs=1)]: Using backend SequentialBackend with 1 concurrent workers.\n",
      "[Parallel(n_jobs=1)]: Done   1 out of   1 | elapsed:    0.0s finished\n",
      "[Parallel(n_jobs=6)]: Using backend ThreadingBackend with 6 concurrent workers.\n",
      "[Parallel(n_jobs=6)]: Done   1 out of   1 | elapsed:    0.2s finished\n"
     ]
    },
    {
     "name": "stdout",
     "output_type": "stream",
     "text": [
      "Test accuracy = 94.36%. Train accuracy = 94.52%.\n",
      "Best accuracy reached so far: 95.45909940158674 for params: 1, 3, None, 70, 1, False\n",
      "26ème itérateur: 1, 8, 3, 30, 16, False\n"
     ]
    },
    {
     "name": "stderr",
     "output_type": "stream",
     "text": [
      "[Parallel(n_jobs=1)]: Using backend SequentialBackend with 1 concurrent workers.\n",
      "[Parallel(n_jobs=1)]: Done   1 out of   1 | elapsed:    0.0s finished\n",
      "[Parallel(n_jobs=1)]: Using backend SequentialBackend with 1 concurrent workers.\n",
      "[Parallel(n_jobs=1)]: Done   1 out of   1 | elapsed:    0.0s finished\n",
      "[Parallel(n_jobs=6)]: Using backend ThreadingBackend with 6 concurrent workers.\n",
      "[Parallel(n_jobs=6)]: Done   1 out of   1 | elapsed:    0.2s finished\n"
     ]
    },
    {
     "name": "stdout",
     "output_type": "stream",
     "text": [
      "Test accuracy = 94.36%. Train accuracy = 94.52%.\n",
      "Best accuracy reached so far: 95.45909940158674 for params: 1, 3, None, 70, 1, False\n",
      "27ème itérateur: 1, 8, 3, 70, 8, False\n"
     ]
    },
    {
     "name": "stderr",
     "output_type": "stream",
     "text": [
      "[Parallel(n_jobs=1)]: Using backend SequentialBackend with 1 concurrent workers.\n",
      "[Parallel(n_jobs=1)]: Done   1 out of   1 | elapsed:    0.0s finished\n",
      "[Parallel(n_jobs=1)]: Using backend SequentialBackend with 1 concurrent workers.\n",
      "[Parallel(n_jobs=1)]: Done   1 out of   1 | elapsed:    0.0s finished\n",
      "[Parallel(n_jobs=6)]: Using backend ThreadingBackend with 6 concurrent workers.\n"
     ]
    },
    {
     "name": "stdout",
     "output_type": "stream",
     "text": [
      "Test accuracy = 94.36%. Train accuracy = 94.52%.\n",
      "Best accuracy reached so far: 95.45909940158674 for params: 1, 3, None, 70, 1, False\n",
      "28ème itérateur: 1, 8, 5, 60, 128, False\n"
     ]
    },
    {
     "name": "stderr",
     "output_type": "stream",
     "text": [
      "[Parallel(n_jobs=6)]: Done   1 out of   1 | elapsed:    0.3s finished\n",
      "[Parallel(n_jobs=1)]: Using backend SequentialBackend with 1 concurrent workers.\n",
      "[Parallel(n_jobs=1)]: Done   1 out of   1 | elapsed:    0.0s finished\n",
      "[Parallel(n_jobs=1)]: Using backend SequentialBackend with 1 concurrent workers.\n",
      "[Parallel(n_jobs=1)]: Done   1 out of   1 | elapsed:    0.0s finished\n",
      "[Parallel(n_jobs=6)]: Using backend ThreadingBackend with 6 concurrent workers.\n"
     ]
    },
    {
     "name": "stdout",
     "output_type": "stream",
     "text": [
      "Test accuracy = 95.16%. Train accuracy = 95.27%.\n",
      "Best accuracy reached so far: 95.45909940158674 for params: 1, 3, None, 70, 1, False\n",
      "29ème itérateur: 1, 8, 7, 20, 32, False\n"
     ]
    },
    {
     "name": "stderr",
     "output_type": "stream",
     "text": [
      "[Parallel(n_jobs=6)]: Done   1 out of   1 | elapsed:    0.3s finished\n",
      "[Parallel(n_jobs=1)]: Using backend SequentialBackend with 1 concurrent workers.\n",
      "[Parallel(n_jobs=1)]: Done   1 out of   1 | elapsed:    0.0s finished\n",
      "[Parallel(n_jobs=1)]: Using backend SequentialBackend with 1 concurrent workers.\n",
      "[Parallel(n_jobs=1)]: Done   1 out of   1 | elapsed:    0.0s finished\n",
      "[Parallel(n_jobs=6)]: Using backend ThreadingBackend with 6 concurrent workers.\n"
     ]
    },
    {
     "name": "stdout",
     "output_type": "stream",
     "text": [
      "Test accuracy = 95.41%. Train accuracy = 95.39%.\n",
      "Best accuracy reached so far: 95.45909940158674 for params: 1, 3, None, 70, 1, False\n",
      "30ème itérateur: 1, 8, 17, 30, 32, False\n"
     ]
    },
    {
     "name": "stderr",
     "output_type": "stream",
     "text": [
      "[Parallel(n_jobs=6)]: Done   1 out of   1 | elapsed:    0.5s finished\n",
      "[Parallel(n_jobs=1)]: Using backend SequentialBackend with 1 concurrent workers.\n",
      "[Parallel(n_jobs=1)]: Done   1 out of   1 | elapsed:    0.0s finished\n",
      "[Parallel(n_jobs=1)]: Using backend SequentialBackend with 1 concurrent workers.\n",
      "[Parallel(n_jobs=1)]: Done   1 out of   1 | elapsed:    0.0s finished\n",
      "[Parallel(n_jobs=6)]: Using backend ThreadingBackend with 6 concurrent workers.\n"
     ]
    },
    {
     "name": "stdout",
     "output_type": "stream",
     "text": [
      "Test accuracy = 96.23%. Train accuracy = 96.58%.\n",
      "Best accuracy reached so far: 96.22810105331564 for params: 1, 8, 17, 30, 32, False\n",
      "31ème itérateur: 1, 8, 17, 60, 2, False\n"
     ]
    },
    {
     "name": "stderr",
     "output_type": "stream",
     "text": [
      "[Parallel(n_jobs=6)]: Done   1 out of   1 | elapsed:    0.6s finished\n",
      "[Parallel(n_jobs=1)]: Using backend SequentialBackend with 1 concurrent workers.\n",
      "[Parallel(n_jobs=1)]: Done   1 out of   1 | elapsed:    0.0s finished\n",
      "[Parallel(n_jobs=1)]: Using backend SequentialBackend with 1 concurrent workers.\n",
      "[Parallel(n_jobs=1)]: Done   1 out of   1 | elapsed:    0.0s finished\n",
      "[Parallel(n_jobs=6)]: Using backend ThreadingBackend with 6 concurrent workers.\n",
      "[Parallel(n_jobs=6)]: Done   1 out of   1 | elapsed:    0.1s finished\n",
      "[Parallel(n_jobs=1)]: Using backend SequentialBackend with 1 concurrent workers.\n",
      "[Parallel(n_jobs=1)]: Done   1 out of   1 | elapsed:    0.0s finished\n"
     ]
    },
    {
     "name": "stdout",
     "output_type": "stream",
     "text": [
      "Test accuracy = 96.17%. Train accuracy = 97.00%.\n",
      "Best accuracy reached so far: 96.22810105331564 for params: 1, 8, 17, 30, 32, False\n",
      "32ème itérateur: 1, sqrt, 2, 60, 8, True\n",
      "Test accuracy = 90.30%. Train accuracy = 90.29%.\n",
      "Best accuracy reached so far: 96.22810105331564 for params: 1, 8, 17, 30, 32, False\n",
      "33ème itérateur: 1, sqrt, 3, 30, 64, False\n"
     ]
    },
    {
     "name": "stderr",
     "output_type": "stream",
     "text": [
      "[Parallel(n_jobs=1)]: Using backend SequentialBackend with 1 concurrent workers.\n",
      "[Parallel(n_jobs=1)]: Done   1 out of   1 | elapsed:    0.0s finished\n",
      "[Parallel(n_jobs=6)]: Using backend ThreadingBackend with 6 concurrent workers.\n",
      "[Parallel(n_jobs=6)]: Done   1 out of   1 | elapsed:    0.1s finished\n",
      "[Parallel(n_jobs=1)]: Using backend SequentialBackend with 1 concurrent workers.\n",
      "[Parallel(n_jobs=1)]: Done   1 out of   1 | elapsed:    0.0s finished\n",
      "[Parallel(n_jobs=1)]: Using backend SequentialBackend with 1 concurrent workers.\n",
      "[Parallel(n_jobs=1)]: Done   1 out of   1 | elapsed:    0.0s finished\n",
      "[Parallel(n_jobs=6)]: Using backend ThreadingBackend with 6 concurrent workers.\n",
      "[Parallel(n_jobs=6)]: Done   1 out of   1 | elapsed:    0.1s finished\n",
      "[Parallel(n_jobs=1)]: Using backend SequentialBackend with 1 concurrent workers.\n",
      "[Parallel(n_jobs=1)]: Done   1 out of   1 | elapsed:    0.0s finished\n",
      "[Parallel(n_jobs=1)]: Using backend SequentialBackend with 1 concurrent workers.\n",
      "[Parallel(n_jobs=1)]: Done   1 out of   1 | elapsed:    0.0s finished\n",
      "[Parallel(n_jobs=6)]: Using backend ThreadingBackend with 6 concurrent workers.\n"
     ]
    },
    {
     "name": "stdout",
     "output_type": "stream",
     "text": [
      "Test accuracy = 91.53%. Train accuracy = 91.54%.\n",
      "Best accuracy reached so far: 96.22810105331564 for params: 1, 8, 17, 30, 32, False\n",
      "34ème itérateur: 1, sqrt, 3, 50, 1, True\n",
      "Test accuracy = 91.53%. Train accuracy = 91.54%.\n",
      "Best accuracy reached so far: 96.22810105331564 for params: 1, 8, 17, 30, 32, False\n",
      "35ème itérateur: 1, sqrt, 10, 30, 32, False\n"
     ]
    },
    {
     "name": "stderr",
     "output_type": "stream",
     "text": [
      "[Parallel(n_jobs=6)]: Done   1 out of   1 | elapsed:    0.3s finished\n",
      "[Parallel(n_jobs=1)]: Using backend SequentialBackend with 1 concurrent workers.\n",
      "[Parallel(n_jobs=1)]: Done   1 out of   1 | elapsed:    0.0s finished\n",
      "[Parallel(n_jobs=1)]: Using backend SequentialBackend with 1 concurrent workers.\n",
      "[Parallel(n_jobs=1)]: Done   1 out of   1 | elapsed:    0.0s finished\n",
      "[Parallel(n_jobs=6)]: Using backend ThreadingBackend with 6 concurrent workers.\n"
     ]
    },
    {
     "name": "stdout",
     "output_type": "stream",
     "text": [
      "Test accuracy = 95.57%. Train accuracy = 95.79%.\n",
      "Best accuracy reached so far: 96.22810105331564 for params: 1, 8, 17, 30, 32, False\n",
      "36ème itérateur: 1, sqrt, 13, 40, 8, True\n"
     ]
    },
    {
     "name": "stderr",
     "output_type": "stream",
     "text": [
      "[Parallel(n_jobs=6)]: Done   1 out of   1 | elapsed:    0.2s finished\n",
      "[Parallel(n_jobs=1)]: Using backend SequentialBackend with 1 concurrent workers.\n",
      "[Parallel(n_jobs=1)]: Done   1 out of   1 | elapsed:    0.0s finished\n",
      "[Parallel(n_jobs=1)]: Using backend SequentialBackend with 1 concurrent workers.\n",
      "[Parallel(n_jobs=1)]: Done   1 out of   1 | elapsed:    0.0s finished\n",
      "[Parallel(n_jobs=6)]: Using backend ThreadingBackend with 6 concurrent workers.\n"
     ]
    },
    {
     "name": "stdout",
     "output_type": "stream",
     "text": [
      "Test accuracy = 95.69%. Train accuracy = 96.15%.\n",
      "Best accuracy reached so far: 96.22810105331564 for params: 1, 8, 17, 30, 32, False\n",
      "37ème itérateur: 1, sqrt, 13, 70, 128, False\n"
     ]
    },
    {
     "name": "stderr",
     "output_type": "stream",
     "text": [
      "[Parallel(n_jobs=6)]: Done   1 out of   1 | elapsed:    0.3s finished\n",
      "[Parallel(n_jobs=1)]: Using backend SequentialBackend with 1 concurrent workers.\n",
      "[Parallel(n_jobs=1)]: Done   1 out of   1 | elapsed:    0.0s finished\n",
      "[Parallel(n_jobs=1)]: Using backend SequentialBackend with 1 concurrent workers.\n",
      "[Parallel(n_jobs=1)]: Done   1 out of   1 | elapsed:    0.0s finished\n",
      "[Parallel(n_jobs=6)]: Using backend ThreadingBackend with 6 concurrent workers.\n"
     ]
    },
    {
     "name": "stdout",
     "output_type": "stream",
     "text": [
      "Test accuracy = 95.82%. Train accuracy = 95.90%.\n",
      "Best accuracy reached so far: 96.22810105331564 for params: 1, 8, 17, 30, 32, False\n",
      "38ème itérateur: 1, sqrt, 17, 30, 64, True\n"
     ]
    },
    {
     "name": "stderr",
     "output_type": "stream",
     "text": [
      "[Parallel(n_jobs=6)]: Done   1 out of   1 | elapsed:    0.3s finished\n",
      "[Parallel(n_jobs=1)]: Using backend SequentialBackend with 1 concurrent workers.\n",
      "[Parallel(n_jobs=1)]: Done   1 out of   1 | elapsed:    0.0s finished\n",
      "[Parallel(n_jobs=1)]: Using backend SequentialBackend with 1 concurrent workers.\n",
      "[Parallel(n_jobs=1)]: Done   1 out of   1 | elapsed:    0.0s finished\n",
      "[Parallel(n_jobs=6)]: Using backend ThreadingBackend with 6 concurrent workers.\n"
     ]
    },
    {
     "name": "stdout",
     "output_type": "stream",
     "text": [
      "Test accuracy = 95.56%. Train accuracy = 95.75%.\n",
      "Best accuracy reached so far: 96.22810105331564 for params: 1, 8, 17, 30, 32, False\n",
      "39ème itérateur: 1, sqrt, 17, 40, 128, True\n"
     ]
    },
    {
     "name": "stderr",
     "output_type": "stream",
     "text": [
      "[Parallel(n_jobs=6)]: Done   1 out of   1 | elapsed:    0.2s finished\n",
      "[Parallel(n_jobs=1)]: Using backend SequentialBackend with 1 concurrent workers.\n",
      "[Parallel(n_jobs=1)]: Done   1 out of   1 | elapsed:    0.0s finished\n",
      "[Parallel(n_jobs=1)]: Using backend SequentialBackend with 1 concurrent workers.\n",
      "[Parallel(n_jobs=1)]: Done   1 out of   1 | elapsed:    0.0s finished\n",
      "[Parallel(n_jobs=6)]: Using backend ThreadingBackend with 6 concurrent workers.\n"
     ]
    },
    {
     "name": "stdout",
     "output_type": "stream",
     "text": [
      "Test accuracy = 95.30%. Train accuracy = 95.36%.\n",
      "Best accuracy reached so far: 96.22810105331564 for params: 1, 8, 17, 30, 32, False\n",
      "40ème itérateur: 1, sqrt, 17, 70, 8, False\n"
     ]
    },
    {
     "name": "stderr",
     "output_type": "stream",
     "text": [
      "[Parallel(n_jobs=6)]: Done   1 out of   1 | elapsed:    0.4s finished\n",
      "[Parallel(n_jobs=1)]: Using backend SequentialBackend with 1 concurrent workers.\n",
      "[Parallel(n_jobs=1)]: Done   1 out of   1 | elapsed:    0.0s finished\n",
      "[Parallel(n_jobs=1)]: Using backend SequentialBackend with 1 concurrent workers.\n",
      "[Parallel(n_jobs=1)]: Done   1 out of   1 | elapsed:    0.0s finished\n",
      "[Parallel(n_jobs=6)]: Using backend ThreadingBackend with 6 concurrent workers.\n"
     ]
    },
    {
     "name": "stdout",
     "output_type": "stream",
     "text": [
      "Test accuracy = 96.10%. Train accuracy = 96.56%.\n",
      "Best accuracy reached so far: 96.22810105331564 for params: 1, 8, 17, 30, 32, False\n",
      "41ème itérateur: 1, sqrt, 25, 50, 32, True\n"
     ]
    },
    {
     "name": "stderr",
     "output_type": "stream",
     "text": [
      "[Parallel(n_jobs=6)]: Done   1 out of   1 | elapsed:    0.2s finished\n",
      "[Parallel(n_jobs=1)]: Using backend SequentialBackend with 1 concurrent workers.\n",
      "[Parallel(n_jobs=1)]: Done   1 out of   1 | elapsed:    0.0s finished\n",
      "[Parallel(n_jobs=1)]: Using backend SequentialBackend with 1 concurrent workers.\n",
      "[Parallel(n_jobs=1)]: Done   1 out of   1 | elapsed:    0.0s finished\n",
      "[Parallel(n_jobs=6)]: Using backend ThreadingBackend with 6 concurrent workers.\n"
     ]
    },
    {
     "name": "stdout",
     "output_type": "stream",
     "text": [
      "Test accuracy = 95.57%. Train accuracy = 95.88%.\n",
      "Best accuracy reached so far: 96.22810105331564 for params: 1, 8, 17, 30, 32, False\n",
      "42ème itérateur: 1, sqrt, 25, 70, 32, False\n"
     ]
    },
    {
     "name": "stderr",
     "output_type": "stream",
     "text": [
      "[Parallel(n_jobs=6)]: Done   1 out of   1 | elapsed:    0.4s finished\n",
      "[Parallel(n_jobs=1)]: Using backend SequentialBackend with 1 concurrent workers.\n",
      "[Parallel(n_jobs=1)]: Done   1 out of   1 | elapsed:    0.0s finished\n",
      "[Parallel(n_jobs=1)]: Using backend SequentialBackend with 1 concurrent workers.\n",
      "[Parallel(n_jobs=1)]: Done   1 out of   1 | elapsed:    0.0s finished\n",
      "[Parallel(n_jobs=6)]: Using backend ThreadingBackend with 6 concurrent workers.\n"
     ]
    },
    {
     "name": "stdout",
     "output_type": "stream",
     "text": [
      "Test accuracy = 96.00%. Train accuracy = 96.30%.\n",
      "Best accuracy reached so far: 96.22810105331564 for params: 1, 8, 17, 30, 32, False\n",
      "43ème itérateur: 1, sqrt, None, 40, 8, True\n"
     ]
    },
    {
     "name": "stderr",
     "output_type": "stream",
     "text": [
      "[Parallel(n_jobs=6)]: Done   1 out of   1 | elapsed:    0.3s finished\n",
      "[Parallel(n_jobs=1)]: Using backend SequentialBackend with 1 concurrent workers.\n",
      "[Parallel(n_jobs=1)]: Done   1 out of   1 | elapsed:    0.0s finished\n",
      "[Parallel(n_jobs=1)]: Using backend SequentialBackend with 1 concurrent workers.\n",
      "[Parallel(n_jobs=1)]: Done   1 out of   1 | elapsed:    0.0s finished\n",
      "[Parallel(n_jobs=6)]: Using backend ThreadingBackend with 6 concurrent workers.\n"
     ]
    },
    {
     "name": "stdout",
     "output_type": "stream",
     "text": [
      "Test accuracy = 95.76%. Train accuracy = 96.21%.\n",
      "Best accuracy reached so far: 96.22810105331564 for params: 1, 8, 17, 30, 32, False\n",
      "44ème itérateur: 1, None, 5, 60, 1, True\n"
     ]
    },
    {
     "name": "stderr",
     "output_type": "stream",
     "text": [
      "[Parallel(n_jobs=6)]: Done   1 out of   1 | elapsed:    0.6s finished\n",
      "[Parallel(n_jobs=1)]: Using backend SequentialBackend with 1 concurrent workers.\n",
      "[Parallel(n_jobs=1)]: Done   1 out of   1 | elapsed:    0.0s finished\n",
      "[Parallel(n_jobs=1)]: Using backend SequentialBackend with 1 concurrent workers.\n",
      "[Parallel(n_jobs=1)]: Done   1 out of   1 | elapsed:    0.0s finished\n",
      "[Parallel(n_jobs=6)]: Using backend ThreadingBackend with 6 concurrent workers.\n"
     ]
    },
    {
     "name": "stdout",
     "output_type": "stream",
     "text": [
      "Test accuracy = 95.86%. Train accuracy = 96.01%.\n",
      "Best accuracy reached so far: 96.22810105331564 for params: 1, 8, 17, 30, 32, False\n",
      "45ème itérateur: 1, None, 10, 2, 2, True\n"
     ]
    },
    {
     "name": "stderr",
     "output_type": "stream",
     "text": [
      "[Parallel(n_jobs=6)]: Done   1 out of   1 | elapsed:    1.1s finished\n",
      "[Parallel(n_jobs=1)]: Using backend SequentialBackend with 1 concurrent workers.\n",
      "[Parallel(n_jobs=1)]: Done   1 out of   1 | elapsed:    0.0s finished\n",
      "[Parallel(n_jobs=1)]: Using backend SequentialBackend with 1 concurrent workers.\n",
      "[Parallel(n_jobs=1)]: Done   1 out of   1 | elapsed:    0.0s finished\n",
      "[Parallel(n_jobs=6)]: Using backend ThreadingBackend with 6 concurrent workers.\n"
     ]
    },
    {
     "name": "stdout",
     "output_type": "stream",
     "text": [
      "Test accuracy = 96.26%. Train accuracy = 96.69%.\n",
      "Best accuracy reached so far: 96.25517857626384 for params: 1, None, 10, 2, 2, True\n",
      "46ème itérateur: 1, None, 10, 5, 8, True\n"
     ]
    },
    {
     "name": "stderr",
     "output_type": "stream",
     "text": [
      "[Parallel(n_jobs=6)]: Done   1 out of   1 | elapsed:    1.1s finished\n",
      "[Parallel(n_jobs=1)]: Using backend SequentialBackend with 1 concurrent workers.\n",
      "[Parallel(n_jobs=1)]: Done   1 out of   1 | elapsed:    0.0s finished\n",
      "[Parallel(n_jobs=1)]: Using backend SequentialBackend with 1 concurrent workers.\n",
      "[Parallel(n_jobs=1)]: Done   1 out of   1 | elapsed:    0.0s finished\n",
      "[Parallel(n_jobs=6)]: Using backend ThreadingBackend with 6 concurrent workers.\n"
     ]
    },
    {
     "name": "stdout",
     "output_type": "stream",
     "text": [
      "Test accuracy = 96.37%. Train accuracy = 96.65%.\n",
      "Best accuracy reached so far: 96.37431967723593 for params: 1, None, 10, 5, 8, True\n",
      "47ème itérateur: 1, None, 17, 40, 32, True\n"
     ]
    },
    {
     "name": "stderr",
     "output_type": "stream",
     "text": [
      "[Parallel(n_jobs=6)]: Done   1 out of   1 | elapsed:    1.3s finished\n",
      "[Parallel(n_jobs=1)]: Using backend SequentialBackend with 1 concurrent workers.\n",
      "[Parallel(n_jobs=1)]: Done   1 out of   1 | elapsed:    0.0s finished\n",
      "[Parallel(n_jobs=1)]: Using backend SequentialBackend with 1 concurrent workers.\n",
      "[Parallel(n_jobs=1)]: Done   1 out of   1 | elapsed:    0.0s finished\n",
      "[Parallel(n_jobs=6)]: Using backend ThreadingBackend with 6 concurrent workers.\n"
     ]
    },
    {
     "name": "stdout",
     "output_type": "stream",
     "text": [
      "Test accuracy = 96.27%. Train accuracy = 96.56%.\n",
      "Best accuracy reached so far: 96.37431967723593 for params: 1, None, 10, 5, 8, True\n",
      "48ème itérateur: 1, None, 20, 20, 16, False\n"
     ]
    },
    {
     "name": "stderr",
     "output_type": "stream",
     "text": [
      "[Parallel(n_jobs=6)]: Done   1 out of   1 | elapsed:    2.1s finished\n",
      "[Parallel(n_jobs=1)]: Using backend SequentialBackend with 1 concurrent workers.\n",
      "[Parallel(n_jobs=1)]: Done   1 out of   1 | elapsed:    0.0s finished\n",
      "[Parallel(n_jobs=1)]: Using backend SequentialBackend with 1 concurrent workers.\n",
      "[Parallel(n_jobs=1)]: Done   1 out of   1 | elapsed:    0.0s finished\n",
      "[Parallel(n_jobs=6)]: Using backend ThreadingBackend with 6 concurrent workers.\n"
     ]
    },
    {
     "name": "stdout",
     "output_type": "stream",
     "text": [
      "Test accuracy = 96.33%. Train accuracy = 97.27%.\n",
      "Best accuracy reached so far: 96.37431967723593 for params: 1, None, 10, 5, 8, True\n",
      "49ème itérateur: 1, None, 20, 40, 8, True\n"
     ]
    },
    {
     "name": "stderr",
     "output_type": "stream",
     "text": [
      "[Parallel(n_jobs=6)]: Done   1 out of   1 | elapsed:    1.4s finished\n",
      "[Parallel(n_jobs=1)]: Using backend SequentialBackend with 1 concurrent workers.\n",
      "[Parallel(n_jobs=1)]: Done   1 out of   1 | elapsed:    0.0s finished\n",
      "[Parallel(n_jobs=1)]: Using backend SequentialBackend with 1 concurrent workers.\n",
      "[Parallel(n_jobs=1)]: Done   1 out of   1 | elapsed:    0.0s finished\n",
      "[Parallel(n_jobs=6)]: Using backend ThreadingBackend with 6 concurrent workers.\n",
      "[Parallel(n_jobs=6)]: Done   2 out of   2 | elapsed:    0.0s finished\n"
     ]
    },
    {
     "name": "stdout",
     "output_type": "stream",
     "text": [
      "Test accuracy = 96.23%. Train accuracy = 96.78%.\n",
      "Best accuracy reached so far: 96.37431967723593 for params: 1, None, 10, 5, 8, True\n",
      "50ème itérateur: 2, 1, 2, 40, 128, False\n"
     ]
    },
    {
     "name": "stderr",
     "output_type": "stream",
     "text": [
      "[Parallel(n_jobs=2)]: Using backend ThreadingBackend with 2 concurrent workers.\n",
      "[Parallel(n_jobs=2)]: Done   2 out of   2 | elapsed:    0.0s remaining:    0.0s\n",
      "[Parallel(n_jobs=2)]: Done   2 out of   2 | elapsed:    0.0s finished\n",
      "[Parallel(n_jobs=2)]: Using backend ThreadingBackend with 2 concurrent workers.\n",
      "[Parallel(n_jobs=2)]: Done   2 out of   2 | elapsed:    0.0s remaining:    0.0s\n",
      "[Parallel(n_jobs=2)]: Done   2 out of   2 | elapsed:    0.0s finished\n"
     ]
    },
    {
     "name": "stdout",
     "output_type": "stream",
     "text": [
      "Test accuracy = 71.79%. Train accuracy = 71.98%.\n",
      "Best accuracy reached so far: 96.37431967723593 for params: 1, None, 10, 5, 8, True\n",
      "51ème itérateur: 2, 1, 3, 2, 2, True\n"
     ]
    },
    {
     "name": "stderr",
     "output_type": "stream",
     "text": [
      "[Parallel(n_jobs=6)]: Using backend ThreadingBackend with 6 concurrent workers.\n",
      "[Parallel(n_jobs=6)]: Done   2 out of   2 | elapsed:    0.0s finished\n",
      "[Parallel(n_jobs=2)]: Using backend ThreadingBackend with 2 concurrent workers.\n",
      "[Parallel(n_jobs=2)]: Done   2 out of   2 | elapsed:    0.0s remaining:    0.0s\n",
      "[Parallel(n_jobs=2)]: Done   2 out of   2 | elapsed:    0.0s finished\n"
     ]
    },
    {
     "name": "stdout",
     "output_type": "stream",
     "text": [
      "Test accuracy = 85.69%. Train accuracy = 85.66%.\n",
      "Best accuracy reached so far: 96.37431967723593 for params: 1, None, 10, 5, 8, True\n",
      "52ème itérateur: 2, 1, 4, 50, 8, False\n"
     ]
    },
    {
     "name": "stderr",
     "output_type": "stream",
     "text": [
      "[Parallel(n_jobs=2)]: Using backend ThreadingBackend with 2 concurrent workers.\n",
      "[Parallel(n_jobs=2)]: Done   2 out of   2 | elapsed:    0.0s remaining:    0.0s\n",
      "[Parallel(n_jobs=2)]: Done   2 out of   2 | elapsed:    0.0s finished\n",
      "[Parallel(n_jobs=6)]: Using backend ThreadingBackend with 6 concurrent workers.\n",
      "[Parallel(n_jobs=6)]: Done   2 out of   2 | elapsed:    0.0s finished\n",
      "[Parallel(n_jobs=2)]: Using backend ThreadingBackend with 2 concurrent workers.\n",
      "[Parallel(n_jobs=2)]: Done   2 out of   2 | elapsed:    0.0s remaining:    0.0s\n",
      "[Parallel(n_jobs=2)]: Done   2 out of   2 | elapsed:    0.0s finished\n",
      "[Parallel(n_jobs=2)]: Using backend ThreadingBackend with 2 concurrent workers.\n",
      "[Parallel(n_jobs=2)]: Done   2 out of   2 | elapsed:    0.0s remaining:    0.0s\n",
      "[Parallel(n_jobs=2)]: Done   2 out of   2 | elapsed:    0.0s finished\n"
     ]
    },
    {
     "name": "stdout",
     "output_type": "stream",
     "text": [
      "Test accuracy = 91.74%. Train accuracy = 91.79%.\n",
      "Best accuracy reached so far: 96.37431967723593 for params: 1, None, 10, 5, 8, True\n",
      "53ème itérateur: 2, 1, 4, 60, 2, False\n"
     ]
    },
    {
     "name": "stderr",
     "output_type": "stream",
     "text": [
      "[Parallel(n_jobs=6)]: Using backend ThreadingBackend with 6 concurrent workers.\n",
      "[Parallel(n_jobs=6)]: Done   2 out of   2 | elapsed:    0.0s finished\n",
      "[Parallel(n_jobs=2)]: Using backend ThreadingBackend with 2 concurrent workers.\n",
      "[Parallel(n_jobs=2)]: Done   2 out of   2 | elapsed:    0.0s remaining:    0.0s\n",
      "[Parallel(n_jobs=2)]: Done   2 out of   2 | elapsed:    0.0s finished\n"
     ]
    },
    {
     "name": "stdout",
     "output_type": "stream",
     "text": [
      "Test accuracy = 91.74%. Train accuracy = 91.79%.\n",
      "Best accuracy reached so far: 96.37431967723593 for params: 1, None, 10, 5, 8, True\n",
      "54ème itérateur: 2, 1, 5, 60, 32, True\n"
     ]
    },
    {
     "name": "stderr",
     "output_type": "stream",
     "text": [
      "[Parallel(n_jobs=2)]: Using backend ThreadingBackend with 2 concurrent workers.\n",
      "[Parallel(n_jobs=2)]: Done   2 out of   2 | elapsed:    0.0s remaining:    0.0s\n",
      "[Parallel(n_jobs=2)]: Done   2 out of   2 | elapsed:    0.0s finished\n",
      "[Parallel(n_jobs=6)]: Using backend ThreadingBackend with 6 concurrent workers.\n",
      "[Parallel(n_jobs=6)]: Done   2 out of   2 | elapsed:    0.0s finished\n",
      "[Parallel(n_jobs=2)]: Using backend ThreadingBackend with 2 concurrent workers.\n",
      "[Parallel(n_jobs=2)]: Done   2 out of   2 | elapsed:    0.0s remaining:    0.0s\n",
      "[Parallel(n_jobs=2)]: Done   2 out of   2 | elapsed:    0.0s finished\n",
      "[Parallel(n_jobs=2)]: Using backend ThreadingBackend with 2 concurrent workers.\n",
      "[Parallel(n_jobs=2)]: Done   2 out of   2 | elapsed:    0.0s remaining:    0.0s\n",
      "[Parallel(n_jobs=2)]: Done   2 out of   2 | elapsed:    0.0s finished\n"
     ]
    },
    {
     "name": "stdout",
     "output_type": "stream",
     "text": [
      "Test accuracy = 89.61%. Train accuracy = 89.81%.\n",
      "Best accuracy reached so far: 96.37431967723593 for params: 1, None, 10, 5, 8, True\n",
      "55ème itérateur: 2, 1, 13, 5, 32, False\n"
     ]
    },
    {
     "name": "stderr",
     "output_type": "stream",
     "text": [
      "[Parallel(n_jobs=6)]: Using backend ThreadingBackend with 6 concurrent workers.\n",
      "[Parallel(n_jobs=6)]: Done   2 out of   2 | elapsed:    0.1s finished\n",
      "[Parallel(n_jobs=2)]: Using backend ThreadingBackend with 2 concurrent workers.\n",
      "[Parallel(n_jobs=2)]: Done   2 out of   2 | elapsed:    0.0s remaining:    0.0s\n",
      "[Parallel(n_jobs=2)]: Done   2 out of   2 | elapsed:    0.0s finished\n"
     ]
    },
    {
     "name": "stdout",
     "output_type": "stream",
     "text": [
      "Test accuracy = 93.60%. Train accuracy = 93.92%.\n",
      "Best accuracy reached so far: 96.37431967723593 for params: 1, None, 10, 5, 8, True\n",
      "56ème itérateur: 2, 1, None, 5, 16, True\n"
     ]
    },
    {
     "name": "stderr",
     "output_type": "stream",
     "text": [
      "[Parallel(n_jobs=2)]: Using backend ThreadingBackend with 2 concurrent workers.\n",
      "[Parallel(n_jobs=2)]: Done   2 out of   2 | elapsed:    0.0s remaining:    0.0s\n",
      "[Parallel(n_jobs=2)]: Done   2 out of   2 | elapsed:    0.0s finished\n",
      "[Parallel(n_jobs=6)]: Using backend ThreadingBackend with 6 concurrent workers.\n",
      "[Parallel(n_jobs=6)]: Done   2 out of   2 | elapsed:    0.1s finished\n",
      "[Parallel(n_jobs=2)]: Using backend ThreadingBackend with 2 concurrent workers.\n",
      "[Parallel(n_jobs=2)]: Done   2 out of   2 | elapsed:    0.0s remaining:    0.0s\n",
      "[Parallel(n_jobs=2)]: Done   2 out of   2 | elapsed:    0.0s finished\n",
      "[Parallel(n_jobs=2)]: Using backend ThreadingBackend with 2 concurrent workers.\n",
      "[Parallel(n_jobs=2)]: Done   2 out of   2 | elapsed:    0.0s remaining:    0.0s\n",
      "[Parallel(n_jobs=2)]: Done   2 out of   2 | elapsed:    0.0s finished\n"
     ]
    },
    {
     "name": "stdout",
     "output_type": "stream",
     "text": [
      "Test accuracy = 94.51%. Train accuracy = 94.85%.\n",
      "Best accuracy reached so far: 96.37431967723593 for params: 1, None, 10, 5, 8, True\n",
      "57ème itérateur: 2, 2, 1, 5, 64, True\n"
     ]
    },
    {
     "name": "stderr",
     "output_type": "stream",
     "text": [
      "[Parallel(n_jobs=6)]: Using backend ThreadingBackend with 6 concurrent workers.\n",
      "[Parallel(n_jobs=6)]: Done   2 out of   2 | elapsed:    0.0s finished\n",
      "[Parallel(n_jobs=2)]: Using backend ThreadingBackend with 2 concurrent workers.\n",
      "[Parallel(n_jobs=2)]: Done   2 out of   2 | elapsed:    0.0s remaining:    0.0s\n",
      "[Parallel(n_jobs=2)]: Done   2 out of   2 | elapsed:    0.0s finished\n"
     ]
    },
    {
     "name": "stdout",
     "output_type": "stream",
     "text": [
      "Test accuracy = 64.38%. Train accuracy = 64.75%.\n",
      "Best accuracy reached so far: 96.37431967723593 for params: 1, None, 10, 5, 8, True\n",
      "58ème itérateur: 2, 2, 4, 40, 64, False\n"
     ]
    },
    {
     "name": "stderr",
     "output_type": "stream",
     "text": [
      "[Parallel(n_jobs=2)]: Using backend ThreadingBackend with 2 concurrent workers.\n",
      "[Parallel(n_jobs=2)]: Done   2 out of   2 | elapsed:    0.0s remaining:    0.0s\n",
      "[Parallel(n_jobs=2)]: Done   2 out of   2 | elapsed:    0.0s finished\n",
      "[Parallel(n_jobs=6)]: Using backend ThreadingBackend with 6 concurrent workers.\n",
      "[Parallel(n_jobs=6)]: Done   2 out of   2 | elapsed:    0.1s finished\n",
      "[Parallel(n_jobs=2)]: Using backend ThreadingBackend with 2 concurrent workers.\n",
      "[Parallel(n_jobs=2)]: Done   2 out of   2 | elapsed:    0.0s remaining:    0.0s\n",
      "[Parallel(n_jobs=2)]: Done   2 out of   2 | elapsed:    0.0s finished\n",
      "[Parallel(n_jobs=2)]: Using backend ThreadingBackend with 2 concurrent workers.\n",
      "[Parallel(n_jobs=2)]: Done   2 out of   2 | elapsed:    0.0s remaining:    0.0s\n",
      "[Parallel(n_jobs=2)]: Done   2 out of   2 | elapsed:    0.0s finished\n"
     ]
    },
    {
     "name": "stdout",
     "output_type": "stream",
     "text": [
      "Test accuracy = 90.59%. Train accuracy = 90.68%.\n",
      "Best accuracy reached so far: 96.37431967723593 for params: 1, None, 10, 5, 8, True\n",
      "59ème itérateur: 2, 2, 5, 70, 8, True\n"
     ]
    },
    {
     "name": "stderr",
     "output_type": "stream",
     "text": [
      "[Parallel(n_jobs=6)]: Using backend ThreadingBackend with 6 concurrent workers.\n",
      "[Parallel(n_jobs=6)]: Done   2 out of   2 | elapsed:    0.1s finished\n",
      "[Parallel(n_jobs=2)]: Using backend ThreadingBackend with 2 concurrent workers.\n",
      "[Parallel(n_jobs=2)]: Done   2 out of   2 | elapsed:    0.0s remaining:    0.0s\n",
      "[Parallel(n_jobs=2)]: Done   2 out of   2 | elapsed:    0.0s finished\n"
     ]
    },
    {
     "name": "stdout",
     "output_type": "stream",
     "text": [
      "Test accuracy = 92.43%. Train accuracy = 92.58%.\n",
      "Best accuracy reached so far: 96.37431967723593 for params: 1, None, 10, 5, 8, True\n",
      "60ème itérateur: 2, 2, 7, 30, 1, True\n"
     ]
    },
    {
     "name": "stderr",
     "output_type": "stream",
     "text": [
      "[Parallel(n_jobs=2)]: Using backend ThreadingBackend with 2 concurrent workers.\n",
      "[Parallel(n_jobs=2)]: Done   2 out of   2 | elapsed:    0.0s remaining:    0.0s\n",
      "[Parallel(n_jobs=2)]: Done   2 out of   2 | elapsed:    0.0s finished\n",
      "[Parallel(n_jobs=6)]: Using backend ThreadingBackend with 6 concurrent workers.\n",
      "[Parallel(n_jobs=6)]: Done   2 out of   2 | elapsed:    0.1s finished\n",
      "[Parallel(n_jobs=2)]: Using backend ThreadingBackend with 2 concurrent workers.\n",
      "[Parallel(n_jobs=2)]: Done   2 out of   2 | elapsed:    0.0s remaining:    0.0s\n",
      "[Parallel(n_jobs=2)]: Done   2 out of   2 | elapsed:    0.0s finished\n",
      "[Parallel(n_jobs=2)]: Using backend ThreadingBackend with 2 concurrent workers.\n",
      "[Parallel(n_jobs=2)]: Done   2 out of   2 | elapsed:    0.0s remaining:    0.0s\n",
      "[Parallel(n_jobs=2)]: Done   2 out of   2 | elapsed:    0.0s finished\n"
     ]
    },
    {
     "name": "stdout",
     "output_type": "stream",
     "text": [
      "Test accuracy = 93.23%. Train accuracy = 93.47%.\n",
      "Best accuracy reached so far: 96.37431967723593 for params: 1, None, 10, 5, 8, True\n",
      "61ème itérateur: 2, 2, 25, 5, 128, True\n"
     ]
    },
    {
     "name": "stderr",
     "output_type": "stream",
     "text": [
      "[Parallel(n_jobs=6)]: Using backend ThreadingBackend with 6 concurrent workers.\n",
      "[Parallel(n_jobs=6)]: Done   2 out of   2 | elapsed:    0.2s finished\n",
      "[Parallel(n_jobs=2)]: Using backend ThreadingBackend with 2 concurrent workers.\n",
      "[Parallel(n_jobs=2)]: Done   2 out of   2 | elapsed:    0.0s remaining:    0.0s\n",
      "[Parallel(n_jobs=2)]: Done   2 out of   2 | elapsed:    0.0s finished\n",
      "[Parallel(n_jobs=2)]: Using backend ThreadingBackend with 2 concurrent workers.\n",
      "[Parallel(n_jobs=2)]: Done   2 out of   2 | elapsed:    0.0s remaining:    0.0s\n",
      "[Parallel(n_jobs=2)]: Done   2 out of   2 | elapsed:    0.0s finished\n"
     ]
    },
    {
     "name": "stdout",
     "output_type": "stream",
     "text": [
      "Test accuracy = 94.61%. Train accuracy = 94.88%.\n",
      "Best accuracy reached so far: 96.37431967723593 for params: 1, None, 10, 5, 8, True\n",
      "62ème itérateur: 2, 2, None, 50, 128, True\n"
     ]
    },
    {
     "name": "stderr",
     "output_type": "stream",
     "text": [
      "[Parallel(n_jobs=6)]: Using backend ThreadingBackend with 6 concurrent workers.\n",
      "[Parallel(n_jobs=6)]: Done   2 out of   2 | elapsed:    0.1s finished\n",
      "[Parallel(n_jobs=2)]: Using backend ThreadingBackend with 2 concurrent workers.\n",
      "[Parallel(n_jobs=2)]: Done   2 out of   2 | elapsed:    0.0s remaining:    0.0s\n",
      "[Parallel(n_jobs=2)]: Done   2 out of   2 | elapsed:    0.0s finished\n",
      "[Parallel(n_jobs=2)]: Using backend ThreadingBackend with 2 concurrent workers.\n",
      "[Parallel(n_jobs=2)]: Done   2 out of   2 | elapsed:    0.0s remaining:    0.0s\n",
      "[Parallel(n_jobs=2)]: Done   2 out of   2 | elapsed:    0.0s finished\n"
     ]
    },
    {
     "name": "stdout",
     "output_type": "stream",
     "text": [
      "Test accuracy = 94.61%. Train accuracy = 94.88%.\n",
      "Best accuracy reached so far: 96.37431967723593 for params: 1, None, 10, 5, 8, True\n",
      "63ème itérateur: 2, 2, None, 70, 8, True\n"
     ]
    },
    {
     "name": "stderr",
     "output_type": "stream",
     "text": [
      "[Parallel(n_jobs=6)]: Using backend ThreadingBackend with 6 concurrent workers.\n",
      "[Parallel(n_jobs=6)]: Done   2 out of   2 | elapsed:    0.2s finished\n",
      "[Parallel(n_jobs=2)]: Using backend ThreadingBackend with 2 concurrent workers.\n",
      "[Parallel(n_jobs=2)]: Done   2 out of   2 | elapsed:    0.0s remaining:    0.0s\n",
      "[Parallel(n_jobs=2)]: Done   2 out of   2 | elapsed:    0.0s finished\n",
      "[Parallel(n_jobs=2)]: Using backend ThreadingBackend with 2 concurrent workers.\n",
      "[Parallel(n_jobs=2)]: Done   2 out of   2 | elapsed:    0.0s remaining:    0.0s\n",
      "[Parallel(n_jobs=2)]: Done   2 out of   2 | elapsed:    0.0s finished\n"
     ]
    },
    {
     "name": "stdout",
     "output_type": "stream",
     "text": [
      "Test accuracy = 95.64%. Train accuracy = 96.17%.\n",
      "Best accuracy reached so far: 96.37431967723593 for params: 1, None, 10, 5, 8, True\n",
      "64ème itérateur: 2, 3, 1, 40, 8, False\n"
     ]
    },
    {
     "name": "stderr",
     "output_type": "stream",
     "text": [
      "[Parallel(n_jobs=6)]: Using backend ThreadingBackend with 6 concurrent workers.\n",
      "[Parallel(n_jobs=6)]: Done   2 out of   2 | elapsed:    0.0s finished\n",
      "[Parallel(n_jobs=2)]: Using backend ThreadingBackend with 2 concurrent workers.\n",
      "[Parallel(n_jobs=2)]: Done   2 out of   2 | elapsed:    0.0s remaining:    0.0s\n",
      "[Parallel(n_jobs=2)]: Done   2 out of   2 | elapsed:    0.0s finished\n"
     ]
    },
    {
     "name": "stdout",
     "output_type": "stream",
     "text": [
      "Test accuracy = 88.40%. Train accuracy = 88.57%.\n",
      "Best accuracy reached so far: 96.37431967723593 for params: 1, None, 10, 5, 8, True\n",
      "65ème itérateur: 2, 3, 3, 50, 4, True\n"
     ]
    },
    {
     "name": "stderr",
     "output_type": "stream",
     "text": [
      "[Parallel(n_jobs=2)]: Using backend ThreadingBackend with 2 concurrent workers.\n",
      "[Parallel(n_jobs=2)]: Done   2 out of   2 | elapsed:    0.0s remaining:    0.0s\n",
      "[Parallel(n_jobs=2)]: Done   2 out of   2 | elapsed:    0.0s finished\n",
      "[Parallel(n_jobs=6)]: Using backend ThreadingBackend with 6 concurrent workers.\n",
      "[Parallel(n_jobs=6)]: Done   2 out of   2 | elapsed:    0.1s finished\n",
      "[Parallel(n_jobs=2)]: Using backend ThreadingBackend with 2 concurrent workers.\n",
      "[Parallel(n_jobs=2)]: Done   2 out of   2 | elapsed:    0.0s remaining:    0.0s\n",
      "[Parallel(n_jobs=2)]: Done   2 out of   2 | elapsed:    0.0s finished\n",
      "[Parallel(n_jobs=2)]: Using backend ThreadingBackend with 2 concurrent workers.\n",
      "[Parallel(n_jobs=2)]: Done   2 out of   2 | elapsed:    0.0s remaining:    0.0s\n",
      "[Parallel(n_jobs=2)]: Done   2 out of   2 | elapsed:    0.0s finished\n"
     ]
    },
    {
     "name": "stdout",
     "output_type": "stream",
     "text": [
      "Test accuracy = 88.76%. Train accuracy = 89.07%.\n",
      "Best accuracy reached so far: 96.37431967723593 for params: 1, None, 10, 5, 8, True\n",
      "66ème itérateur: 2, 3, 3, 70, 4, True\n"
     ]
    },
    {
     "name": "stderr",
     "output_type": "stream",
     "text": [
      "[Parallel(n_jobs=6)]: Using backend ThreadingBackend with 6 concurrent workers.\n",
      "[Parallel(n_jobs=6)]: Done   2 out of   2 | elapsed:    0.1s finished\n",
      "[Parallel(n_jobs=2)]: Using backend ThreadingBackend with 2 concurrent workers.\n",
      "[Parallel(n_jobs=2)]: Done   2 out of   2 | elapsed:    0.0s remaining:    0.0s\n",
      "[Parallel(n_jobs=2)]: Done   2 out of   2 | elapsed:    0.0s finished\n"
     ]
    },
    {
     "name": "stdout",
     "output_type": "stream",
     "text": [
      "Test accuracy = 88.76%. Train accuracy = 89.07%.\n",
      "Best accuracy reached so far: 96.37431967723593 for params: 1, None, 10, 5, 8, True\n",
      "67ème itérateur: 2, 3, 4, 2, 32, True\n"
     ]
    },
    {
     "name": "stderr",
     "output_type": "stream",
     "text": [
      "[Parallel(n_jobs=2)]: Using backend ThreadingBackend with 2 concurrent workers.\n",
      "[Parallel(n_jobs=2)]: Done   2 out of   2 | elapsed:    0.0s remaining:    0.0s\n",
      "[Parallel(n_jobs=2)]: Done   2 out of   2 | elapsed:    0.0s finished\n",
      "[Parallel(n_jobs=6)]: Using backend ThreadingBackend with 6 concurrent workers.\n",
      "[Parallel(n_jobs=6)]: Done   2 out of   2 | elapsed:    0.1s finished\n",
      "[Parallel(n_jobs=2)]: Using backend ThreadingBackend with 2 concurrent workers.\n",
      "[Parallel(n_jobs=2)]: Done   2 out of   2 | elapsed:    0.0s remaining:    0.0s\n",
      "[Parallel(n_jobs=2)]: Done   2 out of   2 | elapsed:    0.0s finished\n",
      "[Parallel(n_jobs=2)]: Using backend ThreadingBackend with 2 concurrent workers.\n",
      "[Parallel(n_jobs=2)]: Done   2 out of   2 | elapsed:    0.0s remaining:    0.0s\n",
      "[Parallel(n_jobs=2)]: Done   2 out of   2 | elapsed:    0.0s finished\n"
     ]
    },
    {
     "name": "stdout",
     "output_type": "stream",
     "text": [
      "Test accuracy = 93.09%. Train accuracy = 93.33%.\n",
      "Best accuracy reached so far: 96.37431967723593 for params: 1, None, 10, 5, 8, True\n",
      "68ème itérateur: 2, 3, 4, 70, 4, True\n"
     ]
    },
    {
     "name": "stderr",
     "output_type": "stream",
     "text": [
      "[Parallel(n_jobs=6)]: Using backend ThreadingBackend with 6 concurrent workers.\n",
      "[Parallel(n_jobs=6)]: Done   2 out of   2 | elapsed:    0.1s finished\n",
      "[Parallel(n_jobs=2)]: Using backend ThreadingBackend with 2 concurrent workers.\n",
      "[Parallel(n_jobs=2)]: Done   2 out of   2 | elapsed:    0.0s remaining:    0.0s\n",
      "[Parallel(n_jobs=2)]: Done   2 out of   2 | elapsed:    0.0s finished\n"
     ]
    },
    {
     "name": "stdout",
     "output_type": "stream",
     "text": [
      "Test accuracy = 93.09%. Train accuracy = 93.33%.\n",
      "Best accuracy reached so far: 96.37431967723593 for params: 1, None, 10, 5, 8, True\n",
      "69ème itérateur: 2, 3, 5, 2, 16, True\n"
     ]
    },
    {
     "name": "stderr",
     "output_type": "stream",
     "text": [
      "[Parallel(n_jobs=2)]: Using backend ThreadingBackend with 2 concurrent workers.\n",
      "[Parallel(n_jobs=2)]: Done   2 out of   2 | elapsed:    0.0s remaining:    0.0s\n",
      "[Parallel(n_jobs=2)]: Done   2 out of   2 | elapsed:    0.0s finished\n",
      "[Parallel(n_jobs=6)]: Using backend ThreadingBackend with 6 concurrent workers.\n",
      "[Parallel(n_jobs=6)]: Done   2 out of   2 | elapsed:    0.1s finished\n",
      "[Parallel(n_jobs=2)]: Using backend ThreadingBackend with 2 concurrent workers.\n",
      "[Parallel(n_jobs=2)]: Done   2 out of   2 | elapsed:    0.0s remaining:    0.0s\n",
      "[Parallel(n_jobs=2)]: Done   2 out of   2 | elapsed:    0.0s finished\n",
      "[Parallel(n_jobs=2)]: Using backend ThreadingBackend with 2 concurrent workers.\n",
      "[Parallel(n_jobs=2)]: Done   2 out of   2 | elapsed:    0.0s remaining:    0.0s\n",
      "[Parallel(n_jobs=2)]: Done   2 out of   2 | elapsed:    0.0s finished\n"
     ]
    },
    {
     "name": "stdout",
     "output_type": "stream",
     "text": [
      "Test accuracy = 93.59%. Train accuracy = 93.66%.\n",
      "Best accuracy reached so far: 96.37431967723593 for params: 1, None, 10, 5, 8, True\n",
      "70ème itérateur: 2, 3, 5, 20, 4, True\n"
     ]
    },
    {
     "name": "stderr",
     "output_type": "stream",
     "text": [
      "[Parallel(n_jobs=6)]: Using backend ThreadingBackend with 6 concurrent workers.\n",
      "[Parallel(n_jobs=6)]: Done   2 out of   2 | elapsed:    0.1s finished\n",
      "[Parallel(n_jobs=2)]: Using backend ThreadingBackend with 2 concurrent workers.\n",
      "[Parallel(n_jobs=2)]: Done   2 out of   2 | elapsed:    0.0s remaining:    0.0s\n",
      "[Parallel(n_jobs=2)]: Done   2 out of   2 | elapsed:    0.0s finished\n"
     ]
    },
    {
     "name": "stdout",
     "output_type": "stream",
     "text": [
      "Test accuracy = 93.59%. Train accuracy = 93.66%.\n",
      "Best accuracy reached so far: 96.37431967723593 for params: 1, None, 10, 5, 8, True\n",
      "71ème itérateur: 2, 3, 5, 30, 2, True\n"
     ]
    },
    {
     "name": "stderr",
     "output_type": "stream",
     "text": [
      "[Parallel(n_jobs=2)]: Using backend ThreadingBackend with 2 concurrent workers.\n",
      "[Parallel(n_jobs=2)]: Done   2 out of   2 | elapsed:    0.0s remaining:    0.0s\n",
      "[Parallel(n_jobs=2)]: Done   2 out of   2 | elapsed:    0.0s finished\n",
      "[Parallel(n_jobs=6)]: Using backend ThreadingBackend with 6 concurrent workers.\n",
      "[Parallel(n_jobs=6)]: Done   2 out of   2 | elapsed:    0.1s finished\n",
      "[Parallel(n_jobs=2)]: Using backend ThreadingBackend with 2 concurrent workers.\n",
      "[Parallel(n_jobs=2)]: Done   2 out of   2 | elapsed:    0.0s remaining:    0.0s\n",
      "[Parallel(n_jobs=2)]: Done   2 out of   2 | elapsed:    0.0s finished\n",
      "[Parallel(n_jobs=2)]: Using backend ThreadingBackend with 2 concurrent workers.\n",
      "[Parallel(n_jobs=2)]: Done   2 out of   2 | elapsed:    0.0s remaining:    0.0s\n",
      "[Parallel(n_jobs=2)]: Done   2 out of   2 | elapsed:    0.0s finished\n"
     ]
    },
    {
     "name": "stdout",
     "output_type": "stream",
     "text": [
      "Test accuracy = 93.59%. Train accuracy = 93.66%.\n",
      "Best accuracy reached so far: 96.37431967723593 for params: 1, None, 10, 5, 8, True\n",
      "72ème itérateur: 2, 3, 10, 2, 64, True\n"
     ]
    },
    {
     "name": "stderr",
     "output_type": "stream",
     "text": [
      "[Parallel(n_jobs=6)]: Using backend ThreadingBackend with 6 concurrent workers.\n",
      "[Parallel(n_jobs=6)]: Done   2 out of   2 | elapsed:    0.1s finished\n",
      "[Parallel(n_jobs=2)]: Using backend ThreadingBackend with 2 concurrent workers.\n",
      "[Parallel(n_jobs=2)]: Done   2 out of   2 | elapsed:    0.0s remaining:    0.0s\n",
      "[Parallel(n_jobs=2)]: Done   2 out of   2 | elapsed:    0.0s finished\n",
      "[Parallel(n_jobs=2)]: Using backend ThreadingBackend with 2 concurrent workers.\n",
      "[Parallel(n_jobs=2)]: Done   2 out of   2 | elapsed:    0.0s remaining:    0.0s\n",
      "[Parallel(n_jobs=2)]: Done   2 out of   2 | elapsed:    0.0s finished\n"
     ]
    },
    {
     "name": "stdout",
     "output_type": "stream",
     "text": [
      "Test accuracy = 95.22%. Train accuracy = 95.42%.\n",
      "Best accuracy reached so far: 96.37431967723593 for params: 1, None, 10, 5, 8, True\n",
      "73ème itérateur: 2, 3, 10, 30, 64, False\n"
     ]
    },
    {
     "name": "stderr",
     "output_type": "stream",
     "text": [
      "[Parallel(n_jobs=6)]: Using backend ThreadingBackend with 6 concurrent workers.\n",
      "[Parallel(n_jobs=6)]: Done   2 out of   2 | elapsed:    0.2s finished\n",
      "[Parallel(n_jobs=2)]: Using backend ThreadingBackend with 2 concurrent workers.\n",
      "[Parallel(n_jobs=2)]: Done   2 out of   2 | elapsed:    0.0s remaining:    0.0s\n",
      "[Parallel(n_jobs=2)]: Done   2 out of   2 | elapsed:    0.0s finished\n",
      "[Parallel(n_jobs=2)]: Using backend ThreadingBackend with 2 concurrent workers.\n",
      "[Parallel(n_jobs=2)]: Done   2 out of   2 | elapsed:    0.0s remaining:    0.0s\n",
      "[Parallel(n_jobs=2)]: Done   2 out of   2 | elapsed:    0.0s finished\n"
     ]
    },
    {
     "name": "stdout",
     "output_type": "stream",
     "text": [
      "Test accuracy = 95.38%. Train accuracy = 95.57%.\n",
      "Best accuracy reached so far: 96.37431967723593 for params: 1, None, 10, 5, 8, True\n",
      "74ème itérateur: 2, 3, 10, 40, 2, False\n"
     ]
    },
    {
     "name": "stderr",
     "output_type": "stream",
     "text": [
      "[Parallel(n_jobs=6)]: Using backend ThreadingBackend with 6 concurrent workers.\n",
      "[Parallel(n_jobs=6)]: Done   2 out of   2 | elapsed:    0.2s finished\n",
      "[Parallel(n_jobs=2)]: Using backend ThreadingBackend with 2 concurrent workers.\n",
      "[Parallel(n_jobs=2)]: Done   2 out of   2 | elapsed:    0.0s remaining:    0.0s\n",
      "[Parallel(n_jobs=2)]: Done   2 out of   2 | elapsed:    0.0s finished\n",
      "[Parallel(n_jobs=2)]: Using backend ThreadingBackend with 2 concurrent workers.\n",
      "[Parallel(n_jobs=2)]: Done   2 out of   2 | elapsed:    0.0s remaining:    0.0s\n",
      "[Parallel(n_jobs=2)]: Done   2 out of   2 | elapsed:    0.0s finished\n"
     ]
    },
    {
     "name": "stdout",
     "output_type": "stream",
     "text": [
      "Test accuracy = 95.71%. Train accuracy = 96.03%.\n",
      "Best accuracy reached so far: 96.37431967723593 for params: 1, None, 10, 5, 8, True\n",
      "75ème itérateur: 2, 3, 13, 20, 4, True\n"
     ]
    },
    {
     "name": "stderr",
     "output_type": "stream",
     "text": [
      "[Parallel(n_jobs=6)]: Using backend ThreadingBackend with 6 concurrent workers.\n",
      "[Parallel(n_jobs=6)]: Done   2 out of   2 | elapsed:    0.2s finished\n",
      "[Parallel(n_jobs=2)]: Using backend ThreadingBackend with 2 concurrent workers.\n",
      "[Parallel(n_jobs=2)]: Done   2 out of   2 | elapsed:    0.0s remaining:    0.0s\n",
      "[Parallel(n_jobs=2)]: Done   2 out of   2 | elapsed:    0.0s finished\n",
      "[Parallel(n_jobs=2)]: Using backend ThreadingBackend with 2 concurrent workers.\n",
      "[Parallel(n_jobs=2)]: Done   2 out of   2 | elapsed:    0.0s remaining:    0.0s\n",
      "[Parallel(n_jobs=2)]: Done   2 out of   2 | elapsed:    0.0s finished\n"
     ]
    },
    {
     "name": "stdout",
     "output_type": "stream",
     "text": [
      "Test accuracy = 95.90%. Train accuracy = 96.38%.\n",
      "Best accuracy reached so far: 96.37431967723593 for params: 1, None, 10, 5, 8, True\n",
      "76ème itérateur: 2, 3, 13, 30, 1, False\n"
     ]
    },
    {
     "name": "stderr",
     "output_type": "stream",
     "text": [
      "[Parallel(n_jobs=6)]: Using backend ThreadingBackend with 6 concurrent workers.\n",
      "[Parallel(n_jobs=6)]: Done   2 out of   2 | elapsed:    0.2s finished\n",
      "[Parallel(n_jobs=2)]: Using backend ThreadingBackend with 2 concurrent workers.\n",
      "[Parallel(n_jobs=2)]: Done   2 out of   2 | elapsed:    0.0s remaining:    0.0s\n",
      "[Parallel(n_jobs=2)]: Done   2 out of   2 | elapsed:    0.0s finished\n",
      "[Parallel(n_jobs=2)]: Using backend ThreadingBackend with 2 concurrent workers.\n",
      "[Parallel(n_jobs=2)]: Done   2 out of   2 | elapsed:    0.0s remaining:    0.0s\n",
      "[Parallel(n_jobs=2)]: Done   2 out of   2 | elapsed:    0.0s finished\n"
     ]
    },
    {
     "name": "stdout",
     "output_type": "stream",
     "text": [
      "Test accuracy = 95.88%. Train accuracy = 96.73%.\n",
      "Best accuracy reached so far: 96.37431967723593 for params: 1, None, 10, 5, 8, True\n",
      "77ème itérateur: 2, 3, 17, 30, 64, True\n"
     ]
    },
    {
     "name": "stderr",
     "output_type": "stream",
     "text": [
      "[Parallel(n_jobs=6)]: Using backend ThreadingBackend with 6 concurrent workers.\n",
      "[Parallel(n_jobs=6)]: Done   2 out of   2 | elapsed:    0.2s finished\n",
      "[Parallel(n_jobs=2)]: Using backend ThreadingBackend with 2 concurrent workers.\n",
      "[Parallel(n_jobs=2)]: Done   2 out of   2 | elapsed:    0.0s remaining:    0.0s\n",
      "[Parallel(n_jobs=2)]: Done   2 out of   2 | elapsed:    0.0s finished\n",
      "[Parallel(n_jobs=2)]: Using backend ThreadingBackend with 2 concurrent workers.\n",
      "[Parallel(n_jobs=2)]: Done   2 out of   2 | elapsed:    0.0s remaining:    0.0s\n",
      "[Parallel(n_jobs=2)]: Done   2 out of   2 | elapsed:    0.0s finished\n"
     ]
    },
    {
     "name": "stdout",
     "output_type": "stream",
     "text": [
      "Test accuracy = 95.55%. Train accuracy = 95.77%.\n",
      "Best accuracy reached so far: 96.37431967723593 for params: 1, None, 10, 5, 8, True\n",
      "78ème itérateur: 2, 3, 20, 20, 32, True\n"
     ]
    },
    {
     "name": "stderr",
     "output_type": "stream",
     "text": [
      "[Parallel(n_jobs=6)]: Using backend ThreadingBackend with 6 concurrent workers.\n",
      "[Parallel(n_jobs=6)]: Done   2 out of   2 | elapsed:    0.2s finished\n",
      "[Parallel(n_jobs=2)]: Using backend ThreadingBackend with 2 concurrent workers.\n",
      "[Parallel(n_jobs=2)]: Done   2 out of   2 | elapsed:    0.0s remaining:    0.0s\n",
      "[Parallel(n_jobs=2)]: Done   2 out of   2 | elapsed:    0.0s finished\n",
      "[Parallel(n_jobs=2)]: Using backend ThreadingBackend with 2 concurrent workers.\n",
      "[Parallel(n_jobs=2)]: Done   2 out of   2 | elapsed:    0.0s remaining:    0.0s\n",
      "[Parallel(n_jobs=2)]: Done   2 out of   2 | elapsed:    0.0s finished\n"
     ]
    },
    {
     "name": "stdout",
     "output_type": "stream",
     "text": [
      "Test accuracy = 95.80%. Train accuracy = 96.09%.\n",
      "Best accuracy reached so far: 96.37431967723593 for params: 1, None, 10, 5, 8, True\n",
      "79ème itérateur: 2, 3, None, 10, 4, True\n"
     ]
    },
    {
     "name": "stderr",
     "output_type": "stream",
     "text": [
      "[Parallel(n_jobs=6)]: Using backend ThreadingBackend with 6 concurrent workers.\n",
      "[Parallel(n_jobs=6)]: Done   2 out of   2 | elapsed:    0.2s finished\n",
      "[Parallel(n_jobs=2)]: Using backend ThreadingBackend with 2 concurrent workers.\n",
      "[Parallel(n_jobs=2)]: Done   2 out of   2 | elapsed:    0.0s remaining:    0.0s\n",
      "[Parallel(n_jobs=2)]: Done   2 out of   2 | elapsed:    0.0s finished\n",
      "[Parallel(n_jobs=2)]: Using backend ThreadingBackend with 2 concurrent workers.\n",
      "[Parallel(n_jobs=2)]: Done   2 out of   2 | elapsed:    0.0s remaining:    0.0s\n",
      "[Parallel(n_jobs=2)]: Done   2 out of   2 | elapsed:    0.0s finished\n"
     ]
    },
    {
     "name": "stdout",
     "output_type": "stream",
     "text": [
      "Test accuracy = 95.85%. Train accuracy = 97.15%.\n",
      "Best accuracy reached so far: 96.37431967723593 for params: 1, None, 10, 5, 8, True\n",
      "80ème itérateur: 2, 3, None, 70, 8, True\n"
     ]
    },
    {
     "name": "stderr",
     "output_type": "stream",
     "text": [
      "[Parallel(n_jobs=6)]: Using backend ThreadingBackend with 6 concurrent workers.\n",
      "[Parallel(n_jobs=6)]: Done   2 out of   2 | elapsed:    0.2s finished\n",
      "[Parallel(n_jobs=2)]: Using backend ThreadingBackend with 2 concurrent workers.\n",
      "[Parallel(n_jobs=2)]: Done   2 out of   2 | elapsed:    0.0s remaining:    0.0s\n",
      "[Parallel(n_jobs=2)]: Done   2 out of   2 | elapsed:    0.0s finished\n",
      "[Parallel(n_jobs=2)]: Using backend ThreadingBackend with 2 concurrent workers.\n",
      "[Parallel(n_jobs=2)]: Done   2 out of   2 | elapsed:    0.0s remaining:    0.0s\n",
      "[Parallel(n_jobs=2)]: Done   2 out of   2 | elapsed:    0.0s finished\n"
     ]
    },
    {
     "name": "stdout",
     "output_type": "stream",
     "text": [
      "Test accuracy = 95.99%. Train accuracy = 96.40%.\n",
      "Best accuracy reached so far: 96.37431967723593 for params: 1, None, 10, 5, 8, True\n",
      "81ème itérateur: 2, 8, 2, 20, 16, True\n"
     ]
    },
    {
     "name": "stderr",
     "output_type": "stream",
     "text": [
      "[Parallel(n_jobs=6)]: Using backend ThreadingBackend with 6 concurrent workers.\n",
      "[Parallel(n_jobs=6)]: Done   2 out of   2 | elapsed:    0.1s finished\n",
      "[Parallel(n_jobs=2)]: Using backend ThreadingBackend with 2 concurrent workers.\n",
      "[Parallel(n_jobs=2)]: Done   2 out of   2 | elapsed:    0.0s remaining:    0.0s\n",
      "[Parallel(n_jobs=2)]: Done   2 out of   2 | elapsed:    0.0s finished\n",
      "[Parallel(n_jobs=2)]: Using backend ThreadingBackend with 2 concurrent workers.\n",
      "[Parallel(n_jobs=2)]: Done   2 out of   2 | elapsed:    0.0s remaining:    0.0s\n",
      "[Parallel(n_jobs=2)]: Done   2 out of   2 | elapsed:    0.0s finished\n"
     ]
    },
    {
     "name": "stdout",
     "output_type": "stream",
     "text": [
      "Test accuracy = 93.98%. Train accuracy = 94.14%.\n",
      "Best accuracy reached so far: 96.37431967723593 for params: 1, None, 10, 5, 8, True\n",
      "82ème itérateur: 2, 8, 7, 50, 8, False\n"
     ]
    },
    {
     "name": "stderr",
     "output_type": "stream",
     "text": [
      "[Parallel(n_jobs=6)]: Using backend ThreadingBackend with 6 concurrent workers.\n",
      "[Parallel(n_jobs=6)]: Done   2 out of   2 | elapsed:    0.4s finished\n",
      "[Parallel(n_jobs=2)]: Using backend ThreadingBackend with 2 concurrent workers.\n",
      "[Parallel(n_jobs=2)]: Done   2 out of   2 | elapsed:    0.0s remaining:    0.0s\n",
      "[Parallel(n_jobs=2)]: Done   2 out of   2 | elapsed:    0.0s finished\n",
      "[Parallel(n_jobs=2)]: Using backend ThreadingBackend with 2 concurrent workers.\n",
      "[Parallel(n_jobs=2)]: Done   2 out of   2 | elapsed:    0.0s remaining:    0.0s\n",
      "[Parallel(n_jobs=2)]: Done   2 out of   2 | elapsed:    0.0s finished\n"
     ]
    },
    {
     "name": "stdout",
     "output_type": "stream",
     "text": [
      "Test accuracy = 95.82%. Train accuracy = 95.89%.\n",
      "Best accuracy reached so far: 96.37431967723593 for params: 1, None, 10, 5, 8, True\n",
      "83ème itérateur: 2, 8, 13, 30, 4, True\n"
     ]
    },
    {
     "name": "stderr",
     "output_type": "stream",
     "text": [
      "[Parallel(n_jobs=6)]: Using backend ThreadingBackend with 6 concurrent workers.\n",
      "[Parallel(n_jobs=6)]: Done   2 out of   2 | elapsed:    0.4s finished\n",
      "[Parallel(n_jobs=2)]: Using backend ThreadingBackend with 2 concurrent workers.\n",
      "[Parallel(n_jobs=2)]: Done   2 out of   2 | elapsed:    0.0s remaining:    0.0s\n",
      "[Parallel(n_jobs=2)]: Done   2 out of   2 | elapsed:    0.0s finished\n"
     ]
    },
    {
     "name": "stdout",
     "output_type": "stream",
     "text": [
      "Test accuracy = 96.51%. Train accuracy = 96.97%.\n",
      "Best accuracy reached so far: 96.51241504427175 for params: 2, 8, 13, 30, 4, True\n",
      "84ème itérateur: 2, 8, 17, 50, 32, False\n"
     ]
    },
    {
     "name": "stderr",
     "output_type": "stream",
     "text": [
      "[Parallel(n_jobs=2)]: Using backend ThreadingBackend with 2 concurrent workers.\n",
      "[Parallel(n_jobs=2)]: Done   2 out of   2 | elapsed:    0.0s remaining:    0.0s\n",
      "[Parallel(n_jobs=2)]: Done   2 out of   2 | elapsed:    0.0s finished\n",
      "[Parallel(n_jobs=6)]: Using backend ThreadingBackend with 6 concurrent workers.\n",
      "[Parallel(n_jobs=6)]: Done   2 out of   2 | elapsed:    0.6s finished\n",
      "[Parallel(n_jobs=2)]: Using backend ThreadingBackend with 2 concurrent workers.\n",
      "[Parallel(n_jobs=2)]: Done   2 out of   2 | elapsed:    0.0s remaining:    0.0s\n",
      "[Parallel(n_jobs=2)]: Done   2 out of   2 | elapsed:    0.0s finished\n"
     ]
    },
    {
     "name": "stdout",
     "output_type": "stream",
     "text": [
      "Test accuracy = 96.52%. Train accuracy = 96.95%.\n",
      "Best accuracy reached so far: 96.52053830115621 for params: 2, 8, 17, 50, 32, False\n",
      "85ème itérateur: 2, 8, 20, 50, 128, True\n"
     ]
    },
    {
     "name": "stderr",
     "output_type": "stream",
     "text": [
      "[Parallel(n_jobs=2)]: Using backend ThreadingBackend with 2 concurrent workers.\n",
      "[Parallel(n_jobs=2)]: Done   2 out of   2 | elapsed:    0.0s remaining:    0.0s\n",
      "[Parallel(n_jobs=2)]: Done   2 out of   2 | elapsed:    0.0s finished\n",
      "[Parallel(n_jobs=6)]: Using backend ThreadingBackend with 6 concurrent workers.\n",
      "[Parallel(n_jobs=6)]: Done   2 out of   2 | elapsed:    0.4s finished\n",
      "[Parallel(n_jobs=2)]: Using backend ThreadingBackend with 2 concurrent workers.\n",
      "[Parallel(n_jobs=2)]: Done   2 out of   2 | elapsed:    0.0s remaining:    0.0s\n",
      "[Parallel(n_jobs=2)]: Done   2 out of   2 | elapsed:    0.0s finished\n",
      "[Parallel(n_jobs=2)]: Using backend ThreadingBackend with 2 concurrent workers.\n",
      "[Parallel(n_jobs=2)]: Done   2 out of   2 | elapsed:    0.0s remaining:    0.0s\n",
      "[Parallel(n_jobs=2)]: Done   2 out of   2 | elapsed:    0.0s finished\n"
     ]
    },
    {
     "name": "stdout",
     "output_type": "stream",
     "text": [
      "Test accuracy = 96.14%. Train accuracy = 96.24%.\n",
      "Best accuracy reached so far: 96.52053830115621 for params: 2, 8, 17, 50, 32, False\n",
      "86ème itérateur: 2, sqrt, 1, 20, 128, False\n"
     ]
    },
    {
     "name": "stderr",
     "output_type": "stream",
     "text": [
      "[Parallel(n_jobs=6)]: Using backend ThreadingBackend with 6 concurrent workers.\n",
      "[Parallel(n_jobs=6)]: Done   2 out of   2 | elapsed:    0.0s finished\n",
      "[Parallel(n_jobs=2)]: Using backend ThreadingBackend with 2 concurrent workers.\n",
      "[Parallel(n_jobs=2)]: Done   2 out of   2 | elapsed:    0.0s remaining:    0.0s\n",
      "[Parallel(n_jobs=2)]: Done   2 out of   2 | elapsed:    0.0s finished\n"
     ]
    },
    {
     "name": "stdout",
     "output_type": "stream",
     "text": [
      "Test accuracy = 90.41%. Train accuracy = 90.52%.\n",
      "Best accuracy reached so far: 96.52053830115621 for params: 2, 8, 17, 50, 32, False\n",
      "87ème itérateur: 2, sqrt, 1, 40, 64, False\n"
     ]
    },
    {
     "name": "stderr",
     "output_type": "stream",
     "text": [
      "[Parallel(n_jobs=2)]: Using backend ThreadingBackend with 2 concurrent workers.\n",
      "[Parallel(n_jobs=2)]: Done   2 out of   2 | elapsed:    0.0s remaining:    0.0s\n",
      "[Parallel(n_jobs=2)]: Done   2 out of   2 | elapsed:    0.0s finished\n",
      "[Parallel(n_jobs=6)]: Using backend ThreadingBackend with 6 concurrent workers.\n",
      "[Parallel(n_jobs=6)]: Done   2 out of   2 | elapsed:    0.0s finished\n",
      "[Parallel(n_jobs=2)]: Using backend ThreadingBackend with 2 concurrent workers.\n",
      "[Parallel(n_jobs=2)]: Done   2 out of   2 | elapsed:    0.0s remaining:    0.0s\n",
      "[Parallel(n_jobs=2)]: Done   2 out of   2 | elapsed:    0.0s finished\n",
      "[Parallel(n_jobs=2)]: Using backend ThreadingBackend with 2 concurrent workers.\n",
      "[Parallel(n_jobs=2)]: Done   2 out of   2 | elapsed:    0.0s remaining:    0.0s\n",
      "[Parallel(n_jobs=2)]: Done   2 out of   2 | elapsed:    0.0s finished\n"
     ]
    },
    {
     "name": "stdout",
     "output_type": "stream",
     "text": [
      "Test accuracy = 90.41%. Train accuracy = 90.52%.\n",
      "Best accuracy reached so far: 96.52053830115621 for params: 2, 8, 17, 50, 32, False\n",
      "88ème itérateur: 2, sqrt, 1, 60, 1, False\n"
     ]
    },
    {
     "name": "stderr",
     "output_type": "stream",
     "text": [
      "[Parallel(n_jobs=6)]: Using backend ThreadingBackend with 6 concurrent workers.\n",
      "[Parallel(n_jobs=6)]: Done   2 out of   2 | elapsed:    0.0s finished\n",
      "[Parallel(n_jobs=2)]: Using backend ThreadingBackend with 2 concurrent workers.\n",
      "[Parallel(n_jobs=2)]: Done   2 out of   2 | elapsed:    0.0s remaining:    0.0s\n",
      "[Parallel(n_jobs=2)]: Done   2 out of   2 | elapsed:    0.0s finished\n"
     ]
    },
    {
     "name": "stdout",
     "output_type": "stream",
     "text": [
      "Test accuracy = 90.41%. Train accuracy = 90.52%.\n",
      "Best accuracy reached so far: 96.52053830115621 for params: 2, 8, 17, 50, 32, False\n",
      "89ème itérateur: 2, sqrt, 3, 5, 4, False\n"
     ]
    },
    {
     "name": "stderr",
     "output_type": "stream",
     "text": [
      "[Parallel(n_jobs=2)]: Using backend ThreadingBackend with 2 concurrent workers.\n",
      "[Parallel(n_jobs=2)]: Done   2 out of   2 | elapsed:    0.0s remaining:    0.0s\n",
      "[Parallel(n_jobs=2)]: Done   2 out of   2 | elapsed:    0.0s finished\n",
      "[Parallel(n_jobs=6)]: Using backend ThreadingBackend with 6 concurrent workers.\n",
      "[Parallel(n_jobs=6)]: Done   2 out of   2 | elapsed:    0.1s finished\n",
      "[Parallel(n_jobs=2)]: Using backend ThreadingBackend with 2 concurrent workers.\n",
      "[Parallel(n_jobs=2)]: Done   2 out of   2 | elapsed:    0.0s remaining:    0.0s\n",
      "[Parallel(n_jobs=2)]: Done   2 out of   2 | elapsed:    0.0s finished\n",
      "[Parallel(n_jobs=2)]: Using backend ThreadingBackend with 2 concurrent workers.\n"
     ]
    },
    {
     "name": "stdout",
     "output_type": "stream",
     "text": [
      "Test accuracy = 93.57%. Train accuracy = 93.53%.\n",
      "Best accuracy reached so far: 96.52053830115621 for params: 2, 8, 17, 50, 32, False\n",
      "90ème itérateur: 2, sqrt, 3, 10, 128, True\n"
     ]
    },
    {
     "name": "stderr",
     "output_type": "stream",
     "text": [
      "[Parallel(n_jobs=2)]: Done   2 out of   2 | elapsed:    0.0s remaining:    0.0s\n",
      "[Parallel(n_jobs=2)]: Done   2 out of   2 | elapsed:    0.0s finished\n",
      "[Parallel(n_jobs=6)]: Using backend ThreadingBackend with 6 concurrent workers.\n",
      "[Parallel(n_jobs=6)]: Done   2 out of   2 | elapsed:    0.1s finished\n",
      "[Parallel(n_jobs=2)]: Using backend ThreadingBackend with 2 concurrent workers.\n",
      "[Parallel(n_jobs=2)]: Done   2 out of   2 | elapsed:    0.0s remaining:    0.0s\n",
      "[Parallel(n_jobs=2)]: Done   2 out of   2 | elapsed:    0.0s finished\n",
      "[Parallel(n_jobs=2)]: Using backend ThreadingBackend with 2 concurrent workers.\n",
      "[Parallel(n_jobs=2)]: Done   2 out of   2 | elapsed:    0.0s remaining:    0.0s\n",
      "[Parallel(n_jobs=2)]: Done   2 out of   2 | elapsed:    0.0s finished\n"
     ]
    },
    {
     "name": "stdout",
     "output_type": "stream",
     "text": [
      "Test accuracy = 93.25%. Train accuracy = 93.32%.\n",
      "Best accuracy reached so far: 96.52053830115621 for params: 2, 8, 17, 50, 32, False\n",
      "91ème itérateur: 2, sqrt, 3, 60, 8, True\n"
     ]
    },
    {
     "name": "stderr",
     "output_type": "stream",
     "text": [
      "[Parallel(n_jobs=6)]: Using backend ThreadingBackend with 6 concurrent workers.\n",
      "[Parallel(n_jobs=6)]: Done   2 out of   2 | elapsed:    0.1s finished\n",
      "[Parallel(n_jobs=2)]: Using backend ThreadingBackend with 2 concurrent workers.\n",
      "[Parallel(n_jobs=2)]: Done   2 out of   2 | elapsed:    0.0s remaining:    0.0s\n",
      "[Parallel(n_jobs=2)]: Done   2 out of   2 | elapsed:    0.0s finished\n"
     ]
    },
    {
     "name": "stdout",
     "output_type": "stream",
     "text": [
      "Test accuracy = 93.25%. Train accuracy = 93.32%.\n",
      "Best accuracy reached so far: 96.52053830115621 for params: 2, 8, 17, 50, 32, False\n",
      "92ème itérateur: 2, sqrt, 10, 5, 32, False\n"
     ]
    },
    {
     "name": "stderr",
     "output_type": "stream",
     "text": [
      "[Parallel(n_jobs=2)]: Using backend ThreadingBackend with 2 concurrent workers.\n",
      "[Parallel(n_jobs=2)]: Done   2 out of   2 | elapsed:    0.0s remaining:    0.0s\n",
      "[Parallel(n_jobs=2)]: Done   2 out of   2 | elapsed:    0.0s finished\n",
      "[Parallel(n_jobs=6)]: Using backend ThreadingBackend with 6 concurrent workers.\n",
      "[Parallel(n_jobs=6)]: Done   2 out of   2 | elapsed:    0.3s finished\n",
      "[Parallel(n_jobs=2)]: Using backend ThreadingBackend with 2 concurrent workers.\n",
      "[Parallel(n_jobs=2)]: Done   2 out of   2 | elapsed:    0.0s remaining:    0.0s\n",
      "[Parallel(n_jobs=2)]: Done   2 out of   2 | elapsed:    0.0s finished\n",
      "[Parallel(n_jobs=2)]: Using backend ThreadingBackend with 2 concurrent workers.\n",
      "[Parallel(n_jobs=2)]: Done   2 out of   2 | elapsed:    0.0s remaining:    0.0s\n",
      "[Parallel(n_jobs=2)]: Done   2 out of   2 | elapsed:    0.0s finished\n"
     ]
    },
    {
     "name": "stdout",
     "output_type": "stream",
     "text": [
      "Test accuracy = 96.26%. Train accuracy = 96.48%.\n",
      "Best accuracy reached so far: 96.52053830115621 for params: 2, 8, 17, 50, 32, False\n",
      "93ème itérateur: 2, sqrt, 10, 5, 128, False\n"
     ]
    },
    {
     "name": "stderr",
     "output_type": "stream",
     "text": [
      "[Parallel(n_jobs=6)]: Using backend ThreadingBackend with 6 concurrent workers.\n",
      "[Parallel(n_jobs=6)]: Done   2 out of   2 | elapsed:    0.3s finished\n",
      "[Parallel(n_jobs=2)]: Using backend ThreadingBackend with 2 concurrent workers.\n",
      "[Parallel(n_jobs=2)]: Done   2 out of   2 | elapsed:    0.0s remaining:    0.0s\n",
      "[Parallel(n_jobs=2)]: Done   2 out of   2 | elapsed:    0.0s finished\n",
      "[Parallel(n_jobs=2)]: Using backend ThreadingBackend with 2 concurrent workers.\n"
     ]
    },
    {
     "name": "stdout",
     "output_type": "stream",
     "text": [
      "Test accuracy = 95.92%. Train accuracy = 96.10%.\n",
      "Best accuracy reached so far: 96.52053830115621 for params: 2, 8, 17, 50, 32, False\n",
      "94ème itérateur: 2, sqrt, 17, 10, 1, False\n"
     ]
    },
    {
     "name": "stderr",
     "output_type": "stream",
     "text": [
      "[Parallel(n_jobs=2)]: Done   2 out of   2 | elapsed:    0.0s remaining:    0.0s\n",
      "[Parallel(n_jobs=2)]: Done   2 out of   2 | elapsed:    0.0s finished\n",
      "[Parallel(n_jobs=6)]: Using backend ThreadingBackend with 6 concurrent workers.\n",
      "[Parallel(n_jobs=6)]: Done   2 out of   2 | elapsed:    0.4s finished\n",
      "[Parallel(n_jobs=2)]: Using backend ThreadingBackend with 2 concurrent workers.\n",
      "[Parallel(n_jobs=2)]: Done   2 out of   2 | elapsed:    0.0s remaining:    0.0s\n",
      "[Parallel(n_jobs=2)]: Done   2 out of   2 | elapsed:    0.0s finished\n",
      "[Parallel(n_jobs=2)]: Using backend ThreadingBackend with 2 concurrent workers.\n",
      "[Parallel(n_jobs=2)]: Done   2 out of   2 | elapsed:    0.0s remaining:    0.0s\n",
      "[Parallel(n_jobs=2)]: Done   2 out of   2 | elapsed:    0.0s finished\n"
     ]
    },
    {
     "name": "stdout",
     "output_type": "stream",
     "text": [
      "Test accuracy = 95.95%. Train accuracy = 98.29%.\n",
      "Best accuracy reached so far: 96.52053830115621 for params: 2, 8, 17, 50, 32, False\n",
      "95ème itérateur: 2, None, 1, 30, 32, False\n"
     ]
    },
    {
     "name": "stderr",
     "output_type": "stream",
     "text": [
      "[Parallel(n_jobs=6)]: Using backend ThreadingBackend with 6 concurrent workers.\n",
      "[Parallel(n_jobs=6)]: Done   2 out of   2 | elapsed:    0.2s finished\n",
      "[Parallel(n_jobs=2)]: Using backend ThreadingBackend with 2 concurrent workers.\n",
      "[Parallel(n_jobs=2)]: Done   2 out of   2 | elapsed:    0.0s remaining:    0.0s\n",
      "[Parallel(n_jobs=2)]: Done   2 out of   2 | elapsed:    0.0s finished\n",
      "[Parallel(n_jobs=2)]: Using backend ThreadingBackend with 2 concurrent workers.\n"
     ]
    },
    {
     "name": "stdout",
     "output_type": "stream",
     "text": [
      "Test accuracy = 92.47%. Train accuracy = 92.53%.\n",
      "Best accuracy reached so far: 96.52053830115621 for params: 2, 8, 17, 50, 32, False\n",
      "96ème itérateur: 2, None, 5, 50, 8, True\n"
     ]
    },
    {
     "name": "stderr",
     "output_type": "stream",
     "text": [
      "[Parallel(n_jobs=2)]: Done   2 out of   2 | elapsed:    0.0s remaining:    0.0s\n",
      "[Parallel(n_jobs=2)]: Done   2 out of   2 | elapsed:    0.0s finished\n",
      "[Parallel(n_jobs=6)]: Using backend ThreadingBackend with 6 concurrent workers.\n",
      "[Parallel(n_jobs=6)]: Done   2 out of   2 | elapsed:    0.7s finished\n",
      "[Parallel(n_jobs=2)]: Using backend ThreadingBackend with 2 concurrent workers.\n",
      "[Parallel(n_jobs=2)]: Done   2 out of   2 | elapsed:    0.0s remaining:    0.0s\n",
      "[Parallel(n_jobs=2)]: Done   2 out of   2 | elapsed:    0.0s finished\n",
      "[Parallel(n_jobs=2)]: Using backend ThreadingBackend with 2 concurrent workers.\n",
      "[Parallel(n_jobs=2)]: Done   2 out of   2 | elapsed:    0.0s remaining:    0.0s\n",
      "[Parallel(n_jobs=2)]: Done   2 out of   2 | elapsed:    0.0s finished\n"
     ]
    },
    {
     "name": "stdout",
     "output_type": "stream",
     "text": [
      "Test accuracy = 95.90%. Train accuracy = 96.05%.\n",
      "Best accuracy reached so far: 96.52053830115621 for params: 2, 8, 17, 50, 32, False\n",
      "97ème itérateur: 2, None, 7, 2, 128, False\n"
     ]
    },
    {
     "name": "stderr",
     "output_type": "stream",
     "text": [
      "[Parallel(n_jobs=6)]: Using backend ThreadingBackend with 6 concurrent workers.\n",
      "[Parallel(n_jobs=6)]: Done   2 out of   2 | elapsed:    1.3s finished\n",
      "[Parallel(n_jobs=2)]: Using backend ThreadingBackend with 2 concurrent workers.\n",
      "[Parallel(n_jobs=2)]: Done   2 out of   2 | elapsed:    0.0s remaining:    0.0s\n",
      "[Parallel(n_jobs=2)]: Done   2 out of   2 | elapsed:    0.0s finished\n",
      "[Parallel(n_jobs=2)]: Using backend ThreadingBackend with 2 concurrent workers.\n",
      "[Parallel(n_jobs=2)]: Done   2 out of   2 | elapsed:    0.0s remaining:    0.0s\n",
      "[Parallel(n_jobs=2)]: Done   2 out of   2 | elapsed:    0.0s finished\n"
     ]
    },
    {
     "name": "stdout",
     "output_type": "stream",
     "text": [
      "Test accuracy = 96.04%. Train accuracy = 96.13%.\n",
      "Best accuracy reached so far: 96.52053830115621 for params: 2, 8, 17, 50, 32, False\n",
      "98ème itérateur: 2, None, 7, 50, 128, True\n"
     ]
    },
    {
     "name": "stderr",
     "output_type": "stream",
     "text": [
      "[Parallel(n_jobs=6)]: Using backend ThreadingBackend with 6 concurrent workers.\n",
      "[Parallel(n_jobs=6)]: Done   2 out of   2 | elapsed:    0.9s finished\n",
      "[Parallel(n_jobs=2)]: Using backend ThreadingBackend with 2 concurrent workers.\n",
      "[Parallel(n_jobs=2)]: Done   2 out of   2 | elapsed:    0.0s remaining:    0.0s\n",
      "[Parallel(n_jobs=2)]: Done   2 out of   2 | elapsed:    0.0s finished\n",
      "[Parallel(n_jobs=2)]: Using backend ThreadingBackend with 2 concurrent workers.\n",
      "[Parallel(n_jobs=2)]: Done   2 out of   2 | elapsed:    0.0s remaining:    0.0s\n",
      "[Parallel(n_jobs=2)]: Done   2 out of   2 | elapsed:    0.0s finished\n"
     ]
    },
    {
     "name": "stdout",
     "output_type": "stream",
     "text": [
      "Test accuracy = 96.08%. Train accuracy = 96.13%.\n",
      "Best accuracy reached so far: 96.52053830115621 for params: 2, 8, 17, 50, 32, False\n",
      "99ème itérateur: 5, 1, 2, 50, 128, False\n"
     ]
    },
    {
     "name": "stderr",
     "output_type": "stream",
     "text": [
      "[Parallel(n_jobs=6)]: Using backend ThreadingBackend with 6 concurrent workers.\n",
      "[Parallel(n_jobs=6)]: Done   5 out of   5 | elapsed:    0.0s finished\n",
      "[Parallel(n_jobs=5)]: Using backend ThreadingBackend with 5 concurrent workers.\n",
      "[Parallel(n_jobs=5)]: Done   2 out of   5 | elapsed:    0.0s remaining:    0.0s\n",
      "[Parallel(n_jobs=5)]: Done   5 out of   5 | elapsed:    0.0s finished\n"
     ]
    },
    {
     "name": "stdout",
     "output_type": "stream",
     "text": [
      "Test accuracy = 76.32%. Train accuracy = 76.65%.\n",
      "Best accuracy reached so far: 96.52053830115621 for params: 2, 8, 17, 50, 32, False\n",
      "100ème itérateur: 5, 1, 5, 30, 128, False\n"
     ]
    },
    {
     "name": "stderr",
     "output_type": "stream",
     "text": [
      "[Parallel(n_jobs=5)]: Using backend ThreadingBackend with 5 concurrent workers.\n",
      "[Parallel(n_jobs=5)]: Done   2 out of   5 | elapsed:    0.0s remaining:    0.0s\n",
      "[Parallel(n_jobs=5)]: Done   5 out of   5 | elapsed:    0.0s finished\n",
      "[Parallel(n_jobs=6)]: Using backend ThreadingBackend with 6 concurrent workers.\n",
      "[Parallel(n_jobs=6)]: Done   5 out of   5 | elapsed:    0.1s finished\n",
      "[Parallel(n_jobs=5)]: Using backend ThreadingBackend with 5 concurrent workers.\n",
      "[Parallel(n_jobs=5)]: Done   2 out of   5 | elapsed:    0.0s remaining:    0.0s\n",
      "[Parallel(n_jobs=5)]: Done   5 out of   5 | elapsed:    0.0s finished\n",
      "[Parallel(n_jobs=5)]: Using backend ThreadingBackend with 5 concurrent workers.\n",
      "[Parallel(n_jobs=5)]: Done   2 out of   5 | elapsed:    0.0s remaining:    0.0s\n",
      "[Parallel(n_jobs=5)]: Done   5 out of   5 | elapsed:    0.0s finished\n"
     ]
    },
    {
     "name": "stdout",
     "output_type": "stream",
     "text": [
      "Test accuracy = 91.01%. Train accuracy = 91.14%.\n",
      "Best accuracy reached so far: 96.52053830115621 for params: 2, 8, 17, 50, 32, False\n",
      "101ème itérateur: 5, 1, 5, 60, 4, False\n"
     ]
    },
    {
     "name": "stderr",
     "output_type": "stream",
     "text": [
      "[Parallel(n_jobs=6)]: Using backend ThreadingBackend with 6 concurrent workers.\n",
      "[Parallel(n_jobs=6)]: Done   5 out of   5 | elapsed:    0.1s finished\n",
      "[Parallel(n_jobs=5)]: Using backend ThreadingBackend with 5 concurrent workers.\n",
      "[Parallel(n_jobs=5)]: Done   2 out of   5 | elapsed:    0.0s remaining:    0.0s\n",
      "[Parallel(n_jobs=5)]: Done   5 out of   5 | elapsed:    0.0s finished\n"
     ]
    },
    {
     "name": "stdout",
     "output_type": "stream",
     "text": [
      "Test accuracy = 90.86%. Train accuracy = 90.90%.\n",
      "Best accuracy reached so far: 96.52053830115621 for params: 2, 8, 17, 50, 32, False\n",
      "102ème itérateur: 5, 1, 10, 50, 2, True\n"
     ]
    },
    {
     "name": "stderr",
     "output_type": "stream",
     "text": [
      "[Parallel(n_jobs=5)]: Using backend ThreadingBackend with 5 concurrent workers.\n",
      "[Parallel(n_jobs=5)]: Done   2 out of   5 | elapsed:    0.0s remaining:    0.0s\n",
      "[Parallel(n_jobs=5)]: Done   5 out of   5 | elapsed:    0.0s finished\n",
      "[Parallel(n_jobs=6)]: Using backend ThreadingBackend with 6 concurrent workers.\n",
      "[Parallel(n_jobs=6)]: Done   5 out of   5 | elapsed:    0.1s finished\n",
      "[Parallel(n_jobs=5)]: Using backend ThreadingBackend with 5 concurrent workers.\n",
      "[Parallel(n_jobs=5)]: Done   2 out of   5 | elapsed:    0.0s remaining:    0.0s\n",
      "[Parallel(n_jobs=5)]: Done   5 out of   5 | elapsed:    0.0s finished\n"
     ]
    },
    {
     "name": "stdout",
     "output_type": "stream",
     "text": [
      "Test accuracy = 94.01%. Train accuracy = 94.41%.\n",
      "Best accuracy reached so far: 96.52053830115621 for params: 2, 8, 17, 50, 32, False\n",
      "103ème itérateur: 5, 1, 17, 30, 4, False\n"
     ]
    },
    {
     "name": "stderr",
     "output_type": "stream",
     "text": [
      "[Parallel(n_jobs=5)]: Using backend ThreadingBackend with 5 concurrent workers.\n",
      "[Parallel(n_jobs=5)]: Done   2 out of   5 | elapsed:    0.0s remaining:    0.0s\n",
      "[Parallel(n_jobs=5)]: Done   5 out of   5 | elapsed:    0.0s finished\n",
      "[Parallel(n_jobs=6)]: Using backend ThreadingBackend with 6 concurrent workers.\n",
      "[Parallel(n_jobs=6)]: Done   5 out of   5 | elapsed:    0.2s finished\n",
      "[Parallel(n_jobs=5)]: Using backend ThreadingBackend with 5 concurrent workers.\n",
      "[Parallel(n_jobs=5)]: Done   2 out of   5 | elapsed:    0.0s remaining:    0.0s\n",
      "[Parallel(n_jobs=5)]: Done   5 out of   5 | elapsed:    0.0s finished\n",
      "[Parallel(n_jobs=5)]: Using backend ThreadingBackend with 5 concurrent workers.\n",
      "[Parallel(n_jobs=5)]: Done   2 out of   5 | elapsed:    0.0s remaining:    0.0s\n",
      "[Parallel(n_jobs=5)]: Done   5 out of   5 | elapsed:    0.0s finished\n"
     ]
    },
    {
     "name": "stdout",
     "output_type": "stream",
     "text": [
      "Test accuracy = 95.53%. Train accuracy = 96.39%.\n",
      "Best accuracy reached so far: 96.52053830115621 for params: 2, 8, 17, 50, 32, False\n",
      "104ème itérateur: 5, 1, 20, 40, 64, False\n"
     ]
    },
    {
     "name": "stderr",
     "output_type": "stream",
     "text": [
      "[Parallel(n_jobs=6)]: Using backend ThreadingBackend with 6 concurrent workers.\n",
      "[Parallel(n_jobs=6)]: Done   5 out of   5 | elapsed:    0.1s finished\n",
      "[Parallel(n_jobs=5)]: Using backend ThreadingBackend with 5 concurrent workers.\n",
      "[Parallel(n_jobs=5)]: Done   2 out of   5 | elapsed:    0.0s remaining:    0.0s\n",
      "[Parallel(n_jobs=5)]: Done   5 out of   5 | elapsed:    0.0s finished\n",
      "[Parallel(n_jobs=5)]: Using backend ThreadingBackend with 5 concurrent workers.\n",
      "[Parallel(n_jobs=5)]: Done   2 out of   5 | elapsed:    0.0s remaining:    0.0s\n",
      "[Parallel(n_jobs=5)]: Done   5 out of   5 | elapsed:    0.0s finished\n"
     ]
    },
    {
     "name": "stdout",
     "output_type": "stream",
     "text": [
      "Test accuracy = 94.56%. Train accuracy = 94.77%.\n",
      "Best accuracy reached so far: 96.52053830115621 for params: 2, 8, 17, 50, 32, False\n",
      "105ème itérateur: 5, 1, None, 50, 1, True\n"
     ]
    },
    {
     "name": "stderr",
     "output_type": "stream",
     "text": [
      "[Parallel(n_jobs=6)]: Using backend ThreadingBackend with 6 concurrent workers.\n",
      "[Parallel(n_jobs=6)]: Done   5 out of   5 | elapsed:    0.2s finished\n",
      "[Parallel(n_jobs=5)]: Using backend ThreadingBackend with 5 concurrent workers.\n",
      "[Parallel(n_jobs=5)]: Done   2 out of   5 | elapsed:    0.0s remaining:    0.0s\n",
      "[Parallel(n_jobs=5)]: Done   5 out of   5 | elapsed:    0.0s finished\n",
      "[Parallel(n_jobs=5)]: Using backend ThreadingBackend with 5 concurrent workers.\n",
      "[Parallel(n_jobs=5)]: Done   2 out of   5 | elapsed:    0.0s remaining:    0.0s\n",
      "[Parallel(n_jobs=5)]: Done   5 out of   5 | elapsed:    0.0s finished\n"
     ]
    },
    {
     "name": "stdout",
     "output_type": "stream",
     "text": [
      "Test accuracy = 95.91%. Train accuracy = 96.82%.\n",
      "Best accuracy reached so far: 96.52053830115621 for params: 2, 8, 17, 50, 32, False\n",
      "106ème itérateur: 5, 2, 2, 2, 16, False\n"
     ]
    },
    {
     "name": "stderr",
     "output_type": "stream",
     "text": [
      "[Parallel(n_jobs=6)]: Using backend ThreadingBackend with 6 concurrent workers.\n",
      "[Parallel(n_jobs=6)]: Done   5 out of   5 | elapsed:    0.1s finished\n",
      "[Parallel(n_jobs=5)]: Using backend ThreadingBackend with 5 concurrent workers.\n",
      "[Parallel(n_jobs=5)]: Done   2 out of   5 | elapsed:    0.0s remaining:    0.0s\n",
      "[Parallel(n_jobs=5)]: Done   5 out of   5 | elapsed:    0.0s finished\n"
     ]
    },
    {
     "name": "stdout",
     "output_type": "stream",
     "text": [
      "Test accuracy = 82.67%. Train accuracy = 82.94%.\n",
      "Best accuracy reached so far: 96.52053830115621 for params: 2, 8, 17, 50, 32, False\n",
      "107ème itérateur: 5, 2, 2, 20, 128, True\n"
     ]
    },
    {
     "name": "stderr",
     "output_type": "stream",
     "text": [
      "[Parallel(n_jobs=5)]: Using backend ThreadingBackend with 5 concurrent workers.\n",
      "[Parallel(n_jobs=5)]: Done   2 out of   5 | elapsed:    0.0s remaining:    0.0s\n",
      "[Parallel(n_jobs=5)]: Done   5 out of   5 | elapsed:    0.0s finished\n",
      "[Parallel(n_jobs=6)]: Using backend ThreadingBackend with 6 concurrent workers.\n",
      "[Parallel(n_jobs=6)]: Done   5 out of   5 | elapsed:    0.1s finished\n",
      "[Parallel(n_jobs=5)]: Using backend ThreadingBackend with 5 concurrent workers.\n",
      "[Parallel(n_jobs=5)]: Done   2 out of   5 | elapsed:    0.0s remaining:    0.0s\n",
      "[Parallel(n_jobs=5)]: Done   5 out of   5 | elapsed:    0.0s finished\n",
      "[Parallel(n_jobs=5)]: Using backend ThreadingBackend with 5 concurrent workers.\n",
      "[Parallel(n_jobs=5)]: Done   2 out of   5 | elapsed:    0.0s remaining:    0.0s\n",
      "[Parallel(n_jobs=5)]: Done   5 out of   5 | elapsed:    0.0s finished\n"
     ]
    },
    {
     "name": "stdout",
     "output_type": "stream",
     "text": [
      "Test accuracy = 83.11%. Train accuracy = 83.45%.\n",
      "Best accuracy reached so far: 96.52053830115621 for params: 2, 8, 17, 50, 32, False\n",
      "108ème itérateur: 5, 2, 4, 10, 32, True\n"
     ]
    },
    {
     "name": "stderr",
     "output_type": "stream",
     "text": [
      "[Parallel(n_jobs=6)]: Using backend ThreadingBackend with 6 concurrent workers.\n",
      "[Parallel(n_jobs=6)]: Done   5 out of   5 | elapsed:    0.1s finished\n",
      "[Parallel(n_jobs=5)]: Using backend ThreadingBackend with 5 concurrent workers.\n",
      "[Parallel(n_jobs=5)]: Done   2 out of   5 | elapsed:    0.0s remaining:    0.0s\n",
      "[Parallel(n_jobs=5)]: Done   5 out of   5 | elapsed:    0.0s finished\n"
     ]
    },
    {
     "name": "stdout",
     "output_type": "stream",
     "text": [
      "Test accuracy = 91.83%. Train accuracy = 91.98%.\n",
      "Best accuracy reached so far: 96.52053830115621 for params: 2, 8, 17, 50, 32, False\n",
      "109ème itérateur: 5, 2, 4, 20, 4, True\n"
     ]
    },
    {
     "name": "stderr",
     "output_type": "stream",
     "text": [
      "[Parallel(n_jobs=5)]: Using backend ThreadingBackend with 5 concurrent workers.\n",
      "[Parallel(n_jobs=5)]: Done   2 out of   5 | elapsed:    0.0s remaining:    0.0s\n",
      "[Parallel(n_jobs=5)]: Done   5 out of   5 | elapsed:    0.0s finished\n",
      "[Parallel(n_jobs=6)]: Using backend ThreadingBackend with 6 concurrent workers.\n",
      "[Parallel(n_jobs=6)]: Done   5 out of   5 | elapsed:    0.1s finished\n",
      "[Parallel(n_jobs=5)]: Using backend ThreadingBackend with 5 concurrent workers.\n",
      "[Parallel(n_jobs=5)]: Done   2 out of   5 | elapsed:    0.0s remaining:    0.0s\n",
      "[Parallel(n_jobs=5)]: Done   5 out of   5 | elapsed:    0.0s finished\n",
      "[Parallel(n_jobs=5)]: Using backend ThreadingBackend with 5 concurrent workers.\n",
      "[Parallel(n_jobs=5)]: Done   2 out of   5 | elapsed:    0.0s remaining:    0.0s\n",
      "[Parallel(n_jobs=5)]: Done   5 out of   5 | elapsed:    0.0s finished\n"
     ]
    },
    {
     "name": "stdout",
     "output_type": "stream",
     "text": [
      "Test accuracy = 91.84%. Train accuracy = 91.99%.\n",
      "Best accuracy reached so far: 96.52053830115621 for params: 2, 8, 17, 50, 32, False\n",
      "110ème itérateur: 5, 2, 5, 30, 64, True\n"
     ]
    },
    {
     "name": "stderr",
     "output_type": "stream",
     "text": [
      "[Parallel(n_jobs=6)]: Using backend ThreadingBackend with 6 concurrent workers.\n",
      "[Parallel(n_jobs=6)]: Done   5 out of   5 | elapsed:    0.1s finished\n",
      "[Parallel(n_jobs=5)]: Using backend ThreadingBackend with 5 concurrent workers.\n",
      "[Parallel(n_jobs=5)]: Done   2 out of   5 | elapsed:    0.0s remaining:    0.0s\n",
      "[Parallel(n_jobs=5)]: Done   5 out of   5 | elapsed:    0.0s finished\n",
      "[Parallel(n_jobs=5)]: Using backend ThreadingBackend with 5 concurrent workers.\n",
      "[Parallel(n_jobs=5)]: Done   2 out of   5 | elapsed:    0.0s remaining:    0.0s\n",
      "[Parallel(n_jobs=5)]: Done   5 out of   5 | elapsed:    0.0s finished\n"
     ]
    },
    {
     "name": "stdout",
     "output_type": "stream",
     "text": [
      "Test accuracy = 93.01%. Train accuracy = 93.23%.\n",
      "Best accuracy reached so far: 96.52053830115621 for params: 2, 8, 17, 50, 32, False\n",
      "111ème itérateur: 5, 2, 10, 30, 64, True\n"
     ]
    },
    {
     "name": "stderr",
     "output_type": "stream",
     "text": [
      "[Parallel(n_jobs=6)]: Using backend ThreadingBackend with 6 concurrent workers.\n",
      "[Parallel(n_jobs=6)]: Done   5 out of   5 | elapsed:    0.2s finished\n",
      "[Parallel(n_jobs=5)]: Using backend ThreadingBackend with 5 concurrent workers.\n",
      "[Parallel(n_jobs=5)]: Done   2 out of   5 | elapsed:    0.0s remaining:    0.0s\n",
      "[Parallel(n_jobs=5)]: Done   5 out of   5 | elapsed:    0.0s finished\n",
      "[Parallel(n_jobs=5)]: Using backend ThreadingBackend with 5 concurrent workers.\n",
      "[Parallel(n_jobs=5)]: Done   2 out of   5 | elapsed:    0.0s remaining:    0.0s\n",
      "[Parallel(n_jobs=5)]: Done   5 out of   5 | elapsed:    0.0s finished\n"
     ]
    },
    {
     "name": "stdout",
     "output_type": "stream",
     "text": [
      "Test accuracy = 95.20%. Train accuracy = 95.29%.\n",
      "Best accuracy reached so far: 96.52053830115621 for params: 2, 8, 17, 50, 32, False\n",
      "112ème itérateur: 5, 2, 17, 5, 8, False\n"
     ]
    },
    {
     "name": "stderr",
     "output_type": "stream",
     "text": [
      "[Parallel(n_jobs=6)]: Using backend ThreadingBackend with 6 concurrent workers.\n",
      "[Parallel(n_jobs=6)]: Done   5 out of   5 | elapsed:    0.3s finished\n",
      "[Parallel(n_jobs=5)]: Using backend ThreadingBackend with 5 concurrent workers.\n",
      "[Parallel(n_jobs=5)]: Done   2 out of   5 | elapsed:    0.0s remaining:    0.0s\n",
      "[Parallel(n_jobs=5)]: Done   5 out of   5 | elapsed:    0.0s finished\n",
      "[Parallel(n_jobs=5)]: Using backend ThreadingBackend with 5 concurrent workers.\n",
      "[Parallel(n_jobs=5)]: Done   2 out of   5 | elapsed:    0.0s remaining:    0.0s\n",
      "[Parallel(n_jobs=5)]: Done   5 out of   5 | elapsed:    0.0s finished\n"
     ]
    },
    {
     "name": "stdout",
     "output_type": "stream",
     "text": [
      "Test accuracy = 96.46%. Train accuracy = 97.26%.\n",
      "Best accuracy reached so far: 96.52053830115621 for params: 2, 8, 17, 50, 32, False\n",
      "113ème itérateur: 5, 2, 17, 70, 32, True\n"
     ]
    },
    {
     "name": "stderr",
     "output_type": "stream",
     "text": [
      "[Parallel(n_jobs=6)]: Using backend ThreadingBackend with 6 concurrent workers.\n",
      "[Parallel(n_jobs=6)]: Done   5 out of   5 | elapsed:    0.2s finished\n",
      "[Parallel(n_jobs=5)]: Using backend ThreadingBackend with 5 concurrent workers.\n",
      "[Parallel(n_jobs=5)]: Done   2 out of   5 | elapsed:    0.0s remaining:    0.0s\n",
      "[Parallel(n_jobs=5)]: Done   5 out of   5 | elapsed:    0.0s finished\n",
      "[Parallel(n_jobs=5)]: Using backend ThreadingBackend with 5 concurrent workers.\n",
      "[Parallel(n_jobs=5)]: Done   2 out of   5 | elapsed:    0.0s remaining:    0.0s\n",
      "[Parallel(n_jobs=5)]: Done   5 out of   5 | elapsed:    0.0s finished\n"
     ]
    },
    {
     "name": "stdout",
     "output_type": "stream",
     "text": [
      "Test accuracy = 95.98%. Train accuracy = 96.25%.\n",
      "Best accuracy reached so far: 96.52053830115621 for params: 2, 8, 17, 50, 32, False\n",
      "114ème itérateur: 5, 2, 25, 20, 8, True\n"
     ]
    },
    {
     "name": "stderr",
     "output_type": "stream",
     "text": [
      "[Parallel(n_jobs=6)]: Using backend ThreadingBackend with 6 concurrent workers.\n",
      "[Parallel(n_jobs=6)]: Done   5 out of   5 | elapsed:    0.2s finished\n",
      "[Parallel(n_jobs=5)]: Using backend ThreadingBackend with 5 concurrent workers.\n",
      "[Parallel(n_jobs=5)]: Done   2 out of   5 | elapsed:    0.0s remaining:    0.0s\n",
      "[Parallel(n_jobs=5)]: Done   5 out of   5 | elapsed:    0.0s finished\n",
      "[Parallel(n_jobs=5)]: Using backend ThreadingBackend with 5 concurrent workers.\n",
      "[Parallel(n_jobs=5)]: Done   2 out of   5 | elapsed:    0.0s remaining:    0.0s\n",
      "[Parallel(n_jobs=5)]: Done   5 out of   5 | elapsed:    0.0s finished\n"
     ]
    },
    {
     "name": "stdout",
     "output_type": "stream",
     "text": [
      "Test accuracy = 96.19%. Train accuracy = 96.94%.\n",
      "Best accuracy reached so far: 96.52053830115621 for params: 2, 8, 17, 50, 32, False\n",
      "115ème itérateur: 5, 3, 1, 2, 8, False\n"
     ]
    },
    {
     "name": "stderr",
     "output_type": "stream",
     "text": [
      "[Parallel(n_jobs=6)]: Using backend ThreadingBackend with 6 concurrent workers.\n",
      "[Parallel(n_jobs=6)]: Done   5 out of   5 | elapsed:    0.1s finished\n",
      "[Parallel(n_jobs=5)]: Using backend ThreadingBackend with 5 concurrent workers.\n",
      "[Parallel(n_jobs=5)]: Done   2 out of   5 | elapsed:    0.0s remaining:    0.0s\n",
      "[Parallel(n_jobs=5)]: Done   5 out of   5 | elapsed:    0.0s finished\n"
     ]
    },
    {
     "name": "stdout",
     "output_type": "stream",
     "text": [
      "Test accuracy = 89.64%. Train accuracy = 89.83%.\n",
      "Best accuracy reached so far: 96.52053830115621 for params: 2, 8, 17, 50, 32, False\n",
      "116ème itérateur: 5, 3, 1, 70, 2, False\n"
     ]
    },
    {
     "name": "stderr",
     "output_type": "stream",
     "text": [
      "[Parallel(n_jobs=5)]: Using backend ThreadingBackend with 5 concurrent workers.\n",
      "[Parallel(n_jobs=5)]: Done   2 out of   5 | elapsed:    0.0s remaining:    0.0s\n",
      "[Parallel(n_jobs=5)]: Done   5 out of   5 | elapsed:    0.0s finished\n",
      "[Parallel(n_jobs=6)]: Using backend ThreadingBackend with 6 concurrent workers.\n",
      "[Parallel(n_jobs=6)]: Done   5 out of   5 | elapsed:    0.1s finished\n",
      "[Parallel(n_jobs=5)]: Using backend ThreadingBackend with 5 concurrent workers.\n",
      "[Parallel(n_jobs=5)]: Done   2 out of   5 | elapsed:    0.0s remaining:    0.0s\n",
      "[Parallel(n_jobs=5)]: Done   5 out of   5 | elapsed:    0.0s finished\n",
      "[Parallel(n_jobs=5)]: Using backend ThreadingBackend with 5 concurrent workers.\n",
      "[Parallel(n_jobs=5)]: Done   2 out of   5 | elapsed:    0.0s remaining:    0.0s\n",
      "[Parallel(n_jobs=5)]: Done   5 out of   5 | elapsed:    0.0s finished\n"
     ]
    },
    {
     "name": "stdout",
     "output_type": "stream",
     "text": [
      "Test accuracy = 89.64%. Train accuracy = 89.83%.\n",
      "Best accuracy reached so far: 96.52053830115621 for params: 2, 8, 17, 50, 32, False\n",
      "117ème itérateur: 5, 3, 1, 70, 16, True\n"
     ]
    },
    {
     "name": "stderr",
     "output_type": "stream",
     "text": [
      "[Parallel(n_jobs=6)]: Using backend ThreadingBackend with 6 concurrent workers.\n",
      "[Parallel(n_jobs=6)]: Done   5 out of   5 | elapsed:    0.1s finished\n",
      "[Parallel(n_jobs=5)]: Using backend ThreadingBackend with 5 concurrent workers.\n",
      "[Parallel(n_jobs=5)]: Done   2 out of   5 | elapsed:    0.0s remaining:    0.0s\n",
      "[Parallel(n_jobs=5)]: Done   5 out of   5 | elapsed:    0.0s finished\n"
     ]
    },
    {
     "name": "stdout",
     "output_type": "stream",
     "text": [
      "Test accuracy = 89.64%. Train accuracy = 89.83%.\n",
      "Best accuracy reached so far: 96.52053830115621 for params: 2, 8, 17, 50, 32, False\n",
      "118ème itérateur: 5, 3, 7, 5, 32, True\n"
     ]
    },
    {
     "name": "stderr",
     "output_type": "stream",
     "text": [
      "[Parallel(n_jobs=5)]: Using backend ThreadingBackend with 5 concurrent workers.\n",
      "[Parallel(n_jobs=5)]: Done   2 out of   5 | elapsed:    0.0s remaining:    0.0s\n",
      "[Parallel(n_jobs=5)]: Done   5 out of   5 | elapsed:    0.0s finished\n",
      "[Parallel(n_jobs=6)]: Using backend ThreadingBackend with 6 concurrent workers.\n",
      "[Parallel(n_jobs=6)]: Done   5 out of   5 | elapsed:    0.2s finished\n",
      "[Parallel(n_jobs=5)]: Using backend ThreadingBackend with 5 concurrent workers.\n",
      "[Parallel(n_jobs=5)]: Done   2 out of   5 | elapsed:    0.0s remaining:    0.0s\n",
      "[Parallel(n_jobs=5)]: Done   5 out of   5 | elapsed:    0.0s finished\n",
      "[Parallel(n_jobs=5)]: Using backend ThreadingBackend with 5 concurrent workers.\n",
      "[Parallel(n_jobs=5)]: Done   2 out of   5 | elapsed:    0.0s remaining:    0.0s\n",
      "[Parallel(n_jobs=5)]: Done   5 out of   5 | elapsed:    0.0s finished\n"
     ]
    },
    {
     "name": "stdout",
     "output_type": "stream",
     "text": [
      "Test accuracy = 95.49%. Train accuracy = 95.51%.\n",
      "Best accuracy reached so far: 96.52053830115621 for params: 2, 8, 17, 50, 32, False\n",
      "119ème itérateur: 5, 3, 17, 2, 4, False\n"
     ]
    },
    {
     "name": "stderr",
     "output_type": "stream",
     "text": [
      "[Parallel(n_jobs=6)]: Using backend ThreadingBackend with 6 concurrent workers.\n",
      "[Parallel(n_jobs=6)]: Done   5 out of   5 | elapsed:    0.3s finished\n",
      "[Parallel(n_jobs=5)]: Using backend ThreadingBackend with 5 concurrent workers.\n",
      "[Parallel(n_jobs=5)]: Done   2 out of   5 | elapsed:    0.0s remaining:    0.0s\n",
      "[Parallel(n_jobs=5)]: Done   5 out of   5 | elapsed:    0.0s finished\n",
      "[Parallel(n_jobs=5)]: Using backend ThreadingBackend with 5 concurrent workers.\n"
     ]
    },
    {
     "name": "stdout",
     "output_type": "stream",
     "text": [
      "Test accuracy = 96.65%. Train accuracy = 98.10%.\n",
      "Best accuracy reached so far: 96.64509490671793 for params: 5, 3, 17, 2, 4, False\n",
      "120ème itérateur: 5, 3, 17, 5, 8, False\n"
     ]
    },
    {
     "name": "stderr",
     "output_type": "stream",
     "text": [
      "[Parallel(n_jobs=5)]: Done   2 out of   5 | elapsed:    0.0s remaining:    0.0s\n",
      "[Parallel(n_jobs=5)]: Done   5 out of   5 | elapsed:    0.0s finished\n",
      "[Parallel(n_jobs=6)]: Using backend ThreadingBackend with 6 concurrent workers.\n",
      "[Parallel(n_jobs=6)]: Done   5 out of   5 | elapsed:    0.3s finished\n",
      "[Parallel(n_jobs=5)]: Using backend ThreadingBackend with 5 concurrent workers.\n",
      "[Parallel(n_jobs=5)]: Done   2 out of   5 | elapsed:    0.0s remaining:    0.0s\n",
      "[Parallel(n_jobs=5)]: Done   5 out of   5 | elapsed:    0.0s finished\n",
      "[Parallel(n_jobs=5)]: Using backend ThreadingBackend with 5 concurrent workers.\n"
     ]
    },
    {
     "name": "stdout",
     "output_type": "stream",
     "text": [
      "Test accuracy = 96.72%. Train accuracy = 97.69%.\n",
      "Best accuracy reached so far: 96.7209119709729 for params: 5, 3, 17, 5, 8, False\n",
      "121ème itérateur: 5, 3, 25, 60, 32, False\n"
     ]
    },
    {
     "name": "stderr",
     "output_type": "stream",
     "text": [
      "[Parallel(n_jobs=5)]: Done   2 out of   5 | elapsed:    0.0s remaining:    0.0s\n",
      "[Parallel(n_jobs=5)]: Done   5 out of   5 | elapsed:    0.0s finished\n",
      "[Parallel(n_jobs=6)]: Using backend ThreadingBackend with 6 concurrent workers.\n",
      "[Parallel(n_jobs=6)]: Done   5 out of   5 | elapsed:    0.3s finished\n",
      "[Parallel(n_jobs=5)]: Using backend ThreadingBackend with 5 concurrent workers.\n",
      "[Parallel(n_jobs=5)]: Done   2 out of   5 | elapsed:    0.0s remaining:    0.0s\n",
      "[Parallel(n_jobs=5)]: Done   5 out of   5 | elapsed:    0.0s finished\n"
     ]
    },
    {
     "name": "stdout",
     "output_type": "stream",
     "text": [
      "Test accuracy = 96.44%. Train accuracy = 96.88%.\n",
      "Best accuracy reached so far: 96.7209119709729 for params: 5, 3, 17, 5, 8, False\n",
      "122ème itérateur: 5, 3, 25, 60, 128, False\n"
     ]
    },
    {
     "name": "stderr",
     "output_type": "stream",
     "text": [
      "[Parallel(n_jobs=5)]: Using backend ThreadingBackend with 5 concurrent workers.\n",
      "[Parallel(n_jobs=5)]: Done   2 out of   5 | elapsed:    0.0s remaining:    0.0s\n",
      "[Parallel(n_jobs=5)]: Done   5 out of   5 | elapsed:    0.0s finished\n",
      "[Parallel(n_jobs=6)]: Using backend ThreadingBackend with 6 concurrent workers.\n",
      "[Parallel(n_jobs=6)]: Done   5 out of   5 | elapsed:    0.3s finished\n",
      "[Parallel(n_jobs=5)]: Using backend ThreadingBackend with 5 concurrent workers.\n",
      "[Parallel(n_jobs=5)]: Done   2 out of   5 | elapsed:    0.0s remaining:    0.0s\n",
      "[Parallel(n_jobs=5)]: Done   5 out of   5 | elapsed:    0.0s finished\n"
     ]
    },
    {
     "name": "stdout",
     "output_type": "stream",
     "text": [
      "Test accuracy = 96.12%. Train accuracy = 96.33%.\n",
      "Best accuracy reached so far: 96.7209119709729 for params: 5, 3, 17, 5, 8, False\n",
      "123ème itérateur: 5, 8, 2, 5, 16, True\n"
     ]
    },
    {
     "name": "stderr",
     "output_type": "stream",
     "text": [
      "[Parallel(n_jobs=5)]: Using backend ThreadingBackend with 5 concurrent workers.\n",
      "[Parallel(n_jobs=5)]: Done   2 out of   5 | elapsed:    0.0s remaining:    0.0s\n",
      "[Parallel(n_jobs=5)]: Done   5 out of   5 | elapsed:    0.0s finished\n",
      "[Parallel(n_jobs=6)]: Using backend ThreadingBackend with 6 concurrent workers.\n",
      "[Parallel(n_jobs=6)]: Done   5 out of   5 | elapsed:    0.1s finished\n",
      "[Parallel(n_jobs=5)]: Using backend ThreadingBackend with 5 concurrent workers.\n",
      "[Parallel(n_jobs=5)]: Done   2 out of   5 | elapsed:    0.0s remaining:    0.0s\n",
      "[Parallel(n_jobs=5)]: Done   5 out of   5 | elapsed:    0.0s finished\n",
      "[Parallel(n_jobs=5)]: Using backend ThreadingBackend with 5 concurrent workers.\n",
      "[Parallel(n_jobs=5)]: Done   2 out of   5 | elapsed:    0.0s remaining:    0.0s\n",
      "[Parallel(n_jobs=5)]: Done   5 out of   5 | elapsed:    0.0s finished\n"
     ]
    },
    {
     "name": "stdout",
     "output_type": "stream",
     "text": [
      "Test accuracy = 93.30%. Train accuracy = 93.40%.\n",
      "Best accuracy reached so far: 96.7209119709729 for params: 5, 3, 17, 5, 8, False\n",
      "124ème itérateur: 5, 8, 3, 20, 16, True\n"
     ]
    },
    {
     "name": "stderr",
     "output_type": "stream",
     "text": [
      "[Parallel(n_jobs=6)]: Using backend ThreadingBackend with 6 concurrent workers.\n",
      "[Parallel(n_jobs=6)]: Done   5 out of   5 | elapsed:    0.2s finished\n",
      "[Parallel(n_jobs=5)]: Using backend ThreadingBackend with 5 concurrent workers.\n",
      "[Parallel(n_jobs=5)]: Done   2 out of   5 | elapsed:    0.0s remaining:    0.0s\n",
      "[Parallel(n_jobs=5)]: Done   5 out of   5 | elapsed:    0.0s finished\n",
      "[Parallel(n_jobs=5)]: Using backend ThreadingBackend with 5 concurrent workers.\n",
      "[Parallel(n_jobs=5)]: Done   2 out of   5 | elapsed:    0.0s remaining:    0.0s\n",
      "[Parallel(n_jobs=5)]: Done   5 out of   5 | elapsed:    0.0s finished\n"
     ]
    },
    {
     "name": "stdout",
     "output_type": "stream",
     "text": [
      "Test accuracy = 94.24%. Train accuracy = 94.38%.\n",
      "Best accuracy reached so far: 96.7209119709729 for params: 5, 3, 17, 5, 8, False\n",
      "125ème itérateur: 5, 8, 3, 60, 2, False\n"
     ]
    },
    {
     "name": "stderr",
     "output_type": "stream",
     "text": [
      "[Parallel(n_jobs=6)]: Using backend ThreadingBackend with 6 concurrent workers.\n",
      "[Parallel(n_jobs=6)]: Done   5 out of   5 | elapsed:    0.2s finished\n",
      "[Parallel(n_jobs=5)]: Using backend ThreadingBackend with 5 concurrent workers.\n",
      "[Parallel(n_jobs=5)]: Done   2 out of   5 | elapsed:    0.0s remaining:    0.0s\n",
      "[Parallel(n_jobs=5)]: Done   5 out of   5 | elapsed:    0.0s finished\n",
      "[Parallel(n_jobs=5)]: Using backend ThreadingBackend with 5 concurrent workers.\n",
      "[Parallel(n_jobs=5)]: Done   2 out of   5 | elapsed:    0.0s remaining:    0.0s\n",
      "[Parallel(n_jobs=5)]: Done   5 out of   5 | elapsed:    0.0s finished\n"
     ]
    },
    {
     "name": "stdout",
     "output_type": "stream",
     "text": [
      "Test accuracy = 94.21%. Train accuracy = 94.35%.\n",
      "Best accuracy reached so far: 96.7209119709729 for params: 5, 3, 17, 5, 8, False\n",
      "126ème itérateur: 5, 8, 13, 70, 32, False\n"
     ]
    },
    {
     "name": "stderr",
     "output_type": "stream",
     "text": [
      "[Parallel(n_jobs=6)]: Using backend ThreadingBackend with 6 concurrent workers.\n",
      "[Parallel(n_jobs=6)]: Done   5 out of   5 | elapsed:    0.7s finished\n",
      "[Parallel(n_jobs=5)]: Using backend ThreadingBackend with 5 concurrent workers.\n",
      "[Parallel(n_jobs=5)]: Done   2 out of   5 | elapsed:    0.0s remaining:    0.0s\n",
      "[Parallel(n_jobs=5)]: Done   5 out of   5 | elapsed:    0.0s finished\n"
     ]
    },
    {
     "name": "stdout",
     "output_type": "stream",
     "text": [
      "Test accuracy = 96.77%. Train accuracy = 97.05%.\n",
      "Best accuracy reached so far: 96.77235926457448 for params: 5, 8, 13, 70, 32, False\n",
      "127ème itérateur: 5, 8, 25, 2, 32, True\n"
     ]
    },
    {
     "name": "stderr",
     "output_type": "stream",
     "text": [
      "[Parallel(n_jobs=5)]: Using backend ThreadingBackend with 5 concurrent workers.\n",
      "[Parallel(n_jobs=5)]: Done   2 out of   5 | elapsed:    0.0s remaining:    0.0s\n",
      "[Parallel(n_jobs=5)]: Done   5 out of   5 | elapsed:    0.0s finished\n",
      "[Parallel(n_jobs=6)]: Using backend ThreadingBackend with 6 concurrent workers.\n",
      "[Parallel(n_jobs=6)]: Done   5 out of   5 | elapsed:    0.6s finished\n",
      "[Parallel(n_jobs=5)]: Using backend ThreadingBackend with 5 concurrent workers.\n",
      "[Parallel(n_jobs=5)]: Done   2 out of   5 | elapsed:    0.0s remaining:    0.0s\n",
      "[Parallel(n_jobs=5)]: Done   5 out of   5 | elapsed:    0.0s finished\n",
      "[Parallel(n_jobs=5)]: Using backend ThreadingBackend with 5 concurrent workers.\n",
      "[Parallel(n_jobs=5)]: Done   2 out of   5 | elapsed:    0.0s remaining:    0.0s\n",
      "[Parallel(n_jobs=5)]: Done   5 out of   5 | elapsed:    0.0s finished\n"
     ]
    },
    {
     "name": "stdout",
     "output_type": "stream",
     "text": [
      "Test accuracy = 96.78%. Train accuracy = 96.98%.\n",
      "Best accuracy reached so far: 96.78319027375376 for params: 5, 8, 25, 2, 32, True\n",
      "128ème itérateur: 5, 8, 25, 60, 8, True\n"
     ]
    },
    {
     "name": "stderr",
     "output_type": "stream",
     "text": [
      "[Parallel(n_jobs=6)]: Using backend ThreadingBackend with 6 concurrent workers.\n",
      "[Parallel(n_jobs=6)]: Done   5 out of   5 | elapsed:    0.6s finished\n",
      "[Parallel(n_jobs=5)]: Using backend ThreadingBackend with 5 concurrent workers.\n",
      "[Parallel(n_jobs=5)]: Done   2 out of   5 | elapsed:    0.0s remaining:    0.0s\n",
      "[Parallel(n_jobs=5)]: Done   5 out of   5 | elapsed:    0.0s finished\n",
      "[Parallel(n_jobs=5)]: Using backend ThreadingBackend with 5 concurrent workers.\n",
      "[Parallel(n_jobs=5)]: Done   2 out of   5 | elapsed:    0.0s remaining:    0.0s\n",
      "[Parallel(n_jobs=5)]: Done   5 out of   5 | elapsed:    0.0s finished\n"
     ]
    },
    {
     "name": "stdout",
     "output_type": "stream",
     "text": [
      "Test accuracy = 96.78%. Train accuracy = 97.16%.\n",
      "Best accuracy reached so far: 96.78319027375376 for params: 5, 8, 25, 2, 32, True\n",
      "129ème itérateur: 5, sqrt, 1, 30, 64, True\n"
     ]
    },
    {
     "name": "stderr",
     "output_type": "stream",
     "text": [
      "[Parallel(n_jobs=6)]: Using backend ThreadingBackend with 6 concurrent workers.\n",
      "[Parallel(n_jobs=6)]: Done   5 out of   5 | elapsed:    0.1s finished\n",
      "[Parallel(n_jobs=5)]: Using backend ThreadingBackend with 5 concurrent workers.\n",
      "[Parallel(n_jobs=5)]: Done   2 out of   5 | elapsed:    0.0s remaining:    0.0s\n",
      "[Parallel(n_jobs=5)]: Done   5 out of   5 | elapsed:    0.0s finished\n"
     ]
    },
    {
     "name": "stdout",
     "output_type": "stream",
     "text": [
      "Test accuracy = 92.52%. Train accuracy = 92.57%.\n",
      "Best accuracy reached so far: 96.78319027375376 for params: 5, 8, 25, 2, 32, True\n",
      "130ème itérateur: 5, sqrt, 1, 40, 128, False\n"
     ]
    },
    {
     "name": "stderr",
     "output_type": "stream",
     "text": [
      "[Parallel(n_jobs=5)]: Using backend ThreadingBackend with 5 concurrent workers.\n",
      "[Parallel(n_jobs=5)]: Done   2 out of   5 | elapsed:    0.0s remaining:    0.0s\n",
      "[Parallel(n_jobs=5)]: Done   5 out of   5 | elapsed:    0.0s finished\n",
      "[Parallel(n_jobs=6)]: Using backend ThreadingBackend with 6 concurrent workers.\n",
      "[Parallel(n_jobs=6)]: Done   5 out of   5 | elapsed:    0.1s finished\n",
      "[Parallel(n_jobs=5)]: Using backend ThreadingBackend with 5 concurrent workers.\n",
      "[Parallel(n_jobs=5)]: Done   2 out of   5 | elapsed:    0.0s remaining:    0.0s\n",
      "[Parallel(n_jobs=5)]: Done   5 out of   5 | elapsed:    0.0s finished\n",
      "[Parallel(n_jobs=5)]: Using backend ThreadingBackend with 5 concurrent workers.\n",
      "[Parallel(n_jobs=5)]: Done   2 out of   5 | elapsed:    0.0s remaining:    0.0s\n",
      "[Parallel(n_jobs=5)]: Done   5 out of   5 | elapsed:    0.0s finished\n"
     ]
    },
    {
     "name": "stdout",
     "output_type": "stream",
     "text": [
      "Test accuracy = 92.52%. Train accuracy = 92.57%.\n",
      "Best accuracy reached so far: 96.78319027375376 for params: 5, 8, 25, 2, 32, True\n",
      "131ème itérateur: 5, sqrt, 3, 40, 128, False\n"
     ]
    },
    {
     "name": "stderr",
     "output_type": "stream",
     "text": [
      "[Parallel(n_jobs=6)]: Using backend ThreadingBackend with 6 concurrent workers.\n",
      "[Parallel(n_jobs=6)]: Done   5 out of   5 | elapsed:    0.2s finished\n",
      "[Parallel(n_jobs=5)]: Using backend ThreadingBackend with 5 concurrent workers.\n",
      "[Parallel(n_jobs=5)]: Done   2 out of   5 | elapsed:    0.0s remaining:    0.0s\n",
      "[Parallel(n_jobs=5)]: Done   5 out of   5 | elapsed:    0.0s finished\n",
      "[Parallel(n_jobs=5)]: Using backend ThreadingBackend with 5 concurrent workers.\n",
      "[Parallel(n_jobs=5)]: Done   2 out of   5 | elapsed:    0.0s remaining:    0.0s\n",
      "[Parallel(n_jobs=5)]: Done   5 out of   5 | elapsed:    0.0s finished\n"
     ]
    },
    {
     "name": "stdout",
     "output_type": "stream",
     "text": [
      "Test accuracy = 93.71%. Train accuracy = 93.63%.\n",
      "Best accuracy reached so far: 96.78319027375376 for params: 5, 8, 25, 2, 32, True\n",
      "132ème itérateur: 5, sqrt, 5, 30, 64, False\n"
     ]
    },
    {
     "name": "stderr",
     "output_type": "stream",
     "text": [
      "[Parallel(n_jobs=6)]: Using backend ThreadingBackend with 6 concurrent workers.\n",
      "[Parallel(n_jobs=6)]: Done   5 out of   5 | elapsed:    0.3s finished\n",
      "[Parallel(n_jobs=5)]: Using backend ThreadingBackend with 5 concurrent workers.\n",
      "[Parallel(n_jobs=5)]: Done   2 out of   5 | elapsed:    0.0s remaining:    0.0s\n",
      "[Parallel(n_jobs=5)]: Done   5 out of   5 | elapsed:    0.0s finished\n",
      "[Parallel(n_jobs=5)]: Using backend ThreadingBackend with 5 concurrent workers.\n",
      "[Parallel(n_jobs=5)]: Done   2 out of   5 | elapsed:    0.0s remaining:    0.0s\n",
      "[Parallel(n_jobs=5)]: Done   5 out of   5 | elapsed:    0.0s finished\n"
     ]
    },
    {
     "name": "stdout",
     "output_type": "stream",
     "text": [
      "Test accuracy = 95.06%. Train accuracy = 95.10%.\n",
      "Best accuracy reached so far: 96.78319027375376 for params: 5, 8, 25, 2, 32, True\n",
      "133ème itérateur: 5, sqrt, 7, 60, 8, True\n"
     ]
    },
    {
     "name": "stderr",
     "output_type": "stream",
     "text": [
      "[Parallel(n_jobs=6)]: Using backend ThreadingBackend with 6 concurrent workers.\n",
      "[Parallel(n_jobs=6)]: Done   5 out of   5 | elapsed:    0.3s finished\n",
      "[Parallel(n_jobs=5)]: Using backend ThreadingBackend with 5 concurrent workers.\n",
      "[Parallel(n_jobs=5)]: Done   2 out of   5 | elapsed:    0.0s remaining:    0.0s\n",
      "[Parallel(n_jobs=5)]: Done   5 out of   5 | elapsed:    0.0s finished\n",
      "[Parallel(n_jobs=5)]: Using backend ThreadingBackend with 5 concurrent workers.\n",
      "[Parallel(n_jobs=5)]: Done   2 out of   5 | elapsed:    0.0s remaining:    0.0s\n",
      "[Parallel(n_jobs=5)]: Done   5 out of   5 | elapsed:    0.0s finished\n"
     ]
    },
    {
     "name": "stdout",
     "output_type": "stream",
     "text": [
      "Test accuracy = 95.97%. Train accuracy = 95.99%.\n",
      "Best accuracy reached so far: 96.78319027375376 for params: 5, 8, 25, 2, 32, True\n",
      "134ème itérateur: 5, sqrt, 7, 70, 2, False\n"
     ]
    },
    {
     "name": "stderr",
     "output_type": "stream",
     "text": [
      "[Parallel(n_jobs=6)]: Using backend ThreadingBackend with 6 concurrent workers.\n",
      "[Parallel(n_jobs=6)]: Done   5 out of   5 | elapsed:    0.3s finished\n",
      "[Parallel(n_jobs=5)]: Using backend ThreadingBackend with 5 concurrent workers.\n",
      "[Parallel(n_jobs=5)]: Done   2 out of   5 | elapsed:    0.0s remaining:    0.0s\n",
      "[Parallel(n_jobs=5)]: Done   5 out of   5 | elapsed:    0.0s finished\n",
      "[Parallel(n_jobs=5)]: Using backend ThreadingBackend with 5 concurrent workers.\n"
     ]
    },
    {
     "name": "stdout",
     "output_type": "stream",
     "text": [
      "Test accuracy = 95.82%. Train accuracy = 95.91%.\n",
      "Best accuracy reached so far: 96.78319027375376 for params: 5, 8, 25, 2, 32, True\n",
      "135ème itérateur: 5, sqrt, 10, 20, 4, False\n"
     ]
    },
    {
     "name": "stderr",
     "output_type": "stream",
     "text": [
      "[Parallel(n_jobs=5)]: Done   2 out of   5 | elapsed:    0.0s remaining:    0.0s\n",
      "[Parallel(n_jobs=5)]: Done   5 out of   5 | elapsed:    0.0s finished\n",
      "[Parallel(n_jobs=6)]: Using backend ThreadingBackend with 6 concurrent workers.\n",
      "[Parallel(n_jobs=6)]: Done   5 out of   5 | elapsed:    0.4s finished\n",
      "[Parallel(n_jobs=5)]: Using backend ThreadingBackend with 5 concurrent workers.\n",
      "[Parallel(n_jobs=5)]: Done   2 out of   5 | elapsed:    0.0s remaining:    0.0s\n",
      "[Parallel(n_jobs=5)]: Done   5 out of   5 | elapsed:    0.0s finished\n"
     ]
    },
    {
     "name": "stdout",
     "output_type": "stream",
     "text": [
      "Test accuracy = 96.45%. Train accuracy = 96.77%.\n",
      "Best accuracy reached so far: 96.78319027375376 for params: 5, 8, 25, 2, 32, True\n",
      "136ème itérateur: 5, sqrt, 10, 20, 128, True\n"
     ]
    },
    {
     "name": "stderr",
     "output_type": "stream",
     "text": [
      "[Parallel(n_jobs=5)]: Using backend ThreadingBackend with 5 concurrent workers.\n",
      "[Parallel(n_jobs=5)]: Done   2 out of   5 | elapsed:    0.0s remaining:    0.0s\n",
      "[Parallel(n_jobs=5)]: Done   5 out of   5 | elapsed:    0.0s finished\n",
      "[Parallel(n_jobs=6)]: Using backend ThreadingBackend with 6 concurrent workers.\n",
      "[Parallel(n_jobs=6)]: Done   5 out of   5 | elapsed:    0.3s finished\n",
      "[Parallel(n_jobs=5)]: Using backend ThreadingBackend with 5 concurrent workers.\n",
      "[Parallel(n_jobs=5)]: Done   2 out of   5 | elapsed:    0.0s remaining:    0.0s\n",
      "[Parallel(n_jobs=5)]: Done   5 out of   5 | elapsed:    0.0s finished\n"
     ]
    },
    {
     "name": "stdout",
     "output_type": "stream",
     "text": [
      "Test accuracy = 96.24%. Train accuracy = 96.27%.\n",
      "Best accuracy reached so far: 96.78319027375376 for params: 5, 8, 25, 2, 32, True\n",
      "137ème itérateur: 5, sqrt, 10, 60, 32, True\n"
     ]
    },
    {
     "name": "stderr",
     "output_type": "stream",
     "text": [
      "[Parallel(n_jobs=5)]: Using backend ThreadingBackend with 5 concurrent workers.\n",
      "[Parallel(n_jobs=5)]: Done   2 out of   5 | elapsed:    0.0s remaining:    0.0s\n",
      "[Parallel(n_jobs=5)]: Done   5 out of   5 | elapsed:    0.0s finished\n",
      "[Parallel(n_jobs=6)]: Using backend ThreadingBackend with 6 concurrent workers.\n",
      "[Parallel(n_jobs=6)]: Done   5 out of   5 | elapsed:    0.3s finished\n",
      "[Parallel(n_jobs=5)]: Using backend ThreadingBackend with 5 concurrent workers.\n",
      "[Parallel(n_jobs=5)]: Done   2 out of   5 | elapsed:    0.0s remaining:    0.0s\n",
      "[Parallel(n_jobs=5)]: Done   5 out of   5 | elapsed:    0.0s finished\n",
      "[Parallel(n_jobs=5)]: Using backend ThreadingBackend with 5 concurrent workers.\n"
     ]
    },
    {
     "name": "stdout",
     "output_type": "stream",
     "text": [
      "Test accuracy = 96.36%. Train accuracy = 96.53%.\n",
      "Best accuracy reached so far: 96.78319027375376 for params: 5, 8, 25, 2, 32, True\n",
      "138ème itérateur: 5, sqrt, 17, 5, 16, True\n"
     ]
    },
    {
     "name": "stderr",
     "output_type": "stream",
     "text": [
      "[Parallel(n_jobs=5)]: Done   2 out of   5 | elapsed:    0.0s remaining:    0.0s\n",
      "[Parallel(n_jobs=5)]: Done   5 out of   5 | elapsed:    0.0s finished\n",
      "[Parallel(n_jobs=6)]: Using backend ThreadingBackend with 6 concurrent workers.\n",
      "[Parallel(n_jobs=6)]: Done   5 out of   5 | elapsed:    0.4s finished\n",
      "[Parallel(n_jobs=5)]: Using backend ThreadingBackend with 5 concurrent workers.\n",
      "[Parallel(n_jobs=5)]: Done   2 out of   5 | elapsed:    0.0s remaining:    0.0s\n",
      "[Parallel(n_jobs=5)]: Done   5 out of   5 | elapsed:    0.0s finished\n",
      "[Parallel(n_jobs=5)]: Using backend ThreadingBackend with 5 concurrent workers.\n",
      "[Parallel(n_jobs=5)]: Done   2 out of   5 | elapsed:    0.0s remaining:    0.0s\n",
      "[Parallel(n_jobs=5)]: Done   5 out of   5 | elapsed:    0.0s finished\n"
     ]
    },
    {
     "name": "stdout",
     "output_type": "stream",
     "text": [
      "Test accuracy = 96.69%. Train accuracy = 97.13%.\n",
      "Best accuracy reached so far: 96.78319027375376 for params: 5, 8, 25, 2, 32, True\n",
      "139ème itérateur: 5, sqrt, 17, 70, 64, False\n"
     ]
    },
    {
     "name": "stderr",
     "output_type": "stream",
     "text": [
      "[Parallel(n_jobs=6)]: Using backend ThreadingBackend with 6 concurrent workers.\n",
      "[Parallel(n_jobs=6)]: Done   5 out of   5 | elapsed:    0.5s finished\n",
      "[Parallel(n_jobs=5)]: Using backend ThreadingBackend with 5 concurrent workers.\n",
      "[Parallel(n_jobs=5)]: Done   2 out of   5 | elapsed:    0.0s remaining:    0.0s\n",
      "[Parallel(n_jobs=5)]: Done   5 out of   5 | elapsed:    0.0s finished\n"
     ]
    },
    {
     "name": "stdout",
     "output_type": "stream",
     "text": [
      "Test accuracy = 96.61%. Train accuracy = 96.79%.\n",
      "Best accuracy reached so far: 96.78319027375376 for params: 5, 8, 25, 2, 32, True\n",
      "140ème itérateur: 5, None, 1, 30, 32, False\n"
     ]
    },
    {
     "name": "stderr",
     "output_type": "stream",
     "text": [
      "[Parallel(n_jobs=5)]: Using backend ThreadingBackend with 5 concurrent workers.\n",
      "[Parallel(n_jobs=5)]: Done   2 out of   5 | elapsed:    0.0s remaining:    0.0s\n",
      "[Parallel(n_jobs=5)]: Done   5 out of   5 | elapsed:    0.0s finished\n",
      "[Parallel(n_jobs=6)]: Using backend ThreadingBackend with 6 concurrent workers.\n",
      "[Parallel(n_jobs=6)]: Done   5 out of   5 | elapsed:    0.3s finished\n",
      "[Parallel(n_jobs=5)]: Using backend ThreadingBackend with 5 concurrent workers.\n",
      "[Parallel(n_jobs=5)]: Done   2 out of   5 | elapsed:    0.0s remaining:    0.0s\n",
      "[Parallel(n_jobs=5)]: Done   5 out of   5 | elapsed:    0.0s finished\n",
      "[Parallel(n_jobs=5)]: Using backend ThreadingBackend with 5 concurrent workers.\n",
      "[Parallel(n_jobs=5)]: Done   2 out of   5 | elapsed:    0.0s remaining:    0.0s\n",
      "[Parallel(n_jobs=5)]: Done   5 out of   5 | elapsed:    0.0s finished\n"
     ]
    },
    {
     "name": "stdout",
     "output_type": "stream",
     "text": [
      "Test accuracy = 92.47%. Train accuracy = 92.53%.\n",
      "Best accuracy reached so far: 96.78319027375376 for params: 5, 8, 25, 2, 32, True\n",
      "141ème itérateur: 5, None, 3, 10, 16, False\n"
     ]
    },
    {
     "name": "stderr",
     "output_type": "stream",
     "text": [
      "[Parallel(n_jobs=6)]: Using backend ThreadingBackend with 6 concurrent workers.\n",
      "[Parallel(n_jobs=6)]: Done   5 out of   5 | elapsed:    0.8s finished\n",
      "[Parallel(n_jobs=5)]: Using backend ThreadingBackend with 5 concurrent workers.\n",
      "[Parallel(n_jobs=5)]: Done   2 out of   5 | elapsed:    0.0s remaining:    0.0s\n",
      "[Parallel(n_jobs=5)]: Done   5 out of   5 | elapsed:    0.0s finished\n",
      "[Parallel(n_jobs=5)]: Using backend ThreadingBackend with 5 concurrent workers.\n",
      "[Parallel(n_jobs=5)]: Done   2 out of   5 | elapsed:    0.0s remaining:    0.0s\n",
      "[Parallel(n_jobs=5)]: Done   5 out of   5 | elapsed:    0.0s finished\n"
     ]
    },
    {
     "name": "stdout",
     "output_type": "stream",
     "text": [
      "Test accuracy = 95.01%. Train accuracy = 95.13%.\n",
      "Best accuracy reached so far: 96.78319027375376 for params: 5, 8, 25, 2, 32, True\n",
      "142ème itérateur: 5, None, 4, 2, 8, False\n"
     ]
    },
    {
     "name": "stderr",
     "output_type": "stream",
     "text": [
      "[Parallel(n_jobs=6)]: Using backend ThreadingBackend with 6 concurrent workers.\n",
      "[Parallel(n_jobs=6)]: Done   5 out of   5 | elapsed:    1.0s finished\n",
      "[Parallel(n_jobs=5)]: Using backend ThreadingBackend with 5 concurrent workers.\n",
      "[Parallel(n_jobs=5)]: Done   2 out of   5 | elapsed:    0.0s remaining:    0.0s\n",
      "[Parallel(n_jobs=5)]: Done   5 out of   5 | elapsed:    0.0s finished\n",
      "[Parallel(n_jobs=5)]: Using backend ThreadingBackend with 5 concurrent workers.\n",
      "[Parallel(n_jobs=5)]: Done   2 out of   5 | elapsed:    0.0s remaining:    0.0s\n",
      "[Parallel(n_jobs=5)]: Done   5 out of   5 | elapsed:    0.0s finished\n"
     ]
    },
    {
     "name": "stdout",
     "output_type": "stream",
     "text": [
      "Test accuracy = 95.65%. Train accuracy = 95.71%.\n",
      "Best accuracy reached so far: 96.78319027375376 for params: 5, 8, 25, 2, 32, True\n",
      "143ème itérateur: 5, None, 5, 60, 4, True\n"
     ]
    },
    {
     "name": "stderr",
     "output_type": "stream",
     "text": [
      "[Parallel(n_jobs=6)]: Using backend ThreadingBackend with 6 concurrent workers.\n",
      "[Parallel(n_jobs=6)]: Done   5 out of   5 | elapsed:    0.9s finished\n",
      "[Parallel(n_jobs=5)]: Using backend ThreadingBackend with 5 concurrent workers.\n",
      "[Parallel(n_jobs=5)]: Done   2 out of   5 | elapsed:    0.0s remaining:    0.0s\n",
      "[Parallel(n_jobs=5)]: Done   5 out of   5 | elapsed:    0.0s finished\n",
      "[Parallel(n_jobs=5)]: Using backend ThreadingBackend with 5 concurrent workers.\n"
     ]
    },
    {
     "name": "stdout",
     "output_type": "stream",
     "text": [
      "Test accuracy = 95.92%. Train accuracy = 96.07%.\n",
      "Best accuracy reached so far: 96.78319027375376 for params: 5, 8, 25, 2, 32, True\n",
      "144ème itérateur: 5, None, 10, 40, 64, False\n"
     ]
    },
    {
     "name": "stderr",
     "output_type": "stream",
     "text": [
      "[Parallel(n_jobs=5)]: Done   2 out of   5 | elapsed:    0.0s remaining:    0.0s\n",
      "[Parallel(n_jobs=5)]: Done   5 out of   5 | elapsed:    0.0s finished\n",
      "[Parallel(n_jobs=6)]: Using backend ThreadingBackend with 6 concurrent workers.\n",
      "[Parallel(n_jobs=6)]: Done   5 out of   5 | elapsed:    2.1s finished\n",
      "[Parallel(n_jobs=5)]: Using backend ThreadingBackend with 5 concurrent workers.\n",
      "[Parallel(n_jobs=5)]: Done   2 out of   5 | elapsed:    0.0s remaining:    0.0s\n",
      "[Parallel(n_jobs=5)]: Done   5 out of   5 | elapsed:    0.0s finished\n",
      "[Parallel(n_jobs=5)]: Using backend ThreadingBackend with 5 concurrent workers.\n",
      "[Parallel(n_jobs=5)]: Done   2 out of   5 | elapsed:    0.0s remaining:    0.0s\n",
      "[Parallel(n_jobs=5)]: Done   5 out of   5 | elapsed:    0.0s finished\n"
     ]
    },
    {
     "name": "stdout",
     "output_type": "stream",
     "text": [
      "Test accuracy = 96.33%. Train accuracy = 96.52%.\n",
      "Best accuracy reached so far: 96.78319027375376 for params: 5, 8, 25, 2, 32, True\n",
      "145ème itérateur: 5, None, 20, 60, 8, True\n"
     ]
    },
    {
     "name": "stderr",
     "output_type": "stream",
     "text": [
      "[Parallel(n_jobs=6)]: Using backend ThreadingBackend with 6 concurrent workers.\n",
      "[Parallel(n_jobs=6)]: Done   5 out of   5 | elapsed:    2.1s finished\n",
      "[Parallel(n_jobs=5)]: Using backend ThreadingBackend with 5 concurrent workers.\n",
      "[Parallel(n_jobs=5)]: Done   2 out of   5 | elapsed:    0.0s remaining:    0.0s\n",
      "[Parallel(n_jobs=5)]: Done   5 out of   5 | elapsed:    0.0s finished\n",
      "[Parallel(n_jobs=5)]: Using backend ThreadingBackend with 5 concurrent workers.\n",
      "[Parallel(n_jobs=5)]: Done   2 out of   5 | elapsed:    0.0s remaining:    0.0s\n",
      "[Parallel(n_jobs=5)]: Done   5 out of   5 | elapsed:    0.0s finished\n"
     ]
    },
    {
     "name": "stdout",
     "output_type": "stream",
     "text": [
      "Test accuracy = 96.71%. Train accuracy = 97.17%.\n",
      "Best accuracy reached so far: 96.78319027375376 for params: 5, 8, 25, 2, 32, True\n",
      "146ème itérateur: 5, None, None, 5, 64, True\n"
     ]
    },
    {
     "name": "stderr",
     "output_type": "stream",
     "text": [
      "[Parallel(n_jobs=6)]: Using backend ThreadingBackend with 6 concurrent workers.\n",
      "[Parallel(n_jobs=6)]: Done   5 out of   5 | elapsed:    2.0s finished\n",
      "[Parallel(n_jobs=5)]: Using backend ThreadingBackend with 5 concurrent workers.\n",
      "[Parallel(n_jobs=5)]: Done   2 out of   5 | elapsed:    0.0s remaining:    0.0s\n",
      "[Parallel(n_jobs=5)]: Done   5 out of   5 | elapsed:    0.0s finished\n",
      "[Parallel(n_jobs=5)]: Using backend ThreadingBackend with 5 concurrent workers.\n",
      "[Parallel(n_jobs=5)]: Done   2 out of   5 | elapsed:    0.0s remaining:    0.0s\n",
      "[Parallel(n_jobs=5)]: Done   5 out of   5 | elapsed:    0.0s finished\n"
     ]
    },
    {
     "name": "stdout",
     "output_type": "stream",
     "text": [
      "Test accuracy = 96.51%. Train accuracy = 96.68%.\n",
      "Best accuracy reached so far: 96.78319027375376 for params: 5, 8, 25, 2, 32, True\n",
      "147ème itérateur: 5, None, None, 10, 16, True\n"
     ]
    },
    {
     "name": "stderr",
     "output_type": "stream",
     "text": [
      "[Parallel(n_jobs=6)]: Using backend ThreadingBackend with 6 concurrent workers.\n",
      "[Parallel(n_jobs=6)]: Done   5 out of   5 | elapsed:    2.1s finished\n",
      "[Parallel(n_jobs=5)]: Using backend ThreadingBackend with 5 concurrent workers.\n",
      "[Parallel(n_jobs=5)]: Done   2 out of   5 | elapsed:    0.0s remaining:    0.0s\n",
      "[Parallel(n_jobs=5)]: Done   5 out of   5 | elapsed:    0.0s finished\n",
      "[Parallel(n_jobs=5)]: Using backend ThreadingBackend with 5 concurrent workers.\n",
      "[Parallel(n_jobs=5)]: Done   2 out of   5 | elapsed:    0.0s remaining:    0.0s\n",
      "[Parallel(n_jobs=5)]: Done   5 out of   5 | elapsed:    0.0s finished\n"
     ]
    },
    {
     "name": "stdout",
     "output_type": "stream",
     "text": [
      "Test accuracy = 96.78%. Train accuracy = 97.30%.\n",
      "Best accuracy reached so far: 96.78319027375376 for params: 5, 8, 25, 2, 32, True\n",
      "148ème itérateur: 5, None, None, 70, 16, True\n"
     ]
    },
    {
     "name": "stderr",
     "output_type": "stream",
     "text": [
      "[Parallel(n_jobs=6)]: Using backend ThreadingBackend with 6 concurrent workers.\n",
      "[Parallel(n_jobs=6)]: Done   5 out of   5 | elapsed:    2.1s finished\n",
      "[Parallel(n_jobs=5)]: Using backend ThreadingBackend with 5 concurrent workers.\n",
      "[Parallel(n_jobs=5)]: Done   2 out of   5 | elapsed:    0.0s remaining:    0.0s\n",
      "[Parallel(n_jobs=5)]: Done   5 out of   5 | elapsed:    0.0s finished\n",
      "[Parallel(n_jobs=5)]: Using backend ThreadingBackend with 5 concurrent workers.\n",
      "[Parallel(n_jobs=5)]: Done   2 out of   5 | elapsed:    0.0s remaining:    0.0s\n",
      "[Parallel(n_jobs=5)]: Done   5 out of   5 | elapsed:    0.0s finished\n"
     ]
    },
    {
     "name": "stdout",
     "output_type": "stream",
     "text": [
      "Test accuracy = 96.68%. Train accuracy = 97.06%.\n",
      "Best accuracy reached so far: 96.78319027375376 for params: 5, 8, 25, 2, 32, True\n",
      "149ème itérateur: 10, 1, 3, 20, 2, True\n"
     ]
    },
    {
     "name": "stderr",
     "output_type": "stream",
     "text": [
      "[Parallel(n_jobs=6)]: Using backend ThreadingBackend with 6 concurrent workers.\n",
      "[Parallel(n_jobs=6)]: Done  10 out of  10 | elapsed:    0.1s remaining:    0.0s\n",
      "[Parallel(n_jobs=6)]: Done  10 out of  10 | elapsed:    0.1s finished\n",
      "[Parallel(n_jobs=6)]: Using backend ThreadingBackend with 6 concurrent workers.\n",
      "[Parallel(n_jobs=6)]: Done  10 out of  10 | elapsed:    0.0s remaining:    0.0s\n",
      "[Parallel(n_jobs=6)]: Done  10 out of  10 | elapsed:    0.0s finished\n",
      "[Parallel(n_jobs=6)]: Using backend ThreadingBackend with 6 concurrent workers.\n",
      "[Parallel(n_jobs=6)]: Done  10 out of  10 | elapsed:    0.0s remaining:    0.0s\n",
      "[Parallel(n_jobs=6)]: Done  10 out of  10 | elapsed:    0.0s finished\n"
     ]
    },
    {
     "name": "stdout",
     "output_type": "stream",
     "text": [
      "Test accuracy = 86.76%. Train accuracy = 87.25%.\n",
      "Best accuracy reached so far: 96.78319027375376 for params: 5, 8, 25, 2, 32, True\n",
      "150ème itérateur: 10, 1, 4, 60, 8, False\n"
     ]
    },
    {
     "name": "stderr",
     "output_type": "stream",
     "text": [
      "[Parallel(n_jobs=6)]: Using backend ThreadingBackend with 6 concurrent workers.\n",
      "[Parallel(n_jobs=6)]: Done  10 out of  10 | elapsed:    0.1s remaining:    0.0s\n",
      "[Parallel(n_jobs=6)]: Done  10 out of  10 | elapsed:    0.1s finished\n",
      "[Parallel(n_jobs=6)]: Using backend ThreadingBackend with 6 concurrent workers.\n",
      "[Parallel(n_jobs=6)]: Done  10 out of  10 | elapsed:    0.0s remaining:    0.0s\n",
      "[Parallel(n_jobs=6)]: Done  10 out of  10 | elapsed:    0.0s finished\n",
      "[Parallel(n_jobs=6)]: Using backend ThreadingBackend with 6 concurrent workers.\n",
      "[Parallel(n_jobs=6)]: Done  10 out of  10 | elapsed:    0.0s remaining:    0.0s\n",
      "[Parallel(n_jobs=6)]: Done  10 out of  10 | elapsed:    0.0s finished\n"
     ]
    },
    {
     "name": "stdout",
     "output_type": "stream",
     "text": [
      "Test accuracy = 90.83%. Train accuracy = 91.08%.\n",
      "Best accuracy reached so far: 96.78319027375376 for params: 5, 8, 25, 2, 32, True\n",
      "151ème itérateur: 10, 1, 5, 5, 16, True\n"
     ]
    },
    {
     "name": "stderr",
     "output_type": "stream",
     "text": [
      "[Parallel(n_jobs=6)]: Using backend ThreadingBackend with 6 concurrent workers.\n",
      "[Parallel(n_jobs=6)]: Done  10 out of  10 | elapsed:    0.2s remaining:    0.0s\n",
      "[Parallel(n_jobs=6)]: Done  10 out of  10 | elapsed:    0.2s finished\n",
      "[Parallel(n_jobs=6)]: Using backend ThreadingBackend with 6 concurrent workers.\n",
      "[Parallel(n_jobs=6)]: Done  10 out of  10 | elapsed:    0.0s remaining:    0.0s\n",
      "[Parallel(n_jobs=6)]: Done  10 out of  10 | elapsed:    0.0s finished\n",
      "[Parallel(n_jobs=6)]: Using backend ThreadingBackend with 6 concurrent workers.\n",
      "[Parallel(n_jobs=6)]: Done  10 out of  10 | elapsed:    0.0s remaining:    0.0s\n",
      "[Parallel(n_jobs=6)]: Done  10 out of  10 | elapsed:    0.0s finished\n"
     ]
    },
    {
     "name": "stdout",
     "output_type": "stream",
     "text": [
      "Test accuracy = 91.73%. Train accuracy = 91.89%.\n",
      "Best accuracy reached so far: 96.78319027375376 for params: 5, 8, 25, 2, 32, True\n",
      "152ème itérateur: 10, 1, 5, 10, 128, False\n"
     ]
    },
    {
     "name": "stderr",
     "output_type": "stream",
     "text": [
      "[Parallel(n_jobs=6)]: Using backend ThreadingBackend with 6 concurrent workers.\n",
      "[Parallel(n_jobs=6)]: Done  10 out of  10 | elapsed:    0.2s remaining:    0.0s\n",
      "[Parallel(n_jobs=6)]: Done  10 out of  10 | elapsed:    0.2s finished\n",
      "[Parallel(n_jobs=6)]: Using backend ThreadingBackend with 6 concurrent workers.\n",
      "[Parallel(n_jobs=6)]: Done  10 out of  10 | elapsed:    0.0s remaining:    0.0s\n",
      "[Parallel(n_jobs=6)]: Done  10 out of  10 | elapsed:    0.0s finished\n",
      "[Parallel(n_jobs=6)]: Using backend ThreadingBackend with 6 concurrent workers.\n",
      "[Parallel(n_jobs=6)]: Done  10 out of  10 | elapsed:    0.0s remaining:    0.0s\n",
      "[Parallel(n_jobs=6)]: Done  10 out of  10 | elapsed:    0.0s finished\n"
     ]
    },
    {
     "name": "stdout",
     "output_type": "stream",
     "text": [
      "Test accuracy = 91.77%. Train accuracy = 91.95%.\n",
      "Best accuracy reached so far: 96.78319027375376 for params: 5, 8, 25, 2, 32, True\n",
      "153ème itérateur: 10, 1, 7, 5, 32, False\n"
     ]
    },
    {
     "name": "stderr",
     "output_type": "stream",
     "text": [
      "[Parallel(n_jobs=6)]: Using backend ThreadingBackend with 6 concurrent workers.\n",
      "[Parallel(n_jobs=6)]: Done  10 out of  10 | elapsed:    0.2s remaining:    0.0s\n",
      "[Parallel(n_jobs=6)]: Done  10 out of  10 | elapsed:    0.2s finished\n",
      "[Parallel(n_jobs=6)]: Using backend ThreadingBackend with 6 concurrent workers.\n",
      "[Parallel(n_jobs=6)]: Done  10 out of  10 | elapsed:    0.0s remaining:    0.0s\n",
      "[Parallel(n_jobs=6)]: Done  10 out of  10 | elapsed:    0.0s finished\n"
     ]
    },
    {
     "name": "stdout",
     "output_type": "stream",
     "text": [
      "Test accuracy = 93.54%. Train accuracy = 93.75%.\n",
      "Best accuracy reached so far: 96.78319027375376 for params: 5, 8, 25, 2, 32, True\n",
      "154ème itérateur: 10, 1, 7, 10, 32, True\n"
     ]
    },
    {
     "name": "stderr",
     "output_type": "stream",
     "text": [
      "[Parallel(n_jobs=6)]: Using backend ThreadingBackend with 6 concurrent workers.\n",
      "[Parallel(n_jobs=6)]: Done  10 out of  10 | elapsed:    0.0s remaining:    0.0s\n",
      "[Parallel(n_jobs=6)]: Done  10 out of  10 | elapsed:    0.0s finished\n",
      "[Parallel(n_jobs=6)]: Using backend ThreadingBackend with 6 concurrent workers.\n",
      "[Parallel(n_jobs=6)]: Done  10 out of  10 | elapsed:    0.2s remaining:    0.0s\n",
      "[Parallel(n_jobs=6)]: Done  10 out of  10 | elapsed:    0.2s finished\n",
      "[Parallel(n_jobs=6)]: Using backend ThreadingBackend with 6 concurrent workers.\n",
      "[Parallel(n_jobs=6)]: Done  10 out of  10 | elapsed:    0.0s remaining:    0.0s\n",
      "[Parallel(n_jobs=6)]: Done  10 out of  10 | elapsed:    0.0s finished\n",
      "[Parallel(n_jobs=6)]: Using backend ThreadingBackend with 6 concurrent workers.\n",
      "[Parallel(n_jobs=6)]: Done  10 out of  10 | elapsed:    0.0s remaining:    0.0s\n",
      "[Parallel(n_jobs=6)]: Done  10 out of  10 | elapsed:    0.0s finished\n"
     ]
    },
    {
     "name": "stdout",
     "output_type": "stream",
     "text": [
      "Test accuracy = 93.60%. Train accuracy = 93.78%.\n",
      "Best accuracy reached so far: 96.78319027375376 for params: 5, 8, 25, 2, 32, True\n",
      "155ème itérateur: 10, 1, 7, 60, 32, True\n"
     ]
    },
    {
     "name": "stderr",
     "output_type": "stream",
     "text": [
      "[Parallel(n_jobs=6)]: Using backend ThreadingBackend with 6 concurrent workers.\n",
      "[Parallel(n_jobs=6)]: Done  10 out of  10 | elapsed:    0.2s remaining:    0.0s\n",
      "[Parallel(n_jobs=6)]: Done  10 out of  10 | elapsed:    0.2s finished\n",
      "[Parallel(n_jobs=6)]: Using backend ThreadingBackend with 6 concurrent workers.\n",
      "[Parallel(n_jobs=6)]: Done  10 out of  10 | elapsed:    0.0s remaining:    0.0s\n",
      "[Parallel(n_jobs=6)]: Done  10 out of  10 | elapsed:    0.0s finished\n",
      "[Parallel(n_jobs=6)]: Using backend ThreadingBackend with 6 concurrent workers.\n",
      "[Parallel(n_jobs=6)]: Done  10 out of  10 | elapsed:    0.0s remaining:    0.0s\n",
      "[Parallel(n_jobs=6)]: Done  10 out of  10 | elapsed:    0.0s finished\n"
     ]
    },
    {
     "name": "stdout",
     "output_type": "stream",
     "text": [
      "Test accuracy = 93.60%. Train accuracy = 93.78%.\n",
      "Best accuracy reached so far: 96.78319027375376 for params: 5, 8, 25, 2, 32, True\n",
      "156ème itérateur: 10, 1, 13, 50, 1, False\n"
     ]
    },
    {
     "name": "stderr",
     "output_type": "stream",
     "text": [
      "[Parallel(n_jobs=6)]: Using backend ThreadingBackend with 6 concurrent workers.\n",
      "[Parallel(n_jobs=6)]: Done  10 out of  10 | elapsed:    0.3s remaining:    0.0s\n",
      "[Parallel(n_jobs=6)]: Done  10 out of  10 | elapsed:    0.3s finished\n",
      "[Parallel(n_jobs=6)]: Using backend ThreadingBackend with 6 concurrent workers.\n",
      "[Parallel(n_jobs=6)]: Done  10 out of  10 | elapsed:    0.0s remaining:    0.0s\n",
      "[Parallel(n_jobs=6)]: Done  10 out of  10 | elapsed:    0.0s finished\n"
     ]
    },
    {
     "name": "stdout",
     "output_type": "stream",
     "text": [
      "Test accuracy = 95.80%. Train accuracy = 96.32%.\n",
      "Best accuracy reached so far: 96.78319027375376 for params: 5, 8, 25, 2, 32, True\n",
      "157ème itérateur: 10, 1, 13, 60, 32, False\n"
     ]
    },
    {
     "name": "stderr",
     "output_type": "stream",
     "text": [
      "[Parallel(n_jobs=6)]: Using backend ThreadingBackend with 6 concurrent workers.\n",
      "[Parallel(n_jobs=6)]: Done  10 out of  10 | elapsed:    0.0s remaining:    0.0s\n",
      "[Parallel(n_jobs=6)]: Done  10 out of  10 | elapsed:    0.0s finished\n",
      "[Parallel(n_jobs=6)]: Using backend ThreadingBackend with 6 concurrent workers.\n",
      "[Parallel(n_jobs=6)]: Done  10 out of  10 | elapsed:    0.3s remaining:    0.0s\n",
      "[Parallel(n_jobs=6)]: Done  10 out of  10 | elapsed:    0.3s finished\n",
      "[Parallel(n_jobs=6)]: Using backend ThreadingBackend with 6 concurrent workers.\n",
      "[Parallel(n_jobs=6)]: Done  10 out of  10 | elapsed:    0.0s remaining:    0.0s\n",
      "[Parallel(n_jobs=6)]: Done  10 out of  10 | elapsed:    0.0s finished\n",
      "[Parallel(n_jobs=6)]: Using backend ThreadingBackend with 6 concurrent workers.\n",
      "[Parallel(n_jobs=6)]: Done  10 out of  10 | elapsed:    0.0s remaining:    0.0s\n",
      "[Parallel(n_jobs=6)]: Done  10 out of  10 | elapsed:    0.0s finished\n"
     ]
    },
    {
     "name": "stdout",
     "output_type": "stream",
     "text": [
      "Test accuracy = 95.02%. Train accuracy = 95.37%.\n",
      "Best accuracy reached so far: 96.78319027375376 for params: 5, 8, 25, 2, 32, True\n",
      "158ème itérateur: 10, 1, 17, 30, 16, False\n"
     ]
    },
    {
     "name": "stderr",
     "output_type": "stream",
     "text": [
      "[Parallel(n_jobs=6)]: Using backend ThreadingBackend with 6 concurrent workers.\n",
      "[Parallel(n_jobs=6)]: Done  10 out of  10 | elapsed:    0.3s remaining:    0.0s\n",
      "[Parallel(n_jobs=6)]: Done  10 out of  10 | elapsed:    0.3s finished\n",
      "[Parallel(n_jobs=6)]: Using backend ThreadingBackend with 6 concurrent workers.\n",
      "[Parallel(n_jobs=6)]: Done  10 out of  10 | elapsed:    0.0s remaining:    0.0s\n",
      "[Parallel(n_jobs=6)]: Done  10 out of  10 | elapsed:    0.0s finished\n",
      "[Parallel(n_jobs=6)]: Using backend ThreadingBackend with 6 concurrent workers.\n",
      "[Parallel(n_jobs=6)]: Done  10 out of  10 | elapsed:    0.0s remaining:    0.0s\n",
      "[Parallel(n_jobs=6)]: Done  10 out of  10 | elapsed:    0.0s finished\n"
     ]
    },
    {
     "name": "stdout",
     "output_type": "stream",
     "text": [
      "Test accuracy = 95.65%. Train accuracy = 96.22%.\n",
      "Best accuracy reached so far: 96.78319027375376 for params: 5, 8, 25, 2, 32, True\n",
      "159ème itérateur: 10, 1, 20, 20, 1, True\n"
     ]
    },
    {
     "name": "stderr",
     "output_type": "stream",
     "text": [
      "[Parallel(n_jobs=6)]: Using backend ThreadingBackend with 6 concurrent workers.\n",
      "[Parallel(n_jobs=6)]: Done  10 out of  10 | elapsed:    0.3s remaining:    0.0s\n",
      "[Parallel(n_jobs=6)]: Done  10 out of  10 | elapsed:    0.3s finished\n",
      "[Parallel(n_jobs=6)]: Using backend ThreadingBackend with 6 concurrent workers.\n",
      "[Parallel(n_jobs=6)]: Done  10 out of  10 | elapsed:    0.0s remaining:    0.0s\n",
      "[Parallel(n_jobs=6)]: Done  10 out of  10 | elapsed:    0.0s finished\n",
      "[Parallel(n_jobs=6)]: Using backend ThreadingBackend with 6 concurrent workers.\n",
      "[Parallel(n_jobs=6)]: Done  10 out of  10 | elapsed:    0.0s remaining:    0.0s\n",
      "[Parallel(n_jobs=6)]: Done  10 out of  10 | elapsed:    0.0s finished\n"
     ]
    },
    {
     "name": "stdout",
     "output_type": "stream",
     "text": [
      "Test accuracy = 96.18%. Train accuracy = 97.28%.\n",
      "Best accuracy reached so far: 96.78319027375376 for params: 5, 8, 25, 2, 32, True\n",
      "160ème itérateur: 10, 1, 20, 40, 2, True\n"
     ]
    },
    {
     "name": "stderr",
     "output_type": "stream",
     "text": [
      "[Parallel(n_jobs=6)]: Using backend ThreadingBackend with 6 concurrent workers.\n",
      "[Parallel(n_jobs=6)]: Done  10 out of  10 | elapsed:    0.3s remaining:    0.0s\n",
      "[Parallel(n_jobs=6)]: Done  10 out of  10 | elapsed:    0.3s finished\n",
      "[Parallel(n_jobs=6)]: Using backend ThreadingBackend with 6 concurrent workers.\n",
      "[Parallel(n_jobs=6)]: Done  10 out of  10 | elapsed:    0.0s remaining:    0.0s\n",
      "[Parallel(n_jobs=6)]: Done  10 out of  10 | elapsed:    0.0s finished\n",
      "[Parallel(n_jobs=6)]: Using backend ThreadingBackend with 6 concurrent workers.\n",
      "[Parallel(n_jobs=6)]: Done  10 out of  10 | elapsed:    0.0s remaining:    0.0s\n",
      "[Parallel(n_jobs=6)]: Done  10 out of  10 | elapsed:    0.0s finished\n"
     ]
    },
    {
     "name": "stdout",
     "output_type": "stream",
     "text": [
      "Test accuracy = 96.27%. Train accuracy = 96.88%.\n",
      "Best accuracy reached so far: 96.78319027375376 for params: 5, 8, 25, 2, 32, True\n",
      "161ème itérateur: 10, 1, 20, 50, 64, True\n"
     ]
    },
    {
     "name": "stderr",
     "output_type": "stream",
     "text": [
      "[Parallel(n_jobs=6)]: Using backend ThreadingBackend with 6 concurrent workers.\n",
      "[Parallel(n_jobs=6)]: Done  10 out of  10 | elapsed:    0.2s remaining:    0.0s\n",
      "[Parallel(n_jobs=6)]: Done  10 out of  10 | elapsed:    0.2s finished\n",
      "[Parallel(n_jobs=6)]: Using backend ThreadingBackend with 6 concurrent workers.\n",
      "[Parallel(n_jobs=6)]: Done  10 out of  10 | elapsed:    0.0s remaining:    0.0s\n",
      "[Parallel(n_jobs=6)]: Done  10 out of  10 | elapsed:    0.0s finished\n",
      "[Parallel(n_jobs=6)]: Using backend ThreadingBackend with 6 concurrent workers.\n"
     ]
    },
    {
     "name": "stdout",
     "output_type": "stream",
     "text": [
      "Test accuracy = 94.68%. Train accuracy = 94.91%.\n",
      "Best accuracy reached so far: 96.78319027375376 for params: 5, 8, 25, 2, 32, True\n",
      "162ème itérateur: 10, 1, 25, 40, 1, True\n"
     ]
    },
    {
     "name": "stderr",
     "output_type": "stream",
     "text": [
      "[Parallel(n_jobs=6)]: Done  10 out of  10 | elapsed:    0.0s remaining:    0.0s\n",
      "[Parallel(n_jobs=6)]: Done  10 out of  10 | elapsed:    0.0s finished\n",
      "[Parallel(n_jobs=6)]: Using backend ThreadingBackend with 6 concurrent workers.\n",
      "[Parallel(n_jobs=6)]: Done  10 out of  10 | elapsed:    0.3s remaining:    0.0s\n",
      "[Parallel(n_jobs=6)]: Done  10 out of  10 | elapsed:    0.3s finished\n",
      "[Parallel(n_jobs=6)]: Using backend ThreadingBackend with 6 concurrent workers.\n",
      "[Parallel(n_jobs=6)]: Done  10 out of  10 | elapsed:    0.0s remaining:    0.0s\n",
      "[Parallel(n_jobs=6)]: Done  10 out of  10 | elapsed:    0.0s finished\n",
      "[Parallel(n_jobs=6)]: Using backend ThreadingBackend with 6 concurrent workers.\n",
      "[Parallel(n_jobs=6)]: Done  10 out of  10 | elapsed:    0.0s remaining:    0.0s\n",
      "[Parallel(n_jobs=6)]: Done  10 out of  10 | elapsed:    0.0s finished\n"
     ]
    },
    {
     "name": "stdout",
     "output_type": "stream",
     "text": [
      "Test accuracy = 96.41%. Train accuracy = 97.20%.\n",
      "Best accuracy reached so far: 96.78319027375376 for params: 5, 8, 25, 2, 32, True\n",
      "163ème itérateur: 10, 2, 2, 30, 16, False\n"
     ]
    },
    {
     "name": "stderr",
     "output_type": "stream",
     "text": [
      "[Parallel(n_jobs=6)]: Using backend ThreadingBackend with 6 concurrent workers.\n",
      "[Parallel(n_jobs=6)]: Done  10 out of  10 | elapsed:    0.1s remaining:    0.0s\n",
      "[Parallel(n_jobs=6)]: Done  10 out of  10 | elapsed:    0.1s finished\n",
      "[Parallel(n_jobs=6)]: Using backend ThreadingBackend with 6 concurrent workers.\n",
      "[Parallel(n_jobs=6)]: Done  10 out of  10 | elapsed:    0.0s remaining:    0.0s\n",
      "[Parallel(n_jobs=6)]: Done  10 out of  10 | elapsed:    0.0s finished\n",
      "[Parallel(n_jobs=6)]: Using backend ThreadingBackend with 6 concurrent workers.\n",
      "[Parallel(n_jobs=6)]: Done  10 out of  10 | elapsed:    0.0s remaining:    0.0s\n",
      "[Parallel(n_jobs=6)]: Done  10 out of  10 | elapsed:    0.0s finished\n"
     ]
    },
    {
     "name": "stdout",
     "output_type": "stream",
     "text": [
      "Test accuracy = 90.23%. Train accuracy = 90.49%.\n",
      "Best accuracy reached so far: 96.78319027375376 for params: 5, 8, 25, 2, 32, True\n",
      "164ème itérateur: 10, 2, 2, 70, 64, False\n"
     ]
    },
    {
     "name": "stderr",
     "output_type": "stream",
     "text": [
      "[Parallel(n_jobs=6)]: Using backend ThreadingBackend with 6 concurrent workers.\n",
      "[Parallel(n_jobs=6)]: Done  10 out of  10 | elapsed:    0.1s remaining:    0.0s\n",
      "[Parallel(n_jobs=6)]: Done  10 out of  10 | elapsed:    0.1s finished\n",
      "[Parallel(n_jobs=6)]: Using backend ThreadingBackend with 6 concurrent workers.\n",
      "[Parallel(n_jobs=6)]: Done  10 out of  10 | elapsed:    0.0s remaining:    0.0s\n",
      "[Parallel(n_jobs=6)]: Done  10 out of  10 | elapsed:    0.0s finished\n",
      "[Parallel(n_jobs=6)]: Using backend ThreadingBackend with 6 concurrent workers.\n",
      "[Parallel(n_jobs=6)]: Done  10 out of  10 | elapsed:    0.0s remaining:    0.0s\n",
      "[Parallel(n_jobs=6)]: Done  10 out of  10 | elapsed:    0.0s finished\n"
     ]
    },
    {
     "name": "stdout",
     "output_type": "stream",
     "text": [
      "Test accuracy = 90.23%. Train accuracy = 90.49%.\n",
      "Best accuracy reached so far: 96.78319027375376 for params: 5, 8, 25, 2, 32, True\n",
      "165ème itérateur: 10, 2, 3, 20, 16, True\n"
     ]
    },
    {
     "name": "stderr",
     "output_type": "stream",
     "text": [
      "[Parallel(n_jobs=6)]: Using backend ThreadingBackend with 6 concurrent workers.\n",
      "[Parallel(n_jobs=6)]: Done  10 out of  10 | elapsed:    0.2s remaining:    0.0s\n",
      "[Parallel(n_jobs=6)]: Done  10 out of  10 | elapsed:    0.2s finished\n",
      "[Parallel(n_jobs=6)]: Using backend ThreadingBackend with 6 concurrent workers.\n",
      "[Parallel(n_jobs=6)]: Done  10 out of  10 | elapsed:    0.0s remaining:    0.0s\n",
      "[Parallel(n_jobs=6)]: Done  10 out of  10 | elapsed:    0.0s finished\n",
      "[Parallel(n_jobs=6)]: Using backend ThreadingBackend with 6 concurrent workers.\n",
      "[Parallel(n_jobs=6)]: Done  10 out of  10 | elapsed:    0.0s remaining:    0.0s\n",
      "[Parallel(n_jobs=6)]: Done  10 out of  10 | elapsed:    0.0s finished\n"
     ]
    },
    {
     "name": "stdout",
     "output_type": "stream",
     "text": [
      "Test accuracy = 91.38%. Train accuracy = 91.63%.\n",
      "Best accuracy reached so far: 96.78319027375376 for params: 5, 8, 25, 2, 32, True\n",
      "166ème itérateur: 10, 2, 4, 20, 4, False\n"
     ]
    },
    {
     "name": "stderr",
     "output_type": "stream",
     "text": [
      "[Parallel(n_jobs=6)]: Using backend ThreadingBackend with 6 concurrent workers.\n",
      "[Parallel(n_jobs=6)]: Done  10 out of  10 | elapsed:    0.2s remaining:    0.0s\n",
      "[Parallel(n_jobs=6)]: Done  10 out of  10 | elapsed:    0.2s finished\n",
      "[Parallel(n_jobs=6)]: Using backend ThreadingBackend with 6 concurrent workers.\n",
      "[Parallel(n_jobs=6)]: Done  10 out of  10 | elapsed:    0.0s remaining:    0.0s\n",
      "[Parallel(n_jobs=6)]: Done  10 out of  10 | elapsed:    0.0s finished\n",
      "[Parallel(n_jobs=6)]: Using backend ThreadingBackend with 6 concurrent workers.\n"
     ]
    },
    {
     "name": "stdout",
     "output_type": "stream",
     "text": [
      "Test accuracy = 93.23%. Train accuracy = 93.27%.\n",
      "Best accuracy reached so far: 96.78319027375376 for params: 5, 8, 25, 2, 32, True\n",
      "167ème itérateur: 10, 2, 5, 5, 32, False\n"
     ]
    },
    {
     "name": "stderr",
     "output_type": "stream",
     "text": [
      "[Parallel(n_jobs=6)]: Done  10 out of  10 | elapsed:    0.0s remaining:    0.0s\n",
      "[Parallel(n_jobs=6)]: Done  10 out of  10 | elapsed:    0.0s finished\n",
      "[Parallel(n_jobs=6)]: Using backend ThreadingBackend with 6 concurrent workers.\n",
      "[Parallel(n_jobs=6)]: Done  10 out of  10 | elapsed:    0.3s remaining:    0.0s\n",
      "[Parallel(n_jobs=6)]: Done  10 out of  10 | elapsed:    0.3s finished\n",
      "[Parallel(n_jobs=6)]: Using backend ThreadingBackend with 6 concurrent workers.\n",
      "[Parallel(n_jobs=6)]: Done  10 out of  10 | elapsed:    0.0s remaining:    0.0s\n",
      "[Parallel(n_jobs=6)]: Done  10 out of  10 | elapsed:    0.0s finished\n",
      "[Parallel(n_jobs=6)]: Using backend ThreadingBackend with 6 concurrent workers.\n",
      "[Parallel(n_jobs=6)]: Done  10 out of  10 | elapsed:    0.0s remaining:    0.0s\n",
      "[Parallel(n_jobs=6)]: Done  10 out of  10 | elapsed:    0.0s finished\n"
     ]
    },
    {
     "name": "stdout",
     "output_type": "stream",
     "text": [
      "Test accuracy = 94.09%. Train accuracy = 94.16%.\n",
      "Best accuracy reached so far: 96.78319027375376 for params: 5, 8, 25, 2, 32, True\n",
      "168ème itérateur: 10, 2, 5, 40, 128, True\n"
     ]
    },
    {
     "name": "stderr",
     "output_type": "stream",
     "text": [
      "[Parallel(n_jobs=6)]: Using backend ThreadingBackend with 6 concurrent workers.\n",
      "[Parallel(n_jobs=6)]: Done  10 out of  10 | elapsed:    0.2s remaining:    0.0s\n",
      "[Parallel(n_jobs=6)]: Done  10 out of  10 | elapsed:    0.2s finished\n",
      "[Parallel(n_jobs=6)]: Using backend ThreadingBackend with 6 concurrent workers.\n",
      "[Parallel(n_jobs=6)]: Done  10 out of  10 | elapsed:    0.0s remaining:    0.0s\n",
      "[Parallel(n_jobs=6)]: Done  10 out of  10 | elapsed:    0.0s finished\n",
      "[Parallel(n_jobs=6)]: Using backend ThreadingBackend with 6 concurrent workers.\n"
     ]
    },
    {
     "name": "stdout",
     "output_type": "stream",
     "text": [
      "Test accuracy = 93.54%. Train accuracy = 93.71%.\n",
      "Best accuracy reached so far: 96.78319027375376 for params: 5, 8, 25, 2, 32, True\n",
      "169ème itérateur: 10, 2, 5, 60, 1, False\n"
     ]
    },
    {
     "name": "stderr",
     "output_type": "stream",
     "text": [
      "[Parallel(n_jobs=6)]: Done  10 out of  10 | elapsed:    0.0s remaining:    0.0s\n",
      "[Parallel(n_jobs=6)]: Done  10 out of  10 | elapsed:    0.0s finished\n",
      "[Parallel(n_jobs=6)]: Using backend ThreadingBackend with 6 concurrent workers.\n",
      "[Parallel(n_jobs=6)]: Done  10 out of  10 | elapsed:    0.3s remaining:    0.0s\n",
      "[Parallel(n_jobs=6)]: Done  10 out of  10 | elapsed:    0.3s finished\n",
      "[Parallel(n_jobs=6)]: Using backend ThreadingBackend with 6 concurrent workers.\n",
      "[Parallel(n_jobs=6)]: Done  10 out of  10 | elapsed:    0.0s remaining:    0.0s\n",
      "[Parallel(n_jobs=6)]: Done  10 out of  10 | elapsed:    0.0s finished\n",
      "[Parallel(n_jobs=6)]: Using backend ThreadingBackend with 6 concurrent workers.\n",
      "[Parallel(n_jobs=6)]: Done  10 out of  10 | elapsed:    0.0s remaining:    0.0s\n",
      "[Parallel(n_jobs=6)]: Done  10 out of  10 | elapsed:    0.0s finished\n"
     ]
    },
    {
     "name": "stdout",
     "output_type": "stream",
     "text": [
      "Test accuracy = 93.86%. Train accuracy = 94.01%.\n",
      "Best accuracy reached so far: 96.78319027375376 for params: 5, 8, 25, 2, 32, True\n",
      "170ème itérateur: 10, 2, 7, 2, 8, False\n"
     ]
    },
    {
     "name": "stderr",
     "output_type": "stream",
     "text": [
      "[Parallel(n_jobs=6)]: Using backend ThreadingBackend with 6 concurrent workers.\n",
      "[Parallel(n_jobs=6)]: Done  10 out of  10 | elapsed:    0.4s remaining:    0.0s\n",
      "[Parallel(n_jobs=6)]: Done  10 out of  10 | elapsed:    0.4s finished\n",
      "[Parallel(n_jobs=6)]: Using backend ThreadingBackend with 6 concurrent workers.\n",
      "[Parallel(n_jobs=6)]: Done  10 out of  10 | elapsed:    0.0s remaining:    0.0s\n",
      "[Parallel(n_jobs=6)]: Done  10 out of  10 | elapsed:    0.0s finished\n",
      "[Parallel(n_jobs=6)]: Using backend ThreadingBackend with 6 concurrent workers.\n",
      "[Parallel(n_jobs=6)]: Done  10 out of  10 | elapsed:    0.0s remaining:    0.0s\n",
      "[Parallel(n_jobs=6)]: Done  10 out of  10 | elapsed:    0.0s finished\n"
     ]
    },
    {
     "name": "stdout",
     "output_type": "stream",
     "text": [
      "Test accuracy = 94.71%. Train accuracy = 94.86%.\n",
      "Best accuracy reached so far: 96.78319027375376 for params: 5, 8, 25, 2, 32, True\n",
      "171ème itérateur: 10, 2, 17, 2, 16, True\n"
     ]
    },
    {
     "name": "stderr",
     "output_type": "stream",
     "text": [
      "[Parallel(n_jobs=6)]: Using backend ThreadingBackend with 6 concurrent workers.\n",
      "[Parallel(n_jobs=6)]: Done  10 out of  10 | elapsed:    0.5s remaining:    0.0s\n",
      "[Parallel(n_jobs=6)]: Done  10 out of  10 | elapsed:    0.5s finished\n",
      "[Parallel(n_jobs=6)]: Using backend ThreadingBackend with 6 concurrent workers.\n",
      "[Parallel(n_jobs=6)]: Done  10 out of  10 | elapsed:    0.0s remaining:    0.0s\n",
      "[Parallel(n_jobs=6)]: Done  10 out of  10 | elapsed:    0.0s finished\n",
      "[Parallel(n_jobs=6)]: Using backend ThreadingBackend with 6 concurrent workers.\n"
     ]
    },
    {
     "name": "stdout",
     "output_type": "stream",
     "text": [
      "Test accuracy = 96.41%. Train accuracy = 96.73%.\n",
      "Best accuracy reached so far: 96.78319027375376 for params: 5, 8, 25, 2, 32, True\n",
      "172ème itérateur: 10, 2, 17, 60, 128, False\n"
     ]
    },
    {
     "name": "stderr",
     "output_type": "stream",
     "text": [
      "[Parallel(n_jobs=6)]: Done  10 out of  10 | elapsed:    0.0s remaining:    0.0s\n",
      "[Parallel(n_jobs=6)]: Done  10 out of  10 | elapsed:    0.0s finished\n",
      "[Parallel(n_jobs=6)]: Using backend ThreadingBackend with 6 concurrent workers.\n",
      "[Parallel(n_jobs=6)]: Done  10 out of  10 | elapsed:    0.5s remaining:    0.0s\n",
      "[Parallel(n_jobs=6)]: Done  10 out of  10 | elapsed:    0.5s finished\n",
      "[Parallel(n_jobs=6)]: Using backend ThreadingBackend with 6 concurrent workers.\n",
      "[Parallel(n_jobs=6)]: Done  10 out of  10 | elapsed:    0.0s remaining:    0.0s\n",
      "[Parallel(n_jobs=6)]: Done  10 out of  10 | elapsed:    0.0s finished\n",
      "[Parallel(n_jobs=6)]: Using backend ThreadingBackend with 6 concurrent workers.\n",
      "[Parallel(n_jobs=6)]: Done  10 out of  10 | elapsed:    0.0s remaining:    0.0s\n",
      "[Parallel(n_jobs=6)]: Done  10 out of  10 | elapsed:    0.0s finished\n"
     ]
    },
    {
     "name": "stdout",
     "output_type": "stream",
     "text": [
      "Test accuracy = 96.09%. Train accuracy = 96.17%.\n",
      "Best accuracy reached so far: 96.78319027375376 for params: 5, 8, 25, 2, 32, True\n",
      "173ème itérateur: 10, 2, 25, 60, 128, False\n"
     ]
    },
    {
     "name": "stderr",
     "output_type": "stream",
     "text": [
      "[Parallel(n_jobs=6)]: Using backend ThreadingBackend with 6 concurrent workers.\n",
      "[Parallel(n_jobs=6)]: Done  10 out of  10 | elapsed:    0.5s remaining:    0.0s\n",
      "[Parallel(n_jobs=6)]: Done  10 out of  10 | elapsed:    0.5s finished\n",
      "[Parallel(n_jobs=6)]: Using backend ThreadingBackend with 6 concurrent workers.\n",
      "[Parallel(n_jobs=6)]: Done  10 out of  10 | elapsed:    0.0s remaining:    0.0s\n",
      "[Parallel(n_jobs=6)]: Done  10 out of  10 | elapsed:    0.0s finished\n",
      "[Parallel(n_jobs=6)]: Using backend ThreadingBackend with 6 concurrent workers.\n"
     ]
    },
    {
     "name": "stdout",
     "output_type": "stream",
     "text": [
      "Test accuracy = 96.11%. Train accuracy = 96.25%.\n",
      "Best accuracy reached so far: 96.78319027375376 for params: 5, 8, 25, 2, 32, True\n",
      "174ème itérateur: 10, 2, 25, 70, 16, False\n"
     ]
    },
    {
     "name": "stderr",
     "output_type": "stream",
     "text": [
      "[Parallel(n_jobs=6)]: Done  10 out of  10 | elapsed:    0.0s remaining:    0.0s\n",
      "[Parallel(n_jobs=6)]: Done  10 out of  10 | elapsed:    0.0s finished\n",
      "[Parallel(n_jobs=6)]: Using backend ThreadingBackend with 6 concurrent workers.\n",
      "[Parallel(n_jobs=6)]: Done  10 out of  10 | elapsed:    0.6s remaining:    0.0s\n",
      "[Parallel(n_jobs=6)]: Done  10 out of  10 | elapsed:    0.6s finished\n",
      "[Parallel(n_jobs=6)]: Using backend ThreadingBackend with 6 concurrent workers.\n",
      "[Parallel(n_jobs=6)]: Done  10 out of  10 | elapsed:    0.0s remaining:    0.0s\n",
      "[Parallel(n_jobs=6)]: Done  10 out of  10 | elapsed:    0.0s finished\n",
      "[Parallel(n_jobs=6)]: Using backend ThreadingBackend with 6 concurrent workers.\n"
     ]
    },
    {
     "name": "stdout",
     "output_type": "stream",
     "text": [
      "Test accuracy = 96.63%. Train accuracy = 97.07%.\n",
      "Best accuracy reached so far: 96.78319027375376 for params: 5, 8, 25, 2, 32, True\n",
      "175ème itérateur: 10, 3, 1, 70, 16, False\n"
     ]
    },
    {
     "name": "stderr",
     "output_type": "stream",
     "text": [
      "[Parallel(n_jobs=6)]: Done  10 out of  10 | elapsed:    0.0s remaining:    0.0s\n",
      "[Parallel(n_jobs=6)]: Done  10 out of  10 | elapsed:    0.0s finished\n",
      "[Parallel(n_jobs=6)]: Using backend ThreadingBackend with 6 concurrent workers.\n",
      "[Parallel(n_jobs=6)]: Done  10 out of  10 | elapsed:    0.1s remaining:    0.0s\n",
      "[Parallel(n_jobs=6)]: Done  10 out of  10 | elapsed:    0.1s finished\n",
      "[Parallel(n_jobs=6)]: Using backend ThreadingBackend with 6 concurrent workers.\n",
      "[Parallel(n_jobs=6)]: Done  10 out of  10 | elapsed:    0.0s remaining:    0.0s\n",
      "[Parallel(n_jobs=6)]: Done  10 out of  10 | elapsed:    0.0s finished\n"
     ]
    },
    {
     "name": "stdout",
     "output_type": "stream",
     "text": [
      "Test accuracy = 91.34%. Train accuracy = 91.45%.\n",
      "Best accuracy reached so far: 96.78319027375376 for params: 5, 8, 25, 2, 32, True\n",
      "176ème itérateur: 10, 3, 2, 40, 8, False\n"
     ]
    },
    {
     "name": "stderr",
     "output_type": "stream",
     "text": [
      "[Parallel(n_jobs=6)]: Using backend ThreadingBackend with 6 concurrent workers.\n",
      "[Parallel(n_jobs=6)]: Done  10 out of  10 | elapsed:    0.0s remaining:    0.0s\n",
      "[Parallel(n_jobs=6)]: Done  10 out of  10 | elapsed:    0.0s finished\n",
      "[Parallel(n_jobs=6)]: Using backend ThreadingBackend with 6 concurrent workers.\n",
      "[Parallel(n_jobs=6)]: Done  10 out of  10 | elapsed:    0.2s remaining:    0.0s\n",
      "[Parallel(n_jobs=6)]: Done  10 out of  10 | elapsed:    0.2s finished\n",
      "[Parallel(n_jobs=6)]: Using backend ThreadingBackend with 6 concurrent workers.\n",
      "[Parallel(n_jobs=6)]: Done  10 out of  10 | elapsed:    0.0s remaining:    0.0s\n",
      "[Parallel(n_jobs=6)]: Done  10 out of  10 | elapsed:    0.0s finished\n",
      "[Parallel(n_jobs=6)]: Using backend ThreadingBackend with 6 concurrent workers.\n",
      "[Parallel(n_jobs=6)]: Done  10 out of  10 | elapsed:    0.0s remaining:    0.0s\n",
      "[Parallel(n_jobs=6)]: Done  10 out of  10 | elapsed:    0.0s finished\n"
     ]
    },
    {
     "name": "stdout",
     "output_type": "stream",
     "text": [
      "Test accuracy = 93.75%. Train accuracy = 93.67%.\n",
      "Best accuracy reached so far: 96.78319027375376 for params: 5, 8, 25, 2, 32, True\n",
      "177ème itérateur: 10, 3, 13, 30, 64, False\n"
     ]
    },
    {
     "name": "stderr",
     "output_type": "stream",
     "text": [
      "[Parallel(n_jobs=6)]: Using backend ThreadingBackend with 6 concurrent workers.\n",
      "[Parallel(n_jobs=6)]: Done  10 out of  10 | elapsed:    0.8s remaining:    0.0s\n",
      "[Parallel(n_jobs=6)]: Done  10 out of  10 | elapsed:    0.8s finished\n",
      "[Parallel(n_jobs=6)]: Using backend ThreadingBackend with 6 concurrent workers.\n",
      "[Parallel(n_jobs=6)]: Done  10 out of  10 | elapsed:    0.0s remaining:    0.0s\n",
      "[Parallel(n_jobs=6)]: Done  10 out of  10 | elapsed:    0.0s finished\n"
     ]
    },
    {
     "name": "stdout",
     "output_type": "stream",
     "text": [
      "Test accuracy = 96.46%. Train accuracy = 96.69%.\n",
      "Best accuracy reached so far: 96.78319027375376 for params: 5, 8, 25, 2, 32, True\n",
      "178ème itérateur: 10, 3, 17, 30, 16, False\n"
     ]
    },
    {
     "name": "stderr",
     "output_type": "stream",
     "text": [
      "[Parallel(n_jobs=6)]: Using backend ThreadingBackend with 6 concurrent workers.\n",
      "[Parallel(n_jobs=6)]: Done  10 out of  10 | elapsed:    0.0s remaining:    0.0s\n",
      "[Parallel(n_jobs=6)]: Done  10 out of  10 | elapsed:    0.0s finished\n",
      "[Parallel(n_jobs=6)]: Using backend ThreadingBackend with 6 concurrent workers.\n",
      "[Parallel(n_jobs=6)]: Done  10 out of  10 | elapsed:    0.8s remaining:    0.0s\n",
      "[Parallel(n_jobs=6)]: Done  10 out of  10 | elapsed:    0.8s finished\n",
      "[Parallel(n_jobs=6)]: Using backend ThreadingBackend with 6 concurrent workers.\n",
      "[Parallel(n_jobs=6)]: Done  10 out of  10 | elapsed:    0.0s remaining:    0.0s\n",
      "[Parallel(n_jobs=6)]: Done  10 out of  10 | elapsed:    0.0s finished\n"
     ]
    },
    {
     "name": "stdout",
     "output_type": "stream",
     "text": [
      "Test accuracy = 96.83%. Train accuracy = 97.40%.\n",
      "Best accuracy reached so far: 96.82651431047088 for params: 10, 3, 17, 30, 16, False\n",
      "179ème itérateur: 10, 3, 25, 60, 4, True\n"
     ]
    },
    {
     "name": "stderr",
     "output_type": "stream",
     "text": [
      "[Parallel(n_jobs=6)]: Using backend ThreadingBackend with 6 concurrent workers.\n",
      "[Parallel(n_jobs=6)]: Done  10 out of  10 | elapsed:    0.0s remaining:    0.0s\n",
      "[Parallel(n_jobs=6)]: Done  10 out of  10 | elapsed:    0.0s finished\n",
      "[Parallel(n_jobs=6)]: Using backend ThreadingBackend with 6 concurrent workers.\n",
      "[Parallel(n_jobs=6)]: Done  10 out of  10 | elapsed:    0.6s remaining:    0.0s\n",
      "[Parallel(n_jobs=6)]: Done  10 out of  10 | elapsed:    0.6s finished\n",
      "[Parallel(n_jobs=6)]: Using backend ThreadingBackend with 6 concurrent workers.\n",
      "[Parallel(n_jobs=6)]: Done  10 out of  10 | elapsed:    0.0s remaining:    0.0s\n",
      "[Parallel(n_jobs=6)]: Done  10 out of  10 | elapsed:    0.0s finished\n",
      "[Parallel(n_jobs=6)]: Using backend ThreadingBackend with 6 concurrent workers.\n"
     ]
    },
    {
     "name": "stdout",
     "output_type": "stream",
     "text": [
      "Test accuracy = 96.71%. Train accuracy = 97.23%.\n",
      "Best accuracy reached so far: 96.82651431047088 for params: 10, 3, 17, 30, 16, False\n",
      "180ème itérateur: 10, 8, 1, 5, 32, True\n"
     ]
    },
    {
     "name": "stderr",
     "output_type": "stream",
     "text": [
      "[Parallel(n_jobs=6)]: Done  10 out of  10 | elapsed:    0.0s remaining:    0.0s\n",
      "[Parallel(n_jobs=6)]: Done  10 out of  10 | elapsed:    0.0s finished\n",
      "[Parallel(n_jobs=6)]: Using backend ThreadingBackend with 6 concurrent workers.\n",
      "[Parallel(n_jobs=6)]: Done  10 out of  10 | elapsed:    0.2s remaining:    0.0s\n",
      "[Parallel(n_jobs=6)]: Done  10 out of  10 | elapsed:    0.2s finished\n",
      "[Parallel(n_jobs=6)]: Using backend ThreadingBackend with 6 concurrent workers.\n",
      "[Parallel(n_jobs=6)]: Done  10 out of  10 | elapsed:    0.0s remaining:    0.0s\n",
      "[Parallel(n_jobs=6)]: Done  10 out of  10 | elapsed:    0.0s finished\n",
      "[Parallel(n_jobs=6)]: Using backend ThreadingBackend with 6 concurrent workers.\n",
      "[Parallel(n_jobs=6)]: Done  10 out of  10 | elapsed:    0.0s remaining:    0.0s\n",
      "[Parallel(n_jobs=6)]: Done  10 out of  10 | elapsed:    0.0s finished\n"
     ]
    },
    {
     "name": "stdout",
     "output_type": "stream",
     "text": [
      "Test accuracy = 92.47%. Train accuracy = 92.53%.\n",
      "Best accuracy reached so far: 96.82651431047088 for params: 10, 3, 17, 30, 16, False\n",
      "181ème itérateur: 10, 8, 4, 2, 128, True\n"
     ]
    },
    {
     "name": "stderr",
     "output_type": "stream",
     "text": [
      "[Parallel(n_jobs=6)]: Using backend ThreadingBackend with 6 concurrent workers.\n",
      "[Parallel(n_jobs=6)]: Done  10 out of  10 | elapsed:    0.5s remaining:    0.0s\n",
      "[Parallel(n_jobs=6)]: Done  10 out of  10 | elapsed:    0.5s finished\n",
      "[Parallel(n_jobs=6)]: Using backend ThreadingBackend with 6 concurrent workers.\n",
      "[Parallel(n_jobs=6)]: Done  10 out of  10 | elapsed:    0.0s remaining:    0.0s\n",
      "[Parallel(n_jobs=6)]: Done  10 out of  10 | elapsed:    0.0s finished\n",
      "[Parallel(n_jobs=6)]: Using backend ThreadingBackend with 6 concurrent workers.\n",
      "[Parallel(n_jobs=6)]: Done  10 out of  10 | elapsed:    0.0s remaining:    0.0s\n",
      "[Parallel(n_jobs=6)]: Done  10 out of  10 | elapsed:    0.0s finished\n"
     ]
    },
    {
     "name": "stdout",
     "output_type": "stream",
     "text": [
      "Test accuracy = 94.79%. Train accuracy = 94.92%.\n",
      "Best accuracy reached so far: 96.82651431047088 for params: 10, 3, 17, 30, 16, False\n",
      "182ème itérateur: 10, 8, 4, 70, 32, False\n"
     ]
    },
    {
     "name": "stderr",
     "output_type": "stream",
     "text": [
      "[Parallel(n_jobs=6)]: Using backend ThreadingBackend with 6 concurrent workers.\n",
      "[Parallel(n_jobs=6)]: Done  10 out of  10 | elapsed:    0.7s remaining:    0.0s\n",
      "[Parallel(n_jobs=6)]: Done  10 out of  10 | elapsed:    0.7s finished\n",
      "[Parallel(n_jobs=6)]: Using backend ThreadingBackend with 6 concurrent workers.\n",
      "[Parallel(n_jobs=6)]: Done  10 out of  10 | elapsed:    0.0s remaining:    0.0s\n",
      "[Parallel(n_jobs=6)]: Done  10 out of  10 | elapsed:    0.0s finished\n",
      "[Parallel(n_jobs=6)]: Using backend ThreadingBackend with 6 concurrent workers.\n",
      "[Parallel(n_jobs=6)]: Done  10 out of  10 | elapsed:    0.0s remaining:    0.0s\n",
      "[Parallel(n_jobs=6)]: Done  10 out of  10 | elapsed:    0.0s finished\n"
     ]
    },
    {
     "name": "stdout",
     "output_type": "stream",
     "text": [
      "Test accuracy = 94.93%. Train accuracy = 94.98%.\n",
      "Best accuracy reached so far: 96.82651431047088 for params: 10, 3, 17, 30, 16, False\n",
      "183ème itérateur: 10, 8, 5, 2, 16, True\n"
     ]
    },
    {
     "name": "stderr",
     "output_type": "stream",
     "text": [
      "[Parallel(n_jobs=6)]: Using backend ThreadingBackend with 6 concurrent workers.\n",
      "[Parallel(n_jobs=6)]: Done  10 out of  10 | elapsed:    0.6s remaining:    0.0s\n",
      "[Parallel(n_jobs=6)]: Done  10 out of  10 | elapsed:    0.6s finished\n",
      "[Parallel(n_jobs=6)]: Using backend ThreadingBackend with 6 concurrent workers.\n",
      "[Parallel(n_jobs=6)]: Done  10 out of  10 | elapsed:    0.0s remaining:    0.0s\n",
      "[Parallel(n_jobs=6)]: Done  10 out of  10 | elapsed:    0.0s finished\n",
      "[Parallel(n_jobs=6)]: Using backend ThreadingBackend with 6 concurrent workers.\n",
      "[Parallel(n_jobs=6)]: Done  10 out of  10 | elapsed:    0.0s remaining:    0.0s\n",
      "[Parallel(n_jobs=6)]: Done  10 out of  10 | elapsed:    0.0s finished\n"
     ]
    },
    {
     "name": "stdout",
     "output_type": "stream",
     "text": [
      "Test accuracy = 95.89%. Train accuracy = 95.88%.\n",
      "Best accuracy reached so far: 96.82651431047088 for params: 10, 3, 17, 30, 16, False\n",
      "184ème itérateur: 10, 8, 5, 10, 128, False\n"
     ]
    },
    {
     "name": "stderr",
     "output_type": "stream",
     "text": [
      "[Parallel(n_jobs=6)]: Using backend ThreadingBackend with 6 concurrent workers.\n",
      "[Parallel(n_jobs=6)]: Done  10 out of  10 | elapsed:    0.7s remaining:    0.0s\n",
      "[Parallel(n_jobs=6)]: Done  10 out of  10 | elapsed:    0.7s finished\n",
      "[Parallel(n_jobs=6)]: Using backend ThreadingBackend with 6 concurrent workers.\n",
      "[Parallel(n_jobs=6)]: Done  10 out of  10 | elapsed:    0.0s remaining:    0.0s\n",
      "[Parallel(n_jobs=6)]: Done  10 out of  10 | elapsed:    0.0s finished\n"
     ]
    },
    {
     "name": "stdout",
     "output_type": "stream",
     "text": [
      "Test accuracy = 95.85%. Train accuracy = 95.84%.\n",
      "Best accuracy reached so far: 96.82651431047088 for params: 10, 3, 17, 30, 16, False\n",
      "185ème itérateur: 10, 8, 5, 60, 2, True\n"
     ]
    },
    {
     "name": "stderr",
     "output_type": "stream",
     "text": [
      "[Parallel(n_jobs=6)]: Using backend ThreadingBackend with 6 concurrent workers.\n",
      "[Parallel(n_jobs=6)]: Done  10 out of  10 | elapsed:    0.0s remaining:    0.0s\n",
      "[Parallel(n_jobs=6)]: Done  10 out of  10 | elapsed:    0.0s finished\n",
      "[Parallel(n_jobs=6)]: Using backend ThreadingBackend with 6 concurrent workers.\n",
      "[Parallel(n_jobs=6)]: Done  10 out of  10 | elapsed:    0.6s remaining:    0.0s\n",
      "[Parallel(n_jobs=6)]: Done  10 out of  10 | elapsed:    0.6s finished\n",
      "[Parallel(n_jobs=6)]: Using backend ThreadingBackend with 6 concurrent workers.\n",
      "[Parallel(n_jobs=6)]: Done  10 out of  10 | elapsed:    0.0s remaining:    0.0s\n",
      "[Parallel(n_jobs=6)]: Done  10 out of  10 | elapsed:    0.0s finished\n",
      "[Parallel(n_jobs=6)]: Using backend ThreadingBackend with 6 concurrent workers.\n",
      "[Parallel(n_jobs=6)]: Done  10 out of  10 | elapsed:    0.0s remaining:    0.0s\n",
      "[Parallel(n_jobs=6)]: Done  10 out of  10 | elapsed:    0.0s finished\n"
     ]
    },
    {
     "name": "stdout",
     "output_type": "stream",
     "text": [
      "Test accuracy = 95.76%. Train accuracy = 95.78%.\n",
      "Best accuracy reached so far: 96.82651431047088 for params: 10, 3, 17, 30, 16, False\n",
      "186ème itérateur: 10, 8, 7, 70, 2, True\n"
     ]
    },
    {
     "name": "stderr",
     "output_type": "stream",
     "text": [
      "[Parallel(n_jobs=6)]: Using backend ThreadingBackend with 6 concurrent workers.\n",
      "[Parallel(n_jobs=6)]: Done  10 out of  10 | elapsed:    0.8s remaining:    0.0s\n",
      "[Parallel(n_jobs=6)]: Done  10 out of  10 | elapsed:    0.8s finished\n",
      "[Parallel(n_jobs=6)]: Using backend ThreadingBackend with 6 concurrent workers.\n",
      "[Parallel(n_jobs=6)]: Done  10 out of  10 | elapsed:    0.0s remaining:    0.0s\n",
      "[Parallel(n_jobs=6)]: Done  10 out of  10 | elapsed:    0.0s finished\n",
      "[Parallel(n_jobs=6)]: Using backend ThreadingBackend with 6 concurrent workers.\n",
      "[Parallel(n_jobs=6)]: Done  10 out of  10 | elapsed:    0.0s remaining:    0.0s\n",
      "[Parallel(n_jobs=6)]: Done  10 out of  10 | elapsed:    0.0s finished\n"
     ]
    },
    {
     "name": "stdout",
     "output_type": "stream",
     "text": [
      "Test accuracy = 96.39%. Train accuracy = 96.45%.\n",
      "Best accuracy reached so far: 96.82651431047088 for params: 10, 3, 17, 30, 16, False\n",
      "187ème itérateur: 10, 8, 17, 10, 2, True\n"
     ]
    },
    {
     "name": "stderr",
     "output_type": "stream",
     "text": [
      "[Parallel(n_jobs=6)]: Using backend ThreadingBackend with 6 concurrent workers.\n",
      "[Parallel(n_jobs=6)]: Done  10 out of  10 | elapsed:    1.2s remaining:    0.0s\n",
      "[Parallel(n_jobs=6)]: Done  10 out of  10 | elapsed:    1.2s finished\n",
      "[Parallel(n_jobs=6)]: Using backend ThreadingBackend with 6 concurrent workers.\n",
      "[Parallel(n_jobs=6)]: Done  10 out of  10 | elapsed:    0.0s remaining:    0.0s\n",
      "[Parallel(n_jobs=6)]: Done  10 out of  10 | elapsed:    0.0s finished\n",
      "[Parallel(n_jobs=6)]: Using backend ThreadingBackend with 6 concurrent workers.\n",
      "[Parallel(n_jobs=6)]: Done  10 out of  10 | elapsed:    0.0s remaining:    0.0s\n",
      "[Parallel(n_jobs=6)]: Done  10 out of  10 | elapsed:    0.0s finished\n"
     ]
    },
    {
     "name": "stdout",
     "output_type": "stream",
     "text": [
      "Test accuracy = 96.86%. Train accuracy = 98.11%.\n",
      "Best accuracy reached so far: 96.85900733800872 for params: 10, 8, 17, 10, 2, True\n",
      "188ème itérateur: 10, 8, 17, 40, 2, True\n"
     ]
    },
    {
     "name": "stderr",
     "output_type": "stream",
     "text": [
      "[Parallel(n_jobs=6)]: Using backend ThreadingBackend with 6 concurrent workers.\n",
      "[Parallel(n_jobs=6)]: Done  10 out of  10 | elapsed:    1.3s remaining:    0.0s\n",
      "[Parallel(n_jobs=6)]: Done  10 out of  10 | elapsed:    1.3s finished\n",
      "[Parallel(n_jobs=6)]: Using backend ThreadingBackend with 6 concurrent workers.\n",
      "[Parallel(n_jobs=6)]: Done  10 out of  10 | elapsed:    0.0s remaining:    0.0s\n",
      "[Parallel(n_jobs=6)]: Done  10 out of  10 | elapsed:    0.0s finished\n",
      "[Parallel(n_jobs=6)]: Using backend ThreadingBackend with 6 concurrent workers.\n"
     ]
    },
    {
     "name": "stdout",
     "output_type": "stream",
     "text": [
      "Test accuracy = 96.86%. Train accuracy = 97.45%.\n",
      "Best accuracy reached so far: 96.86171509030353 for params: 10, 8, 17, 40, 2, True\n",
      "189ème itérateur: 10, 8, 25, 10, 2, True\n"
     ]
    },
    {
     "name": "stderr",
     "output_type": "stream",
     "text": [
      "[Parallel(n_jobs=6)]: Done  10 out of  10 | elapsed:    0.0s remaining:    0.0s\n",
      "[Parallel(n_jobs=6)]: Done  10 out of  10 | elapsed:    0.0s finished\n",
      "[Parallel(n_jobs=6)]: Using backend ThreadingBackend with 6 concurrent workers.\n",
      "[Parallel(n_jobs=6)]: Done  10 out of  10 | elapsed:    1.3s remaining:    0.0s\n",
      "[Parallel(n_jobs=6)]: Done  10 out of  10 | elapsed:    1.3s finished\n",
      "[Parallel(n_jobs=6)]: Using backend ThreadingBackend with 6 concurrent workers.\n",
      "[Parallel(n_jobs=6)]: Done  10 out of  10 | elapsed:    0.0s remaining:    0.0s\n",
      "[Parallel(n_jobs=6)]: Done  10 out of  10 | elapsed:    0.0s finished\n",
      "[Parallel(n_jobs=6)]: Using backend ThreadingBackend with 6 concurrent workers.\n",
      "[Parallel(n_jobs=6)]: Done  10 out of  10 | elapsed:    0.0s remaining:    0.0s\n",
      "[Parallel(n_jobs=6)]: Done  10 out of  10 | elapsed:    0.0s finished\n"
     ]
    },
    {
     "name": "stdout",
     "output_type": "stream",
     "text": [
      "Test accuracy = 96.80%. Train accuracy = 98.38%.\n",
      "Best accuracy reached so far: 96.86171509030353 for params: 10, 8, 17, 40, 2, True\n",
      "190ème itérateur: 10, 8, 25, 10, 64, True\n"
     ]
    },
    {
     "name": "stderr",
     "output_type": "stream",
     "text": [
      "[Parallel(n_jobs=6)]: Using backend ThreadingBackend with 6 concurrent workers.\n",
      "[Parallel(n_jobs=6)]: Done  10 out of  10 | elapsed:    1.2s remaining:    0.0s\n",
      "[Parallel(n_jobs=6)]: Done  10 out of  10 | elapsed:    1.2s finished\n",
      "[Parallel(n_jobs=6)]: Using backend ThreadingBackend with 6 concurrent workers.\n",
      "[Parallel(n_jobs=6)]: Done  10 out of  10 | elapsed:    0.0s remaining:    0.0s\n",
      "[Parallel(n_jobs=6)]: Done  10 out of  10 | elapsed:    0.0s finished\n",
      "[Parallel(n_jobs=6)]: Using backend ThreadingBackend with 6 concurrent workers.\n"
     ]
    },
    {
     "name": "stdout",
     "output_type": "stream",
     "text": [
      "Test accuracy = 96.66%. Train accuracy = 96.80%.\n",
      "Best accuracy reached so far: 96.86171509030353 for params: 10, 8, 17, 40, 2, True\n",
      "191ème itérateur: 10, 8, 25, 50, 2, True\n"
     ]
    },
    {
     "name": "stderr",
     "output_type": "stream",
     "text": [
      "[Parallel(n_jobs=6)]: Done  10 out of  10 | elapsed:    0.0s remaining:    0.0s\n",
      "[Parallel(n_jobs=6)]: Done  10 out of  10 | elapsed:    0.0s finished\n",
      "[Parallel(n_jobs=6)]: Using backend ThreadingBackend with 6 concurrent workers.\n",
      "[Parallel(n_jobs=6)]: Done  10 out of  10 | elapsed:    1.3s remaining:    0.0s\n",
      "[Parallel(n_jobs=6)]: Done  10 out of  10 | elapsed:    1.3s finished\n",
      "[Parallel(n_jobs=6)]: Using backend ThreadingBackend with 6 concurrent workers.\n",
      "[Parallel(n_jobs=6)]: Done  10 out of  10 | elapsed:    0.0s remaining:    0.0s\n",
      "[Parallel(n_jobs=6)]: Done  10 out of  10 | elapsed:    0.0s finished\n",
      "[Parallel(n_jobs=6)]: Using backend ThreadingBackend with 6 concurrent workers.\n",
      "[Parallel(n_jobs=6)]: Done  10 out of  10 | elapsed:    0.0s remaining:    0.0s\n",
      "[Parallel(n_jobs=6)]: Done  10 out of  10 | elapsed:    0.0s finished\n"
     ]
    },
    {
     "name": "stdout",
     "output_type": "stream",
     "text": [
      "Test accuracy = 96.79%. Train accuracy = 97.42%.\n",
      "Best accuracy reached so far: 96.86171509030353 for params: 10, 8, 17, 40, 2, True\n",
      "192ème itérateur: 10, 8, 25, 70, 64, True\n"
     ]
    },
    {
     "name": "stderr",
     "output_type": "stream",
     "text": [
      "[Parallel(n_jobs=6)]: Using backend ThreadingBackend with 6 concurrent workers.\n",
      "[Parallel(n_jobs=6)]: Done  10 out of  10 | elapsed:    1.2s remaining:    0.0s\n",
      "[Parallel(n_jobs=6)]: Done  10 out of  10 | elapsed:    1.2s finished\n",
      "[Parallel(n_jobs=6)]: Using backend ThreadingBackend with 6 concurrent workers.\n",
      "[Parallel(n_jobs=6)]: Done  10 out of  10 | elapsed:    0.0s remaining:    0.0s\n",
      "[Parallel(n_jobs=6)]: Done  10 out of  10 | elapsed:    0.0s finished\n",
      "[Parallel(n_jobs=6)]: Using backend ThreadingBackend with 6 concurrent workers.\n"
     ]
    },
    {
     "name": "stdout",
     "output_type": "stream",
     "text": [
      "Test accuracy = 96.66%. Train accuracy = 96.80%.\n",
      "Best accuracy reached so far: 96.86171509030353 for params: 10, 8, 17, 40, 2, True\n",
      "193ème itérateur: 10, 8, 25, 70, 128, True\n"
     ]
    },
    {
     "name": "stderr",
     "output_type": "stream",
     "text": [
      "[Parallel(n_jobs=6)]: Done  10 out of  10 | elapsed:    0.0s remaining:    0.0s\n",
      "[Parallel(n_jobs=6)]: Done  10 out of  10 | elapsed:    0.0s finished\n",
      "[Parallel(n_jobs=6)]: Using backend ThreadingBackend with 6 concurrent workers.\n",
      "[Parallel(n_jobs=6)]: Done  10 out of  10 | elapsed:    1.1s remaining:    0.0s\n",
      "[Parallel(n_jobs=6)]: Done  10 out of  10 | elapsed:    1.1s finished\n",
      "[Parallel(n_jobs=6)]: Using backend ThreadingBackend with 6 concurrent workers.\n",
      "[Parallel(n_jobs=6)]: Done  10 out of  10 | elapsed:    0.0s remaining:    0.0s\n",
      "[Parallel(n_jobs=6)]: Done  10 out of  10 | elapsed:    0.0s finished\n",
      "[Parallel(n_jobs=6)]: Using backend ThreadingBackend with 6 concurrent workers.\n",
      "[Parallel(n_jobs=6)]: Done  10 out of  10 | elapsed:    0.0s remaining:    0.0s\n",
      "[Parallel(n_jobs=6)]: Done  10 out of  10 | elapsed:    0.0s finished\n"
     ]
    },
    {
     "name": "stdout",
     "output_type": "stream",
     "text": [
      "Test accuracy = 96.47%. Train accuracy = 96.55%.\n",
      "Best accuracy reached so far: 96.86171509030353 for params: 10, 8, 17, 40, 2, True\n",
      "194ème itérateur: 10, sqrt, 1, 40, 64, False\n"
     ]
    },
    {
     "name": "stderr",
     "output_type": "stream",
     "text": [
      "[Parallel(n_jobs=6)]: Using backend ThreadingBackend with 6 concurrent workers.\n",
      "[Parallel(n_jobs=6)]: Done  10 out of  10 | elapsed:    0.1s remaining:    0.0s\n",
      "[Parallel(n_jobs=6)]: Done  10 out of  10 | elapsed:    0.1s finished\n",
      "[Parallel(n_jobs=6)]: Using backend ThreadingBackend with 6 concurrent workers.\n",
      "[Parallel(n_jobs=6)]: Done  10 out of  10 | elapsed:    0.0s remaining:    0.0s\n",
      "[Parallel(n_jobs=6)]: Done  10 out of  10 | elapsed:    0.0s finished\n",
      "[Parallel(n_jobs=6)]: Using backend ThreadingBackend with 6 concurrent workers.\n",
      "[Parallel(n_jobs=6)]: Done  10 out of  10 | elapsed:    0.0s remaining:    0.0s\n",
      "[Parallel(n_jobs=6)]: Done  10 out of  10 | elapsed:    0.0s finished\n"
     ]
    },
    {
     "name": "stdout",
     "output_type": "stream",
     "text": [
      "Test accuracy = 92.47%. Train accuracy = 92.53%.\n",
      "Best accuracy reached so far: 96.86171509030353 for params: 10, 8, 17, 40, 2, True\n",
      "195ème itérateur: 10, sqrt, 3, 2, 1, False\n"
     ]
    },
    {
     "name": "stderr",
     "output_type": "stream",
     "text": [
      "[Parallel(n_jobs=6)]: Using backend ThreadingBackend with 6 concurrent workers.\n",
      "[Parallel(n_jobs=6)]: Done  10 out of  10 | elapsed:    0.3s remaining:    0.0s\n",
      "[Parallel(n_jobs=6)]: Done  10 out of  10 | elapsed:    0.3s finished\n",
      "[Parallel(n_jobs=6)]: Using backend ThreadingBackend with 6 concurrent workers.\n",
      "[Parallel(n_jobs=6)]: Done  10 out of  10 | elapsed:    0.0s remaining:    0.0s\n",
      "[Parallel(n_jobs=6)]: Done  10 out of  10 | elapsed:    0.0s finished\n"
     ]
    },
    {
     "name": "stdout",
     "output_type": "stream",
     "text": [
      "Test accuracy = 94.44%. Train accuracy = 94.47%.\n",
      "Best accuracy reached so far: 96.86171509030353 for params: 10, 8, 17, 40, 2, True\n",
      "196ème itérateur: 10, sqrt, 3, 30, 2, True\n"
     ]
    },
    {
     "name": "stderr",
     "output_type": "stream",
     "text": [
      "[Parallel(n_jobs=6)]: Using backend ThreadingBackend with 6 concurrent workers.\n",
      "[Parallel(n_jobs=6)]: Done  10 out of  10 | elapsed:    0.0s remaining:    0.0s\n",
      "[Parallel(n_jobs=6)]: Done  10 out of  10 | elapsed:    0.0s finished\n",
      "[Parallel(n_jobs=6)]: Using backend ThreadingBackend with 6 concurrent workers.\n",
      "[Parallel(n_jobs=6)]: Done  10 out of  10 | elapsed:    0.3s remaining:    0.0s\n",
      "[Parallel(n_jobs=6)]: Done  10 out of  10 | elapsed:    0.3s finished\n",
      "[Parallel(n_jobs=6)]: Using backend ThreadingBackend with 6 concurrent workers.\n",
      "[Parallel(n_jobs=6)]: Done  10 out of  10 | elapsed:    0.0s remaining:    0.0s\n",
      "[Parallel(n_jobs=6)]: Done  10 out of  10 | elapsed:    0.0s finished\n",
      "[Parallel(n_jobs=6)]: Using backend ThreadingBackend with 6 concurrent workers.\n",
      "[Parallel(n_jobs=6)]: Done  10 out of  10 | elapsed:    0.0s remaining:    0.0s\n",
      "[Parallel(n_jobs=6)]: Done  10 out of  10 | elapsed:    0.0s finished\n"
     ]
    },
    {
     "name": "stdout",
     "output_type": "stream",
     "text": [
      "Test accuracy = 94.45%. Train accuracy = 94.47%.\n",
      "Best accuracy reached so far: 96.86171509030353 for params: 10, 8, 17, 40, 2, True\n",
      "197ème itérateur: 10, sqrt, 17, 60, 4, True\n"
     ]
    },
    {
     "name": "stderr",
     "output_type": "stream",
     "text": [
      "[Parallel(n_jobs=6)]: Using backend ThreadingBackend with 6 concurrent workers.\n",
      "[Parallel(n_jobs=6)]: Done  10 out of  10 | elapsed:    0.8s remaining:    0.0s\n",
      "[Parallel(n_jobs=6)]: Done  10 out of  10 | elapsed:    0.8s finished\n",
      "[Parallel(n_jobs=6)]: Using backend ThreadingBackend with 6 concurrent workers.\n",
      "[Parallel(n_jobs=6)]: Done  10 out of  10 | elapsed:    0.0s remaining:    0.0s\n",
      "[Parallel(n_jobs=6)]: Done  10 out of  10 | elapsed:    0.0s finished\n",
      "[Parallel(n_jobs=6)]: Using backend ThreadingBackend with 6 concurrent workers.\n",
      "[Parallel(n_jobs=6)]: Done  10 out of  10 | elapsed:    0.0s remaining:    0.0s\n",
      "[Parallel(n_jobs=6)]: Done  10 out of  10 | elapsed:    0.0s finished\n"
     ]
    },
    {
     "name": "stdout",
     "output_type": "stream",
     "text": [
      "Test accuracy = 96.82%. Train accuracy = 97.23%.\n",
      "Best accuracy reached so far: 96.86171509030353 for params: 10, 8, 17, 40, 2, True\n",
      "198ème itérateur: 10, sqrt, 20, 50, 1, True\n"
     ]
    },
    {
     "name": "stderr",
     "output_type": "stream",
     "text": [
      "[Parallel(n_jobs=6)]: Using backend ThreadingBackend with 6 concurrent workers.\n",
      "[Parallel(n_jobs=6)]: Done  10 out of  10 | elapsed:    0.8s remaining:    0.0s\n",
      "[Parallel(n_jobs=6)]: Done  10 out of  10 | elapsed:    0.8s finished\n",
      "[Parallel(n_jobs=6)]: Using backend ThreadingBackend with 6 concurrent workers.\n",
      "[Parallel(n_jobs=6)]: Done  10 out of  10 | elapsed:    0.0s remaining:    0.0s\n",
      "[Parallel(n_jobs=6)]: Done  10 out of  10 | elapsed:    0.0s finished\n"
     ]
    },
    {
     "name": "stdout",
     "output_type": "stream",
     "text": [
      "Test accuracy = 96.88%. Train accuracy = 97.40%.\n",
      "Best accuracy reached so far: 96.88066935636728 for params: 10, sqrt, 20, 50, 1, True\n",
      "199ème itérateur: 10, sqrt, None, 20, 8, True\n"
     ]
    },
    {
     "name": "stderr",
     "output_type": "stream",
     "text": [
      "[Parallel(n_jobs=6)]: Using backend ThreadingBackend with 6 concurrent workers.\n",
      "[Parallel(n_jobs=6)]: Done  10 out of  10 | elapsed:    0.0s remaining:    0.0s\n",
      "[Parallel(n_jobs=6)]: Done  10 out of  10 | elapsed:    0.0s finished\n",
      "[Parallel(n_jobs=6)]: Using backend ThreadingBackend with 6 concurrent workers.\n",
      "[Parallel(n_jobs=6)]: Done  10 out of  10 | elapsed:    0.9s remaining:    0.0s\n",
      "[Parallel(n_jobs=6)]: Done  10 out of  10 | elapsed:    0.9s finished\n",
      "[Parallel(n_jobs=6)]: Using backend ThreadingBackend with 6 concurrent workers.\n",
      "[Parallel(n_jobs=6)]: Done  10 out of  10 | elapsed:    0.0s remaining:    0.0s\n",
      "[Parallel(n_jobs=6)]: Done  10 out of  10 | elapsed:    0.0s finished\n",
      "[Parallel(n_jobs=6)]: Using backend ThreadingBackend with 6 concurrent workers.\n"
     ]
    },
    {
     "name": "stdout",
     "output_type": "stream",
     "text": [
      "Test accuracy = 96.82%. Train accuracy = 97.61%.\n",
      "Best accuracy reached so far: 96.88066935636728 for params: 10, sqrt, 20, 50, 1, True\n",
      "200ème itérateur: 10, None, 3, 5, 16, False\n"
     ]
    },
    {
     "name": "stderr",
     "output_type": "stream",
     "text": [
      "[Parallel(n_jobs=6)]: Done  10 out of  10 | elapsed:    0.0s remaining:    0.0s\n",
      "[Parallel(n_jobs=6)]: Done  10 out of  10 | elapsed:    0.0s finished\n",
      "[Parallel(n_jobs=6)]: Using backend ThreadingBackend with 6 concurrent workers.\n",
      "[Parallel(n_jobs=6)]: Done  10 out of  10 | elapsed:    1.6s remaining:    0.0s\n",
      "[Parallel(n_jobs=6)]: Done  10 out of  10 | elapsed:    1.6s finished\n",
      "[Parallel(n_jobs=6)]: Using backend ThreadingBackend with 6 concurrent workers.\n",
      "[Parallel(n_jobs=6)]: Done  10 out of  10 | elapsed:    0.0s remaining:    0.0s\n",
      "[Parallel(n_jobs=6)]: Done  10 out of  10 | elapsed:    0.0s finished\n",
      "[Parallel(n_jobs=6)]: Using backend ThreadingBackend with 6 concurrent workers.\n",
      "[Parallel(n_jobs=6)]: Done  10 out of  10 | elapsed:    0.0s remaining:    0.0s\n",
      "[Parallel(n_jobs=6)]: Done  10 out of  10 | elapsed:    0.0s finished\n"
     ]
    },
    {
     "name": "stdout",
     "output_type": "stream",
     "text": [
      "Test accuracy = 95.01%. Train accuracy = 95.13%.\n",
      "Best accuracy reached so far: 96.88066935636728 for params: 10, sqrt, 20, 50, 1, True\n",
      "201ème itérateur: 10, None, 3, 40, 1, False\n"
     ]
    },
    {
     "name": "stderr",
     "output_type": "stream",
     "text": [
      "[Parallel(n_jobs=6)]: Using backend ThreadingBackend with 6 concurrent workers.\n",
      "[Parallel(n_jobs=6)]: Done  10 out of  10 | elapsed:    1.6s remaining:    0.0s\n",
      "[Parallel(n_jobs=6)]: Done  10 out of  10 | elapsed:    1.6s finished\n",
      "[Parallel(n_jobs=6)]: Using backend ThreadingBackend with 6 concurrent workers.\n",
      "[Parallel(n_jobs=6)]: Done  10 out of  10 | elapsed:    0.0s remaining:    0.0s\n",
      "[Parallel(n_jobs=6)]: Done  10 out of  10 | elapsed:    0.0s finished\n",
      "[Parallel(n_jobs=6)]: Using backend ThreadingBackend with 6 concurrent workers.\n",
      "[Parallel(n_jobs=6)]: Done  10 out of  10 | elapsed:    0.0s remaining:    0.0s\n",
      "[Parallel(n_jobs=6)]: Done  10 out of  10 | elapsed:    0.0s finished\n"
     ]
    },
    {
     "name": "stdout",
     "output_type": "stream",
     "text": [
      "Test accuracy = 95.01%. Train accuracy = 95.13%.\n",
      "Best accuracy reached so far: 96.88066935636728 for params: 10, sqrt, 20, 50, 1, True\n",
      "202ème itérateur: 10, None, 3, 50, 4, False\n"
     ]
    },
    {
     "name": "stderr",
     "output_type": "stream",
     "text": [
      "[Parallel(n_jobs=6)]: Using backend ThreadingBackend with 6 concurrent workers.\n",
      "[Parallel(n_jobs=6)]: Done  10 out of  10 | elapsed:    1.6s remaining:    0.0s\n",
      "[Parallel(n_jobs=6)]: Done  10 out of  10 | elapsed:    1.6s finished\n",
      "[Parallel(n_jobs=6)]: Using backend ThreadingBackend with 6 concurrent workers.\n",
      "[Parallel(n_jobs=6)]: Done  10 out of  10 | elapsed:    0.0s remaining:    0.0s\n",
      "[Parallel(n_jobs=6)]: Done  10 out of  10 | elapsed:    0.0s finished\n",
      "[Parallel(n_jobs=6)]: Using backend ThreadingBackend with 6 concurrent workers.\n",
      "[Parallel(n_jobs=6)]: Done  10 out of  10 | elapsed:    0.0s remaining:    0.0s\n",
      "[Parallel(n_jobs=6)]: Done  10 out of  10 | elapsed:    0.0s finished\n"
     ]
    },
    {
     "name": "stdout",
     "output_type": "stream",
     "text": [
      "Test accuracy = 95.01%. Train accuracy = 95.13%.\n",
      "Best accuracy reached so far: 96.88066935636728 for params: 10, sqrt, 20, 50, 1, True\n",
      "203ème itérateur: 10, None, 4, 70, 16, False\n"
     ]
    },
    {
     "name": "stderr",
     "output_type": "stream",
     "text": [
      "[Parallel(n_jobs=6)]: Using backend ThreadingBackend with 6 concurrent workers.\n",
      "[Parallel(n_jobs=6)]: Done  10 out of  10 | elapsed:    2.1s remaining:    0.0s\n",
      "[Parallel(n_jobs=6)]: Done  10 out of  10 | elapsed:    2.1s finished\n",
      "[Parallel(n_jobs=6)]: Using backend ThreadingBackend with 6 concurrent workers.\n",
      "[Parallel(n_jobs=6)]: Done  10 out of  10 | elapsed:    0.0s remaining:    0.0s\n",
      "[Parallel(n_jobs=6)]: Done  10 out of  10 | elapsed:    0.0s finished\n",
      "[Parallel(n_jobs=6)]: Using backend ThreadingBackend with 6 concurrent workers.\n"
     ]
    },
    {
     "name": "stdout",
     "output_type": "stream",
     "text": [
      "Test accuracy = 95.65%. Train accuracy = 95.71%.\n",
      "Best accuracy reached so far: 96.88066935636728 for params: 10, sqrt, 20, 50, 1, True\n",
      "204ème itérateur: 10, None, 7, 50, 64, False\n"
     ]
    },
    {
     "name": "stderr",
     "output_type": "stream",
     "text": [
      "[Parallel(n_jobs=6)]: Done  10 out of  10 | elapsed:    0.0s remaining:    0.0s\n",
      "[Parallel(n_jobs=6)]: Done  10 out of  10 | elapsed:    0.0s finished\n",
      "[Parallel(n_jobs=6)]: Using backend ThreadingBackend with 6 concurrent workers.\n",
      "[Parallel(n_jobs=6)]: Done  10 out of  10 | elapsed:    3.4s remaining:    0.0s\n",
      "[Parallel(n_jobs=6)]: Done  10 out of  10 | elapsed:    3.4s finished\n",
      "[Parallel(n_jobs=6)]: Using backend ThreadingBackend with 6 concurrent workers.\n",
      "[Parallel(n_jobs=6)]: Done  10 out of  10 | elapsed:    0.0s remaining:    0.0s\n",
      "[Parallel(n_jobs=6)]: Done  10 out of  10 | elapsed:    0.0s finished\n",
      "[Parallel(n_jobs=6)]: Using backend ThreadingBackend with 6 concurrent workers.\n",
      "[Parallel(n_jobs=6)]: Done  10 out of  10 | elapsed:    0.0s remaining:    0.0s\n",
      "[Parallel(n_jobs=6)]: Done  10 out of  10 | elapsed:    0.0s finished\n"
     ]
    },
    {
     "name": "stdout",
     "output_type": "stream",
     "text": [
      "Test accuracy = 96.10%. Train accuracy = 96.21%.\n",
      "Best accuracy reached so far: 96.88066935636728 for params: 10, sqrt, 20, 50, 1, True\n",
      "205ème itérateur: 10, None, 10, 5, 64, False\n"
     ]
    },
    {
     "name": "stderr",
     "output_type": "stream",
     "text": [
      "[Parallel(n_jobs=6)]: Using backend ThreadingBackend with 6 concurrent workers.\n",
      "[Parallel(n_jobs=6)]: Done  10 out of  10 | elapsed:    4.4s remaining:    0.0s\n",
      "[Parallel(n_jobs=6)]: Done  10 out of  10 | elapsed:    4.4s finished\n",
      "[Parallel(n_jobs=6)]: Using backend ThreadingBackend with 6 concurrent workers.\n",
      "[Parallel(n_jobs=6)]: Done  10 out of  10 | elapsed:    0.0s remaining:    0.0s\n",
      "[Parallel(n_jobs=6)]: Done  10 out of  10 | elapsed:    0.0s finished\n",
      "[Parallel(n_jobs=6)]: Using backend ThreadingBackend with 6 concurrent workers.\n",
      "[Parallel(n_jobs=6)]: Done  10 out of  10 | elapsed:    0.0s remaining:    0.0s\n",
      "[Parallel(n_jobs=6)]: Done  10 out of  10 | elapsed:    0.0s finished\n"
     ]
    },
    {
     "name": "stdout",
     "output_type": "stream",
     "text": [
      "Test accuracy = 96.33%. Train accuracy = 96.52%.\n",
      "Best accuracy reached so far: 96.88066935636728 for params: 10, sqrt, 20, 50, 1, True\n",
      "206ème itérateur: 10, None, 10, 10, 64, True\n"
     ]
    },
    {
     "name": "stderr",
     "output_type": "stream",
     "text": [
      "[Parallel(n_jobs=6)]: Using backend ThreadingBackend with 6 concurrent workers.\n",
      "[Parallel(n_jobs=6)]: Done  10 out of  10 | elapsed:    3.5s remaining:    0.0s\n",
      "[Parallel(n_jobs=6)]: Done  10 out of  10 | elapsed:    3.5s finished\n",
      "[Parallel(n_jobs=6)]: Using backend ThreadingBackend with 6 concurrent workers.\n",
      "[Parallel(n_jobs=6)]: Done  10 out of  10 | elapsed:    0.0s remaining:    0.0s\n",
      "[Parallel(n_jobs=6)]: Done  10 out of  10 | elapsed:    0.0s finished\n",
      "[Parallel(n_jobs=6)]: Using backend ThreadingBackend with 6 concurrent workers.\n",
      "[Parallel(n_jobs=6)]: Done  10 out of  10 | elapsed:    0.0s remaining:    0.0s\n",
      "[Parallel(n_jobs=6)]: Done  10 out of  10 | elapsed:    0.0s finished\n"
     ]
    },
    {
     "name": "stdout",
     "output_type": "stream",
     "text": [
      "Test accuracy = 96.51%. Train accuracy = 96.63%.\n",
      "Best accuracy reached so far: 96.88066935636728 for params: 10, sqrt, 20, 50, 1, True\n",
      "207ème itérateur: 10, None, 25, 2, 4, True\n"
     ]
    },
    {
     "name": "stderr",
     "output_type": "stream",
     "text": [
      "[Parallel(n_jobs=6)]: Using backend ThreadingBackend with 6 concurrent workers.\n",
      "[Parallel(n_jobs=6)]: Done  10 out of  10 | elapsed:    4.5s remaining:    0.0s\n",
      "[Parallel(n_jobs=6)]: Done  10 out of  10 | elapsed:    4.5s finished\n",
      "[Parallel(n_jobs=6)]: Using backend ThreadingBackend with 6 concurrent workers.\n",
      "[Parallel(n_jobs=6)]: Done  10 out of  10 | elapsed:    0.0s remaining:    0.0s\n",
      "[Parallel(n_jobs=6)]: Done  10 out of  10 | elapsed:    0.0s finished\n",
      "[Parallel(n_jobs=6)]: Using backend ThreadingBackend with 6 concurrent workers.\n"
     ]
    },
    {
     "name": "stdout",
     "output_type": "stream",
     "text": [
      "Test accuracy = 96.78%. Train accuracy = 98.40%.\n",
      "Best accuracy reached so far: 96.88066935636728 for params: 10, sqrt, 20, 50, 1, True\n",
      "208ème itérateur: 10, None, 25, 2, 128, False\n"
     ]
    },
    {
     "name": "stderr",
     "output_type": "stream",
     "text": [
      "[Parallel(n_jobs=6)]: Done  10 out of  10 | elapsed:    0.0s remaining:    0.0s\n",
      "[Parallel(n_jobs=6)]: Done  10 out of  10 | elapsed:    0.0s finished\n",
      "[Parallel(n_jobs=6)]: Using backend ThreadingBackend with 6 concurrent workers.\n",
      "[Parallel(n_jobs=6)]: Done  10 out of  10 | elapsed:    5.5s remaining:    0.0s\n",
      "[Parallel(n_jobs=6)]: Done  10 out of  10 | elapsed:    5.5s finished\n",
      "[Parallel(n_jobs=6)]: Using backend ThreadingBackend with 6 concurrent workers.\n",
      "[Parallel(n_jobs=6)]: Done  10 out of  10 | elapsed:    0.0s remaining:    0.0s\n",
      "[Parallel(n_jobs=6)]: Done  10 out of  10 | elapsed:    0.0s finished\n",
      "[Parallel(n_jobs=6)]: Using backend ThreadingBackend with 6 concurrent workers.\n",
      "[Parallel(n_jobs=6)]: Done  10 out of  10 | elapsed:    0.0s remaining:    0.0s\n",
      "[Parallel(n_jobs=6)]: Done  10 out of  10 | elapsed:    0.0s finished\n"
     ]
    },
    {
     "name": "stdout",
     "output_type": "stream",
     "text": [
      "Test accuracy = 96.24%. Train accuracy = 96.40%.\n",
      "Best accuracy reached so far: 96.88066935636728 for params: 10, sqrt, 20, 50, 1, True\n",
      "209ème itérateur: 10, None, 25, 50, 4, True\n"
     ]
    },
    {
     "name": "stderr",
     "output_type": "stream",
     "text": [
      "[Parallel(n_jobs=6)]: Using backend ThreadingBackend with 6 concurrent workers.\n",
      "[Parallel(n_jobs=6)]: Done  10 out of  10 | elapsed:    4.5s remaining:    0.0s\n",
      "[Parallel(n_jobs=6)]: Done  10 out of  10 | elapsed:    4.5s finished\n",
      "[Parallel(n_jobs=6)]: Using backend ThreadingBackend with 6 concurrent workers.\n",
      "[Parallel(n_jobs=6)]: Done  10 out of  10 | elapsed:    0.0s remaining:    0.0s\n",
      "[Parallel(n_jobs=6)]: Done  10 out of  10 | elapsed:    0.0s finished\n",
      "[Parallel(n_jobs=6)]: Using backend ThreadingBackend with 6 concurrent workers.\n",
      "[Parallel(n_jobs=6)]: Done  10 out of  10 | elapsed:    0.0s remaining:    0.0s\n",
      "[Parallel(n_jobs=6)]: Done  10 out of  10 | elapsed:    0.0s finished\n"
     ]
    },
    {
     "name": "stdout",
     "output_type": "stream",
     "text": [
      "Test accuracy = 96.75%. Train accuracy = 97.40%.\n",
      "Best accuracy reached so far: 96.88066935636728 for params: 10, sqrt, 20, 50, 1, True\n",
      "210ème itérateur: 10, None, 25, 70, 16, False\n"
     ]
    },
    {
     "name": "stderr",
     "output_type": "stream",
     "text": [
      "[Parallel(n_jobs=6)]: Using backend ThreadingBackend with 6 concurrent workers.\n",
      "[Parallel(n_jobs=6)]: Done  10 out of  10 | elapsed:    5.9s remaining:    0.0s\n",
      "[Parallel(n_jobs=6)]: Done  10 out of  10 | elapsed:    5.9s finished\n",
      "[Parallel(n_jobs=6)]: Using backend ThreadingBackend with 6 concurrent workers.\n",
      "[Parallel(n_jobs=6)]: Done  10 out of  10 | elapsed:    0.0s remaining:    0.0s\n",
      "[Parallel(n_jobs=6)]: Done  10 out of  10 | elapsed:    0.0s finished\n",
      "[Parallel(n_jobs=6)]: Using backend ThreadingBackend with 6 concurrent workers.\n"
     ]
    },
    {
     "name": "stdout",
     "output_type": "stream",
     "text": [
      "Test accuracy = 96.38%. Train accuracy = 96.97%.\n",
      "Best accuracy reached so far: 96.88066935636728 for params: 10, sqrt, 20, 50, 1, True\n",
      "211ème itérateur: 10, None, None, 10, 1, False\n"
     ]
    },
    {
     "name": "stderr",
     "output_type": "stream",
     "text": [
      "[Parallel(n_jobs=6)]: Done  10 out of  10 | elapsed:    0.0s remaining:    0.0s\n",
      "[Parallel(n_jobs=6)]: Done  10 out of  10 | elapsed:    0.0s finished\n",
      "[Parallel(n_jobs=6)]: Using backend ThreadingBackend with 6 concurrent workers.\n",
      "[Parallel(n_jobs=6)]: Done  10 out of  10 | elapsed:    6.5s remaining:    0.0s\n",
      "[Parallel(n_jobs=6)]: Done  10 out of  10 | elapsed:    6.5s finished\n",
      "[Parallel(n_jobs=6)]: Using backend ThreadingBackend with 6 concurrent workers.\n",
      "[Parallel(n_jobs=6)]: Done  10 out of  10 | elapsed:    0.0s remaining:    0.0s\n",
      "[Parallel(n_jobs=6)]: Done  10 out of  10 | elapsed:    0.0s finished\n",
      "[Parallel(n_jobs=6)]: Using backend ThreadingBackend with 6 concurrent workers.\n"
     ]
    },
    {
     "name": "stdout",
     "output_type": "stream",
     "text": [
      "Test accuracy = 95.45%. Train accuracy = 98.95%.\n",
      "Best accuracy reached so far: 96.88066935636728 for params: 10, sqrt, 20, 50, 1, True\n",
      "212ème itérateur: 10, None, None, 40, 128, False\n"
     ]
    },
    {
     "name": "stderr",
     "output_type": "stream",
     "text": [
      "[Parallel(n_jobs=6)]: Done  10 out of  10 | elapsed:    0.0s remaining:    0.0s\n",
      "[Parallel(n_jobs=6)]: Done  10 out of  10 | elapsed:    0.0s finished\n",
      "[Parallel(n_jobs=6)]: Using backend ThreadingBackend with 6 concurrent workers.\n",
      "[Parallel(n_jobs=6)]: Done  10 out of  10 | elapsed:    5.5s remaining:    0.0s\n",
      "[Parallel(n_jobs=6)]: Done  10 out of  10 | elapsed:    5.5s finished\n",
      "[Parallel(n_jobs=6)]: Using backend ThreadingBackend with 6 concurrent workers.\n",
      "[Parallel(n_jobs=6)]: Done  10 out of  10 | elapsed:    0.0s remaining:    0.0s\n",
      "[Parallel(n_jobs=6)]: Done  10 out of  10 | elapsed:    0.0s finished\n",
      "[Parallel(n_jobs=6)]: Using backend ThreadingBackend with 6 concurrent workers.\n",
      "[Parallel(n_jobs=6)]: Done  10 out of  10 | elapsed:    0.0s remaining:    0.0s\n",
      "[Parallel(n_jobs=6)]: Done  10 out of  10 | elapsed:    0.0s finished\n"
     ]
    },
    {
     "name": "stdout",
     "output_type": "stream",
     "text": [
      "Test accuracy = 96.24%. Train accuracy = 96.40%.\n",
      "Best accuracy reached so far: 96.88066935636728 for params: 10, sqrt, 20, 50, 1, True\n",
      "213ème itérateur: 20, 1, 4, 70, 16, False\n"
     ]
    },
    {
     "name": "stderr",
     "output_type": "stream",
     "text": [
      "[Parallel(n_jobs=6)]: Using backend ThreadingBackend with 6 concurrent workers.\n",
      "[Parallel(n_jobs=6)]: Done  20 out of  20 | elapsed:    0.3s finished\n",
      "[Parallel(n_jobs=6)]: Using backend ThreadingBackend with 6 concurrent workers.\n",
      "[Parallel(n_jobs=6)]: Done  20 out of  20 | elapsed:    0.0s finished\n",
      "[Parallel(n_jobs=6)]: Using backend ThreadingBackend with 6 concurrent workers.\n",
      "[Parallel(n_jobs=6)]: Done  20 out of  20 | elapsed:    0.0s finished\n"
     ]
    },
    {
     "name": "stdout",
     "output_type": "stream",
     "text": [
      "Test accuracy = 92.33%. Train accuracy = 92.51%.\n",
      "Best accuracy reached so far: 96.88066935636728 for params: 10, sqrt, 20, 50, 1, True\n",
      "214ème itérateur: 20, 1, 5, 30, 16, False\n"
     ]
    },
    {
     "name": "stderr",
     "output_type": "stream",
     "text": [
      "[Parallel(n_jobs=6)]: Using backend ThreadingBackend with 6 concurrent workers.\n",
      "[Parallel(n_jobs=6)]: Done  20 out of  20 | elapsed:    0.3s finished\n",
      "[Parallel(n_jobs=6)]: Using backend ThreadingBackend with 6 concurrent workers.\n",
      "[Parallel(n_jobs=6)]: Done  20 out of  20 | elapsed:    0.0s finished\n"
     ]
    },
    {
     "name": "stdout",
     "output_type": "stream",
     "text": [
      "Test accuracy = 93.52%. Train accuracy = 93.64%.\n",
      "Best accuracy reached so far: 96.88066935636728 for params: 10, sqrt, 20, 50, 1, True\n",
      "215ème itérateur: 20, 1, 7, 20, 32, False\n"
     ]
    },
    {
     "name": "stderr",
     "output_type": "stream",
     "text": [
      "[Parallel(n_jobs=6)]: Using backend ThreadingBackend with 6 concurrent workers.\n",
      "[Parallel(n_jobs=6)]: Done  20 out of  20 | elapsed:    0.0s finished\n",
      "[Parallel(n_jobs=6)]: Using backend ThreadingBackend with 6 concurrent workers.\n",
      "[Parallel(n_jobs=6)]: Done  20 out of  20 | elapsed:    0.4s finished\n",
      "[Parallel(n_jobs=6)]: Using backend ThreadingBackend with 6 concurrent workers.\n",
      "[Parallel(n_jobs=6)]: Done  20 out of  20 | elapsed:    0.0s finished\n",
      "[Parallel(n_jobs=6)]: Using backend ThreadingBackend with 6 concurrent workers.\n",
      "[Parallel(n_jobs=6)]: Done  20 out of  20 | elapsed:    0.0s finished\n"
     ]
    },
    {
     "name": "stdout",
     "output_type": "stream",
     "text": [
      "Test accuracy = 94.37%. Train accuracy = 94.60%.\n",
      "Best accuracy reached so far: 96.88066935636728 for params: 10, sqrt, 20, 50, 1, True\n",
      "216ème itérateur: 20, 1, 7, 50, 1, True\n"
     ]
    },
    {
     "name": "stderr",
     "output_type": "stream",
     "text": [
      "[Parallel(n_jobs=6)]: Using backend ThreadingBackend with 6 concurrent workers.\n",
      "[Parallel(n_jobs=6)]: Done  20 out of  20 | elapsed:    0.4s finished\n",
      "[Parallel(n_jobs=6)]: Using backend ThreadingBackend with 6 concurrent workers.\n",
      "[Parallel(n_jobs=6)]: Done  20 out of  20 | elapsed:    0.0s finished\n",
      "[Parallel(n_jobs=6)]: Using backend ThreadingBackend with 6 concurrent workers.\n"
     ]
    },
    {
     "name": "stdout",
     "output_type": "stream",
     "text": [
      "Test accuracy = 94.51%. Train accuracy = 94.75%.\n",
      "Best accuracy reached so far: 96.88066935636728 for params: 10, sqrt, 20, 50, 1, True\n",
      "217ème itérateur: 20, 1, 13, 70, 8, True\n"
     ]
    },
    {
     "name": "stderr",
     "output_type": "stream",
     "text": [
      "[Parallel(n_jobs=6)]: Done  20 out of  20 | elapsed:    0.0s finished\n",
      "[Parallel(n_jobs=6)]: Using backend ThreadingBackend with 6 concurrent workers.\n",
      "[Parallel(n_jobs=6)]: Done  20 out of  20 | elapsed:    0.5s finished\n",
      "[Parallel(n_jobs=6)]: Using backend ThreadingBackend with 6 concurrent workers.\n",
      "[Parallel(n_jobs=6)]: Done  20 out of  20 | elapsed:    0.0s finished\n",
      "[Parallel(n_jobs=6)]: Using backend ThreadingBackend with 6 concurrent workers.\n"
     ]
    },
    {
     "name": "stdout",
     "output_type": "stream",
     "text": [
      "Test accuracy = 95.94%. Train accuracy = 96.19%.\n",
      "Best accuracy reached so far: 96.88066935636728 for params: 10, sqrt, 20, 50, 1, True\n",
      "218ème itérateur: 20, 1, 17, 5, 4, True\n"
     ]
    },
    {
     "name": "stderr",
     "output_type": "stream",
     "text": [
      "[Parallel(n_jobs=6)]: Done  20 out of  20 | elapsed:    0.1s finished\n",
      "[Parallel(n_jobs=6)]: Using backend ThreadingBackend with 6 concurrent workers.\n",
      "[Parallel(n_jobs=6)]: Done  20 out of  20 | elapsed:    0.5s finished\n",
      "[Parallel(n_jobs=6)]: Using backend ThreadingBackend with 6 concurrent workers.\n",
      "[Parallel(n_jobs=6)]: Done  20 out of  20 | elapsed:    0.0s finished\n"
     ]
    },
    {
     "name": "stdout",
     "output_type": "stream",
     "text": [
      "Test accuracy = 96.22%. Train accuracy = 96.89%.\n",
      "Best accuracy reached so far: 96.88066935636728 for params: 10, sqrt, 20, 50, 1, True\n",
      "219ème itérateur: 20, 1, 17, 70, 1, True\n"
     ]
    },
    {
     "name": "stderr",
     "output_type": "stream",
     "text": [
      "[Parallel(n_jobs=6)]: Using backend ThreadingBackend with 6 concurrent workers.\n",
      "[Parallel(n_jobs=6)]: Done  20 out of  20 | elapsed:    0.1s finished\n",
      "[Parallel(n_jobs=6)]: Using backend ThreadingBackend with 6 concurrent workers.\n",
      "[Parallel(n_jobs=6)]: Done  20 out of  20 | elapsed:    0.5s finished\n",
      "[Parallel(n_jobs=6)]: Using backend ThreadingBackend with 6 concurrent workers.\n",
      "[Parallel(n_jobs=6)]: Done  20 out of  20 | elapsed:    0.0s finished\n"
     ]
    },
    {
     "name": "stdout",
     "output_type": "stream",
     "text": [
      "Test accuracy = 96.27%. Train accuracy = 96.72%.\n",
      "Best accuracy reached so far: 96.88066935636728 for params: 10, sqrt, 20, 50, 1, True\n",
      "220ème itérateur: 20, 1, 20, 20, 2, False\n"
     ]
    },
    {
     "name": "stderr",
     "output_type": "stream",
     "text": [
      "[Parallel(n_jobs=6)]: Using backend ThreadingBackend with 6 concurrent workers.\n",
      "[Parallel(n_jobs=6)]: Done  20 out of  20 | elapsed:    0.1s finished\n",
      "[Parallel(n_jobs=6)]: Using backend ThreadingBackend with 6 concurrent workers.\n",
      "[Parallel(n_jobs=6)]: Done  20 out of  20 | elapsed:    0.7s finished\n",
      "[Parallel(n_jobs=6)]: Using backend ThreadingBackend with 6 concurrent workers.\n",
      "[Parallel(n_jobs=6)]: Done  20 out of  20 | elapsed:    0.0s finished\n",
      "[Parallel(n_jobs=6)]: Using backend ThreadingBackend with 6 concurrent workers.\n"
     ]
    },
    {
     "name": "stdout",
     "output_type": "stream",
     "text": [
      "Test accuracy = 96.53%. Train accuracy = 97.70%.\n",
      "Best accuracy reached so far: 96.88066935636728 for params: 10, sqrt, 20, 50, 1, True\n",
      "221ème itérateur: 20, 1, 25, 50, 128, False\n"
     ]
    },
    {
     "name": "stderr",
     "output_type": "stream",
     "text": [
      "[Parallel(n_jobs=6)]: Done  20 out of  20 | elapsed:    0.1s finished\n",
      "[Parallel(n_jobs=6)]: Using backend ThreadingBackend with 6 concurrent workers.\n",
      "[Parallel(n_jobs=6)]: Done  20 out of  20 | elapsed:    0.5s finished\n",
      "[Parallel(n_jobs=6)]: Using backend ThreadingBackend with 6 concurrent workers.\n",
      "[Parallel(n_jobs=6)]: Done  20 out of  20 | elapsed:    0.0s finished\n",
      "[Parallel(n_jobs=6)]: Using backend ThreadingBackend with 6 concurrent workers.\n",
      "[Parallel(n_jobs=6)]: Done  20 out of  20 | elapsed:    0.1s finished\n"
     ]
    },
    {
     "name": "stdout",
     "output_type": "stream",
     "text": [
      "Test accuracy = 95.51%. Train accuracy = 95.70%.\n",
      "Best accuracy reached so far: 96.88066935636728 for params: 10, sqrt, 20, 50, 1, True\n",
      "222ème itérateur: 20, 2, 4, 50, 8, False\n"
     ]
    },
    {
     "name": "stderr",
     "output_type": "stream",
     "text": [
      "[Parallel(n_jobs=6)]: Using backend ThreadingBackend with 6 concurrent workers.\n",
      "[Parallel(n_jobs=6)]: Done  20 out of  20 | elapsed:    0.4s finished\n",
      "[Parallel(n_jobs=6)]: Using backend ThreadingBackend with 6 concurrent workers.\n",
      "[Parallel(n_jobs=6)]: Done  20 out of  20 | elapsed:    0.0s finished\n",
      "[Parallel(n_jobs=6)]: Using backend ThreadingBackend with 6 concurrent workers.\n",
      "[Parallel(n_jobs=6)]: Done  20 out of  20 | elapsed:    0.0s finished\n"
     ]
    },
    {
     "name": "stdout",
     "output_type": "stream",
     "text": [
      "Test accuracy = 94.47%. Train accuracy = 94.52%.\n",
      "Best accuracy reached so far: 96.88066935636728 for params: 10, sqrt, 20, 50, 1, True\n",
      "223ème itérateur: 20, 2, 5, 30, 128, True\n"
     ]
    },
    {
     "name": "stderr",
     "output_type": "stream",
     "text": [
      "[Parallel(n_jobs=6)]: Using backend ThreadingBackend with 6 concurrent workers.\n",
      "[Parallel(n_jobs=6)]: Done  20 out of  20 | elapsed:    0.4s finished\n",
      "[Parallel(n_jobs=6)]: Using backend ThreadingBackend with 6 concurrent workers.\n",
      "[Parallel(n_jobs=6)]: Done  20 out of  20 | elapsed:    0.0s finished\n"
     ]
    },
    {
     "name": "stdout",
     "output_type": "stream",
     "text": [
      "Test accuracy = 94.69%. Train accuracy = 94.76%.\n",
      "Best accuracy reached so far: 96.88066935636728 for params: 10, sqrt, 20, 50, 1, True\n",
      "224ème itérateur: 20, 2, 7, 2, 8, False\n"
     ]
    },
    {
     "name": "stderr",
     "output_type": "stream",
     "text": [
      "[Parallel(n_jobs=6)]: Using backend ThreadingBackend with 6 concurrent workers.\n",
      "[Parallel(n_jobs=6)]: Done  20 out of  20 | elapsed:    0.0s finished\n",
      "[Parallel(n_jobs=6)]: Using backend ThreadingBackend with 6 concurrent workers.\n",
      "[Parallel(n_jobs=6)]: Done  20 out of  20 | elapsed:    0.6s finished\n",
      "[Parallel(n_jobs=6)]: Using backend ThreadingBackend with 6 concurrent workers.\n",
      "[Parallel(n_jobs=6)]: Done  20 out of  20 | elapsed:    0.0s finished\n",
      "[Parallel(n_jobs=6)]: Using backend ThreadingBackend with 6 concurrent workers.\n"
     ]
    },
    {
     "name": "stdout",
     "output_type": "stream",
     "text": [
      "Test accuracy = 95.39%. Train accuracy = 95.54%.\n",
      "Best accuracy reached so far: 96.88066935636728 for params: 10, sqrt, 20, 50, 1, True\n",
      "225ème itérateur: 20, 2, 20, 60, 16, True\n"
     ]
    },
    {
     "name": "stderr",
     "output_type": "stream",
     "text": [
      "[Parallel(n_jobs=6)]: Done  20 out of  20 | elapsed:    0.0s finished\n",
      "[Parallel(n_jobs=6)]: Using backend ThreadingBackend with 6 concurrent workers.\n",
      "[Parallel(n_jobs=6)]: Done  20 out of  20 | elapsed:    0.8s finished\n",
      "[Parallel(n_jobs=6)]: Using backend ThreadingBackend with 6 concurrent workers.\n",
      "[Parallel(n_jobs=6)]: Done  20 out of  20 | elapsed:    0.0s finished\n",
      "[Parallel(n_jobs=6)]: Using backend ThreadingBackend with 6 concurrent workers.\n"
     ]
    },
    {
     "name": "stdout",
     "output_type": "stream",
     "text": [
      "Test accuracy = 96.59%. Train accuracy = 96.93%.\n",
      "Best accuracy reached so far: 96.88066935636728 for params: 10, sqrt, 20, 50, 1, True\n",
      "226ème itérateur: 20, 2, 25, 30, 16, False\n"
     ]
    },
    {
     "name": "stderr",
     "output_type": "stream",
     "text": [
      "[Parallel(n_jobs=6)]: Done  20 out of  20 | elapsed:    0.1s finished\n",
      "[Parallel(n_jobs=6)]: Using backend ThreadingBackend with 6 concurrent workers.\n",
      "[Parallel(n_jobs=6)]: Done  20 out of  20 | elapsed:    1.0s finished\n",
      "[Parallel(n_jobs=6)]: Using backend ThreadingBackend with 6 concurrent workers.\n",
      "[Parallel(n_jobs=6)]: Done  20 out of  20 | elapsed:    0.0s finished\n",
      "[Parallel(n_jobs=6)]: Using backend ThreadingBackend with 6 concurrent workers.\n"
     ]
    },
    {
     "name": "stdout",
     "output_type": "stream",
     "text": [
      "Test accuracy = 96.75%. Train accuracy = 97.33%.\n",
      "Best accuracy reached so far: 96.88066935636728 for params: 10, sqrt, 20, 50, 1, True\n",
      "227ème itérateur: 20, 2, 25, 40, 2, False\n"
     ]
    },
    {
     "name": "stderr",
     "output_type": "stream",
     "text": [
      "[Parallel(n_jobs=6)]: Done  20 out of  20 | elapsed:    0.1s finished\n",
      "[Parallel(n_jobs=6)]: Using backend ThreadingBackend with 6 concurrent workers.\n",
      "[Parallel(n_jobs=6)]: Done  20 out of  20 | elapsed:    1.1s finished\n",
      "[Parallel(n_jobs=6)]: Using backend ThreadingBackend with 6 concurrent workers.\n",
      "[Parallel(n_jobs=6)]: Done  20 out of  20 | elapsed:    0.0s finished\n",
      "[Parallel(n_jobs=6)]: Using backend ThreadingBackend with 6 concurrent workers.\n"
     ]
    },
    {
     "name": "stdout",
     "output_type": "stream",
     "text": [
      "Test accuracy = 96.86%. Train accuracy = 97.83%.\n",
      "Best accuracy reached so far: 96.88066935636728 for params: 10, sqrt, 20, 50, 1, True\n",
      "228ème itérateur: 20, 3, 1, 40, 4, True\n"
     ]
    },
    {
     "name": "stderr",
     "output_type": "stream",
     "text": [
      "[Parallel(n_jobs=6)]: Done  20 out of  20 | elapsed:    0.1s finished\n",
      "[Parallel(n_jobs=6)]: Using backend ThreadingBackend with 6 concurrent workers.\n",
      "[Parallel(n_jobs=6)]: Done  20 out of  20 | elapsed:    0.2s finished\n",
      "[Parallel(n_jobs=6)]: Using backend ThreadingBackend with 6 concurrent workers.\n",
      "[Parallel(n_jobs=6)]: Done  20 out of  20 | elapsed:    0.0s finished\n",
      "[Parallel(n_jobs=6)]: Using backend ThreadingBackend with 6 concurrent workers.\n",
      "[Parallel(n_jobs=6)]: Done  20 out of  20 | elapsed:    0.0s finished\n"
     ]
    },
    {
     "name": "stdout",
     "output_type": "stream",
     "text": [
      "Test accuracy = 92.63%. Train accuracy = 92.63%.\n",
      "Best accuracy reached so far: 96.88066935636728 for params: 10, sqrt, 20, 50, 1, True\n",
      "229ème itérateur: 20, 3, 3, 50, 128, True\n"
     ]
    },
    {
     "name": "stderr",
     "output_type": "stream",
     "text": [
      "[Parallel(n_jobs=6)]: Using backend ThreadingBackend with 6 concurrent workers.\n",
      "[Parallel(n_jobs=6)]: Done  20 out of  20 | elapsed:    0.4s finished\n",
      "[Parallel(n_jobs=6)]: Using backend ThreadingBackend with 6 concurrent workers.\n",
      "[Parallel(n_jobs=6)]: Done  20 out of  20 | elapsed:    0.0s finished\n",
      "[Parallel(n_jobs=6)]: Using backend ThreadingBackend with 6 concurrent workers.\n",
      "[Parallel(n_jobs=6)]: Done  20 out of  20 | elapsed:    0.0s finished\n"
     ]
    },
    {
     "name": "stdout",
     "output_type": "stream",
     "text": [
      "Test accuracy = 93.98%. Train accuracy = 93.91%.\n",
      "Best accuracy reached so far: 96.88066935636728 for params: 10, sqrt, 20, 50, 1, True\n",
      "230ème itérateur: 20, 3, 4, 70, 64, True\n"
     ]
    },
    {
     "name": "stderr",
     "output_type": "stream",
     "text": [
      "[Parallel(n_jobs=6)]: Using backend ThreadingBackend with 6 concurrent workers.\n",
      "[Parallel(n_jobs=6)]: Done  20 out of  20 | elapsed:    0.5s finished\n",
      "[Parallel(n_jobs=6)]: Using backend ThreadingBackend with 6 concurrent workers.\n",
      "[Parallel(n_jobs=6)]: Done  20 out of  20 | elapsed:    0.0s finished\n",
      "[Parallel(n_jobs=6)]: Using backend ThreadingBackend with 6 concurrent workers.\n"
     ]
    },
    {
     "name": "stdout",
     "output_type": "stream",
     "text": [
      "Test accuracy = 94.70%. Train accuracy = 94.68%.\n",
      "Best accuracy reached so far: 96.88066935636728 for params: 10, sqrt, 20, 50, 1, True\n",
      "231ème itérateur: 20, 3, 5, 20, 128, False\n"
     ]
    },
    {
     "name": "stderr",
     "output_type": "stream",
     "text": [
      "[Parallel(n_jobs=6)]: Done  20 out of  20 | elapsed:    0.0s finished\n",
      "[Parallel(n_jobs=6)]: Using backend ThreadingBackend with 6 concurrent workers.\n",
      "[Parallel(n_jobs=6)]: Done  20 out of  20 | elapsed:    0.7s finished\n",
      "[Parallel(n_jobs=6)]: Using backend ThreadingBackend with 6 concurrent workers.\n",
      "[Parallel(n_jobs=6)]: Done  20 out of  20 | elapsed:    0.0s finished\n",
      "[Parallel(n_jobs=6)]: Using backend ThreadingBackend with 6 concurrent workers.\n"
     ]
    },
    {
     "name": "stdout",
     "output_type": "stream",
     "text": [
      "Test accuracy = 95.11%. Train accuracy = 95.13%.\n",
      "Best accuracy reached so far: 96.88066935636728 for params: 10, sqrt, 20, 50, 1, True\n",
      "232ème itérateur: 20, 3, 25, 60, 128, False\n"
     ]
    },
    {
     "name": "stderr",
     "output_type": "stream",
     "text": [
      "[Parallel(n_jobs=6)]: Done  20 out of  20 | elapsed:    0.0s finished\n",
      "[Parallel(n_jobs=6)]: Using backend ThreadingBackend with 6 concurrent workers.\n",
      "[Parallel(n_jobs=6)]: Done  20 out of  20 | elapsed:    1.2s finished\n",
      "[Parallel(n_jobs=6)]: Using backend ThreadingBackend with 6 concurrent workers.\n",
      "[Parallel(n_jobs=6)]: Done  20 out of  20 | elapsed:    0.0s finished\n"
     ]
    },
    {
     "name": "stdout",
     "output_type": "stream",
     "text": [
      "Test accuracy = 96.53%. Train accuracy = 96.67%.\n",
      "Best accuracy reached so far: 96.88066935636728 for params: 10, sqrt, 20, 50, 1, True\n",
      "233ème itérateur: 20, 3, None, 40, 8, True\n"
     ]
    },
    {
     "name": "stderr",
     "output_type": "stream",
     "text": [
      "[Parallel(n_jobs=6)]: Using backend ThreadingBackend with 6 concurrent workers.\n",
      "[Parallel(n_jobs=6)]: Done  20 out of  20 | elapsed:    0.1s finished\n",
      "[Parallel(n_jobs=6)]: Using backend ThreadingBackend with 6 concurrent workers.\n",
      "[Parallel(n_jobs=6)]: Done  20 out of  20 | elapsed:    1.1s finished\n",
      "[Parallel(n_jobs=6)]: Using backend ThreadingBackend with 6 concurrent workers.\n",
      "[Parallel(n_jobs=6)]: Done  20 out of  20 | elapsed:    0.0s finished\n",
      "[Parallel(n_jobs=6)]: Using backend ThreadingBackend with 6 concurrent workers.\n"
     ]
    },
    {
     "name": "stdout",
     "output_type": "stream",
     "text": [
      "Test accuracy = 96.80%. Train accuracy = 97.31%.\n",
      "Best accuracy reached so far: 96.88066935636728 for params: 10, sqrt, 20, 50, 1, True\n",
      "234ème itérateur: 20, 8, 4, 5, 8, True\n"
     ]
    },
    {
     "name": "stderr",
     "output_type": "stream",
     "text": [
      "[Parallel(n_jobs=6)]: Done  20 out of  20 | elapsed:    0.1s finished\n",
      "[Parallel(n_jobs=6)]: Using backend ThreadingBackend with 6 concurrent workers.\n",
      "[Parallel(n_jobs=6)]: Done  20 out of  20 | elapsed:    1.0s finished\n",
      "[Parallel(n_jobs=6)]: Using backend ThreadingBackend with 6 concurrent workers.\n",
      "[Parallel(n_jobs=6)]: Done  20 out of  20 | elapsed:    0.0s finished\n",
      "[Parallel(n_jobs=6)]: Using backend ThreadingBackend with 6 concurrent workers.\n"
     ]
    },
    {
     "name": "stdout",
     "output_type": "stream",
     "text": [
      "Test accuracy = 95.47%. Train accuracy = 95.39%.\n",
      "Best accuracy reached so far: 96.88066935636728 for params: 10, sqrt, 20, 50, 1, True\n",
      "235ème itérateur: 20, 8, 5, 60, 1, True\n"
     ]
    },
    {
     "name": "stderr",
     "output_type": "stream",
     "text": [
      "[Parallel(n_jobs=6)]: Done  20 out of  20 | elapsed:    0.0s finished\n",
      "[Parallel(n_jobs=6)]: Using backend ThreadingBackend with 6 concurrent workers.\n",
      "[Parallel(n_jobs=6)]: Done  20 out of  20 | elapsed:    1.2s finished\n",
      "[Parallel(n_jobs=6)]: Using backend ThreadingBackend with 6 concurrent workers.\n",
      "[Parallel(n_jobs=6)]: Done  20 out of  20 | elapsed:    0.0s finished\n",
      "[Parallel(n_jobs=6)]: Using backend ThreadingBackend with 6 concurrent workers.\n"
     ]
    },
    {
     "name": "stdout",
     "output_type": "stream",
     "text": [
      "Test accuracy = 96.12%. Train accuracy = 96.06%.\n",
      "Best accuracy reached so far: 96.88066935636728 for params: 10, sqrt, 20, 50, 1, True\n",
      "236ème itérateur: 20, 8, 7, 30, 1, False\n"
     ]
    },
    {
     "name": "stderr",
     "output_type": "stream",
     "text": [
      "[Parallel(n_jobs=6)]: Done  20 out of  20 | elapsed:    0.0s finished\n",
      "[Parallel(n_jobs=6)]: Using backend ThreadingBackend with 6 concurrent workers.\n",
      "[Parallel(n_jobs=6)]: Done  20 out of  20 | elapsed:    2.0s finished\n",
      "[Parallel(n_jobs=6)]: Using backend ThreadingBackend with 6 concurrent workers.\n",
      "[Parallel(n_jobs=6)]: Done  20 out of  20 | elapsed:    0.0s finished\n",
      "[Parallel(n_jobs=6)]: Using backend ThreadingBackend with 6 concurrent workers.\n",
      "[Parallel(n_jobs=6)]: Done  20 out of  20 | elapsed:    0.0s finished\n"
     ]
    },
    {
     "name": "stdout",
     "output_type": "stream",
     "text": [
      "Test accuracy = 96.50%. Train accuracy = 96.53%.\n",
      "Best accuracy reached so far: 96.88066935636728 for params: 10, sqrt, 20, 50, 1, True\n",
      "237ème itérateur: 20, 8, 17, 40, 32, True\n"
     ]
    },
    {
     "name": "stderr",
     "output_type": "stream",
     "text": [
      "[Parallel(n_jobs=6)]: Using backend ThreadingBackend with 6 concurrent workers.\n",
      "[Parallel(n_jobs=6)]: Done  20 out of  20 | elapsed:    2.3s finished\n",
      "[Parallel(n_jobs=6)]: Using backend ThreadingBackend with 6 concurrent workers.\n",
      "[Parallel(n_jobs=6)]: Done  20 out of  20 | elapsed:    0.0s finished\n",
      "[Parallel(n_jobs=6)]: Using backend ThreadingBackend with 6 concurrent workers.\n",
      "[Parallel(n_jobs=6)]: Done  20 out of  20 | elapsed:    0.1s finished\n"
     ]
    },
    {
     "name": "stdout",
     "output_type": "stream",
     "text": [
      "Test accuracy = 96.85%. Train accuracy = 97.08%.\n",
      "Best accuracy reached so far: 96.88066935636728 for params: 10, sqrt, 20, 50, 1, True\n",
      "238ème itérateur: 20, 8, 20, 60, 2, False\n"
     ]
    },
    {
     "name": "stderr",
     "output_type": "stream",
     "text": [
      "[Parallel(n_jobs=6)]: Using backend ThreadingBackend with 6 concurrent workers.\n",
      "[Parallel(n_jobs=6)]: Done  20 out of  20 | elapsed:    3.4s finished\n",
      "[Parallel(n_jobs=6)]: Using backend ThreadingBackend with 6 concurrent workers.\n",
      "[Parallel(n_jobs=6)]: Done  20 out of  20 | elapsed:    0.0s finished\n"
     ]
    },
    {
     "name": "stdout",
     "output_type": "stream",
     "text": [
      "Test accuracy = 96.89%. Train accuracy = 97.70%.\n",
      "Best accuracy reached so far: 96.89420811784139 for params: 20, 8, 20, 60, 2, False\n",
      "239ème itérateur: 20, 8, 25, 10, 128, False\n"
     ]
    },
    {
     "name": "stderr",
     "output_type": "stream",
     "text": [
      "[Parallel(n_jobs=6)]: Using backend ThreadingBackend with 6 concurrent workers.\n",
      "[Parallel(n_jobs=6)]: Done  20 out of  20 | elapsed:    0.1s finished\n",
      "[Parallel(n_jobs=6)]: Using backend ThreadingBackend with 6 concurrent workers.\n",
      "[Parallel(n_jobs=6)]: Done  20 out of  20 | elapsed:    3.1s finished\n",
      "[Parallel(n_jobs=6)]: Using backend ThreadingBackend with 6 concurrent workers.\n",
      "[Parallel(n_jobs=6)]: Done  20 out of  20 | elapsed:    0.0s finished\n",
      "[Parallel(n_jobs=6)]: Using backend ThreadingBackend with 6 concurrent workers.\n",
      "[Parallel(n_jobs=6)]: Done  20 out of  20 | elapsed:    0.1s finished\n"
     ]
    },
    {
     "name": "stdout",
     "output_type": "stream",
     "text": [
      "Test accuracy = 96.66%. Train accuracy = 96.76%.\n",
      "Best accuracy reached so far: 96.89420811784139 for params: 20, 8, 20, 60, 2, False\n",
      "240ème itérateur: 20, 8, None, 60, 16, False\n"
     ]
    },
    {
     "name": "stderr",
     "output_type": "stream",
     "text": [
      "[Parallel(n_jobs=6)]: Using backend ThreadingBackend with 6 concurrent workers.\n",
      "[Parallel(n_jobs=6)]: Done  20 out of  20 | elapsed:    3.7s finished\n",
      "[Parallel(n_jobs=6)]: Using backend ThreadingBackend with 6 concurrent workers.\n",
      "[Parallel(n_jobs=6)]: Done  20 out of  20 | elapsed:    0.0s finished\n"
     ]
    },
    {
     "name": "stdout",
     "output_type": "stream",
     "text": [
      "Test accuracy = 96.88%. Train accuracy = 97.51%.\n",
      "Best accuracy reached so far: 96.89420811784139 for params: 20, 8, 20, 60, 2, False\n",
      "241ème itérateur: 20, 8, None, 70, 8, False\n"
     ]
    },
    {
     "name": "stderr",
     "output_type": "stream",
     "text": [
      "[Parallel(n_jobs=6)]: Using backend ThreadingBackend with 6 concurrent workers.\n",
      "[Parallel(n_jobs=6)]: Done  20 out of  20 | elapsed:    0.1s finished\n",
      "[Parallel(n_jobs=6)]: Using backend ThreadingBackend with 6 concurrent workers.\n",
      "[Parallel(n_jobs=6)]: Done  20 out of  20 | elapsed:    4.0s finished\n",
      "[Parallel(n_jobs=6)]: Using backend ThreadingBackend with 6 concurrent workers.\n",
      "[Parallel(n_jobs=6)]: Done  20 out of  20 | elapsed:    0.0s finished\n",
      "[Parallel(n_jobs=6)]: Using backend ThreadingBackend with 6 concurrent workers.\n"
     ]
    },
    {
     "name": "stdout",
     "output_type": "stream",
     "text": [
      "Test accuracy = 96.92%. Train accuracy = 97.52%.\n",
      "Best accuracy reached so far: 96.91587013619994 for params: 20, 8, None, 70, 8, False\n",
      "242ème itérateur: 20, sqrt, 1, 20, 2, True\n"
     ]
    },
    {
     "name": "stderr",
     "output_type": "stream",
     "text": [
      "[Parallel(n_jobs=6)]: Done  20 out of  20 | elapsed:    0.1s finished\n",
      "[Parallel(n_jobs=6)]: Using backend ThreadingBackend with 6 concurrent workers.\n",
      "[Parallel(n_jobs=6)]: Done  20 out of  20 | elapsed:    0.2s finished\n",
      "[Parallel(n_jobs=6)]: Using backend ThreadingBackend with 6 concurrent workers.\n",
      "[Parallel(n_jobs=6)]: Done  20 out of  20 | elapsed:    0.0s finished\n",
      "[Parallel(n_jobs=6)]: Using backend ThreadingBackend with 6 concurrent workers.\n"
     ]
    },
    {
     "name": "stdout",
     "output_type": "stream",
     "text": [
      "Test accuracy = 92.74%. Train accuracy = 92.79%.\n",
      "Best accuracy reached so far: 96.91587013619994 for params: 20, 8, None, 70, 8, False\n",
      "243ème itérateur: 20, sqrt, 4, 50, 1, True\n"
     ]
    },
    {
     "name": "stderr",
     "output_type": "stream",
     "text": [
      "[Parallel(n_jobs=6)]: Done  20 out of  20 | elapsed:    0.0s finished\n",
      "[Parallel(n_jobs=6)]: Using backend ThreadingBackend with 6 concurrent workers.\n",
      "[Parallel(n_jobs=6)]: Done  20 out of  20 | elapsed:    0.8s finished\n",
      "[Parallel(n_jobs=6)]: Using backend ThreadingBackend with 6 concurrent workers.\n",
      "[Parallel(n_jobs=6)]: Done  20 out of  20 | elapsed:    0.0s finished\n",
      "[Parallel(n_jobs=6)]: Using backend ThreadingBackend with 6 concurrent workers.\n",
      "[Parallel(n_jobs=6)]: Done  20 out of  20 | elapsed:    0.0s finished\n"
     ]
    },
    {
     "name": "stdout",
     "output_type": "stream",
     "text": [
      "Test accuracy = 95.49%. Train accuracy = 95.49%.\n",
      "Best accuracy reached so far: 96.91587013619994 for params: 20, 8, None, 70, 8, False\n",
      "244ème itérateur: 20, sqrt, 5, 5, 8, True\n"
     ]
    },
    {
     "name": "stderr",
     "output_type": "stream",
     "text": [
      "[Parallel(n_jobs=6)]: Using backend ThreadingBackend with 6 concurrent workers.\n",
      "[Parallel(n_jobs=6)]: Done  20 out of  20 | elapsed:    0.8s finished\n",
      "[Parallel(n_jobs=6)]: Using backend ThreadingBackend with 6 concurrent workers.\n",
      "[Parallel(n_jobs=6)]: Done  20 out of  20 | elapsed:    0.0s finished\n",
      "[Parallel(n_jobs=6)]: Using backend ThreadingBackend with 6 concurrent workers.\n"
     ]
    },
    {
     "name": "stdout",
     "output_type": "stream",
     "text": [
      "Test accuracy = 95.56%. Train accuracy = 95.52%.\n",
      "Best accuracy reached so far: 96.91587013619994 for params: 20, 8, None, 70, 8, False\n",
      "245ème itérateur: 20, sqrt, 7, 10, 1, True\n"
     ]
    },
    {
     "name": "stderr",
     "output_type": "stream",
     "text": [
      "[Parallel(n_jobs=6)]: Done  20 out of  20 | elapsed:    0.0s finished\n",
      "[Parallel(n_jobs=6)]: Using backend ThreadingBackend with 6 concurrent workers.\n",
      "[Parallel(n_jobs=6)]: Done  20 out of  20 | elapsed:    1.1s finished\n",
      "[Parallel(n_jobs=6)]: Using backend ThreadingBackend with 6 concurrent workers.\n",
      "[Parallel(n_jobs=6)]: Done  20 out of  20 | elapsed:    0.0s finished\n",
      "[Parallel(n_jobs=6)]: Using backend ThreadingBackend with 6 concurrent workers.\n"
     ]
    },
    {
     "name": "stdout",
     "output_type": "stream",
     "text": [
      "Test accuracy = 96.23%. Train accuracy = 96.35%.\n",
      "Best accuracy reached so far: 96.91587013619994 for params: 20, 8, None, 70, 8, False\n",
      "246ème itérateur: 20, sqrt, 7, 40, 64, False\n"
     ]
    },
    {
     "name": "stderr",
     "output_type": "stream",
     "text": [
      "[Parallel(n_jobs=6)]: Done  20 out of  20 | elapsed:    0.0s finished\n",
      "[Parallel(n_jobs=6)]: Using backend ThreadingBackend with 6 concurrent workers.\n",
      "[Parallel(n_jobs=6)]: Done  20 out of  20 | elapsed:    1.4s finished\n",
      "[Parallel(n_jobs=6)]: Using backend ThreadingBackend with 6 concurrent workers.\n",
      "[Parallel(n_jobs=6)]: Done  20 out of  20 | elapsed:    0.0s finished\n",
      "[Parallel(n_jobs=6)]: Using backend ThreadingBackend with 6 concurrent workers.\n"
     ]
    },
    {
     "name": "stdout",
     "output_type": "stream",
     "text": [
      "Test accuracy = 96.25%. Train accuracy = 96.34%.\n",
      "Best accuracy reached so far: 96.91587013619994 for params: 20, 8, None, 70, 8, False\n",
      "247ème itérateur: 20, sqrt, 10, 2, 1, True\n"
     ]
    },
    {
     "name": "stderr",
     "output_type": "stream",
     "text": [
      "[Parallel(n_jobs=6)]: Done  20 out of  20 | elapsed:    0.0s finished\n",
      "[Parallel(n_jobs=6)]: Using backend ThreadingBackend with 6 concurrent workers.\n",
      "[Parallel(n_jobs=6)]: Done  20 out of  20 | elapsed:    1.3s finished\n",
      "[Parallel(n_jobs=6)]: Using backend ThreadingBackend with 6 concurrent workers.\n",
      "[Parallel(n_jobs=6)]: Done  20 out of  20 | elapsed:    0.0s finished\n",
      "[Parallel(n_jobs=6)]: Using backend ThreadingBackend with 6 concurrent workers.\n",
      "[Parallel(n_jobs=6)]: Done  20 out of  20 | elapsed:    0.1s finished\n"
     ]
    },
    {
     "name": "stdout",
     "output_type": "stream",
     "text": [
      "Test accuracy = 96.69%. Train accuracy = 97.02%.\n",
      "Best accuracy reached so far: 96.91587013619994 for params: 20, 8, None, 70, 8, False\n",
      "248ème itérateur: 20, sqrt, 10, 10, 16, True\n"
     ]
    },
    {
     "name": "stderr",
     "output_type": "stream",
     "text": [
      "[Parallel(n_jobs=6)]: Using backend ThreadingBackend with 6 concurrent workers.\n",
      "[Parallel(n_jobs=6)]: Done  20 out of  20 | elapsed:    1.4s finished\n",
      "[Parallel(n_jobs=6)]: Using backend ThreadingBackend with 6 concurrent workers.\n",
      "[Parallel(n_jobs=6)]: Done  20 out of  20 | elapsed:    0.0s finished\n",
      "[Parallel(n_jobs=6)]: Using backend ThreadingBackend with 6 concurrent workers.\n",
      "[Parallel(n_jobs=6)]: Done  20 out of  20 | elapsed:    0.1s finished\n"
     ]
    },
    {
     "name": "stdout",
     "output_type": "stream",
     "text": [
      "Test accuracy = 96.75%. Train accuracy = 96.89%.\n",
      "Best accuracy reached so far: 96.91587013619994 for params: 20, 8, None, 70, 8, False\n",
      "249ème itérateur: 20, sqrt, 13, 10, 32, False\n"
     ]
    },
    {
     "name": "stderr",
     "output_type": "stream",
     "text": [
      "[Parallel(n_jobs=6)]: Using backend ThreadingBackend with 6 concurrent workers.\n",
      "[Parallel(n_jobs=6)]: Done  20 out of  20 | elapsed:    2.1s finished\n",
      "[Parallel(n_jobs=6)]: Using backend ThreadingBackend with 6 concurrent workers.\n",
      "[Parallel(n_jobs=6)]: Done  20 out of  20 | elapsed:    0.0s finished\n",
      "[Parallel(n_jobs=6)]: Using backend ThreadingBackend with 6 concurrent workers.\n"
     ]
    },
    {
     "name": "stdout",
     "output_type": "stream",
     "text": [
      "Test accuracy = 96.82%. Train accuracy = 97.15%.\n",
      "Best accuracy reached so far: 96.91587013619994 for params: 20, 8, None, 70, 8, False\n",
      "250ème itérateur: 20, sqrt, 25, 10, 2, True\n"
     ]
    },
    {
     "name": "stderr",
     "output_type": "stream",
     "text": [
      "[Parallel(n_jobs=6)]: Done  20 out of  20 | elapsed:    0.1s finished\n",
      "[Parallel(n_jobs=6)]: Using backend ThreadingBackend with 6 concurrent workers.\n",
      "[Parallel(n_jobs=6)]: Done  20 out of  20 | elapsed:    1.9s finished\n",
      "[Parallel(n_jobs=6)]: Using backend ThreadingBackend with 6 concurrent workers.\n",
      "[Parallel(n_jobs=6)]: Done  20 out of  20 | elapsed:    0.0s finished\n",
      "[Parallel(n_jobs=6)]: Using backend ThreadingBackend with 6 concurrent workers.\n"
     ]
    },
    {
     "name": "stdout",
     "output_type": "stream",
     "text": [
      "Test accuracy = 96.99%. Train accuracy = 98.41%.\n",
      "Best accuracy reached so far: 96.98897944816008 for params: 20, sqrt, 25, 10, 2, True\n",
      "251ème itérateur: 20, None, 1, 2, 1, True\n"
     ]
    },
    {
     "name": "stderr",
     "output_type": "stream",
     "text": [
      "[Parallel(n_jobs=6)]: Done  20 out of  20 | elapsed:    0.1s finished\n",
      "[Parallel(n_jobs=6)]: Using backend ThreadingBackend with 6 concurrent workers.\n",
      "[Parallel(n_jobs=6)]: Done  20 out of  20 | elapsed:    1.0s finished\n",
      "[Parallel(n_jobs=6)]: Using backend ThreadingBackend with 6 concurrent workers.\n",
      "[Parallel(n_jobs=6)]: Done  20 out of  20 | elapsed:    0.0s finished\n",
      "[Parallel(n_jobs=6)]: Using backend ThreadingBackend with 6 concurrent workers.\n"
     ]
    },
    {
     "name": "stdout",
     "output_type": "stream",
     "text": [
      "Test accuracy = 92.47%. Train accuracy = 92.53%.\n",
      "Best accuracy reached so far: 96.98897944816008 for params: 20, sqrt, 25, 10, 2, True\n",
      "252ème itérateur: 20, None, 3, 40, 64, False\n"
     ]
    },
    {
     "name": "stderr",
     "output_type": "stream",
     "text": [
      "[Parallel(n_jobs=6)]: Done  20 out of  20 | elapsed:    0.0s finished\n",
      "[Parallel(n_jobs=6)]: Using backend ThreadingBackend with 6 concurrent workers.\n",
      "[Parallel(n_jobs=6)]: Done  20 out of  20 | elapsed:    3.2s finished\n",
      "[Parallel(n_jobs=6)]: Using backend ThreadingBackend with 6 concurrent workers.\n",
      "[Parallel(n_jobs=6)]: Done  20 out of  20 | elapsed:    0.0s finished\n",
      "[Parallel(n_jobs=6)]: Using backend ThreadingBackend with 6 concurrent workers.\n"
     ]
    },
    {
     "name": "stdout",
     "output_type": "stream",
     "text": [
      "Test accuracy = 95.01%. Train accuracy = 95.13%.\n",
      "Best accuracy reached so far: 96.98897944816008 for params: 20, sqrt, 25, 10, 2, True\n",
      "253ème itérateur: 20, None, 3, 50, 4, True\n"
     ]
    },
    {
     "name": "stderr",
     "output_type": "stream",
     "text": [
      "[Parallel(n_jobs=6)]: Done  20 out of  20 | elapsed:    0.0s finished\n",
      "[Parallel(n_jobs=6)]: Using backend ThreadingBackend with 6 concurrent workers.\n",
      "[Parallel(n_jobs=6)]: Done  20 out of  20 | elapsed:    2.5s finished\n",
      "[Parallel(n_jobs=6)]: Using backend ThreadingBackend with 6 concurrent workers.\n",
      "[Parallel(n_jobs=6)]: Done  20 out of  20 | elapsed:    0.0s finished\n",
      "[Parallel(n_jobs=6)]: Using backend ThreadingBackend with 6 concurrent workers.\n",
      "[Parallel(n_jobs=6)]: Done  20 out of  20 | elapsed:    0.0s finished\n"
     ]
    },
    {
     "name": "stdout",
     "output_type": "stream",
     "text": [
      "Test accuracy = 95.01%. Train accuracy = 95.14%.\n",
      "Best accuracy reached so far: 96.98897944816008 for params: 20, sqrt, 25, 10, 2, True\n",
      "254ème itérateur: 20, None, 5, 5, 64, False\n"
     ]
    },
    {
     "name": "stderr",
     "output_type": "stream",
     "text": [
      "[Parallel(n_jobs=6)]: Using backend ThreadingBackend with 6 concurrent workers.\n",
      "[Parallel(n_jobs=6)]: Done  20 out of  20 | elapsed:    5.3s finished\n",
      "[Parallel(n_jobs=6)]: Using backend ThreadingBackend with 6 concurrent workers.\n",
      "[Parallel(n_jobs=6)]: Done  20 out of  20 | elapsed:    0.0s finished\n",
      "[Parallel(n_jobs=6)]: Using backend ThreadingBackend with 6 concurrent workers.\n"
     ]
    },
    {
     "name": "stdout",
     "output_type": "stream",
     "text": [
      "Test accuracy = 95.86%. Train accuracy = 96.01%.\n",
      "Best accuracy reached so far: 96.98897944816008 for params: 20, sqrt, 25, 10, 2, True\n",
      "255ème itérateur: 20, None, 7, 20, 64, True\n"
     ]
    },
    {
     "name": "stderr",
     "output_type": "stream",
     "text": [
      "[Parallel(n_jobs=6)]: Done  20 out of  20 | elapsed:    0.0s finished\n",
      "[Parallel(n_jobs=6)]: Using backend ThreadingBackend with 6 concurrent workers.\n",
      "[Parallel(n_jobs=6)]: Done  20 out of  20 | elapsed:    5.3s finished\n",
      "[Parallel(n_jobs=6)]: Using backend ThreadingBackend with 6 concurrent workers.\n",
      "[Parallel(n_jobs=6)]: Done  20 out of  20 | elapsed:    0.0s finished\n",
      "[Parallel(n_jobs=6)]: Using backend ThreadingBackend with 6 concurrent workers.\n"
     ]
    },
    {
     "name": "stdout",
     "output_type": "stream",
     "text": [
      "Test accuracy = 96.24%. Train accuracy = 96.33%.\n",
      "Best accuracy reached so far: 96.98897944816008 for params: 20, sqrt, 25, 10, 2, True\n",
      "256ème itérateur: 20, None, 13, 2, 16, False\n"
     ]
    },
    {
     "name": "stderr",
     "output_type": "stream",
     "text": [
      "[Parallel(n_jobs=6)]: Done  20 out of  20 | elapsed:    0.0s finished\n",
      "[Parallel(n_jobs=6)]: Using backend ThreadingBackend with 6 concurrent workers.\n",
      "[Parallel(n_jobs=6)]: Done  20 out of  20 | elapsed:   10.3s finished\n",
      "[Parallel(n_jobs=6)]: Using backend ThreadingBackend with 6 concurrent workers.\n",
      "[Parallel(n_jobs=6)]: Done  20 out of  20 | elapsed:    0.0s finished\n",
      "[Parallel(n_jobs=6)]: Using backend ThreadingBackend with 6 concurrent workers.\n"
     ]
    },
    {
     "name": "stdout",
     "output_type": "stream",
     "text": [
      "Test accuracy = 96.52%. Train accuracy = 97.09%.\n",
      "Best accuracy reached so far: 96.98897944816008 for params: 20, sqrt, 25, 10, 2, True\n",
      "257ème itérateur: 20, None, 20, 20, 16, True\n"
     ]
    },
    {
     "name": "stderr",
     "output_type": "stream",
     "text": [
      "[Parallel(n_jobs=6)]: Done  20 out of  20 | elapsed:    0.1s finished\n",
      "[Parallel(n_jobs=6)]: Using backend ThreadingBackend with 6 concurrent workers.\n",
      "[Parallel(n_jobs=6)]: Done  20 out of  20 | elapsed:    9.4s finished\n",
      "[Parallel(n_jobs=6)]: Using backend ThreadingBackend with 6 concurrent workers.\n",
      "[Parallel(n_jobs=6)]: Done  20 out of  20 | elapsed:    0.0s finished\n",
      "[Parallel(n_jobs=6)]: Using backend ThreadingBackend with 6 concurrent workers.\n",
      "[Parallel(n_jobs=6)]: Done  20 out of  20 | elapsed:    0.1s finished\n"
     ]
    },
    {
     "name": "stdout",
     "output_type": "stream",
     "text": [
      "Test accuracy = 96.79%. Train accuracy = 97.38%.\n",
      "Best accuracy reached so far: 96.98897944816008 for params: 20, sqrt, 25, 10, 2, True\n",
      "258ème itérateur: 20, None, 25, 2, 4, True\n"
     ]
    },
    {
     "name": "stderr",
     "output_type": "stream",
     "text": [
      "[Parallel(n_jobs=6)]: Using backend ThreadingBackend with 6 concurrent workers.\n",
      "[Parallel(n_jobs=6)]: Done  20 out of  20 | elapsed:    9.7s finished\n",
      "[Parallel(n_jobs=6)]: Using backend ThreadingBackend with 6 concurrent workers.\n",
      "[Parallel(n_jobs=6)]: Done  20 out of  20 | elapsed:    0.0s finished\n",
      "[Parallel(n_jobs=6)]: Using backend ThreadingBackend with 6 concurrent workers.\n"
     ]
    },
    {
     "name": "stdout",
     "output_type": "stream",
     "text": [
      "Test accuracy = 96.88%. Train accuracy = 98.47%.\n",
      "Best accuracy reached so far: 96.98897944816008 for params: 20, sqrt, 25, 10, 2, True\n",
      "259ème itérateur: 20, None, 25, 10, 2, True\n"
     ]
    },
    {
     "name": "stderr",
     "output_type": "stream",
     "text": [
      "[Parallel(n_jobs=6)]: Done  20 out of  20 | elapsed:    0.1s finished\n",
      "[Parallel(n_jobs=6)]: Using backend ThreadingBackend with 6 concurrent workers.\n",
      "[Parallel(n_jobs=6)]: Done  20 out of  20 | elapsed:   10.1s finished\n",
      "[Parallel(n_jobs=6)]: Using backend ThreadingBackend with 6 concurrent workers.\n",
      "[Parallel(n_jobs=6)]: Done  20 out of  20 | elapsed:    0.0s finished\n",
      "[Parallel(n_jobs=6)]: Using backend ThreadingBackend with 6 concurrent workers.\n"
     ]
    },
    {
     "name": "stdout",
     "output_type": "stream",
     "text": [
      "Test accuracy = 96.89%. Train accuracy = 98.55%.\n",
      "Best accuracy reached so far: 96.98897944816008 for params: 20, sqrt, 25, 10, 2, True\n",
      "260ème itérateur: 30, 1, 1, 5, 64, False\n"
     ]
    },
    {
     "name": "stderr",
     "output_type": "stream",
     "text": [
      "[Parallel(n_jobs=6)]: Done  20 out of  20 | elapsed:    0.1s finished\n",
      "[Parallel(n_jobs=6)]: Using backend ThreadingBackend with 6 concurrent workers.\n",
      "[Parallel(n_jobs=6)]: Done  30 out of  30 | elapsed:    0.3s finished\n",
      "[Parallel(n_jobs=6)]: Using backend ThreadingBackend with 6 concurrent workers.\n",
      "[Parallel(n_jobs=6)]: Done  30 out of  30 | elapsed:    0.0s finished\n",
      "[Parallel(n_jobs=6)]: Using backend ThreadingBackend with 6 concurrent workers.\n"
     ]
    },
    {
     "name": "stdout",
     "output_type": "stream",
     "text": [
      "Test accuracy = 88.14%. Train accuracy = 88.36%.\n",
      "Best accuracy reached so far: 96.98897944816008 for params: 20, sqrt, 25, 10, 2, True\n",
      "261ème itérateur: 30, 1, 1, 30, 32, True\n"
     ]
    },
    {
     "name": "stderr",
     "output_type": "stream",
     "text": [
      "[Parallel(n_jobs=6)]: Done  30 out of  30 | elapsed:    0.1s finished\n",
      "[Parallel(n_jobs=6)]: Using backend ThreadingBackend with 6 concurrent workers.\n",
      "[Parallel(n_jobs=6)]: Done  30 out of  30 | elapsed:    0.2s finished\n",
      "[Parallel(n_jobs=6)]: Using backend ThreadingBackend with 6 concurrent workers.\n",
      "[Parallel(n_jobs=6)]: Done  30 out of  30 | elapsed:    0.0s finished\n",
      "[Parallel(n_jobs=6)]: Using backend ThreadingBackend with 6 concurrent workers.\n",
      "[Parallel(n_jobs=6)]: Done  30 out of  30 | elapsed:    0.1s finished\n"
     ]
    },
    {
     "name": "stdout",
     "output_type": "stream",
     "text": [
      "Test accuracy = 88.09%. Train accuracy = 88.36%.\n",
      "Best accuracy reached so far: 96.98897944816008 for params: 20, sqrt, 25, 10, 2, True\n",
      "262ème itérateur: 30, 1, 2, 50, 1, False\n"
     ]
    },
    {
     "name": "stderr",
     "output_type": "stream",
     "text": [
      "[Parallel(n_jobs=6)]: Using backend ThreadingBackend with 6 concurrent workers.\n",
      "[Parallel(n_jobs=6)]: Done  30 out of  30 | elapsed:    0.3s finished\n",
      "[Parallel(n_jobs=6)]: Using backend ThreadingBackend with 6 concurrent workers.\n",
      "[Parallel(n_jobs=6)]: Done  30 out of  30 | elapsed:    0.0s finished\n",
      "[Parallel(n_jobs=6)]: Using backend ThreadingBackend with 6 concurrent workers.\n",
      "[Parallel(n_jobs=6)]: Done  30 out of  30 | elapsed:    0.1s finished\n"
     ]
    },
    {
     "name": "stdout",
     "output_type": "stream",
     "text": [
      "Test accuracy = 89.68%. Train accuracy = 89.74%.\n",
      "Best accuracy reached so far: 96.98897944816008 for params: 20, sqrt, 25, 10, 2, True\n",
      "263ème itérateur: 30, 1, 3, 2, 1, False\n"
     ]
    },
    {
     "name": "stderr",
     "output_type": "stream",
     "text": [
      "[Parallel(n_jobs=6)]: Using backend ThreadingBackend with 6 concurrent workers.\n",
      "[Parallel(n_jobs=6)]: Done  30 out of  30 | elapsed:    0.4s finished\n",
      "[Parallel(n_jobs=6)]: Using backend ThreadingBackend with 6 concurrent workers.\n",
      "[Parallel(n_jobs=6)]: Done  30 out of  30 | elapsed:    0.0s finished\n"
     ]
    },
    {
     "name": "stdout",
     "output_type": "stream",
     "text": [
      "Test accuracy = 92.34%. Train accuracy = 92.48%.\n",
      "Best accuracy reached so far: 96.98897944816008 for params: 20, sqrt, 25, 10, 2, True\n",
      "264ème itérateur: 30, 1, 4, 20, 1, False\n"
     ]
    },
    {
     "name": "stderr",
     "output_type": "stream",
     "text": [
      "[Parallel(n_jobs=6)]: Using backend ThreadingBackend with 6 concurrent workers.\n",
      "[Parallel(n_jobs=6)]: Done  30 out of  30 | elapsed:    0.1s finished\n",
      "[Parallel(n_jobs=6)]: Using backend ThreadingBackend with 6 concurrent workers.\n",
      "[Parallel(n_jobs=6)]: Done  30 out of  30 | elapsed:    0.4s finished\n",
      "[Parallel(n_jobs=6)]: Using backend ThreadingBackend with 6 concurrent workers.\n",
      "[Parallel(n_jobs=6)]: Done  30 out of  30 | elapsed:    0.0s finished\n",
      "[Parallel(n_jobs=6)]: Using backend ThreadingBackend with 6 concurrent workers.\n"
     ]
    },
    {
     "name": "stdout",
     "output_type": "stream",
     "text": [
      "Test accuracy = 93.04%. Train accuracy = 93.29%.\n",
      "Best accuracy reached so far: 96.98897944816008 for params: 20, sqrt, 25, 10, 2, True\n",
      "265ème itérateur: 30, 1, 5, 2, 16, True\n"
     ]
    },
    {
     "name": "stderr",
     "output_type": "stream",
     "text": [
      "[Parallel(n_jobs=6)]: Done  30 out of  30 | elapsed:    0.1s finished\n",
      "[Parallel(n_jobs=6)]: Using backend ThreadingBackend with 6 concurrent workers.\n",
      "[Parallel(n_jobs=6)]: Done  30 out of  30 | elapsed:    0.4s finished\n",
      "[Parallel(n_jobs=6)]: Using backend ThreadingBackend with 6 concurrent workers.\n",
      "[Parallel(n_jobs=6)]: Done  30 out of  30 | elapsed:    0.0s finished\n"
     ]
    },
    {
     "name": "stdout",
     "output_type": "stream",
     "text": [
      "Test accuracy = 93.57%. Train accuracy = 93.79%.\n",
      "Best accuracy reached so far: 96.98897944816008 for params: 20, sqrt, 25, 10, 2, True\n",
      "266ème itérateur: 30, 1, 10, 50, 2, True\n"
     ]
    },
    {
     "name": "stderr",
     "output_type": "stream",
     "text": [
      "[Parallel(n_jobs=6)]: Using backend ThreadingBackend with 6 concurrent workers.\n",
      "[Parallel(n_jobs=6)]: Done  30 out of  30 | elapsed:    0.1s finished\n",
      "[Parallel(n_jobs=6)]: Using backend ThreadingBackend with 6 concurrent workers.\n",
      "[Parallel(n_jobs=6)]: Done  30 out of  30 | elapsed:    0.6s finished\n",
      "[Parallel(n_jobs=6)]: Using backend ThreadingBackend with 6 concurrent workers.\n",
      "[Parallel(n_jobs=6)]: Done  30 out of  30 | elapsed:    0.0s finished\n"
     ]
    },
    {
     "name": "stdout",
     "output_type": "stream",
     "text": [
      "Test accuracy = 95.73%. Train accuracy = 95.96%.\n",
      "Best accuracy reached so far: 96.98897944816008 for params: 20, sqrt, 25, 10, 2, True\n",
      "267ème itérateur: 30, 1, 25, 20, 2, False\n"
     ]
    },
    {
     "name": "stderr",
     "output_type": "stream",
     "text": [
      "[Parallel(n_jobs=6)]: Using backend ThreadingBackend with 6 concurrent workers.\n",
      "[Parallel(n_jobs=6)]: Done  30 out of  30 | elapsed:    0.1s finished\n",
      "[Parallel(n_jobs=6)]: Using backend ThreadingBackend with 6 concurrent workers.\n",
      "[Parallel(n_jobs=6)]: Done  30 out of  30 | elapsed:    1.0s finished\n",
      "[Parallel(n_jobs=6)]: Using backend ThreadingBackend with 6 concurrent workers.\n",
      "[Parallel(n_jobs=6)]: Done  30 out of  30 | elapsed:    0.0s finished\n",
      "[Parallel(n_jobs=6)]: Using backend ThreadingBackend with 6 concurrent workers.\n"
     ]
    },
    {
     "name": "stdout",
     "output_type": "stream",
     "text": [
      "Test accuracy = 96.67%. "
     ]
    },
    {
     "name": "stderr",
     "output_type": "stream",
     "text": [
      "[Parallel(n_jobs=6)]: Done  30 out of  30 | elapsed:    0.1s finished\n",
      "[Parallel(n_jobs=6)]: Using backend ThreadingBackend with 6 concurrent workers.\n"
     ]
    },
    {
     "name": "stdout",
     "output_type": "stream",
     "text": [
      "Train accuracy = 98.03%.\n",
      "Best accuracy reached so far: 96.98897944816008 for params: 20, sqrt, 25, 10, 2, True\n",
      "268ème itérateur: 30, 1, 25, 20, 8, False\n"
     ]
    },
    {
     "name": "stderr",
     "output_type": "stream",
     "text": [
      "[Parallel(n_jobs=6)]: Done  30 out of  30 | elapsed:    1.0s finished\n",
      "[Parallel(n_jobs=6)]: Using backend ThreadingBackend with 6 concurrent workers.\n",
      "[Parallel(n_jobs=6)]: Done  30 out of  30 | elapsed:    0.0s finished\n",
      "[Parallel(n_jobs=6)]: Using backend ThreadingBackend with 6 concurrent workers.\n"
     ]
    },
    {
     "name": "stdout",
     "output_type": "stream",
     "text": [
      "Test accuracy = 96.33%. Train accuracy = 97.13%.\n",
      "Best accuracy reached so far: 96.98897944816008 for params: 20, sqrt, 25, 10, 2, True\n",
      "269ème itérateur: 30, 1, None, 5, 1, True\n"
     ]
    },
    {
     "name": "stderr",
     "output_type": "stream",
     "text": [
      "[Parallel(n_jobs=6)]: Done  30 out of  30 | elapsed:    0.1s finished\n",
      "[Parallel(n_jobs=6)]: Using backend ThreadingBackend with 6 concurrent workers.\n",
      "[Parallel(n_jobs=6)]: Done  30 out of  30 | elapsed:    0.9s finished\n",
      "[Parallel(n_jobs=6)]: Using backend ThreadingBackend with 6 concurrent workers.\n",
      "[Parallel(n_jobs=6)]: Done  30 out of  30 | elapsed:    0.0s finished\n",
      "[Parallel(n_jobs=6)]: Using backend ThreadingBackend with 6 concurrent workers.\n"
     ]
    },
    {
     "name": "stdout",
     "output_type": "stream",
     "text": [
      "Test accuracy = 96.73%. "
     ]
    },
    {
     "name": "stderr",
     "output_type": "stream",
     "text": [
      "[Parallel(n_jobs=6)]: Done  30 out of  30 | elapsed:    0.1s finished\n",
      "[Parallel(n_jobs=6)]: Using backend ThreadingBackend with 6 concurrent workers.\n"
     ]
    },
    {
     "name": "stdout",
     "output_type": "stream",
     "text": [
      "Train accuracy = 99.21%.\n",
      "Best accuracy reached so far: 96.98897944816008 for params: 20, sqrt, 25, 10, 2, True\n",
      "270ème itérateur: 30, 1, None, 20, 2, True\n"
     ]
    },
    {
     "name": "stderr",
     "output_type": "stream",
     "text": [
      "[Parallel(n_jobs=6)]: Done  30 out of  30 | elapsed:    0.8s finished\n",
      "[Parallel(n_jobs=6)]: Using backend ThreadingBackend with 6 concurrent workers.\n",
      "[Parallel(n_jobs=6)]: Done  30 out of  30 | elapsed:    0.0s finished\n",
      "[Parallel(n_jobs=6)]: Using backend ThreadingBackend with 6 concurrent workers.\n"
     ]
    },
    {
     "name": "stdout",
     "output_type": "stream",
     "text": [
      "Test accuracy = 96.57%. "
     ]
    },
    {
     "name": "stderr",
     "output_type": "stream",
     "text": [
      "[Parallel(n_jobs=6)]: Done  30 out of  30 | elapsed:    0.1s finished\n",
      "[Parallel(n_jobs=6)]: Using backend ThreadingBackend with 6 concurrent workers.\n"
     ]
    },
    {
     "name": "stdout",
     "output_type": "stream",
     "text": [
      "Train accuracy = 97.52%.\n",
      "Best accuracy reached so far: 96.98897944816008 for params: 20, sqrt, 25, 10, 2, True\n",
      "271ème itérateur: 30, 2, 1, 2, 16, False\n"
     ]
    },
    {
     "name": "stderr",
     "output_type": "stream",
     "text": [
      "[Parallel(n_jobs=6)]: Done  30 out of  30 | elapsed:    0.2s finished\n",
      "[Parallel(n_jobs=6)]: Using backend ThreadingBackend with 6 concurrent workers.\n",
      "[Parallel(n_jobs=6)]: Done  30 out of  30 | elapsed:    0.0s finished\n",
      "[Parallel(n_jobs=6)]: Using backend ThreadingBackend with 6 concurrent workers.\n"
     ]
    },
    {
     "name": "stdout",
     "output_type": "stream",
     "text": [
      "Test accuracy = 93.36%. Train accuracy = 93.41%.\n",
      "Best accuracy reached so far: 96.98897944816008 for params: 20, sqrt, 25, 10, 2, True\n",
      "272ème itérateur: 30, 2, 5, 5, 2, False\n"
     ]
    },
    {
     "name": "stderr",
     "output_type": "stream",
     "text": [
      "[Parallel(n_jobs=6)]: Done  30 out of  30 | elapsed:    0.1s finished\n",
      "[Parallel(n_jobs=6)]: Using backend ThreadingBackend with 6 concurrent workers.\n",
      "[Parallel(n_jobs=6)]: Done  30 out of  30 | elapsed:    0.8s finished\n",
      "[Parallel(n_jobs=6)]: Using backend ThreadingBackend with 6 concurrent workers.\n",
      "[Parallel(n_jobs=6)]: Done  30 out of  30 | elapsed:    0.0s finished\n",
      "[Parallel(n_jobs=6)]: Using backend ThreadingBackend with 6 concurrent workers.\n"
     ]
    },
    {
     "name": "stdout",
     "output_type": "stream",
     "text": [
      "Test accuracy = 95.02%. Train accuracy = 95.11%.\n",
      "Best accuracy reached so far: 96.98897944816008 for params: 20, sqrt, 25, 10, 2, True\n",
      "273ème itérateur: 30, 2, 7, 70, 2, True\n"
     ]
    },
    {
     "name": "stderr",
     "output_type": "stream",
     "text": [
      "[Parallel(n_jobs=6)]: Done  30 out of  30 | elapsed:    0.1s finished\n",
      "[Parallel(n_jobs=6)]: Using backend ThreadingBackend with 6 concurrent workers.\n",
      "[Parallel(n_jobs=6)]: Done  30 out of  30 | elapsed:    0.9s finished\n",
      "[Parallel(n_jobs=6)]: Using backend ThreadingBackend with 6 concurrent workers.\n",
      "[Parallel(n_jobs=6)]: Done  30 out of  30 | elapsed:    0.0s finished\n",
      "[Parallel(n_jobs=6)]: Using backend ThreadingBackend with 6 concurrent workers.\n"
     ]
    },
    {
     "name": "stdout",
     "output_type": "stream",
     "text": [
      "Test accuracy = 95.71%. Train accuracy = 95.80%.\n",
      "Best accuracy reached so far: 96.98897944816008 for params: 20, sqrt, 25, 10, 2, True\n",
      "274ème itérateur: 30, 2, 10, 5, 32, False\n"
     ]
    },
    {
     "name": "stderr",
     "output_type": "stream",
     "text": [
      "[Parallel(n_jobs=6)]: Done  30 out of  30 | elapsed:    0.1s finished\n",
      "[Parallel(n_jobs=6)]: Using backend ThreadingBackend with 6 concurrent workers.\n",
      "[Parallel(n_jobs=6)]: Done  30 out of  30 | elapsed:    1.3s finished\n",
      "[Parallel(n_jobs=6)]: Using backend ThreadingBackend with 6 concurrent workers.\n",
      "[Parallel(n_jobs=6)]: Done  30 out of  30 | elapsed:    0.0s finished\n",
      "[Parallel(n_jobs=6)]: Using backend ThreadingBackend with 6 concurrent workers.\n"
     ]
    },
    {
     "name": "stdout",
     "output_type": "stream",
     "text": [
      "Test accuracy = 96.28%. Train accuracy = 96.43%.\n",
      "Best accuracy reached so far: 96.98897944816008 for params: 20, sqrt, 25, 10, 2, True\n",
      "275ème itérateur: 30, 2, 13, 5, 16, False\n"
     ]
    },
    {
     "name": "stderr",
     "output_type": "stream",
     "text": [
      "[Parallel(n_jobs=6)]: Done  30 out of  30 | elapsed:    0.1s finished\n",
      "[Parallel(n_jobs=6)]: Using backend ThreadingBackend with 6 concurrent workers.\n",
      "[Parallel(n_jobs=6)]: Done  30 out of  30 | elapsed:    1.4s finished\n",
      "[Parallel(n_jobs=6)]: Using backend ThreadingBackend with 6 concurrent workers.\n",
      "[Parallel(n_jobs=6)]: Done  30 out of  30 | elapsed:    0.0s finished\n"
     ]
    },
    {
     "name": "stdout",
     "output_type": "stream",
     "text": [
      "Test accuracy = 96.65%. Train accuracy = 96.97%.\n",
      "Best accuracy reached so far: 96.98897944816008 for params: 20, sqrt, 25, 10, 2, True\n",
      "276ème itérateur: 30, 2, 13, 50, 32, True\n"
     ]
    },
    {
     "name": "stderr",
     "output_type": "stream",
     "text": [
      "[Parallel(n_jobs=6)]: Using backend ThreadingBackend with 6 concurrent workers.\n",
      "[Parallel(n_jobs=6)]: Done  30 out of  30 | elapsed:    0.1s finished\n",
      "[Parallel(n_jobs=6)]: Using backend ThreadingBackend with 6 concurrent workers.\n",
      "[Parallel(n_jobs=6)]: Done  30 out of  30 | elapsed:    1.1s finished\n",
      "[Parallel(n_jobs=6)]: Using backend ThreadingBackend with 6 concurrent workers.\n",
      "[Parallel(n_jobs=6)]: Done  30 out of  30 | elapsed:    0.0s finished\n",
      "[Parallel(n_jobs=6)]: Using backend ThreadingBackend with 6 concurrent workers.\n"
     ]
    },
    {
     "name": "stdout",
     "output_type": "stream",
     "text": [
      "Test accuracy = 96.40%. Train accuracy = 96.61%.\n",
      "Best accuracy reached so far: 96.98897944816008 for params: 20, sqrt, 25, 10, 2, True\n",
      "277ème itérateur: 30, 2, 17, 5, 8, True\n"
     ]
    },
    {
     "name": "stderr",
     "output_type": "stream",
     "text": [
      "[Parallel(n_jobs=6)]: Done  30 out of  30 | elapsed:    0.1s finished\n",
      "[Parallel(n_jobs=6)]: Using backend ThreadingBackend with 6 concurrent workers.\n",
      "[Parallel(n_jobs=6)]: Done  30 out of  30 | elapsed:    1.2s finished\n",
      "[Parallel(n_jobs=6)]: Using backend ThreadingBackend with 6 concurrent workers.\n",
      "[Parallel(n_jobs=6)]: Done  30 out of  30 | elapsed:    0.0s finished\n"
     ]
    },
    {
     "name": "stdout",
     "output_type": "stream",
     "text": [
      "Test accuracy = 96.77%. Train accuracy = 97.34%.\n",
      "Best accuracy reached so far: 96.98897944816008 for params: 20, sqrt, 25, 10, 2, True\n",
      "278ème itérateur: 30, 2, 17, 70, 8, False\n"
     ]
    },
    {
     "name": "stderr",
     "output_type": "stream",
     "text": [
      "[Parallel(n_jobs=6)]: Using backend ThreadingBackend with 6 concurrent workers.\n",
      "[Parallel(n_jobs=6)]: Done  30 out of  30 | elapsed:    0.1s finished\n",
      "[Parallel(n_jobs=6)]: Using backend ThreadingBackend with 6 concurrent workers.\n",
      "[Parallel(n_jobs=6)]: Done  30 out of  30 | elapsed:    1.6s finished\n",
      "[Parallel(n_jobs=6)]: Using backend ThreadingBackend with 6 concurrent workers.\n",
      "[Parallel(n_jobs=6)]: Done  30 out of  30 | elapsed:    0.0s finished\n",
      "[Parallel(n_jobs=6)]: Using backend ThreadingBackend with 6 concurrent workers.\n"
     ]
    },
    {
     "name": "stdout",
     "output_type": "stream",
     "text": [
      "Test accuracy = 96.72%. Train accuracy = 97.21%.\n",
      "Best accuracy reached so far: 96.98897944816008 for params: 20, sqrt, 25, 10, 2, True\n",
      "279ème itérateur: 30, 2, 20, 70, 64, True\n"
     ]
    },
    {
     "name": "stderr",
     "output_type": "stream",
     "text": [
      "[Parallel(n_jobs=6)]: Done  30 out of  30 | elapsed:    0.1s finished\n",
      "[Parallel(n_jobs=6)]: Using backend ThreadingBackend with 6 concurrent workers.\n",
      "[Parallel(n_jobs=6)]: Done  30 out of  30 | elapsed:    1.1s finished\n",
      "[Parallel(n_jobs=6)]: Using backend ThreadingBackend with 6 concurrent workers.\n",
      "[Parallel(n_jobs=6)]: Done  30 out of  30 | elapsed:    0.0s finished\n",
      "[Parallel(n_jobs=6)]: Using backend ThreadingBackend with 6 concurrent workers.\n"
     ]
    },
    {
     "name": "stdout",
     "output_type": "stream",
     "text": [
      "Test accuracy = 96.46%. Train accuracy = 96.58%.\n",
      "Best accuracy reached so far: 96.98897944816008 for params: 20, sqrt, 25, 10, 2, True\n",
      "280ème itérateur: 30, 3, 2, 5, 1, True\n"
     ]
    },
    {
     "name": "stderr",
     "output_type": "stream",
     "text": [
      "[Parallel(n_jobs=6)]: Done  30 out of  30 | elapsed:    0.1s finished\n",
      "[Parallel(n_jobs=6)]: Using backend ThreadingBackend with 6 concurrent workers.\n",
      "[Parallel(n_jobs=6)]: Done  30 out of  30 | elapsed:    0.4s finished\n",
      "[Parallel(n_jobs=6)]: Using backend ThreadingBackend with 6 concurrent workers.\n",
      "[Parallel(n_jobs=6)]: Done  30 out of  30 | elapsed:    0.0s finished\n",
      "[Parallel(n_jobs=6)]: Using backend ThreadingBackend with 6 concurrent workers.\n",
      "[Parallel(n_jobs=6)]: Done  30 out of  30 | elapsed:    0.1s finished\n"
     ]
    },
    {
     "name": "stdout",
     "output_type": "stream",
     "text": [
      "Test accuracy = 93.29%. Train accuracy = 93.25%.\n",
      "Best accuracy reached so far: 96.98897944816008 for params: 20, sqrt, 25, 10, 2, True\n",
      "281ème itérateur: 30, 3, 4, 40, 4, True\n"
     ]
    },
    {
     "name": "stderr",
     "output_type": "stream",
     "text": [
      "[Parallel(n_jobs=6)]: Using backend ThreadingBackend with 6 concurrent workers.\n",
      "[Parallel(n_jobs=6)]: Done  30 out of  30 | elapsed:    0.7s finished\n",
      "[Parallel(n_jobs=6)]: Using backend ThreadingBackend with 6 concurrent workers.\n",
      "[Parallel(n_jobs=6)]: Done  30 out of  30 | elapsed:    0.0s finished\n",
      "[Parallel(n_jobs=6)]: Using backend ThreadingBackend with 6 concurrent workers.\n",
      "[Parallel(n_jobs=6)]: Done  30 out of  30 | elapsed:    0.1s finished\n"
     ]
    },
    {
     "name": "stdout",
     "output_type": "stream",
     "text": [
      "Test accuracy = 94.86%. Train accuracy = 94.86%.\n",
      "Best accuracy reached so far: 96.98897944816008 for params: 20, sqrt, 25, 10, 2, True\n",
      "282ème itérateur: 30, 3, 4, 70, 128, False\n"
     ]
    },
    {
     "name": "stderr",
     "output_type": "stream",
     "text": [
      "[Parallel(n_jobs=6)]: Using backend ThreadingBackend with 6 concurrent workers.\n",
      "[Parallel(n_jobs=6)]: Done  30 out of  30 | elapsed:    0.8s finished\n",
      "[Parallel(n_jobs=6)]: Using backend ThreadingBackend with 6 concurrent workers.\n",
      "[Parallel(n_jobs=6)]: Done  30 out of  30 | elapsed:    0.0s finished\n",
      "[Parallel(n_jobs=6)]: Using backend ThreadingBackend with 6 concurrent workers.\n",
      "[Parallel(n_jobs=6)]: Done  30 out of  30 | elapsed:    0.1s finished\n"
     ]
    },
    {
     "name": "stdout",
     "output_type": "stream",
     "text": [
      "Test accuracy = 94.87%. Train accuracy = 94.89%.\n",
      "Best accuracy reached so far: 96.98897944816008 for params: 20, sqrt, 25, 10, 2, True\n",
      "283ème itérateur: 30, 3, 5, 40, 64, True\n"
     ]
    },
    {
     "name": "stderr",
     "output_type": "stream",
     "text": [
      "[Parallel(n_jobs=6)]: Using backend ThreadingBackend with 6 concurrent workers.\n",
      "[Parallel(n_jobs=6)]: Done  30 out of  30 | elapsed:    0.8s finished\n",
      "[Parallel(n_jobs=6)]: Using backend ThreadingBackend with 6 concurrent workers.\n",
      "[Parallel(n_jobs=6)]: Done  30 out of  30 | elapsed:    0.0s finished\n",
      "[Parallel(n_jobs=6)]: Using backend ThreadingBackend with 6 concurrent workers.\n",
      "[Parallel(n_jobs=6)]: Done  30 out of  30 | elapsed:    0.1s finished\n"
     ]
    },
    {
     "name": "stdout",
     "output_type": "stream",
     "text": [
      "Test accuracy = 95.39%. Train accuracy = 95.30%.\n",
      "Best accuracy reached so far: 96.98897944816008 for params: 20, sqrt, 25, 10, 2, True\n",
      "284ème itérateur: 30, 3, 25, 5, 64, True\n"
     ]
    },
    {
     "name": "stderr",
     "output_type": "stream",
     "text": [
      "[Parallel(n_jobs=6)]: Using backend ThreadingBackend with 6 concurrent workers.\n",
      "[Parallel(n_jobs=6)]: Done  30 out of  30 | elapsed:    1.4s finished\n",
      "[Parallel(n_jobs=6)]: Using backend ThreadingBackend with 6 concurrent workers.\n",
      "[Parallel(n_jobs=6)]: Done  30 out of  30 | elapsed:    0.0s finished\n"
     ]
    },
    {
     "name": "stdout",
     "output_type": "stream",
     "text": [
      "Test accuracy = 96.66%. Train accuracy = 96.76%.\n",
      "Best accuracy reached so far: 96.98897944816008 for params: 20, sqrt, 25, 10, 2, True\n",
      "285ème itérateur: 30, 8, 1, 5, 1, True\n"
     ]
    },
    {
     "name": "stderr",
     "output_type": "stream",
     "text": [
      "[Parallel(n_jobs=6)]: Using backend ThreadingBackend with 6 concurrent workers.\n",
      "[Parallel(n_jobs=6)]: Done  30 out of  30 | elapsed:    0.1s finished\n",
      "[Parallel(n_jobs=6)]: Using backend ThreadingBackend with 6 concurrent workers.\n",
      "[Parallel(n_jobs=6)]: Done  30 out of  30 | elapsed:    0.5s finished\n",
      "[Parallel(n_jobs=6)]: Using backend ThreadingBackend with 6 concurrent workers.\n",
      "[Parallel(n_jobs=6)]: Done  30 out of  30 | elapsed:    0.0s finished\n",
      "[Parallel(n_jobs=6)]: Using backend ThreadingBackend with 6 concurrent workers.\n"
     ]
    },
    {
     "name": "stdout",
     "output_type": "stream",
     "text": [
      "Test accuracy = 92.50%. Train accuracy = 92.55%.\n",
      "Best accuracy reached so far: 96.98897944816008 for params: 20, sqrt, 25, 10, 2, True\n",
      "286ème itérateur: 30, 8, 2, 10, 128, True\n"
     ]
    },
    {
     "name": "stderr",
     "output_type": "stream",
     "text": [
      "[Parallel(n_jobs=6)]: Done  30 out of  30 | elapsed:    0.1s finished\n",
      "[Parallel(n_jobs=6)]: Using backend ThreadingBackend with 6 concurrent workers.\n",
      "[Parallel(n_jobs=6)]: Done  30 out of  30 | elapsed:    0.8s finished\n",
      "[Parallel(n_jobs=6)]: Using backend ThreadingBackend with 6 concurrent workers.\n",
      "[Parallel(n_jobs=6)]: Done  30 out of  30 | elapsed:    0.0s finished\n",
      "[Parallel(n_jobs=6)]: Using backend ThreadingBackend with 6 concurrent workers.\n"
     ]
    },
    {
     "name": "stdout",
     "output_type": "stream",
     "text": [
      "Test accuracy = 93.66%. Train accuracy = 93.80%.\n",
      "Best accuracy reached so far: 96.98897944816008 for params: 20, sqrt, 25, 10, 2, True\n",
      "287ème itérateur: 30, 8, 2, 30, 16, True\n"
     ]
    },
    {
     "name": "stderr",
     "output_type": "stream",
     "text": [
      "[Parallel(n_jobs=6)]: Done  30 out of  30 | elapsed:    0.1s finished\n",
      "[Parallel(n_jobs=6)]: Using backend ThreadingBackend with 6 concurrent workers.\n",
      "[Parallel(n_jobs=6)]: Done  30 out of  30 | elapsed:    0.8s finished\n",
      "[Parallel(n_jobs=6)]: Using backend ThreadingBackend with 6 concurrent workers.\n",
      "[Parallel(n_jobs=6)]: Done  30 out of  30 | elapsed:    0.0s finished\n"
     ]
    },
    {
     "name": "stdout",
     "output_type": "stream",
     "text": [
      "Test accuracy = 93.66%. Train accuracy = 93.80%.\n",
      "Best accuracy reached so far: 96.98897944816008 for params: 20, sqrt, 25, 10, 2, True\n",
      "288ème itérateur: 30, 8, 3, 2, 128, False\n"
     ]
    },
    {
     "name": "stderr",
     "output_type": "stream",
     "text": [
      "[Parallel(n_jobs=6)]: Using backend ThreadingBackend with 6 concurrent workers.\n",
      "[Parallel(n_jobs=6)]: Done  30 out of  30 | elapsed:    0.1s finished\n",
      "[Parallel(n_jobs=6)]: Using backend ThreadingBackend with 6 concurrent workers.\n",
      "[Parallel(n_jobs=6)]: Done  30 out of  30 | elapsed:    1.4s finished\n",
      "[Parallel(n_jobs=6)]: Using backend ThreadingBackend with 6 concurrent workers.\n",
      "[Parallel(n_jobs=6)]: Done  30 out of  30 | elapsed:    0.0s finished\n",
      "[Parallel(n_jobs=6)]: Using backend ThreadingBackend with 6 concurrent workers.\n"
     ]
    },
    {
     "name": "stdout",
     "output_type": "stream",
     "text": [
      "Test accuracy = 94.99%. Train accuracy = 94.95%.\n",
      "Best accuracy reached so far: 96.98897944816008 for params: 20, sqrt, 25, 10, 2, True\n",
      "289ème itérateur: 30, 8, 3, 5, 128, False\n"
     ]
    },
    {
     "name": "stderr",
     "output_type": "stream",
     "text": [
      "[Parallel(n_jobs=6)]: Done  30 out of  30 | elapsed:    0.1s finished\n",
      "[Parallel(n_jobs=6)]: Using backend ThreadingBackend with 6 concurrent workers.\n",
      "[Parallel(n_jobs=6)]: Done  30 out of  30 | elapsed:    1.4s finished\n",
      "[Parallel(n_jobs=6)]: Using backend ThreadingBackend with 6 concurrent workers.\n",
      "[Parallel(n_jobs=6)]: Done  30 out of  30 | elapsed:    0.0s finished\n",
      "[Parallel(n_jobs=6)]: Using backend ThreadingBackend with 6 concurrent workers.\n"
     ]
    },
    {
     "name": "stdout",
     "output_type": "stream",
     "text": [
      "Test accuracy = 94.99%. Train accuracy = 94.95%.\n",
      "Best accuracy reached so far: 96.98897944816008 for params: 20, sqrt, 25, 10, 2, True\n",
      "290ème itérateur: 30, 8, 4, 60, 2, False\n"
     ]
    },
    {
     "name": "stderr",
     "output_type": "stream",
     "text": [
      "[Parallel(n_jobs=6)]: Done  30 out of  30 | elapsed:    0.1s finished\n",
      "[Parallel(n_jobs=6)]: Using backend ThreadingBackend with 6 concurrent workers.\n",
      "[Parallel(n_jobs=6)]: Done  30 out of  30 | elapsed:    1.8s finished\n",
      "[Parallel(n_jobs=6)]: Using backend ThreadingBackend with 6 concurrent workers.\n",
      "[Parallel(n_jobs=6)]: Done  30 out of  30 | elapsed:    0.0s finished\n"
     ]
    },
    {
     "name": "stdout",
     "output_type": "stream",
     "text": [
      "Test accuracy = 95.42%. Train accuracy = 95.38%.\n",
      "Best accuracy reached so far: 96.98897944816008 for params: 20, sqrt, 25, 10, 2, True\n",
      "291ème itérateur: 30, 8, 7, 20, 4, False\n"
     ]
    },
    {
     "name": "stderr",
     "output_type": "stream",
     "text": [
      "[Parallel(n_jobs=6)]: Using backend ThreadingBackend with 6 concurrent workers.\n",
      "[Parallel(n_jobs=6)]: Done  30 out of  30 | elapsed:    0.1s finished\n",
      "[Parallel(n_jobs=6)]: Using backend ThreadingBackend with 6 concurrent workers.\n",
      "[Parallel(n_jobs=6)]: Done  30 out of  30 | elapsed:    2.8s finished\n",
      "[Parallel(n_jobs=6)]: Using backend ThreadingBackend with 6 concurrent workers.\n",
      "[Parallel(n_jobs=6)]: Done  30 out of  30 | elapsed:    0.0s finished\n",
      "[Parallel(n_jobs=6)]: Using backend ThreadingBackend with 6 concurrent workers.\n"
     ]
    },
    {
     "name": "stdout",
     "output_type": "stream",
     "text": [
      "Test accuracy = 96.61%. Train accuracy = 96.61%.\n",
      "Best accuracy reached so far: 96.98897944816008 for params: 20, sqrt, 25, 10, 2, True\n",
      "292ème itérateur: 30, 8, 10, 5, 8, False\n"
     ]
    },
    {
     "name": "stderr",
     "output_type": "stream",
     "text": [
      "[Parallel(n_jobs=6)]: Done  30 out of  30 | elapsed:    0.1s finished\n",
      "[Parallel(n_jobs=6)]: Using backend ThreadingBackend with 6 concurrent workers.\n",
      "[Parallel(n_jobs=6)]: Done  30 out of  30 | elapsed:    3.6s finished\n",
      "[Parallel(n_jobs=6)]: Using backend ThreadingBackend with 6 concurrent workers.\n",
      "[Parallel(n_jobs=6)]: Done  30 out of  30 | elapsed:    0.0s finished\n",
      "[Parallel(n_jobs=6)]: Using backend ThreadingBackend with 6 concurrent workers.\n"
     ]
    },
    {
     "name": "stdout",
     "output_type": "stream",
     "text": [
      "Test accuracy = 96.83%. Train accuracy = 97.10%.\n",
      "Best accuracy reached so far: 96.98897944816008 for params: 20, sqrt, 25, 10, 2, True\n",
      "293ème itérateur: 30, 8, 20, 30, 32, True\n"
     ]
    },
    {
     "name": "stderr",
     "output_type": "stream",
     "text": [
      "[Parallel(n_jobs=6)]: Done  30 out of  30 | elapsed:    0.1s finished\n",
      "[Parallel(n_jobs=6)]: Using backend ThreadingBackend with 6 concurrent workers.\n",
      "[Parallel(n_jobs=6)]: Done  30 out of  30 | elapsed:    3.4s finished\n",
      "[Parallel(n_jobs=6)]: Using backend ThreadingBackend with 6 concurrent workers.\n",
      "[Parallel(n_jobs=6)]: Done  30 out of  30 | elapsed:    0.0s finished\n",
      "[Parallel(n_jobs=6)]: Using backend ThreadingBackend with 6 concurrent workers.\n"
     ]
    },
    {
     "name": "stdout",
     "output_type": "stream",
     "text": [
      "Test accuracy = 96.88%. "
     ]
    },
    {
     "name": "stderr",
     "output_type": "stream",
     "text": [
      "[Parallel(n_jobs=6)]: Done  30 out of  30 | elapsed:    0.1s finished\n",
      "[Parallel(n_jobs=6)]: Using backend ThreadingBackend with 6 concurrent workers.\n"
     ]
    },
    {
     "name": "stdout",
     "output_type": "stream",
     "text": [
      "Train accuracy = 97.11%.\n",
      "Best accuracy reached so far: 96.98897944816008 for params: 20, sqrt, 25, 10, 2, True\n",
      "294ème itérateur: 30, 8, 25, 20, 8, True\n"
     ]
    },
    {
     "name": "stderr",
     "output_type": "stream",
     "text": [
      "[Parallel(n_jobs=6)]: Done  30 out of  30 | elapsed:    3.8s finished\n",
      "[Parallel(n_jobs=6)]: Using backend ThreadingBackend with 6 concurrent workers.\n",
      "[Parallel(n_jobs=6)]: Done  30 out of  30 | elapsed:    0.0s finished\n",
      "[Parallel(n_jobs=6)]: Using backend ThreadingBackend with 6 concurrent workers.\n"
     ]
    },
    {
     "name": "stdout",
     "output_type": "stream",
     "text": [
      "Test accuracy = 96.96%. Train accuracy = 97.75%.\n",
      "Best accuracy reached so far: 96.98897944816008 for params: 20, sqrt, 25, 10, 2, True\n",
      "295ème itérateur: 30, 8, 25, 40, 128, True\n"
     ]
    },
    {
     "name": "stderr",
     "output_type": "stream",
     "text": [
      "[Parallel(n_jobs=6)]: Done  30 out of  30 | elapsed:    0.1s finished\n",
      "[Parallel(n_jobs=6)]: Using backend ThreadingBackend with 6 concurrent workers.\n",
      "[Parallel(n_jobs=6)]: Done  30 out of  30 | elapsed:    3.2s finished\n",
      "[Parallel(n_jobs=6)]: Using backend ThreadingBackend with 6 concurrent workers.\n",
      "[Parallel(n_jobs=6)]: Done  30 out of  30 | elapsed:    0.0s finished\n"
     ]
    },
    {
     "name": "stdout",
     "output_type": "stream",
     "text": [
      "Test accuracy = 96.59%. Train accuracy = 96.66%.\n",
      "Best accuracy reached so far: 96.98897944816008 for params: 20, sqrt, 25, 10, 2, True\n",
      "296ème itérateur: 30, 8, None, 10, 64, False\n"
     ]
    },
    {
     "name": "stderr",
     "output_type": "stream",
     "text": [
      "[Parallel(n_jobs=6)]: Using backend ThreadingBackend with 6 concurrent workers.\n",
      "[Parallel(n_jobs=6)]: Done  30 out of  30 | elapsed:    0.1s finished\n",
      "[Parallel(n_jobs=6)]: Using backend ThreadingBackend with 6 concurrent workers.\n",
      "[Parallel(n_jobs=6)]: Done  30 out of  30 | elapsed:    4.8s finished\n",
      "[Parallel(n_jobs=6)]: Using backend ThreadingBackend with 6 concurrent workers.\n",
      "[Parallel(n_jobs=6)]: Done  30 out of  30 | elapsed:    0.0s finished\n",
      "[Parallel(n_jobs=6)]: Using backend ThreadingBackend with 6 concurrent workers.\n"
     ]
    },
    {
     "name": "stdout",
     "output_type": "stream",
     "text": [
      "Test accuracy = 96.82%. Train accuracy = 97.01%.\n",
      "Best accuracy reached so far: 96.98897944816008 for params: 20, sqrt, 25, 10, 2, True\n",
      "297ème itérateur: 30, sqrt, 2, 40, 128, True\n"
     ]
    },
    {
     "name": "stderr",
     "output_type": "stream",
     "text": [
      "[Parallel(n_jobs=6)]: Done  30 out of  30 | elapsed:    0.1s finished\n",
      "[Parallel(n_jobs=6)]: Using backend ThreadingBackend with 6 concurrent workers.\n",
      "[Parallel(n_jobs=6)]: Done  30 out of  30 | elapsed:    0.5s finished\n",
      "[Parallel(n_jobs=6)]: Using backend ThreadingBackend with 6 concurrent workers.\n",
      "[Parallel(n_jobs=6)]: Done  30 out of  30 | elapsed:    0.0s finished\n",
      "[Parallel(n_jobs=6)]: Using backend ThreadingBackend with 6 concurrent workers.\n"
     ]
    },
    {
     "name": "stdout",
     "output_type": "stream",
     "text": [
      "Test accuracy = 93.31%. Train accuracy = 93.44%.\n",
      "Best accuracy reached so far: 96.98897944816008 for params: 20, sqrt, 25, 10, 2, True\n",
      "298ème itérateur: 30, sqrt, 3, 60, 1, True\n"
     ]
    },
    {
     "name": "stderr",
     "output_type": "stream",
     "text": [
      "[Parallel(n_jobs=6)]: Done  30 out of  30 | elapsed:    0.1s finished\n",
      "[Parallel(n_jobs=6)]: Using backend ThreadingBackend with 6 concurrent workers.\n",
      "[Parallel(n_jobs=6)]: Done  30 out of  30 | elapsed:    0.7s finished\n",
      "[Parallel(n_jobs=6)]: Using backend ThreadingBackend with 6 concurrent workers.\n",
      "[Parallel(n_jobs=6)]: Done  30 out of  30 | elapsed:    0.0s finished\n"
     ]
    },
    {
     "name": "stdout",
     "output_type": "stream",
     "text": [
      "Test accuracy = 93.99%. Train accuracy = 94.19%.\n",
      "Best accuracy reached so far: 96.98897944816008 for params: 20, sqrt, 25, 10, 2, True\n",
      "299ème itérateur: 30, sqrt, 5, 70, 4, False\n"
     ]
    },
    {
     "name": "stderr",
     "output_type": "stream",
     "text": [
      "[Parallel(n_jobs=6)]: Using backend ThreadingBackend with 6 concurrent workers.\n",
      "[Parallel(n_jobs=6)]: Done  30 out of  30 | elapsed:    0.1s finished\n",
      "[Parallel(n_jobs=6)]: Using backend ThreadingBackend with 6 concurrent workers.\n",
      "[Parallel(n_jobs=6)]: Done  30 out of  30 | elapsed:    1.4s finished\n",
      "[Parallel(n_jobs=6)]: Using backend ThreadingBackend with 6 concurrent workers.\n",
      "[Parallel(n_jobs=6)]: Done  30 out of  30 | elapsed:    0.0s finished\n",
      "[Parallel(n_jobs=6)]: Using backend ThreadingBackend with 6 concurrent workers.\n"
     ]
    },
    {
     "name": "stdout",
     "output_type": "stream",
     "text": [
      "Test accuracy = 95.51%. Train accuracy = 95.52%.\n",
      "Best accuracy reached so far: 96.98897944816008 for params: 20, sqrt, 25, 10, 2, True\n",
      "300ème itérateur: 30, None, 2, 10, 4, False\n"
     ]
    },
    {
     "name": "stderr",
     "output_type": "stream",
     "text": [
      "[Parallel(n_jobs=6)]: Done  30 out of  30 | elapsed:    0.1s finished\n",
      "[Parallel(n_jobs=6)]: Using backend ThreadingBackend with 6 concurrent workers.\n",
      "[Parallel(n_jobs=6)]: Done  30 out of  30 | elapsed:    3.3s finished\n",
      "[Parallel(n_jobs=6)]: Using backend ThreadingBackend with 6 concurrent workers.\n",
      "[Parallel(n_jobs=6)]: Done  30 out of  30 | elapsed:    0.0s finished\n",
      "[Parallel(n_jobs=6)]: Using backend ThreadingBackend with 6 concurrent workers.\n",
      "[Parallel(n_jobs=6)]: Done  30 out of  30 | elapsed:    0.1s finished\n"
     ]
    },
    {
     "name": "stdout",
     "output_type": "stream",
     "text": [
      "Test accuracy = 94.39%. Train accuracy = 94.56%.\n",
      "Best accuracy reached so far: 96.98897944816008 for params: 20, sqrt, 25, 10, 2, True\n",
      "301ème itérateur: 30, None, 4, 10, 4, False\n"
     ]
    },
    {
     "name": "stderr",
     "output_type": "stream",
     "text": [
      "[Parallel(n_jobs=6)]: Using backend ThreadingBackend with 6 concurrent workers.\n",
      "[Parallel(n_jobs=6)]: Done  30 out of  30 | elapsed:    5.9s finished\n",
      "[Parallel(n_jobs=6)]: Using backend ThreadingBackend with 6 concurrent workers.\n",
      "[Parallel(n_jobs=6)]: Done  30 out of  30 | elapsed:    0.0s finished\n",
      "[Parallel(n_jobs=6)]: Using backend ThreadingBackend with 6 concurrent workers.\n",
      "[Parallel(n_jobs=6)]: Done  30 out of  30 | elapsed:    0.1s finished\n"
     ]
    },
    {
     "name": "stdout",
     "output_type": "stream",
     "text": [
      "Test accuracy = 95.65%. Train accuracy = 95.71%.\n",
      "Best accuracy reached so far: 96.98897944816008 for params: 20, sqrt, 25, 10, 2, True\n",
      "302ème itérateur: 30, None, 5, 30, 64, False\n"
     ]
    },
    {
     "name": "stderr",
     "output_type": "stream",
     "text": [
      "[Parallel(n_jobs=6)]: Using backend ThreadingBackend with 6 concurrent workers.\n",
      "[Parallel(n_jobs=6)]: Done  30 out of  30 | elapsed:    7.8s finished\n",
      "[Parallel(n_jobs=6)]: Using backend ThreadingBackend with 6 concurrent workers.\n",
      "[Parallel(n_jobs=6)]: Done  30 out of  30 | elapsed:    0.0s finished\n",
      "[Parallel(n_jobs=6)]: Using backend ThreadingBackend with 6 concurrent workers.\n",
      "[Parallel(n_jobs=6)]: Done  30 out of  30 | elapsed:    0.1s finished\n"
     ]
    },
    {
     "name": "stdout",
     "output_type": "stream",
     "text": [
      "Test accuracy = 95.86%. Train accuracy = 96.01%.\n",
      "Best accuracy reached so far: 96.98897944816008 for params: 20, sqrt, 25, 10, 2, True\n",
      "303ème itérateur: 30, None, 7, 2, 64, False\n"
     ]
    },
    {
     "name": "stderr",
     "output_type": "stream",
     "text": [
      "[Parallel(n_jobs=6)]: Using backend ThreadingBackend with 6 concurrent workers.\n",
      "[Parallel(n_jobs=6)]: Done  30 out of  30 | elapsed:    9.8s finished\n",
      "[Parallel(n_jobs=6)]: Using backend ThreadingBackend with 6 concurrent workers.\n",
      "[Parallel(n_jobs=6)]: Done  30 out of  30 | elapsed:    0.0s finished\n",
      "[Parallel(n_jobs=6)]: Using backend ThreadingBackend with 6 concurrent workers.\n",
      "[Parallel(n_jobs=6)]: Done  30 out of  30 | elapsed:    0.1s finished\n"
     ]
    },
    {
     "name": "stdout",
     "output_type": "stream",
     "text": [
      "Test accuracy = 96.10%. Train accuracy = 96.21%.\n",
      "Best accuracy reached so far: 96.98897944816008 for params: 20, sqrt, 25, 10, 2, True\n",
      "304ème itérateur: 30, None, 7, 10, 32, False\n"
     ]
    },
    {
     "name": "stderr",
     "output_type": "stream",
     "text": [
      "[Parallel(n_jobs=6)]: Using backend ThreadingBackend with 6 concurrent workers.\n",
      "[Parallel(n_jobs=6)]: Done  30 out of  30 | elapsed:    9.5s finished\n",
      "[Parallel(n_jobs=6)]: Using backend ThreadingBackend with 6 concurrent workers.\n",
      "[Parallel(n_jobs=6)]: Done  30 out of  30 | elapsed:    0.0s finished\n",
      "[Parallel(n_jobs=6)]: Using backend ThreadingBackend with 6 concurrent workers.\n"
     ]
    },
    {
     "name": "stdout",
     "output_type": "stream",
     "text": [
      "Test accuracy = 96.15%. Train accuracy = 96.26%.\n",
      "Best accuracy reached so far: 96.98897944816008 for params: 20, sqrt, 25, 10, 2, True\n",
      "305ème itérateur: 30, None, 20, 2, 4, True\n"
     ]
    },
    {
     "name": "stderr",
     "output_type": "stream",
     "text": [
      "[Parallel(n_jobs=6)]: Done  30 out of  30 | elapsed:    0.1s finished\n",
      "[Parallel(n_jobs=6)]: Using backend ThreadingBackend with 6 concurrent workers.\n",
      "[Parallel(n_jobs=6)]: Done  30 out of  30 | elapsed:   12.3s finished\n",
      "[Parallel(n_jobs=6)]: Using backend ThreadingBackend with 6 concurrent workers.\n",
      "[Parallel(n_jobs=6)]: Done  30 out of  30 | elapsed:    0.0s finished\n",
      "[Parallel(n_jobs=6)]: Using backend ThreadingBackend with 6 concurrent workers.\n"
     ]
    },
    {
     "name": "stdout",
     "output_type": "stream",
     "text": [
      "Test accuracy = 96.89%. Train accuracy = 98.43%.\n",
      "Best accuracy reached so far: 96.98897944816008 for params: 20, sqrt, 25, 10, 2, True\n",
      "306ème itérateur: 30, None, 20, 50, 16, False\n"
     ]
    },
    {
     "name": "stderr",
     "output_type": "stream",
     "text": [
      "[Parallel(n_jobs=6)]: Done  30 out of  30 | elapsed:    0.1s finished\n",
      "[Parallel(n_jobs=6)]: Using backend ThreadingBackend with 6 concurrent workers.\n",
      "[Parallel(n_jobs=6)]: Done  30 out of  30 | elapsed:   18.4s finished\n",
      "[Parallel(n_jobs=6)]: Using backend ThreadingBackend with 6 concurrent workers.\n",
      "[Parallel(n_jobs=6)]: Done  30 out of  30 | elapsed:    0.0s finished\n",
      "[Parallel(n_jobs=6)]: Using backend ThreadingBackend with 6 concurrent workers.\n"
     ]
    },
    {
     "name": "stdout",
     "output_type": "stream",
     "text": [
      "Test accuracy = 96.41%. Train accuracy = 97.11%.\n",
      "Best accuracy reached so far: 96.98897944816008 for params: 20, sqrt, 25, 10, 2, True\n",
      "307ème itérateur: 30, None, 25, 50, 4, True\n"
     ]
    },
    {
     "name": "stderr",
     "output_type": "stream",
     "text": [
      "[Parallel(n_jobs=6)]: Done  30 out of  30 | elapsed:    0.1s finished\n",
      "[Parallel(n_jobs=6)]: Using backend ThreadingBackend with 6 concurrent workers.\n",
      "[Parallel(n_jobs=6)]: Done  30 out of  30 | elapsed:   13.1s finished\n",
      "[Parallel(n_jobs=6)]: Using backend ThreadingBackend with 6 concurrent workers.\n",
      "[Parallel(n_jobs=6)]: Done  30 out of  30 | elapsed:    0.0s finished\n",
      "[Parallel(n_jobs=6)]: Using backend ThreadingBackend with 6 concurrent workers.\n"
     ]
    },
    {
     "name": "stdout",
     "output_type": "stream",
     "text": [
      "Test accuracy = 96.81%. Train accuracy = 97.45%.\n",
      "Best accuracy reached so far: 96.98897944816008 for params: 20, sqrt, 25, 10, 2, True\n",
      "308ème itérateur: 30, None, None, 5, 4, True\n"
     ]
    },
    {
     "name": "stderr",
     "output_type": "stream",
     "text": [
      "[Parallel(n_jobs=6)]: Done  30 out of  30 | elapsed:    0.1s finished\n",
      "[Parallel(n_jobs=6)]: Using backend ThreadingBackend with 6 concurrent workers.\n",
      "[Parallel(n_jobs=6)]: Done  30 out of  30 | elapsed:   13.6s finished\n",
      "[Parallel(n_jobs=6)]: Using backend ThreadingBackend with 6 concurrent workers.\n",
      "[Parallel(n_jobs=6)]: Done  30 out of  30 | elapsed:    0.0s finished\n",
      "[Parallel(n_jobs=6)]: Using backend ThreadingBackend with 6 concurrent workers.\n"
     ]
    },
    {
     "name": "stdout",
     "output_type": "stream",
     "text": [
      "Test accuracy = 96.88%. Train accuracy = 98.51%.\n",
      "Best accuracy reached so far: 96.98897944816008 for params: 20, sqrt, 25, 10, 2, True\n",
      "309ème itérateur: 30, None, None, 40, 1, False\n"
     ]
    },
    {
     "name": "stderr",
     "output_type": "stream",
     "text": [
      "[Parallel(n_jobs=6)]: Done  30 out of  30 | elapsed:    0.1s finished\n",
      "[Parallel(n_jobs=6)]: Using backend ThreadingBackend with 6 concurrent workers.\n",
      "[Parallel(n_jobs=6)]: Done  30 out of  30 | elapsed:   18.7s finished\n",
      "[Parallel(n_jobs=6)]: Using backend ThreadingBackend with 6 concurrent workers.\n",
      "[Parallel(n_jobs=6)]: Done  30 out of  30 | elapsed:    0.0s finished\n",
      "[Parallel(n_jobs=6)]: Using backend ThreadingBackend with 6 concurrent workers.\n"
     ]
    },
    {
     "name": "stdout",
     "output_type": "stream",
     "text": [
      "Test accuracy = 96.05%. Train accuracy = 97.70%.\n",
      "Best accuracy reached so far: 96.98897944816008 for params: 20, sqrt, 25, 10, 2, True\n",
      "310ème itérateur: 40, 1, 1, 60, 2, False\n"
     ]
    },
    {
     "name": "stderr",
     "output_type": "stream",
     "text": [
      "[Parallel(n_jobs=6)]: Done  30 out of  30 | elapsed:    0.1s finished\n",
      "[Parallel(n_jobs=6)]: Using backend ThreadingBackend with 6 concurrent workers.\n",
      "[Parallel(n_jobs=6)]: Done  40 out of  40 | elapsed:    0.2s finished\n",
      "[Parallel(n_jobs=6)]: Using backend ThreadingBackend with 6 concurrent workers.\n",
      "[Parallel(n_jobs=6)]: Done  40 out of  40 | elapsed:    0.0s finished\n",
      "[Parallel(n_jobs=6)]: Using backend ThreadingBackend with 6 concurrent workers.\n"
     ]
    },
    {
     "name": "stdout",
     "output_type": "stream",
     "text": [
      "Test accuracy = 88.49%. Train accuracy = 88.78%.\n",
      "Best accuracy reached so far: 96.98897944816008 for params: 20, sqrt, 25, 10, 2, True\n",
      "311ème itérateur: 40, 1, 2, 10, 4, True\n"
     ]
    },
    {
     "name": "stderr",
     "output_type": "stream",
     "text": [
      "[Parallel(n_jobs=6)]: Done  40 out of  40 | elapsed:    0.1s finished\n",
      "[Parallel(n_jobs=6)]: Using backend ThreadingBackend with 6 concurrent workers.\n",
      "[Parallel(n_jobs=6)]: Done  40 out of  40 | elapsed:    0.3s finished\n",
      "[Parallel(n_jobs=6)]: Using backend ThreadingBackend with 6 concurrent workers.\n",
      "[Parallel(n_jobs=6)]: Done  40 out of  40 | elapsed:    0.0s finished\n",
      "[Parallel(n_jobs=6)]: Using backend ThreadingBackend with 6 concurrent workers.\n"
     ]
    },
    {
     "name": "stdout",
     "output_type": "stream",
     "text": [
      "Test accuracy = 90.09%. Train accuracy = 90.36%.\n",
      "Best accuracy reached so far: 96.98897944816008 for params: 20, sqrt, 25, 10, 2, True\n",
      "312ème itérateur: 40, 1, 2, 30, 16, True\n"
     ]
    },
    {
     "name": "stderr",
     "output_type": "stream",
     "text": [
      "[Parallel(n_jobs=6)]: Done  40 out of  40 | elapsed:    0.1s finished\n",
      "[Parallel(n_jobs=6)]: Using backend ThreadingBackend with 6 concurrent workers.\n",
      "[Parallel(n_jobs=6)]: Done  40 out of  40 | elapsed:    0.3s finished\n",
      "[Parallel(n_jobs=6)]: Using backend ThreadingBackend with 6 concurrent workers.\n",
      "[Parallel(n_jobs=6)]: Done  40 out of  40 | elapsed:    0.0s finished\n"
     ]
    },
    {
     "name": "stdout",
     "output_type": "stream",
     "text": [
      "Test accuracy = 90.09%. Train accuracy = 90.36%.\n",
      "Best accuracy reached so far: 96.98897944816008 for params: 20, sqrt, 25, 10, 2, True\n",
      "313ème itérateur: 40, 1, 3, 5, 4, False\n"
     ]
    },
    {
     "name": "stderr",
     "output_type": "stream",
     "text": [
      "[Parallel(n_jobs=6)]: Using backend ThreadingBackend with 6 concurrent workers.\n",
      "[Parallel(n_jobs=6)]: Done  40 out of  40 | elapsed:    0.1s finished\n",
      "[Parallel(n_jobs=6)]: Using backend ThreadingBackend with 6 concurrent workers.\n",
      "[Parallel(n_jobs=6)]: Done  40 out of  40 | elapsed:    0.4s finished\n",
      "[Parallel(n_jobs=6)]: Using backend ThreadingBackend with 6 concurrent workers.\n",
      "[Parallel(n_jobs=6)]: Done  40 out of  40 | elapsed:    0.0s finished\n"
     ]
    },
    {
     "name": "stdout",
     "output_type": "stream",
     "text": [
      "Test accuracy = 92.09%. Train accuracy = 92.30%.\n",
      "Best accuracy reached so far: 96.98897944816008 for params: 20, sqrt, 25, 10, 2, True\n",
      "314ème itérateur: 40, 1, 7, 30, 1, False\n"
     ]
    },
    {
     "name": "stderr",
     "output_type": "stream",
     "text": [
      "[Parallel(n_jobs=6)]: Using backend ThreadingBackend with 6 concurrent workers.\n",
      "[Parallel(n_jobs=6)]: Done  40 out of  40 | elapsed:    0.1s finished\n",
      "[Parallel(n_jobs=6)]: Using backend ThreadingBackend with 6 concurrent workers.\n",
      "[Parallel(n_jobs=6)]: Done  40 out of  40 | elapsed:    0.8s finished\n",
      "[Parallel(n_jobs=6)]: Using backend ThreadingBackend with 6 concurrent workers.\n",
      "[Parallel(n_jobs=6)]: Done  40 out of  40 | elapsed:    0.0s finished\n",
      "[Parallel(n_jobs=6)]: Using backend ThreadingBackend with 6 concurrent workers.\n"
     ]
    },
    {
     "name": "stdout",
     "output_type": "stream",
     "text": [
      "Test accuracy = 95.07%. Train accuracy = 95.23%.\n",
      "Best accuracy reached so far: 96.98897944816008 for params: 20, sqrt, 25, 10, 2, True\n",
      "315ème itérateur: 40, 1, 25, 50, 32, True\n"
     ]
    },
    {
     "name": "stderr",
     "output_type": "stream",
     "text": [
      "[Parallel(n_jobs=6)]: Done  40 out of  40 | elapsed:    0.1s finished\n",
      "[Parallel(n_jobs=6)]: Using backend ThreadingBackend with 6 concurrent workers.\n",
      "[Parallel(n_jobs=6)]: Done  40 out of  40 | elapsed:    0.9s finished\n",
      "[Parallel(n_jobs=6)]: Using backend ThreadingBackend with 6 concurrent workers.\n",
      "[Parallel(n_jobs=6)]: Done  40 out of  40 | elapsed:    0.0s finished\n",
      "[Parallel(n_jobs=6)]: Using backend ThreadingBackend with 6 concurrent workers.\n"
     ]
    },
    {
     "name": "stdout",
     "output_type": "stream",
     "text": [
      "Test accuracy = 96.02%. "
     ]
    },
    {
     "name": "stderr",
     "output_type": "stream",
     "text": [
      "[Parallel(n_jobs=6)]: Done  40 out of  40 | elapsed:    0.1s finished\n",
      "[Parallel(n_jobs=6)]: Using backend ThreadingBackend with 6 concurrent workers.\n"
     ]
    },
    {
     "name": "stdout",
     "output_type": "stream",
     "text": [
      "Train accuracy = 96.22%.\n",
      "Best accuracy reached so far: 96.98897944816008 for params: 20, sqrt, 25, 10, 2, True\n",
      "316ème itérateur: 40, 1, None, 5, 1, False\n"
     ]
    },
    {
     "name": "stderr",
     "output_type": "stream",
     "text": [
      "[Parallel(n_jobs=6)]: Done  40 out of  40 | elapsed:    1.4s finished\n",
      "[Parallel(n_jobs=6)]: Using backend ThreadingBackend with 6 concurrent workers.\n",
      "[Parallel(n_jobs=6)]: Done  40 out of  40 | elapsed:    0.1s finished\n",
      "[Parallel(n_jobs=6)]: Using backend ThreadingBackend with 6 concurrent workers.\n"
     ]
    },
    {
     "name": "stdout",
     "output_type": "stream",
     "text": [
      "Test accuracy = 96.86%. "
     ]
    },
    {
     "name": "stderr",
     "output_type": "stream",
     "text": [
      "[Parallel(n_jobs=6)]: Done  40 out of  40 | elapsed:    0.2s finished\n",
      "[Parallel(n_jobs=6)]: Using backend ThreadingBackend with 6 concurrent workers.\n"
     ]
    },
    {
     "name": "stdout",
     "output_type": "stream",
     "text": [
      "Train accuracy = 99.99%.\n",
      "Best accuracy reached so far: 96.98897944816008 for params: 20, sqrt, 25, 10, 2, True\n",
      "317ème itérateur: 40, 2, 1, 5, 4, False\n"
     ]
    },
    {
     "name": "stderr",
     "output_type": "stream",
     "text": [
      "[Parallel(n_jobs=6)]: Done  40 out of  40 | elapsed:    0.3s finished\n",
      "[Parallel(n_jobs=6)]: Using backend ThreadingBackend with 6 concurrent workers.\n",
      "[Parallel(n_jobs=6)]: Done  40 out of  40 | elapsed:    0.0s finished\n",
      "[Parallel(n_jobs=6)]: Using backend ThreadingBackend with 6 concurrent workers.\n",
      "[Parallel(n_jobs=6)]: Done  40 out of  40 | elapsed:    0.1s finished\n"
     ]
    },
    {
     "name": "stdout",
     "output_type": "stream",
     "text": [
      "Test accuracy = 93.62%. Train accuracy = 93.69%.\n",
      "Best accuracy reached so far: 96.98897944816008 for params: 20, sqrt, 25, 10, 2, True\n",
      "318ème itérateur: 40, 2, 1, 70, 2, False\n"
     ]
    },
    {
     "name": "stderr",
     "output_type": "stream",
     "text": [
      "[Parallel(n_jobs=6)]: Using backend ThreadingBackend with 6 concurrent workers.\n",
      "[Parallel(n_jobs=6)]: Done  40 out of  40 | elapsed:    0.3s finished\n",
      "[Parallel(n_jobs=6)]: Using backend ThreadingBackend with 6 concurrent workers.\n",
      "[Parallel(n_jobs=6)]: Done  40 out of  40 | elapsed:    0.0s finished\n",
      "[Parallel(n_jobs=6)]: Using backend ThreadingBackend with 6 concurrent workers.\n",
      "[Parallel(n_jobs=6)]: Done  40 out of  40 | elapsed:    0.1s finished\n"
     ]
    },
    {
     "name": "stdout",
     "output_type": "stream",
     "text": [
      "Test accuracy = 93.62%. Train accuracy = 93.69%.\n",
      "Best accuracy reached so far: 96.98897944816008 for params: 20, sqrt, 25, 10, 2, True\n",
      "319ème itérateur: 40, 2, 4, 30, 4, False\n"
     ]
    },
    {
     "name": "stderr",
     "output_type": "stream",
     "text": [
      "[Parallel(n_jobs=6)]: Using backend ThreadingBackend with 6 concurrent workers.\n",
      "[Parallel(n_jobs=6)]: Done  40 out of  40 | elapsed:    0.8s finished\n",
      "[Parallel(n_jobs=6)]: Using backend ThreadingBackend with 6 concurrent workers.\n",
      "[Parallel(n_jobs=6)]: Done  40 out of  40 | elapsed:    0.0s finished\n",
      "[Parallel(n_jobs=6)]: Using backend ThreadingBackend with 6 concurrent workers.\n"
     ]
    },
    {
     "name": "stdout",
     "output_type": "stream",
     "text": [
      "Test accuracy = 94.85%. Train accuracy = 94.83%.\n",
      "Best accuracy reached so far: 96.98897944816008 for params: 20, sqrt, 25, 10, 2, True\n",
      "320ème itérateur: 40, 2, 5, 70, 2, False\n"
     ]
    },
    {
     "name": "stderr",
     "output_type": "stream",
     "text": [
      "[Parallel(n_jobs=6)]: Done  40 out of  40 | elapsed:    0.1s finished\n",
      "[Parallel(n_jobs=6)]: Using backend ThreadingBackend with 6 concurrent workers.\n",
      "[Parallel(n_jobs=6)]: Done  40 out of  40 | elapsed:    0.9s finished\n",
      "[Parallel(n_jobs=6)]: Using backend ThreadingBackend with 6 concurrent workers.\n",
      "[Parallel(n_jobs=6)]: Done  40 out of  40 | elapsed:    0.0s finished\n"
     ]
    },
    {
     "name": "stdout",
     "output_type": "stream",
     "text": [
      "Test accuracy = 95.19%. Train accuracy = 95.21%.\n",
      "Best accuracy reached so far: 96.98897944816008 for params: 20, sqrt, 25, 10, 2, True\n",
      "321ème itérateur: 40, 2, 7, 5, 4, True\n"
     ]
    },
    {
     "name": "stderr",
     "output_type": "stream",
     "text": [
      "[Parallel(n_jobs=6)]: Using backend ThreadingBackend with 6 concurrent workers.\n",
      "[Parallel(n_jobs=6)]: Done  40 out of  40 | elapsed:    0.1s finished\n",
      "[Parallel(n_jobs=6)]: Using backend ThreadingBackend with 6 concurrent workers.\n",
      "[Parallel(n_jobs=6)]: Done  40 out of  40 | elapsed:    1.0s finished\n",
      "[Parallel(n_jobs=6)]: Using backend ThreadingBackend with 6 concurrent workers.\n",
      "[Parallel(n_jobs=6)]: Done  40 out of  40 | elapsed:    0.0s finished\n",
      "[Parallel(n_jobs=6)]: Using backend ThreadingBackend with 6 concurrent workers.\n"
     ]
    },
    {
     "name": "stdout",
     "output_type": "stream",
     "text": [
      "Test accuracy = 95.77%. "
     ]
    },
    {
     "name": "stderr",
     "output_type": "stream",
     "text": [
      "[Parallel(n_jobs=6)]: Done  40 out of  40 | elapsed:    0.1s finished\n",
      "[Parallel(n_jobs=6)]: Using backend ThreadingBackend with 6 concurrent workers.\n"
     ]
    },
    {
     "name": "stdout",
     "output_type": "stream",
     "text": [
      "Train accuracy = 95.87%.\n",
      "Best accuracy reached so far: 96.98897944816008 for params: 20, sqrt, 25, 10, 2, True\n",
      "322ème itérateur: 40, 2, 20, 5, 8, False\n"
     ]
    },
    {
     "name": "stderr",
     "output_type": "stream",
     "text": [
      "[Parallel(n_jobs=6)]: Done  40 out of  40 | elapsed:    2.0s finished\n",
      "[Parallel(n_jobs=6)]: Using backend ThreadingBackend with 6 concurrent workers.\n",
      "[Parallel(n_jobs=6)]: Done  40 out of  40 | elapsed:    0.0s finished\n"
     ]
    },
    {
     "name": "stdout",
     "output_type": "stream",
     "text": [
      "Test accuracy = 96.86%. "
     ]
    },
    {
     "name": "stderr",
     "output_type": "stream",
     "text": [
      "[Parallel(n_jobs=6)]: Using backend ThreadingBackend with 6 concurrent workers.\n",
      "[Parallel(n_jobs=6)]: Done  40 out of  40 | elapsed:    0.1s finished\n"
     ]
    },
    {
     "name": "stdout",
     "output_type": "stream",
     "text": [
      "Train accuracy = 97.80%.\n",
      "Best accuracy reached so far: 96.98897944816008 for params: 20, sqrt, 25, 10, 2, True\n",
      "323ème itérateur: 40, 2, 20, 10, 2, True\n"
     ]
    },
    {
     "name": "stderr",
     "output_type": "stream",
     "text": [
      "[Parallel(n_jobs=6)]: Using backend ThreadingBackend with 6 concurrent workers.\n",
      "[Parallel(n_jobs=6)]: Done  40 out of  40 | elapsed:    1.7s finished\n",
      "[Parallel(n_jobs=6)]: Using backend ThreadingBackend with 6 concurrent workers.\n",
      "[Parallel(n_jobs=6)]: Done  40 out of  40 | elapsed:    0.0s finished\n",
      "[Parallel(n_jobs=6)]: Using backend ThreadingBackend with 6 concurrent workers.\n"
     ]
    },
    {
     "name": "stdout",
     "output_type": "stream",
     "text": [
      "Test accuracy = 96.84%. "
     ]
    },
    {
     "name": "stderr",
     "output_type": "stream",
     "text": [
      "[Parallel(n_jobs=6)]: Done  40 out of  40 | elapsed:    0.2s finished\n",
      "[Parallel(n_jobs=6)]: Using backend ThreadingBackend with 6 concurrent workers.\n"
     ]
    },
    {
     "name": "stdout",
     "output_type": "stream",
     "text": [
      "Train accuracy = 98.01%.\n",
      "Best accuracy reached so far: 96.98897944816008 for params: 20, sqrt, 25, 10, 2, True\n",
      "324ème itérateur: 40, 2, None, 50, 128, False\n"
     ]
    },
    {
     "name": "stderr",
     "output_type": "stream",
     "text": [
      "[Parallel(n_jobs=6)]: Done  40 out of  40 | elapsed:    2.0s finished\n",
      "[Parallel(n_jobs=6)]: Using backend ThreadingBackend with 6 concurrent workers.\n",
      "[Parallel(n_jobs=6)]: Done  40 out of  40 | elapsed:    0.0s finished\n",
      "[Parallel(n_jobs=6)]: Using backend ThreadingBackend with 6 concurrent workers.\n"
     ]
    },
    {
     "name": "stdout",
     "output_type": "stream",
     "text": [
      "Test accuracy = 96.31%. "
     ]
    },
    {
     "name": "stderr",
     "output_type": "stream",
     "text": [
      "[Parallel(n_jobs=6)]: Done  40 out of  40 | elapsed:    0.1s finished\n",
      "[Parallel(n_jobs=6)]: Using backend ThreadingBackend with 6 concurrent workers.\n"
     ]
    },
    {
     "name": "stdout",
     "output_type": "stream",
     "text": [
      "Train accuracy = 96.42%.\n",
      "Best accuracy reached so far: 96.98897944816008 for params: 20, sqrt, 25, 10, 2, True\n",
      "325ème itérateur: 40, 3, 3, 20, 1, True\n"
     ]
    },
    {
     "name": "stderr",
     "output_type": "stream",
     "text": [
      "[Parallel(n_jobs=6)]: Done  40 out of  40 | elapsed:    0.8s finished\n",
      "[Parallel(n_jobs=6)]: Using backend ThreadingBackend with 6 concurrent workers.\n",
      "[Parallel(n_jobs=6)]: Done  40 out of  40 | elapsed:    0.0s finished\n",
      "[Parallel(n_jobs=6)]: Using backend ThreadingBackend with 6 concurrent workers.\n"
     ]
    },
    {
     "name": "stdout",
     "output_type": "stream",
     "text": [
      "Test accuracy = 94.42%. Train accuracy = 94.37%.\n",
      "Best accuracy reached so far: 96.98897944816008 for params: 20, sqrt, 25, 10, 2, True\n",
      "326ème itérateur: 40, 3, 7, 5, 16, True\n"
     ]
    },
    {
     "name": "stderr",
     "output_type": "stream",
     "text": [
      "[Parallel(n_jobs=6)]: Done  40 out of  40 | elapsed:    0.1s finished\n",
      "[Parallel(n_jobs=6)]: Using backend ThreadingBackend with 6 concurrent workers.\n",
      "[Parallel(n_jobs=6)]: Done  40 out of  40 | elapsed:    1.6s finished\n",
      "[Parallel(n_jobs=6)]: Using backend ThreadingBackend with 6 concurrent workers.\n",
      "[Parallel(n_jobs=6)]: Done  40 out of  40 | elapsed:    0.0s finished\n",
      "[Parallel(n_jobs=6)]: Using backend ThreadingBackend with 6 concurrent workers.\n"
     ]
    },
    {
     "name": "stdout",
     "output_type": "stream",
     "text": [
      "Test accuracy = 96.01%. Train accuracy = 96.09%.\n",
      "Best accuracy reached so far: 96.98897944816008 for params: 20, sqrt, 25, 10, 2, True\n",
      "327ème itérateur: 40, 3, 7, 30, 4, False\n"
     ]
    },
    {
     "name": "stderr",
     "output_type": "stream",
     "text": [
      "[Parallel(n_jobs=6)]: Done  40 out of  40 | elapsed:    0.1s finished\n",
      "[Parallel(n_jobs=6)]: Using backend ThreadingBackend with 6 concurrent workers.\n",
      "[Parallel(n_jobs=6)]: Done  40 out of  40 | elapsed:    1.7s finished\n",
      "[Parallel(n_jobs=6)]: Using backend ThreadingBackend with 6 concurrent workers.\n",
      "[Parallel(n_jobs=6)]: Done  40 out of  40 | elapsed:    0.0s finished\n",
      "[Parallel(n_jobs=6)]: Using backend ThreadingBackend with 6 concurrent workers.\n"
     ]
    },
    {
     "name": "stdout",
     "output_type": "stream",
     "text": [
      "Test accuracy = 95.99%. Train accuracy = 96.10%.\n",
      "Best accuracy reached so far: 96.98897944816008 for params: 20, sqrt, 25, 10, 2, True\n",
      "328ème itérateur: 40, 3, 7, 40, 4, True\n"
     ]
    },
    {
     "name": "stderr",
     "output_type": "stream",
     "text": [
      "[Parallel(n_jobs=6)]: Done  40 out of  40 | elapsed:    0.1s finished\n",
      "[Parallel(n_jobs=6)]: Using backend ThreadingBackend with 6 concurrent workers.\n",
      "[Parallel(n_jobs=6)]: Done  40 out of  40 | elapsed:    1.5s finished\n",
      "[Parallel(n_jobs=6)]: Using backend ThreadingBackend with 6 concurrent workers.\n",
      "[Parallel(n_jobs=6)]: Done  40 out of  40 | elapsed:    0.0s finished\n"
     ]
    },
    {
     "name": "stdout",
     "output_type": "stream",
     "text": [
      "Test accuracy = 95.96%. "
     ]
    },
    {
     "name": "stderr",
     "output_type": "stream",
     "text": [
      "[Parallel(n_jobs=6)]: Using backend ThreadingBackend with 6 concurrent workers.\n",
      "[Parallel(n_jobs=6)]: Done  40 out of  40 | elapsed:    0.1s finished\n"
     ]
    },
    {
     "name": "stdout",
     "output_type": "stream",
     "text": [
      "Train accuracy = 96.03%.\n",
      "Best accuracy reached so far: 96.98897944816008 for params: 20, sqrt, 25, 10, 2, True\n",
      "329ème itérateur: 40, 3, 10, 5, 64, True\n"
     ]
    },
    {
     "name": "stderr",
     "output_type": "stream",
     "text": [
      "[Parallel(n_jobs=6)]: Using backend ThreadingBackend with 6 concurrent workers.\n",
      "[Parallel(n_jobs=6)]: Done  40 out of  40 | elapsed:    2.1s finished\n",
      "[Parallel(n_jobs=6)]: Using backend ThreadingBackend with 6 concurrent workers.\n",
      "[Parallel(n_jobs=6)]: Done  40 out of  40 | elapsed:    0.0s finished\n",
      "[Parallel(n_jobs=6)]: Using backend ThreadingBackend with 6 concurrent workers.\n"
     ]
    },
    {
     "name": "stdout",
     "output_type": "stream",
     "text": [
      "Test accuracy = 96.48%. "
     ]
    },
    {
     "name": "stderr",
     "output_type": "stream",
     "text": [
      "[Parallel(n_jobs=6)]: Done  40 out of  40 | elapsed:    0.1s finished\n",
      "[Parallel(n_jobs=6)]: Using backend ThreadingBackend with 6 concurrent workers.\n"
     ]
    },
    {
     "name": "stdout",
     "output_type": "stream",
     "text": [
      "Train accuracy = 96.50%.\n",
      "Best accuracy reached so far: 96.98897944816008 for params: 20, sqrt, 25, 10, 2, True\n",
      "330ème itérateur: 40, 3, 25, 2, 16, False\n"
     ]
    },
    {
     "name": "stderr",
     "output_type": "stream",
     "text": [
      "[Parallel(n_jobs=6)]: Done  40 out of  40 | elapsed:    3.5s finished\n",
      "[Parallel(n_jobs=6)]: Using backend ThreadingBackend with 6 concurrent workers.\n",
      "[Parallel(n_jobs=6)]: Done  40 out of  40 | elapsed:    0.0s finished\n",
      "[Parallel(n_jobs=6)]: Using backend ThreadingBackend with 6 concurrent workers.\n"
     ]
    },
    {
     "name": "stdout",
     "output_type": "stream",
     "text": [
      "Test accuracy = 96.95%. "
     ]
    },
    {
     "name": "stderr",
     "output_type": "stream",
     "text": [
      "[Parallel(n_jobs=6)]: Done  40 out of  40 | elapsed:    0.2s finished\n",
      "[Parallel(n_jobs=6)]: Using backend ThreadingBackend with 6 concurrent workers.\n"
     ]
    },
    {
     "name": "stdout",
     "output_type": "stream",
     "text": [
      "Train accuracy = 97.58%.\n",
      "Best accuracy reached so far: 96.98897944816008 for params: 20, sqrt, 25, 10, 2, True\n",
      "331ème itérateur: 40, 3, 25, 5, 64, True\n"
     ]
    },
    {
     "name": "stderr",
     "output_type": "stream",
     "text": [
      "[Parallel(n_jobs=6)]: Done  40 out of  40 | elapsed:    2.3s finished\n",
      "[Parallel(n_jobs=6)]: Using backend ThreadingBackend with 6 concurrent workers.\n",
      "[Parallel(n_jobs=6)]: Done  40 out of  40 | elapsed:    0.0s finished\n",
      "[Parallel(n_jobs=6)]: Using backend ThreadingBackend with 6 concurrent workers.\n"
     ]
    },
    {
     "name": "stdout",
     "output_type": "stream",
     "text": [
      "Test accuracy = 96.60%. "
     ]
    },
    {
     "name": "stderr",
     "output_type": "stream",
     "text": [
      "[Parallel(n_jobs=6)]: Done  40 out of  40 | elapsed:    0.2s finished\n",
      "[Parallel(n_jobs=6)]: Using backend ThreadingBackend with 6 concurrent workers.\n"
     ]
    },
    {
     "name": "stdout",
     "output_type": "stream",
     "text": [
      "Train accuracy = 96.77%.\n",
      "Best accuracy reached so far: 96.98897944816008 for params: 20, sqrt, 25, 10, 2, True\n",
      "332ème itérateur: 40, 3, None, 50, 4, False\n"
     ]
    },
    {
     "name": "stderr",
     "output_type": "stream",
     "text": [
      "[Parallel(n_jobs=6)]: Done  40 out of  40 | elapsed:    3.0s finished\n",
      "[Parallel(n_jobs=6)]: Using backend ThreadingBackend with 6 concurrent workers.\n",
      "[Parallel(n_jobs=6)]: Done  40 out of  40 | elapsed:    0.0s finished\n"
     ]
    },
    {
     "name": "stdout",
     "output_type": "stream",
     "text": [
      "Test accuracy = 96.94%. "
     ]
    },
    {
     "name": "stderr",
     "output_type": "stream",
     "text": [
      "[Parallel(n_jobs=6)]: Using backend ThreadingBackend with 6 concurrent workers.\n",
      "[Parallel(n_jobs=6)]: Done  40 out of  40 | elapsed:    0.1s finished\n"
     ]
    },
    {
     "name": "stdout",
     "output_type": "stream",
     "text": [
      "Train accuracy = 97.73%.\n",
      "Best accuracy reached so far: 96.98897944816008 for params: 20, sqrt, 25, 10, 2, True\n",
      "333ème itérateur: 40, 8, 3, 50, 2, True\n"
     ]
    },
    {
     "name": "stderr",
     "output_type": "stream",
     "text": [
      "[Parallel(n_jobs=6)]: Using backend ThreadingBackend with 6 concurrent workers.\n",
      "[Parallel(n_jobs=6)]: Done  40 out of  40 | elapsed:    1.5s finished\n",
      "[Parallel(n_jobs=6)]: Using backend ThreadingBackend with 6 concurrent workers.\n",
      "[Parallel(n_jobs=6)]: Done  40 out of  40 | elapsed:    0.0s finished\n",
      "[Parallel(n_jobs=6)]: Using backend ThreadingBackend with 6 concurrent workers.\n",
      "[Parallel(n_jobs=6)]: Done  40 out of  40 | elapsed:    0.1s finished\n"
     ]
    },
    {
     "name": "stdout",
     "output_type": "stream",
     "text": [
      "Test accuracy = 95.00%. Train accuracy = 94.95%.\n",
      "Best accuracy reached so far: 96.98897944816008 for params: 20, sqrt, 25, 10, 2, True\n",
      "334ème itérateur: 40, 8, 4, 70, 1, False\n"
     ]
    },
    {
     "name": "stderr",
     "output_type": "stream",
     "text": [
      "[Parallel(n_jobs=6)]: Using backend ThreadingBackend with 6 concurrent workers.\n",
      "[Parallel(n_jobs=6)]: Done  40 out of  40 | elapsed:    2.4s finished\n",
      "[Parallel(n_jobs=6)]: Using backend ThreadingBackend with 6 concurrent workers.\n",
      "[Parallel(n_jobs=6)]: Done  40 out of  40 | elapsed:    0.0s finished\n",
      "[Parallel(n_jobs=6)]: Using backend ThreadingBackend with 6 concurrent workers.\n"
     ]
    },
    {
     "name": "stdout",
     "output_type": "stream",
     "text": [
      "Test accuracy = 95.44%. Train accuracy = 95.36%.\n",
      "Best accuracy reached so far: 96.98897944816008 for params: 20, sqrt, 25, 10, 2, True\n",
      "335ème itérateur: 40, 8, 10, 40, 1, True\n"
     ]
    },
    {
     "name": "stderr",
     "output_type": "stream",
     "text": [
      "[Parallel(n_jobs=6)]: Done  40 out of  40 | elapsed:    0.1s finished\n",
      "[Parallel(n_jobs=6)]: Using backend ThreadingBackend with 6 concurrent workers.\n",
      "[Parallel(n_jobs=6)]: Done  40 out of  40 | elapsed:    4.4s finished\n",
      "[Parallel(n_jobs=6)]: Using backend ThreadingBackend with 6 concurrent workers.\n",
      "[Parallel(n_jobs=6)]: Done  40 out of  40 | elapsed:    0.0s finished\n",
      "[Parallel(n_jobs=6)]: Using backend ThreadingBackend with 6 concurrent workers.\n"
     ]
    },
    {
     "name": "stdout",
     "output_type": "stream",
     "text": [
      "Test accuracy = 96.76%. "
     ]
    },
    {
     "name": "stderr",
     "output_type": "stream",
     "text": [
      "[Parallel(n_jobs=6)]: Done  40 out of  40 | elapsed:    0.2s finished\n",
      "[Parallel(n_jobs=6)]: Using backend ThreadingBackend with 6 concurrent workers.\n"
     ]
    },
    {
     "name": "stdout",
     "output_type": "stream",
     "text": [
      "Train accuracy = 97.00%.\n",
      "Best accuracy reached so far: 96.98897944816008 for params: 20, sqrt, 25, 10, 2, True\n",
      "336ème itérateur: 40, 8, 10, 40, 16, True\n"
     ]
    },
    {
     "name": "stderr",
     "output_type": "stream",
     "text": [
      "[Parallel(n_jobs=6)]: Done  40 out of  40 | elapsed:    3.9s finished\n",
      "[Parallel(n_jobs=6)]: Using backend ThreadingBackend with 6 concurrent workers.\n",
      "[Parallel(n_jobs=6)]: Done  40 out of  40 | elapsed:    0.0s finished\n",
      "[Parallel(n_jobs=6)]: Using backend ThreadingBackend with 6 concurrent workers.\n"
     ]
    },
    {
     "name": "stdout",
     "output_type": "stream",
     "text": [
      "Test accuracy = 96.84%. Train accuracy = 96.97%.\n",
      "Best accuracy reached so far: 96.98897944816008 for params: 20, sqrt, 25, 10, 2, True\n",
      "337ème itérateur: 40, 8, 17, 40, 8, True\n"
     ]
    },
    {
     "name": "stderr",
     "output_type": "stream",
     "text": [
      "[Parallel(n_jobs=6)]: Done  40 out of  40 | elapsed:    0.1s finished\n",
      "[Parallel(n_jobs=6)]: Using backend ThreadingBackend with 6 concurrent workers.\n",
      "[Parallel(n_jobs=6)]: Done  40 out of  40 | elapsed:    4.7s finished\n",
      "[Parallel(n_jobs=6)]: Using backend ThreadingBackend with 6 concurrent workers.\n",
      "[Parallel(n_jobs=6)]: Done  40 out of  40 | elapsed:    0.0s finished\n",
      "[Parallel(n_jobs=6)]: Using backend ThreadingBackend with 6 concurrent workers.\n"
     ]
    },
    {
     "name": "stdout",
     "output_type": "stream",
     "text": [
      "Test accuracy = 96.95%. "
     ]
    },
    {
     "name": "stderr",
     "output_type": "stream",
     "text": [
      "[Parallel(n_jobs=6)]: Done  40 out of  40 | elapsed:    0.1s finished\n",
      "[Parallel(n_jobs=6)]: Using backend ThreadingBackend with 6 concurrent workers.\n"
     ]
    },
    {
     "name": "stdout",
     "output_type": "stream",
     "text": [
      "Train accuracy = 97.41%.\n",
      "Best accuracy reached so far: 96.98897944816008 for params: 20, sqrt, 25, 10, 2, True\n",
      "338ème itérateur: 40, 8, 20, 70, 128, False\n"
     ]
    },
    {
     "name": "stderr",
     "output_type": "stream",
     "text": [
      "[Parallel(n_jobs=6)]: Done  40 out of  40 | elapsed:    6.5s finished\n",
      "[Parallel(n_jobs=6)]: Using backend ThreadingBackend with 6 concurrent workers.\n",
      "[Parallel(n_jobs=6)]: Done  40 out of  40 | elapsed:    0.0s finished\n",
      "[Parallel(n_jobs=6)]: Using backend ThreadingBackend with 6 concurrent workers.\n"
     ]
    },
    {
     "name": "stdout",
     "output_type": "stream",
     "text": [
      "Test accuracy = 96.79%. "
     ]
    },
    {
     "name": "stderr",
     "output_type": "stream",
     "text": [
      "[Parallel(n_jobs=6)]: Done  40 out of  40 | elapsed:    0.1s finished\n",
      "[Parallel(n_jobs=6)]: Using backend ThreadingBackend with 6 concurrent workers.\n"
     ]
    },
    {
     "name": "stdout",
     "output_type": "stream",
     "text": [
      "Train accuracy = 96.84%.\n",
      "Best accuracy reached so far: 96.98897944816008 for params: 20, sqrt, 25, 10, 2, True\n",
      "339ème itérateur: 40, 8, None, 60, 4, False\n"
     ]
    },
    {
     "name": "stderr",
     "output_type": "stream",
     "text": [
      "[Parallel(n_jobs=6)]: Done  40 out of  40 | elapsed:    7.9s finished\n",
      "[Parallel(n_jobs=6)]: Using backend ThreadingBackend with 6 concurrent workers.\n",
      "[Parallel(n_jobs=6)]: Done  40 out of  40 | elapsed:    0.0s finished\n",
      "[Parallel(n_jobs=6)]: Using backend ThreadingBackend with 6 concurrent workers.\n"
     ]
    },
    {
     "name": "stdout",
     "output_type": "stream",
     "text": [
      "Test accuracy = 96.95%. "
     ]
    },
    {
     "name": "stderr",
     "output_type": "stream",
     "text": [
      "[Parallel(n_jobs=6)]: Done  40 out of  40 | elapsed:    0.1s finished\n",
      "[Parallel(n_jobs=6)]: Using backend ThreadingBackend with 6 concurrent workers.\n"
     ]
    },
    {
     "name": "stdout",
     "output_type": "stream",
     "text": [
      "Train accuracy = 97.69%.\n",
      "Best accuracy reached so far: 96.98897944816008 for params: 20, sqrt, 25, 10, 2, True\n",
      "340ème itérateur: 40, sqrt, 1, 50, 4, False\n"
     ]
    },
    {
     "name": "stderr",
     "output_type": "stream",
     "text": [
      "[Parallel(n_jobs=6)]: Done  40 out of  40 | elapsed:    0.5s finished\n",
      "[Parallel(n_jobs=6)]: Using backend ThreadingBackend with 6 concurrent workers.\n",
      "[Parallel(n_jobs=6)]: Done  40 out of  40 | elapsed:    0.0s finished\n",
      "[Parallel(n_jobs=6)]: Using backend ThreadingBackend with 6 concurrent workers.\n"
     ]
    },
    {
     "name": "stdout",
     "output_type": "stream",
     "text": [
      "Test accuracy = 93.17%. Train accuracy = 93.14%.\n",
      "Best accuracy reached so far: 96.98897944816008 for params: 20, sqrt, 25, 10, 2, True\n",
      "341ème itérateur: 40, sqrt, 4, 5, 8, False\n"
     ]
    },
    {
     "name": "stderr",
     "output_type": "stream",
     "text": [
      "[Parallel(n_jobs=6)]: Done  40 out of  40 | elapsed:    0.1s finished\n",
      "[Parallel(n_jobs=6)]: Using backend ThreadingBackend with 6 concurrent workers.\n",
      "[Parallel(n_jobs=6)]: Done  40 out of  40 | elapsed:    1.6s finished\n",
      "[Parallel(n_jobs=6)]: Using backend ThreadingBackend with 6 concurrent workers.\n",
      "[Parallel(n_jobs=6)]: Done  40 out of  40 | elapsed:    0.0s finished\n",
      "[Parallel(n_jobs=6)]: Using backend ThreadingBackend with 6 concurrent workers.\n"
     ]
    },
    {
     "name": "stdout",
     "output_type": "stream",
     "text": [
      "Test accuracy = 95.31%. Train accuracy = 95.38%.\n",
      "Best accuracy reached so far: 96.98897944816008 for params: 20, sqrt, 25, 10, 2, True\n",
      "342ème itérateur: 40, sqrt, 5, 2, 128, False\n"
     ]
    },
    {
     "name": "stderr",
     "output_type": "stream",
     "text": [
      "[Parallel(n_jobs=6)]: Done  40 out of  40 | elapsed:    0.1s finished\n",
      "[Parallel(n_jobs=6)]: Using backend ThreadingBackend with 6 concurrent workers.\n",
      "[Parallel(n_jobs=6)]: Done  40 out of  40 | elapsed:    2.1s finished\n",
      "[Parallel(n_jobs=6)]: Using backend ThreadingBackend with 6 concurrent workers.\n",
      "[Parallel(n_jobs=6)]: Done  40 out of  40 | elapsed:    0.0s finished\n",
      "[Parallel(n_jobs=6)]: Using backend ThreadingBackend with 6 concurrent workers.\n"
     ]
    },
    {
     "name": "stdout",
     "output_type": "stream",
     "text": [
      "Test accuracy = 95.46%. Train accuracy = 95.48%.\n",
      "Best accuracy reached so far: 96.98897944816008 for params: 20, sqrt, 25, 10, 2, True\n",
      "343ème itérateur: 40, sqrt, 5, 70, 32, True\n"
     ]
    },
    {
     "name": "stderr",
     "output_type": "stream",
     "text": [
      "[Parallel(n_jobs=6)]: Done  40 out of  40 | elapsed:    0.1s finished\n",
      "[Parallel(n_jobs=6)]: Using backend ThreadingBackend with 6 concurrent workers.\n",
      "[Parallel(n_jobs=6)]: Done  40 out of  40 | elapsed:    1.8s finished\n",
      "[Parallel(n_jobs=6)]: Using backend ThreadingBackend with 6 concurrent workers.\n",
      "[Parallel(n_jobs=6)]: Done  40 out of  40 | elapsed:    0.0s finished\n",
      "[Parallel(n_jobs=6)]: Using backend ThreadingBackend with 6 concurrent workers.\n"
     ]
    },
    {
     "name": "stdout",
     "output_type": "stream",
     "text": [
      "Test accuracy = 95.61%. Train accuracy = 95.69%.\n",
      "Best accuracy reached so far: 96.98897944816008 for params: 20, sqrt, 25, 10, 2, True\n",
      "344ème itérateur: 40, sqrt, 7, 5, 16, True\n"
     ]
    },
    {
     "name": "stderr",
     "output_type": "stream",
     "text": [
      "[Parallel(n_jobs=6)]: Done  40 out of  40 | elapsed:    0.1s finished\n",
      "[Parallel(n_jobs=6)]: Using backend ThreadingBackend with 6 concurrent workers.\n",
      "[Parallel(n_jobs=6)]: Done  40 out of  40 | elapsed:    2.1s finished\n",
      "[Parallel(n_jobs=6)]: Using backend ThreadingBackend with 6 concurrent workers.\n",
      "[Parallel(n_jobs=6)]: Done  40 out of  40 | elapsed:    0.0s finished\n"
     ]
    },
    {
     "name": "stdout",
     "output_type": "stream",
     "text": [
      "Test accuracy = 96.22%. Train accuracy = 96.27%.\n",
      "Best accuracy reached so far: 96.98897944816008 for params: 20, sqrt, 25, 10, 2, True\n",
      "345ème itérateur: 40, sqrt, 7, 70, 32, True\n"
     ]
    },
    {
     "name": "stderr",
     "output_type": "stream",
     "text": [
      "[Parallel(n_jobs=6)]: Using backend ThreadingBackend with 6 concurrent workers.\n",
      "[Parallel(n_jobs=6)]: Done  40 out of  40 | elapsed:    0.1s finished\n",
      "[Parallel(n_jobs=6)]: Using backend ThreadingBackend with 6 concurrent workers.\n",
      "[Parallel(n_jobs=6)]: Done  40 out of  40 | elapsed:    2.3s finished\n",
      "[Parallel(n_jobs=6)]: Using backend ThreadingBackend with 6 concurrent workers.\n",
      "[Parallel(n_jobs=6)]: Done  40 out of  40 | elapsed:    0.0s finished\n",
      "[Parallel(n_jobs=6)]: Using backend ThreadingBackend with 6 concurrent workers.\n"
     ]
    },
    {
     "name": "stdout",
     "output_type": "stream",
     "text": [
      "Test accuracy = 96.28%. Train accuracy = 96.30%.\n",
      "Best accuracy reached so far: 96.98897944816008 for params: 20, sqrt, 25, 10, 2, True\n",
      "346ème itérateur: 40, sqrt, 10, 40, 4, False\n"
     ]
    },
    {
     "name": "stderr",
     "output_type": "stream",
     "text": [
      "[Parallel(n_jobs=6)]: Done  40 out of  40 | elapsed:    0.1s finished\n",
      "[Parallel(n_jobs=6)]: Using backend ThreadingBackend with 6 concurrent workers.\n",
      "[Parallel(n_jobs=6)]: Done  40 out of  40 | elapsed:    3.4s finished\n",
      "[Parallel(n_jobs=6)]: Using backend ThreadingBackend with 6 concurrent workers.\n",
      "[Parallel(n_jobs=6)]: Done  40 out of  40 | elapsed:    0.0s finished\n",
      "[Parallel(n_jobs=6)]: Using backend ThreadingBackend with 6 concurrent workers.\n"
     ]
    },
    {
     "name": "stdout",
     "output_type": "stream",
     "text": [
      "Test accuracy = 96.80%. Train accuracy = 97.01%.\n",
      "Best accuracy reached so far: 96.98897944816008 for params: 20, sqrt, 25, 10, 2, True\n",
      "347ème itérateur: 40, sqrt, 17, 10, 16, False\n"
     ]
    },
    {
     "name": "stderr",
     "output_type": "stream",
     "text": [
      "[Parallel(n_jobs=6)]: Done  40 out of  40 | elapsed:    0.1s finished\n",
      "[Parallel(n_jobs=6)]: Using backend ThreadingBackend with 6 concurrent workers.\n",
      "[Parallel(n_jobs=6)]: Done  40 out of  40 | elapsed:    4.2s finished\n",
      "[Parallel(n_jobs=6)]: Using backend ThreadingBackend with 6 concurrent workers.\n",
      "[Parallel(n_jobs=6)]: Done  40 out of  40 | elapsed:    0.0s finished\n"
     ]
    },
    {
     "name": "stdout",
     "output_type": "stream",
     "text": [
      "Test accuracy = 96.95%. "
     ]
    },
    {
     "name": "stderr",
     "output_type": "stream",
     "text": [
      "[Parallel(n_jobs=6)]: Using backend ThreadingBackend with 6 concurrent workers.\n",
      "[Parallel(n_jobs=6)]: Done  40 out of  40 | elapsed:    0.1s finished\n"
     ]
    },
    {
     "name": "stdout",
     "output_type": "stream",
     "text": [
      "Train accuracy = 97.63%.\n",
      "Best accuracy reached so far: 96.98897944816008 for params: 20, sqrt, 25, 10, 2, True\n",
      "348ème itérateur: 40, sqrt, 17, 40, 1, False\n"
     ]
    },
    {
     "name": "stderr",
     "output_type": "stream",
     "text": [
      "[Parallel(n_jobs=6)]: Using backend ThreadingBackend with 6 concurrent workers.\n",
      "[Parallel(n_jobs=6)]: Done  40 out of  40 | elapsed:    4.9s finished\n",
      "[Parallel(n_jobs=6)]: Using backend ThreadingBackend with 6 concurrent workers.\n",
      "[Parallel(n_jobs=6)]: Done  40 out of  40 | elapsed:    0.0s finished\n",
      "[Parallel(n_jobs=6)]: Using backend ThreadingBackend with 6 concurrent workers.\n"
     ]
    },
    {
     "name": "stdout",
     "output_type": "stream",
     "text": [
      "Test accuracy = 96.98%. "
     ]
    },
    {
     "name": "stderr",
     "output_type": "stream",
     "text": [
      "[Parallel(n_jobs=6)]: Done  40 out of  40 | elapsed:    0.1s finished\n",
      "[Parallel(n_jobs=6)]: Using backend ThreadingBackend with 6 concurrent workers.\n"
     ]
    },
    {
     "name": "stdout",
     "output_type": "stream",
     "text": [
      "Train accuracy = 97.86%.\n",
      "Best accuracy reached so far: 96.98897944816008 for params: 20, sqrt, 25, 10, 2, True\n",
      "349ème itérateur: 40, sqrt, 25, 60, 8, False\n"
     ]
    },
    {
     "name": "stderr",
     "output_type": "stream",
     "text": [
      "[Parallel(n_jobs=6)]: Done  40 out of  40 | elapsed:    5.2s finished\n",
      "[Parallel(n_jobs=6)]: Using backend ThreadingBackend with 6 concurrent workers.\n",
      "[Parallel(n_jobs=6)]: Done  40 out of  40 | elapsed:    0.0s finished\n",
      "[Parallel(n_jobs=6)]: Using backend ThreadingBackend with 6 concurrent workers.\n"
     ]
    },
    {
     "name": "stdout",
     "output_type": "stream",
     "text": [
      "Test accuracy = 96.93%. "
     ]
    },
    {
     "name": "stderr",
     "output_type": "stream",
     "text": [
      "[Parallel(n_jobs=6)]: Done  40 out of  40 | elapsed:    0.1s finished\n",
      "[Parallel(n_jobs=6)]: Using backend ThreadingBackend with 6 concurrent workers.\n"
     ]
    },
    {
     "name": "stdout",
     "output_type": "stream",
     "text": [
      "Train accuracy = 97.58%.\n",
      "Best accuracy reached so far: 96.98897944816008 for params: 20, sqrt, 25, 10, 2, True\n",
      "350ème itérateur: 40, sqrt, None, 30, 1, False\n"
     ]
    },
    {
     "name": "stderr",
     "output_type": "stream",
     "text": [
      "[Parallel(n_jobs=6)]: Done  40 out of  40 | elapsed:    4.9s finished\n",
      "[Parallel(n_jobs=6)]: Using backend ThreadingBackend with 6 concurrent workers.\n",
      "[Parallel(n_jobs=6)]: Done  40 out of  40 | elapsed:    0.0s finished\n",
      "[Parallel(n_jobs=6)]: Using backend ThreadingBackend with 6 concurrent workers.\n"
     ]
    },
    {
     "name": "stdout",
     "output_type": "stream",
     "text": [
      "Test accuracy = 96.97%. "
     ]
    },
    {
     "name": "stderr",
     "output_type": "stream",
     "text": [
      "[Parallel(n_jobs=6)]: Done  40 out of  40 | elapsed:    0.1s finished\n",
      "[Parallel(n_jobs=6)]: Using backend ThreadingBackend with 6 concurrent workers.\n"
     ]
    },
    {
     "name": "stdout",
     "output_type": "stream",
     "text": [
      "Train accuracy = 98.47%.\n",
      "Best accuracy reached so far: 96.98897944816008 for params: 20, sqrt, 25, 10, 2, True\n",
      "351ème itérateur: 40, None, 1, 50, 16, True\n"
     ]
    },
    {
     "name": "stderr",
     "output_type": "stream",
     "text": [
      "[Parallel(n_jobs=6)]: Done  40 out of  40 | elapsed:    1.8s finished\n",
      "[Parallel(n_jobs=6)]: Using backend ThreadingBackend with 6 concurrent workers.\n",
      "[Parallel(n_jobs=6)]: Done  40 out of  40 | elapsed:    0.0s finished\n",
      "[Parallel(n_jobs=6)]: Using backend ThreadingBackend with 6 concurrent workers.\n"
     ]
    },
    {
     "name": "stdout",
     "output_type": "stream",
     "text": [
      "Test accuracy = 92.47%. Train accuracy = 92.53%.\n",
      "Best accuracy reached so far: 96.98897944816008 for params: 20, sqrt, 25, 10, 2, True\n",
      "352ème itérateur: 40, None, 2, 40, 1, False\n"
     ]
    },
    {
     "name": "stderr",
     "output_type": "stream",
     "text": [
      "[Parallel(n_jobs=6)]: Done  40 out of  40 | elapsed:    0.1s finished\n",
      "[Parallel(n_jobs=6)]: Using backend ThreadingBackend with 6 concurrent workers.\n",
      "[Parallel(n_jobs=6)]: Done  40 out of  40 | elapsed:    4.3s finished\n",
      "[Parallel(n_jobs=6)]: Using backend ThreadingBackend with 6 concurrent workers.\n",
      "[Parallel(n_jobs=6)]: Done  40 out of  40 | elapsed:    0.0s finished\n",
      "[Parallel(n_jobs=6)]: Using backend ThreadingBackend with 6 concurrent workers.\n"
     ]
    },
    {
     "name": "stdout",
     "output_type": "stream",
     "text": [
      "Test accuracy = 94.39%. Train accuracy = 94.56%.\n",
      "Best accuracy reached so far: 96.98897944816008 for params: 20, sqrt, 25, 10, 2, True\n",
      "353ème itérateur: 40, None, 2, 50, 128, False\n"
     ]
    },
    {
     "name": "stderr",
     "output_type": "stream",
     "text": [
      "[Parallel(n_jobs=6)]: Done  40 out of  40 | elapsed:    0.1s finished\n",
      "[Parallel(n_jobs=6)]: Using backend ThreadingBackend with 6 concurrent workers.\n",
      "[Parallel(n_jobs=6)]: Done  40 out of  40 | elapsed:    4.3s finished\n",
      "[Parallel(n_jobs=6)]: Using backend ThreadingBackend with 6 concurrent workers.\n",
      "[Parallel(n_jobs=6)]: Done  40 out of  40 | elapsed:    0.0s finished\n",
      "[Parallel(n_jobs=6)]: Using backend ThreadingBackend with 6 concurrent workers.\n"
     ]
    },
    {
     "name": "stdout",
     "output_type": "stream",
     "text": [
      "Test accuracy = 94.39%. Train accuracy = 94.56%.\n",
      "Best accuracy reached so far: 96.98897944816008 for params: 20, sqrt, 25, 10, 2, True\n",
      "354ème itérateur: 40, None, 3, 2, 1, False\n"
     ]
    },
    {
     "name": "stderr",
     "output_type": "stream",
     "text": [
      "[Parallel(n_jobs=6)]: Done  40 out of  40 | elapsed:    0.1s finished\n",
      "[Parallel(n_jobs=6)]: Using backend ThreadingBackend with 6 concurrent workers.\n",
      "[Parallel(n_jobs=6)]: Done  40 out of  40 | elapsed:    6.1s finished\n",
      "[Parallel(n_jobs=6)]: Using backend ThreadingBackend with 6 concurrent workers.\n",
      "[Parallel(n_jobs=6)]: Done  40 out of  40 | elapsed:    0.0s finished\n"
     ]
    },
    {
     "name": "stdout",
     "output_type": "stream",
     "text": [
      "Test accuracy = 95.01%. Train accuracy = 95.13%.\n",
      "Best accuracy reached so far: 96.98897944816008 for params: 20, sqrt, 25, 10, 2, True\n",
      "355ème itérateur: 40, None, 3, 2, 64, False\n"
     ]
    },
    {
     "name": "stderr",
     "output_type": "stream",
     "text": [
      "[Parallel(n_jobs=6)]: Using backend ThreadingBackend with 6 concurrent workers.\n",
      "[Parallel(n_jobs=6)]: Done  40 out of  40 | elapsed:    0.1s finished\n",
      "[Parallel(n_jobs=6)]: Using backend ThreadingBackend with 6 concurrent workers.\n",
      "[Parallel(n_jobs=6)]: Done  40 out of  40 | elapsed:    7.2s finished\n",
      "[Parallel(n_jobs=6)]: Using backend ThreadingBackend with 6 concurrent workers.\n",
      "[Parallel(n_jobs=6)]: Done  40 out of  40 | elapsed:    0.0s finished\n",
      "[Parallel(n_jobs=6)]: Using backend ThreadingBackend with 6 concurrent workers.\n"
     ]
    },
    {
     "name": "stdout",
     "output_type": "stream",
     "text": [
      "Test accuracy = 95.01%. Train accuracy = 95.13%.\n",
      "Best accuracy reached so far: 96.98897944816008 for params: 20, sqrt, 25, 10, 2, True\n",
      "356ème itérateur: 40, None, 5, 40, 64, False\n"
     ]
    },
    {
     "name": "stderr",
     "output_type": "stream",
     "text": [
      "[Parallel(n_jobs=6)]: Done  40 out of  40 | elapsed:    0.1s finished\n",
      "[Parallel(n_jobs=6)]: Using backend ThreadingBackend with 6 concurrent workers.\n",
      "[Parallel(n_jobs=6)]: Done  40 out of  40 | elapsed:   11.2s finished\n",
      "[Parallel(n_jobs=6)]: Using backend ThreadingBackend with 6 concurrent workers.\n",
      "[Parallel(n_jobs=6)]: Done  40 out of  40 | elapsed:    0.0s finished\n",
      "[Parallel(n_jobs=6)]: Using backend ThreadingBackend with 6 concurrent workers.\n"
     ]
    },
    {
     "name": "stdout",
     "output_type": "stream",
     "text": [
      "Test accuracy = 95.86%. Train accuracy = 96.01%.\n",
      "Best accuracy reached so far: 96.98897944816008 for params: 20, sqrt, 25, 10, 2, True\n",
      "357ème itérateur: 40, None, 10, 30, 8, False\n"
     ]
    },
    {
     "name": "stderr",
     "output_type": "stream",
     "text": [
      "[Parallel(n_jobs=6)]: Done  40 out of  40 | elapsed:    0.1s finished\n",
      "[Parallel(n_jobs=6)]: Using backend ThreadingBackend with 6 concurrent workers.\n",
      "[Parallel(n_jobs=6)]: Done  40 out of  40 | elapsed:   19.4s finished\n",
      "[Parallel(n_jobs=6)]: Using backend ThreadingBackend with 6 concurrent workers.\n",
      "[Parallel(n_jobs=6)]: Done  40 out of  40 | elapsed:    0.0s finished\n",
      "[Parallel(n_jobs=6)]: Using backend ThreadingBackend with 6 concurrent workers.\n"
     ]
    },
    {
     "name": "stdout",
     "output_type": "stream",
     "text": [
      "Test accuracy = 96.45%. "
     ]
    },
    {
     "name": "stderr",
     "output_type": "stream",
     "text": [
      "[Parallel(n_jobs=6)]: Done  40 out of  40 | elapsed:    0.2s finished\n",
      "[Parallel(n_jobs=6)]: Using backend ThreadingBackend with 6 concurrent workers.\n"
     ]
    },
    {
     "name": "stdout",
     "output_type": "stream",
     "text": [
      "Train accuracy = 96.75%.\n",
      "Best accuracy reached so far: 96.98897944816008 for params: 20, sqrt, 25, 10, 2, True\n",
      "358ème itérateur: 40, None, 17, 10, 8, True\n"
     ]
    },
    {
     "name": "stderr",
     "output_type": "stream",
     "text": [
      "[Parallel(n_jobs=6)]: Done  40 out of  40 | elapsed:   19.1s finished\n",
      "[Parallel(n_jobs=6)]: Using backend ThreadingBackend with 6 concurrent workers.\n",
      "[Parallel(n_jobs=6)]: Done  40 out of  40 | elapsed:    0.0s finished\n",
      "[Parallel(n_jobs=6)]: Using backend ThreadingBackend with 6 concurrent workers.\n"
     ]
    },
    {
     "name": "stdout",
     "output_type": "stream",
     "text": [
      "Test accuracy = 96.86%. "
     ]
    },
    {
     "name": "stderr",
     "output_type": "stream",
     "text": [
      "[Parallel(n_jobs=6)]: Done  40 out of  40 | elapsed:    0.1s finished\n",
      "[Parallel(n_jobs=6)]: Using backend ThreadingBackend with 6 concurrent workers.\n"
     ]
    },
    {
     "name": "stdout",
     "output_type": "stream",
     "text": [
      "Train accuracy = 97.80%.\n",
      "Best accuracy reached so far: 96.98897944816008 for params: 20, sqrt, 25, 10, 2, True\n",
      "359ème itérateur: 40, None, 17, 70, 64, False\n"
     ]
    },
    {
     "name": "stderr",
     "output_type": "stream",
     "text": [
      "[Parallel(n_jobs=6)]: Done  40 out of  40 | elapsed:   19.9s finished\n",
      "[Parallel(n_jobs=6)]: Using backend ThreadingBackend with 6 concurrent workers.\n",
      "[Parallel(n_jobs=6)]: Done  40 out of  40 | elapsed:    0.0s finished\n"
     ]
    },
    {
     "name": "stdout",
     "output_type": "stream",
     "text": [
      "Test accuracy = 96.34%. "
     ]
    },
    {
     "name": "stderr",
     "output_type": "stream",
     "text": [
      "[Parallel(n_jobs=6)]: Using backend ThreadingBackend with 6 concurrent workers.\n",
      "[Parallel(n_jobs=6)]: Done  40 out of  40 | elapsed:    0.1s finished\n"
     ]
    },
    {
     "name": "stdout",
     "output_type": "stream",
     "text": [
      "Train accuracy = 96.65%.\n",
      "Best accuracy reached so far: 96.98897944816008 for params: 20, sqrt, 25, 10, 2, True\n",
      "360ème itérateur: 40, None, 25, 10, 128, False\n"
     ]
    },
    {
     "name": "stderr",
     "output_type": "stream",
     "text": [
      "[Parallel(n_jobs=6)]: Using backend ThreadingBackend with 6 concurrent workers.\n",
      "[Parallel(n_jobs=6)]: Done  40 out of  40 | elapsed:   22.8s finished\n",
      "[Parallel(n_jobs=6)]: Using backend ThreadingBackend with 6 concurrent workers.\n",
      "[Parallel(n_jobs=6)]: Done  40 out of  40 | elapsed:    0.0s finished\n",
      "[Parallel(n_jobs=6)]: Using backend ThreadingBackend with 6 concurrent workers.\n"
     ]
    },
    {
     "name": "stdout",
     "output_type": "stream",
     "text": [
      "Test accuracy = 96.24%. "
     ]
    },
    {
     "name": "stderr",
     "output_type": "stream",
     "text": [
      "[Parallel(n_jobs=6)]: Done  40 out of  40 | elapsed:    0.1s finished\n",
      "[Parallel(n_jobs=6)]: Using backend ThreadingBackend with 6 concurrent workers.\n"
     ]
    },
    {
     "name": "stdout",
     "output_type": "stream",
     "text": [
      "Train accuracy = 96.40%.\n",
      "Best accuracy reached so far: 96.98897944816008 for params: 20, sqrt, 25, 10, 2, True\n",
      "361ème itérateur: 50, 1, 1, 20, 4, False\n"
     ]
    },
    {
     "name": "stderr",
     "output_type": "stream",
     "text": [
      "[Parallel(n_jobs=6)]: Done  38 tasks      | elapsed:    0.2s\n",
      "[Parallel(n_jobs=6)]: Done  50 out of  50 | elapsed:    0.3s finished\n",
      "[Parallel(n_jobs=6)]: Using backend ThreadingBackend with 6 concurrent workers.\n",
      "[Parallel(n_jobs=6)]: Done  38 tasks      | elapsed:    0.0s\n",
      "[Parallel(n_jobs=6)]: Done  50 out of  50 | elapsed:    0.0s finished\n",
      "[Parallel(n_jobs=6)]: Using backend ThreadingBackend with 6 concurrent workers.\n"
     ]
    },
    {
     "name": "stdout",
     "output_type": "stream",
     "text": [
      "Test accuracy = 90.09%. Train accuracy = 90.26%.\n",
      "Best accuracy reached so far: 96.98897944816008 for params: 20, sqrt, 25, 10, 2, True\n",
      "362ème itérateur: 50, 1, 1, 50, 64, True\n"
     ]
    },
    {
     "name": "stderr",
     "output_type": "stream",
     "text": [
      "[Parallel(n_jobs=6)]: Done  38 tasks      | elapsed:    0.1s\n",
      "[Parallel(n_jobs=6)]: Done  50 out of  50 | elapsed:    0.1s finished\n",
      "[Parallel(n_jobs=6)]: Using backend ThreadingBackend with 6 concurrent workers.\n",
      "[Parallel(n_jobs=6)]: Done  38 tasks      | elapsed:    0.2s\n",
      "[Parallel(n_jobs=6)]: Done  50 out of  50 | elapsed:    0.3s finished\n",
      "[Parallel(n_jobs=6)]: Using backend ThreadingBackend with 6 concurrent workers.\n",
      "[Parallel(n_jobs=6)]: Done  38 tasks      | elapsed:    0.0s\n",
      "[Parallel(n_jobs=6)]: Done  50 out of  50 | elapsed:    0.0s finished\n"
     ]
    },
    {
     "name": "stdout",
     "output_type": "stream",
     "text": [
      "Test accuracy = 90.07%. Train accuracy = 90.23%.\n",
      "Best accuracy reached so far: 96.98897944816008 for params: 20, sqrt, 25, 10, 2, True\n",
      "363ème itérateur: 50, 1, 3, 60, 2, False\n"
     ]
    },
    {
     "name": "stderr",
     "output_type": "stream",
     "text": [
      "[Parallel(n_jobs=6)]: Using backend ThreadingBackend with 6 concurrent workers.\n",
      "[Parallel(n_jobs=6)]: Done  38 tasks      | elapsed:    0.1s\n",
      "[Parallel(n_jobs=6)]: Done  50 out of  50 | elapsed:    0.1s finished\n",
      "[Parallel(n_jobs=6)]: Using backend ThreadingBackend with 6 concurrent workers.\n",
      "[Parallel(n_jobs=6)]: Done  38 tasks      | elapsed:    0.4s\n",
      "[Parallel(n_jobs=6)]: Done  50 out of  50 | elapsed:    0.5s finished\n",
      "[Parallel(n_jobs=6)]: Using backend ThreadingBackend with 6 concurrent workers.\n",
      "[Parallel(n_jobs=6)]: Done  38 tasks      | elapsed:    0.0s\n",
      "[Parallel(n_jobs=6)]: Done  50 out of  50 | elapsed:    0.0s finished\n"
     ]
    },
    {
     "name": "stdout",
     "output_type": "stream",
     "text": [
      "Test accuracy = 92.71%. Train accuracy = 92.86%.\n",
      "Best accuracy reached so far: 96.98897944816008 for params: 20, sqrt, 25, 10, 2, True\n",
      "364ème itérateur: 50, 1, 4, 20, 16, True\n"
     ]
    },
    {
     "name": "stderr",
     "output_type": "stream",
     "text": [
      "[Parallel(n_jobs=6)]: Using backend ThreadingBackend with 6 concurrent workers.\n",
      "[Parallel(n_jobs=6)]: Done  38 tasks      | elapsed:    0.1s\n",
      "[Parallel(n_jobs=6)]: Done  50 out of  50 | elapsed:    0.1s finished\n",
      "[Parallel(n_jobs=6)]: Using backend ThreadingBackend with 6 concurrent workers.\n",
      "[Parallel(n_jobs=6)]: Done  38 tasks      | elapsed:    0.5s\n",
      "[Parallel(n_jobs=6)]: Done  50 out of  50 | elapsed:    0.6s finished\n",
      "[Parallel(n_jobs=6)]: Using backend ThreadingBackend with 6 concurrent workers.\n",
      "[Parallel(n_jobs=6)]: Done  38 tasks      | elapsed:    0.0s\n",
      "[Parallel(n_jobs=6)]: Done  50 out of  50 | elapsed:    0.0s finished\n"
     ]
    },
    {
     "name": "stdout",
     "output_type": "stream",
     "text": [
      "Test accuracy = 93.15%. Train accuracy = 93.35%.\n",
      "Best accuracy reached so far: 96.98897944816008 for params: 20, sqrt, 25, 10, 2, True\n",
      "365ème itérateur: 50, 1, 4, 30, 32, True\n"
     ]
    },
    {
     "name": "stderr",
     "output_type": "stream",
     "text": [
      "[Parallel(n_jobs=6)]: Using backend ThreadingBackend with 6 concurrent workers.\n",
      "[Parallel(n_jobs=6)]: Done  38 tasks      | elapsed:    0.1s\n",
      "[Parallel(n_jobs=6)]: Done  50 out of  50 | elapsed:    0.1s finished\n",
      "[Parallel(n_jobs=6)]: Using backend ThreadingBackend with 6 concurrent workers.\n",
      "[Parallel(n_jobs=6)]: Done  38 tasks      | elapsed:    0.5s\n",
      "[Parallel(n_jobs=6)]: Done  50 out of  50 | elapsed:    0.6s finished\n",
      "[Parallel(n_jobs=6)]: Using backend ThreadingBackend with 6 concurrent workers.\n",
      "[Parallel(n_jobs=6)]: Done  38 tasks      | elapsed:    0.0s\n",
      "[Parallel(n_jobs=6)]: Done  50 out of  50 | elapsed:    0.0s finished\n"
     ]
    },
    {
     "name": "stdout",
     "output_type": "stream",
     "text": [
      "Test accuracy = 93.11%. Train accuracy = 93.29%.\n",
      "Best accuracy reached so far: 96.98897944816008 for params: 20, sqrt, 25, 10, 2, True\n",
      "366ème itérateur: 50, 1, 5, 50, 4, True\n"
     ]
    },
    {
     "name": "stderr",
     "output_type": "stream",
     "text": [
      "[Parallel(n_jobs=6)]: Using backend ThreadingBackend with 6 concurrent workers.\n",
      "[Parallel(n_jobs=6)]: Done  38 tasks      | elapsed:    0.1s\n",
      "[Parallel(n_jobs=6)]: Done  50 out of  50 | elapsed:    0.1s finished\n",
      "[Parallel(n_jobs=6)]: Using backend ThreadingBackend with 6 concurrent workers.\n",
      "[Parallel(n_jobs=6)]: Done  38 tasks      | elapsed:    0.6s\n",
      "[Parallel(n_jobs=6)]: Done  50 out of  50 | elapsed:    0.7s finished\n",
      "[Parallel(n_jobs=6)]: Using backend ThreadingBackend with 6 concurrent workers.\n",
      "[Parallel(n_jobs=6)]: Done  38 tasks      | elapsed:    0.0s\n",
      "[Parallel(n_jobs=6)]: Done  50 out of  50 | elapsed:    0.0s finished\n"
     ]
    },
    {
     "name": "stdout",
     "output_type": "stream",
     "text": [
      "Test accuracy = 94.21%. Train accuracy = 94.30%.\n",
      "Best accuracy reached so far: 96.98897944816008 for params: 20, sqrt, 25, 10, 2, True\n",
      "367ème itérateur: 50, 1, 10, 70, 2, True\n"
     ]
    },
    {
     "name": "stderr",
     "output_type": "stream",
     "text": [
      "[Parallel(n_jobs=6)]: Using backend ThreadingBackend with 6 concurrent workers.\n",
      "[Parallel(n_jobs=6)]: Done  38 tasks      | elapsed:    0.1s\n",
      "[Parallel(n_jobs=6)]: Done  50 out of  50 | elapsed:    0.1s finished\n",
      "[Parallel(n_jobs=6)]: Using backend ThreadingBackend with 6 concurrent workers.\n",
      "[Parallel(n_jobs=6)]: Done  38 tasks      | elapsed:    0.8s\n",
      "[Parallel(n_jobs=6)]: Done  50 out of  50 | elapsed:    1.0s finished\n",
      "[Parallel(n_jobs=6)]: Using backend ThreadingBackend with 6 concurrent workers.\n",
      "[Parallel(n_jobs=6)]: Done  38 tasks      | elapsed:    0.0s\n",
      "[Parallel(n_jobs=6)]: Done  50 out of  50 | elapsed:    0.0s finished\n",
      "[Parallel(n_jobs=6)]: Using backend ThreadingBackend with 6 concurrent workers.\n"
     ]
    },
    {
     "name": "stdout",
     "output_type": "stream",
     "text": [
      "Test accuracy = 95.84%. "
     ]
    },
    {
     "name": "stderr",
     "output_type": "stream",
     "text": [
      "[Parallel(n_jobs=6)]: Done  38 tasks      | elapsed:    0.1s\n",
      "[Parallel(n_jobs=6)]: Done  50 out of  50 | elapsed:    0.1s finished\n",
      "[Parallel(n_jobs=6)]: Using backend ThreadingBackend with 6 concurrent workers.\n"
     ]
    },
    {
     "name": "stdout",
     "output_type": "stream",
     "text": [
      "Train accuracy = 95.97%.\n",
      "Best accuracy reached so far: 96.98897944816008 for params: 20, sqrt, 25, 10, 2, True\n",
      "368ème itérateur: 50, 1, 10, 70, 8, True\n"
     ]
    },
    {
     "name": "stderr",
     "output_type": "stream",
     "text": [
      "[Parallel(n_jobs=6)]: Done  38 tasks      | elapsed:    0.8s\n",
      "[Parallel(n_jobs=6)]: Done  50 out of  50 | elapsed:    1.0s finished\n",
      "[Parallel(n_jobs=6)]: Using backend ThreadingBackend with 6 concurrent workers.\n",
      "[Parallel(n_jobs=6)]: Done  38 tasks      | elapsed:    0.0s\n",
      "[Parallel(n_jobs=6)]: Done  50 out of  50 | elapsed:    0.0s finished\n",
      "[Parallel(n_jobs=6)]: Using backend ThreadingBackend with 6 concurrent workers.\n"
     ]
    },
    {
     "name": "stdout",
     "output_type": "stream",
     "text": [
      "Test accuracy = 95.69%. "
     ]
    },
    {
     "name": "stderr",
     "output_type": "stream",
     "text": [
      "[Parallel(n_jobs=6)]: Done  38 tasks      | elapsed:    0.1s\n",
      "[Parallel(n_jobs=6)]: Done  50 out of  50 | elapsed:    0.1s finished\n",
      "[Parallel(n_jobs=6)]: Using backend ThreadingBackend with 6 concurrent workers.\n"
     ]
    },
    {
     "name": "stdout",
     "output_type": "stream",
     "text": [
      "Train accuracy = 95.90%.\n",
      "Best accuracy reached so far: 96.98897944816008 for params: 20, sqrt, 25, 10, 2, True\n",
      "369ème itérateur: 50, 1, 13, 40, 32, True\n"
     ]
    },
    {
     "name": "stderr",
     "output_type": "stream",
     "text": [
      "[Parallel(n_jobs=6)]: Done  38 tasks      | elapsed:    0.8s\n",
      "[Parallel(n_jobs=6)]: Done  50 out of  50 | elapsed:    1.0s finished\n",
      "[Parallel(n_jobs=6)]: Using backend ThreadingBackend with 6 concurrent workers.\n",
      "[Parallel(n_jobs=6)]: Done  38 tasks      | elapsed:    0.0s\n",
      "[Parallel(n_jobs=6)]: Done  50 out of  50 | elapsed:    0.0s finished\n",
      "[Parallel(n_jobs=6)]: Using backend ThreadingBackend with 6 concurrent workers.\n"
     ]
    },
    {
     "name": "stdout",
     "output_type": "stream",
     "text": [
      "Test accuracy = 95.80%. "
     ]
    },
    {
     "name": "stderr",
     "output_type": "stream",
     "text": [
      "[Parallel(n_jobs=6)]: Done  38 tasks      | elapsed:    0.1s\n",
      "[Parallel(n_jobs=6)]: Done  50 out of  50 | elapsed:    0.1s finished\n",
      "[Parallel(n_jobs=6)]: Using backend ThreadingBackend with 6 concurrent workers.\n"
     ]
    },
    {
     "name": "stdout",
     "output_type": "stream",
     "text": [
      "Train accuracy = 95.97%.\n",
      "Best accuracy reached so far: 96.98897944816008 for params: 20, sqrt, 25, 10, 2, True\n",
      "370ème itérateur: 50, 1, 17, 10, 2, True\n"
     ]
    },
    {
     "name": "stderr",
     "output_type": "stream",
     "text": [
      "[Parallel(n_jobs=6)]: Done  38 tasks      | elapsed:    1.0s\n",
      "[Parallel(n_jobs=6)]: Done  50 out of  50 | elapsed:    1.2s finished\n",
      "[Parallel(n_jobs=6)]: Using backend ThreadingBackend with 6 concurrent workers.\n",
      "[Parallel(n_jobs=6)]: Done  38 tasks      | elapsed:    0.0s\n",
      "[Parallel(n_jobs=6)]: Done  50 out of  50 | elapsed:    0.0s finished\n"
     ]
    },
    {
     "name": "stdout",
     "output_type": "stream",
     "text": [
      "Test accuracy = 96.47%. "
     ]
    },
    {
     "name": "stderr",
     "output_type": "stream",
     "text": [
      "[Parallel(n_jobs=6)]: Using backend ThreadingBackend with 6 concurrent workers.\n",
      "[Parallel(n_jobs=6)]: Done  38 tasks      | elapsed:    0.1s\n",
      "[Parallel(n_jobs=6)]: Done  50 out of  50 | elapsed:    0.2s finished\n"
     ]
    },
    {
     "name": "stdout",
     "output_type": "stream",
     "text": [
      "Train accuracy = 97.24%.\n",
      "Best accuracy reached so far: 96.98897944816008 for params: 20, sqrt, 25, 10, 2, True\n",
      "371ème itérateur: 50, 1, 20, 70, 16, True\n"
     ]
    },
    {
     "name": "stderr",
     "output_type": "stream",
     "text": [
      "[Parallel(n_jobs=6)]: Using backend ThreadingBackend with 6 concurrent workers.\n",
      "[Parallel(n_jobs=6)]: Done  38 tasks      | elapsed:    0.9s\n",
      "[Parallel(n_jobs=6)]: Done  50 out of  50 | elapsed:    1.2s finished\n",
      "[Parallel(n_jobs=6)]: Using backend ThreadingBackend with 6 concurrent workers.\n",
      "[Parallel(n_jobs=6)]: Done  38 tasks      | elapsed:    0.0s\n",
      "[Parallel(n_jobs=6)]: Done  50 out of  50 | elapsed:    0.0s finished\n",
      "[Parallel(n_jobs=6)]: Using backend ThreadingBackend with 6 concurrent workers.\n"
     ]
    },
    {
     "name": "stdout",
     "output_type": "stream",
     "text": [
      "Test accuracy = 96.09%. "
     ]
    },
    {
     "name": "stderr",
     "output_type": "stream",
     "text": [
      "[Parallel(n_jobs=6)]: Done  38 tasks      | elapsed:    0.1s\n",
      "[Parallel(n_jobs=6)]: Done  50 out of  50 | elapsed:    0.1s finished\n",
      "[Parallel(n_jobs=6)]: Using backend ThreadingBackend with 6 concurrent workers.\n"
     ]
    },
    {
     "name": "stdout",
     "output_type": "stream",
     "text": [
      "Train accuracy = 96.38%.\n",
      "Best accuracy reached so far: 96.98897944816008 for params: 20, sqrt, 25, 10, 2, True\n",
      "372ème itérateur: 50, 1, None, 40, 64, True\n"
     ]
    },
    {
     "name": "stderr",
     "output_type": "stream",
     "text": [
      "[Parallel(n_jobs=6)]: Done  38 tasks      | elapsed:    0.8s\n",
      "[Parallel(n_jobs=6)]: Done  50 out of  50 | elapsed:    1.0s finished\n",
      "[Parallel(n_jobs=6)]: Using backend ThreadingBackend with 6 concurrent workers.\n",
      "[Parallel(n_jobs=6)]: Done  38 tasks      | elapsed:    0.0s\n",
      "[Parallel(n_jobs=6)]: Done  50 out of  50 | elapsed:    0.0s finished\n",
      "[Parallel(n_jobs=6)]: Using backend ThreadingBackend with 6 concurrent workers.\n",
      "[Parallel(n_jobs=6)]: Done  38 tasks      | elapsed:    0.1s\n"
     ]
    },
    {
     "name": "stdout",
     "output_type": "stream",
     "text": [
      "Test accuracy = 95.69%. "
     ]
    },
    {
     "name": "stderr",
     "output_type": "stream",
     "text": [
      "[Parallel(n_jobs=6)]: Done  50 out of  50 | elapsed:    0.1s finished\n",
      "[Parallel(n_jobs=6)]: Using backend ThreadingBackend with 6 concurrent workers.\n"
     ]
    },
    {
     "name": "stdout",
     "output_type": "stream",
     "text": [
      "Train accuracy = 95.80%.\n",
      "Best accuracy reached so far: 96.98897944816008 for params: 20, sqrt, 25, 10, 2, True\n",
      "373ème itérateur: 50, 1, None, 50, 8, True\n"
     ]
    },
    {
     "name": "stderr",
     "output_type": "stream",
     "text": [
      "[Parallel(n_jobs=6)]: Done  38 tasks      | elapsed:    1.0s\n",
      "[Parallel(n_jobs=6)]: Done  50 out of  50 | elapsed:    1.2s finished\n",
      "[Parallel(n_jobs=6)]: Using backend ThreadingBackend with 6 concurrent workers.\n",
      "[Parallel(n_jobs=6)]: Done  38 tasks      | elapsed:    0.0s\n",
      "[Parallel(n_jobs=6)]: Done  50 out of  50 | elapsed:    0.0s finished\n",
      "[Parallel(n_jobs=6)]: Using backend ThreadingBackend with 6 concurrent workers.\n"
     ]
    },
    {
     "name": "stdout",
     "output_type": "stream",
     "text": [
      "Test accuracy = 96.37%. "
     ]
    },
    {
     "name": "stderr",
     "output_type": "stream",
     "text": [
      "[Parallel(n_jobs=6)]: Done  38 tasks      | elapsed:    0.1s\n",
      "[Parallel(n_jobs=6)]: Done  50 out of  50 | elapsed:    0.2s finished\n",
      "[Parallel(n_jobs=6)]: Using backend ThreadingBackend with 6 concurrent workers.\n"
     ]
    },
    {
     "name": "stdout",
     "output_type": "stream",
     "text": [
      "Train accuracy = 96.77%.\n",
      "Best accuracy reached so far: 96.98897944816008 for params: 20, sqrt, 25, 10, 2, True\n",
      "374ème itérateur: 50, 2, 2, 60, 2, True\n"
     ]
    },
    {
     "name": "stderr",
     "output_type": "stream",
     "text": [
      "[Parallel(n_jobs=6)]: Done  38 tasks      | elapsed:    0.4s\n",
      "[Parallel(n_jobs=6)]: Done  50 out of  50 | elapsed:    0.5s finished\n",
      "[Parallel(n_jobs=6)]: Using backend ThreadingBackend with 6 concurrent workers.\n",
      "[Parallel(n_jobs=6)]: Done  38 tasks      | elapsed:    0.0s\n",
      "[Parallel(n_jobs=6)]: Done  50 out of  50 | elapsed:    0.0s finished\n",
      "[Parallel(n_jobs=6)]: Using backend ThreadingBackend with 6 concurrent workers.\n",
      "[Parallel(n_jobs=6)]: Done  38 tasks      | elapsed:    0.1s\n",
      "[Parallel(n_jobs=6)]: Done  50 out of  50 | elapsed:    0.1s finished\n"
     ]
    },
    {
     "name": "stdout",
     "output_type": "stream",
     "text": [
      "Test accuracy = 93.89%. Train accuracy = 93.91%.\n",
      "Best accuracy reached so far: 96.98897944816008 for params: 20, sqrt, 25, 10, 2, True\n",
      "375ème itérateur: 50, 2, 4, 10, 128, True\n"
     ]
    },
    {
     "name": "stderr",
     "output_type": "stream",
     "text": [
      "[Parallel(n_jobs=6)]: Using backend ThreadingBackend with 6 concurrent workers.\n",
      "[Parallel(n_jobs=6)]: Done  38 tasks      | elapsed:    0.7s\n",
      "[Parallel(n_jobs=6)]: Done  50 out of  50 | elapsed:    0.8s finished\n",
      "[Parallel(n_jobs=6)]: Using backend ThreadingBackend with 6 concurrent workers.\n",
      "[Parallel(n_jobs=6)]: Done  38 tasks      | elapsed:    0.0s\n",
      "[Parallel(n_jobs=6)]: Done  50 out of  50 | elapsed:    0.0s finished\n",
      "[Parallel(n_jobs=6)]: Using backend ThreadingBackend with 6 concurrent workers.\n",
      "[Parallel(n_jobs=6)]: Done  38 tasks      | elapsed:    0.1s\n"
     ]
    },
    {
     "name": "stdout",
     "output_type": "stream",
     "text": [
      "Test accuracy = 94.98%. Train accuracy = 94.95%.\n",
      "Best accuracy reached so far: 96.98897944816008 for params: 20, sqrt, 25, 10, 2, True\n",
      "376ème itérateur: 50, 2, 5, 5, 2, True\n"
     ]
    },
    {
     "name": "stderr",
     "output_type": "stream",
     "text": [
      "[Parallel(n_jobs=6)]: Done  50 out of  50 | elapsed:    0.1s finished\n",
      "[Parallel(n_jobs=6)]: Using backend ThreadingBackend with 6 concurrent workers.\n",
      "[Parallel(n_jobs=6)]: Done  38 tasks      | elapsed:    0.9s\n",
      "[Parallel(n_jobs=6)]: Done  50 out of  50 | elapsed:    1.1s finished\n",
      "[Parallel(n_jobs=6)]: Using backend ThreadingBackend with 6 concurrent workers.\n",
      "[Parallel(n_jobs=6)]: Done  38 tasks      | elapsed:    0.0s\n",
      "[Parallel(n_jobs=6)]: Done  50 out of  50 | elapsed:    0.0s finished\n",
      "[Parallel(n_jobs=6)]: Using backend ThreadingBackend with 6 concurrent workers.\n",
      "[Parallel(n_jobs=6)]: Done  38 tasks      | elapsed:    0.1s\n"
     ]
    },
    {
     "name": "stdout",
     "output_type": "stream",
     "text": [
      "Test accuracy = 95.25%. Train accuracy = 95.27%.\n",
      "Best accuracy reached so far: 96.98897944816008 for params: 20, sqrt, 25, 10, 2, True\n",
      "377ème itérateur: 50, 2, 5, 30, 32, True\n"
     ]
    },
    {
     "name": "stderr",
     "output_type": "stream",
     "text": [
      "[Parallel(n_jobs=6)]: Done  50 out of  50 | elapsed:    0.1s finished\n",
      "[Parallel(n_jobs=6)]: Using backend ThreadingBackend with 6 concurrent workers.\n",
      "[Parallel(n_jobs=6)]: Done  38 tasks      | elapsed:    0.8s\n",
      "[Parallel(n_jobs=6)]: Done  50 out of  50 | elapsed:    1.0s finished\n",
      "[Parallel(n_jobs=6)]: Using backend ThreadingBackend with 6 concurrent workers.\n",
      "[Parallel(n_jobs=6)]: Done  38 tasks      | elapsed:    0.0s\n",
      "[Parallel(n_jobs=6)]: Done  50 out of  50 | elapsed:    0.0s finished\n",
      "[Parallel(n_jobs=6)]: Using backend ThreadingBackend with 6 concurrent workers.\n",
      "[Parallel(n_jobs=6)]: Done  38 tasks      | elapsed:    0.1s\n"
     ]
    },
    {
     "name": "stdout",
     "output_type": "stream",
     "text": [
      "Test accuracy = 95.46%. Train accuracy = 95.39%.\n",
      "Best accuracy reached so far: 96.98897944816008 for params: 20, sqrt, 25, 10, 2, True\n",
      "378ème itérateur: 50, 2, 10, 70, 128, True\n"
     ]
    },
    {
     "name": "stderr",
     "output_type": "stream",
     "text": [
      "[Parallel(n_jobs=6)]: Done  50 out of  50 | elapsed:    0.1s finished\n",
      "[Parallel(n_jobs=6)]: Using backend ThreadingBackend with 6 concurrent workers.\n",
      "[Parallel(n_jobs=6)]: Done  38 tasks      | elapsed:    1.2s\n",
      "[Parallel(n_jobs=6)]: Done  50 out of  50 | elapsed:    1.5s finished\n",
      "[Parallel(n_jobs=6)]: Using backend ThreadingBackend with 6 concurrent workers.\n",
      "[Parallel(n_jobs=6)]: Done  38 tasks      | elapsed:    0.0s\n",
      "[Parallel(n_jobs=6)]: Done  50 out of  50 | elapsed:    0.0s finished\n",
      "[Parallel(n_jobs=6)]: Using backend ThreadingBackend with 6 concurrent workers.\n"
     ]
    },
    {
     "name": "stdout",
     "output_type": "stream",
     "text": [
      "Test accuracy = 96.27%. "
     ]
    },
    {
     "name": "stderr",
     "output_type": "stream",
     "text": [
      "[Parallel(n_jobs=6)]: Done  38 tasks      | elapsed:    0.1s\n",
      "[Parallel(n_jobs=6)]: Done  50 out of  50 | elapsed:    0.1s finished\n",
      "[Parallel(n_jobs=6)]: Using backend ThreadingBackend with 6 concurrent workers.\n"
     ]
    },
    {
     "name": "stdout",
     "output_type": "stream",
     "text": [
      "Train accuracy = 96.32%.\n",
      "Best accuracy reached so far: 96.98897944816008 for params: 20, sqrt, 25, 10, 2, True\n",
      "379ème itérateur: 50, 2, 13, 2, 1, False\n"
     ]
    },
    {
     "name": "stderr",
     "output_type": "stream",
     "text": [
      "[Parallel(n_jobs=6)]: Done  38 tasks      | elapsed:    2.0s\n",
      "[Parallel(n_jobs=6)]: Done  50 out of  50 | elapsed:    2.5s finished\n",
      "[Parallel(n_jobs=6)]: Using backend ThreadingBackend with 6 concurrent workers.\n",
      "[Parallel(n_jobs=6)]: Done  38 tasks      | elapsed:    0.0s\n",
      "[Parallel(n_jobs=6)]: Done  50 out of  50 | elapsed:    0.0s finished\n",
      "[Parallel(n_jobs=6)]: Using backend ThreadingBackend with 6 concurrent workers.\n"
     ]
    },
    {
     "name": "stdout",
     "output_type": "stream",
     "text": [
      "Test accuracy = 96.71%. "
     ]
    },
    {
     "name": "stderr",
     "output_type": "stream",
     "text": [
      "[Parallel(n_jobs=6)]: Done  38 tasks      | elapsed:    0.2s\n",
      "[Parallel(n_jobs=6)]: Done  50 out of  50 | elapsed:    0.2s finished\n",
      "[Parallel(n_jobs=6)]: Using backend ThreadingBackend with 6 concurrent workers.\n"
     ]
    },
    {
     "name": "stdout",
     "output_type": "stream",
     "text": [
      "Train accuracy = 97.53%.\n",
      "Best accuracy reached so far: 96.98897944816008 for params: 20, sqrt, 25, 10, 2, True\n",
      "380ème itérateur: 50, 2, 20, 5, 128, False\n"
     ]
    },
    {
     "name": "stderr",
     "output_type": "stream",
     "text": [
      "[Parallel(n_jobs=6)]: Done  38 tasks      | elapsed:    2.0s\n",
      "[Parallel(n_jobs=6)]: Done  50 out of  50 | elapsed:    2.5s finished\n",
      "[Parallel(n_jobs=6)]: Using backend ThreadingBackend with 6 concurrent workers.\n",
      "[Parallel(n_jobs=6)]: Done  38 tasks      | elapsed:    0.0s\n",
      "[Parallel(n_jobs=6)]: Done  50 out of  50 | elapsed:    0.1s finished\n",
      "[Parallel(n_jobs=6)]: Using backend ThreadingBackend with 6 concurrent workers.\n"
     ]
    },
    {
     "name": "stdout",
     "output_type": "stream",
     "text": [
      "Test accuracy = 96.37%. "
     ]
    },
    {
     "name": "stderr",
     "output_type": "stream",
     "text": [
      "[Parallel(n_jobs=6)]: Done  38 tasks      | elapsed:    0.1s\n",
      "[Parallel(n_jobs=6)]: Done  50 out of  50 | elapsed:    0.2s finished\n",
      "[Parallel(n_jobs=6)]: Using backend ThreadingBackend with 6 concurrent workers.\n"
     ]
    },
    {
     "name": "stdout",
     "output_type": "stream",
     "text": [
      "Train accuracy = 96.49%.\n",
      "Best accuracy reached so far: 96.98897944816008 for params: 20, sqrt, 25, 10, 2, True\n",
      "381ème itérateur: 50, 2, 25, 50, 8, True\n"
     ]
    },
    {
     "name": "stderr",
     "output_type": "stream",
     "text": [
      "[Parallel(n_jobs=6)]: Done  38 tasks      | elapsed:    1.7s\n",
      "[Parallel(n_jobs=6)]: Done  50 out of  50 | elapsed:    2.1s finished\n",
      "[Parallel(n_jobs=6)]: Using backend ThreadingBackend with 6 concurrent workers.\n",
      "[Parallel(n_jobs=6)]: Done  38 tasks      | elapsed:    0.0s\n",
      "[Parallel(n_jobs=6)]: Done  50 out of  50 | elapsed:    0.0s finished\n",
      "[Parallel(n_jobs=6)]: Using backend ThreadingBackend with 6 concurrent workers.\n"
     ]
    },
    {
     "name": "stdout",
     "output_type": "stream",
     "text": [
      "Test accuracy = 96.77%. "
     ]
    },
    {
     "name": "stderr",
     "output_type": "stream",
     "text": [
      "[Parallel(n_jobs=6)]: Done  38 tasks      | elapsed:    0.1s\n",
      "[Parallel(n_jobs=6)]: Done  50 out of  50 | elapsed:    0.2s finished\n",
      "[Parallel(n_jobs=6)]: Using backend ThreadingBackend with 6 concurrent workers.\n"
     ]
    },
    {
     "name": "stdout",
     "output_type": "stream",
     "text": [
      "Train accuracy = 97.21%.\n",
      "Best accuracy reached so far: 96.98897944816008 for params: 20, sqrt, 25, 10, 2, True\n",
      "382ème itérateur: 50, 2, None, 10, 64, False\n"
     ]
    },
    {
     "name": "stderr",
     "output_type": "stream",
     "text": [
      "[Parallel(n_jobs=6)]: Done  38 tasks      | elapsed:    2.2s\n",
      "[Parallel(n_jobs=6)]: Done  50 out of  50 | elapsed:    2.7s finished\n",
      "[Parallel(n_jobs=6)]: Using backend ThreadingBackend with 6 concurrent workers.\n",
      "[Parallel(n_jobs=6)]: Done  38 tasks      | elapsed:    0.0s\n",
      "[Parallel(n_jobs=6)]: Done  50 out of  50 | elapsed:    0.0s finished\n",
      "[Parallel(n_jobs=6)]: Using backend ThreadingBackend with 6 concurrent workers.\n"
     ]
    },
    {
     "name": "stdout",
     "output_type": "stream",
     "text": [
      "Test accuracy = 96.52%. "
     ]
    },
    {
     "name": "stderr",
     "output_type": "stream",
     "text": [
      "[Parallel(n_jobs=6)]: Done  38 tasks      | elapsed:    0.1s\n",
      "[Parallel(n_jobs=6)]: Done  50 out of  50 | elapsed:    0.2s finished\n",
      "[Parallel(n_jobs=6)]: Using backend ThreadingBackend with 6 concurrent workers.\n"
     ]
    },
    {
     "name": "stdout",
     "output_type": "stream",
     "text": [
      "Train accuracy = 96.77%.\n",
      "Best accuracy reached so far: 96.98897944816008 for params: 20, sqrt, 25, 10, 2, True\n",
      "383ème itérateur: 50, 2, None, 30, 64, True\n"
     ]
    },
    {
     "name": "stderr",
     "output_type": "stream",
     "text": [
      "[Parallel(n_jobs=6)]: Done  38 tasks      | elapsed:    2.0s\n",
      "[Parallel(n_jobs=6)]: Done  50 out of  50 | elapsed:    2.4s finished\n",
      "[Parallel(n_jobs=6)]: Using backend ThreadingBackend with 6 concurrent workers.\n",
      "[Parallel(n_jobs=6)]: Done  38 tasks      | elapsed:    0.0s\n",
      "[Parallel(n_jobs=6)]: Done  50 out of  50 | elapsed:    0.0s finished\n",
      "[Parallel(n_jobs=6)]: Using backend ThreadingBackend with 6 concurrent workers.\n"
     ]
    },
    {
     "name": "stdout",
     "output_type": "stream",
     "text": [
      "Test accuracy = 96.52%. "
     ]
    },
    {
     "name": "stderr",
     "output_type": "stream",
     "text": [
      "[Parallel(n_jobs=6)]: Done  38 tasks      | elapsed:    0.1s\n",
      "[Parallel(n_jobs=6)]: Done  50 out of  50 | elapsed:    0.2s finished\n",
      "[Parallel(n_jobs=6)]: Using backend ThreadingBackend with 6 concurrent workers.\n"
     ]
    },
    {
     "name": "stdout",
     "output_type": "stream",
     "text": [
      "Train accuracy = 96.64%.\n",
      "Best accuracy reached so far: 96.98897944816008 for params: 20, sqrt, 25, 10, 2, True\n",
      "384ème itérateur: 50, 3, 2, 40, 1, False\n"
     ]
    },
    {
     "name": "stderr",
     "output_type": "stream",
     "text": [
      "[Parallel(n_jobs=6)]: Done  38 tasks      | elapsed:    0.6s\n",
      "[Parallel(n_jobs=6)]: Done  50 out of  50 | elapsed:    0.8s finished\n",
      "[Parallel(n_jobs=6)]: Using backend ThreadingBackend with 6 concurrent workers.\n",
      "[Parallel(n_jobs=6)]: Done  38 tasks      | elapsed:    0.0s\n",
      "[Parallel(n_jobs=6)]: Done  50 out of  50 | elapsed:    0.0s finished\n",
      "[Parallel(n_jobs=6)]: Using backend ThreadingBackend with 6 concurrent workers.\n",
      "[Parallel(n_jobs=6)]: Done  38 tasks      | elapsed:    0.1s\n"
     ]
    },
    {
     "name": "stdout",
     "output_type": "stream",
     "text": [
      "Test accuracy = 93.70%. "
     ]
    },
    {
     "name": "stderr",
     "output_type": "stream",
     "text": [
      "[Parallel(n_jobs=6)]: Done  50 out of  50 | elapsed:    0.1s finished\n",
      "[Parallel(n_jobs=6)]: Using backend ThreadingBackend with 6 concurrent workers.\n"
     ]
    },
    {
     "name": "stdout",
     "output_type": "stream",
     "text": [
      "Train accuracy = 93.60%.\n",
      "Best accuracy reached so far: 96.98897944816008 for params: 20, sqrt, 25, 10, 2, True\n",
      "385ème itérateur: 50, 3, 3, 60, 1, False\n"
     ]
    },
    {
     "name": "stderr",
     "output_type": "stream",
     "text": [
      "[Parallel(n_jobs=6)]: Done  38 tasks      | elapsed:    1.6s\n",
      "[Parallel(n_jobs=6)]: Done  50 out of  50 | elapsed:    1.9s finished\n",
      "[Parallel(n_jobs=6)]: Using backend ThreadingBackend with 6 concurrent workers.\n",
      "[Parallel(n_jobs=6)]: Done  38 tasks      | elapsed:    0.0s\n",
      "[Parallel(n_jobs=6)]: Done  50 out of  50 | elapsed:    0.0s finished\n",
      "[Parallel(n_jobs=6)]: Using backend ThreadingBackend with 6 concurrent workers.\n"
     ]
    },
    {
     "name": "stdout",
     "output_type": "stream",
     "text": [
      "Test accuracy = 94.28%. "
     ]
    },
    {
     "name": "stderr",
     "output_type": "stream",
     "text": [
      "[Parallel(n_jobs=6)]: Done  38 tasks      | elapsed:    0.1s\n",
      "[Parallel(n_jobs=6)]: Done  50 out of  50 | elapsed:    0.1s finished\n",
      "[Parallel(n_jobs=6)]: Using backend ThreadingBackend with 6 concurrent workers.\n"
     ]
    },
    {
     "name": "stdout",
     "output_type": "stream",
     "text": [
      "Train accuracy = 94.21%.\n",
      "Best accuracy reached so far: 96.98897944816008 for params: 20, sqrt, 25, 10, 2, True\n",
      "386ème itérateur: 50, 3, 3, 60, 32, False\n"
     ]
    },
    {
     "name": "stderr",
     "output_type": "stream",
     "text": [
      "[Parallel(n_jobs=6)]: Done  38 tasks      | elapsed:    0.8s\n",
      "[Parallel(n_jobs=6)]: Done  50 out of  50 | elapsed:    1.1s finished\n",
      "[Parallel(n_jobs=6)]: Using backend ThreadingBackend with 6 concurrent workers.\n",
      "[Parallel(n_jobs=6)]: Done  38 tasks      | elapsed:    0.0s\n",
      "[Parallel(n_jobs=6)]: Done  50 out of  50 | elapsed:    0.0s finished\n",
      "[Parallel(n_jobs=6)]: Using backend ThreadingBackend with 6 concurrent workers.\n"
     ]
    },
    {
     "name": "stdout",
     "output_type": "stream",
     "text": [
      "Test accuracy = 94.28%. Train accuracy = 94.21%.\n",
      "Best accuracy reached so far: 96.98897944816008 for params: 20, sqrt, 25, 10, 2, True\n",
      "387ème itérateur: 50, 3, 4, 10, 32, True\n"
     ]
    },
    {
     "name": "stderr",
     "output_type": "stream",
     "text": [
      "[Parallel(n_jobs=6)]: Done  38 tasks      | elapsed:    0.1s\n",
      "[Parallel(n_jobs=6)]: Done  50 out of  50 | elapsed:    0.1s finished\n",
      "[Parallel(n_jobs=6)]: Using backend ThreadingBackend with 6 concurrent workers.\n",
      "[Parallel(n_jobs=6)]: Done  38 tasks      | elapsed:    1.2s\n",
      "[Parallel(n_jobs=6)]: Done  50 out of  50 | elapsed:    1.5s finished\n",
      "[Parallel(n_jobs=6)]: Using backend ThreadingBackend with 6 concurrent workers.\n",
      "[Parallel(n_jobs=6)]: Done  38 tasks      | elapsed:    0.0s\n",
      "[Parallel(n_jobs=6)]: Done  50 out of  50 | elapsed:    0.0s finished\n",
      "[Parallel(n_jobs=6)]: Using backend ThreadingBackend with 6 concurrent workers.\n"
     ]
    },
    {
     "name": "stdout",
     "output_type": "stream",
     "text": [
      "Test accuracy = 95.08%. "
     ]
    },
    {
     "name": "stderr",
     "output_type": "stream",
     "text": [
      "[Parallel(n_jobs=6)]: Done  38 tasks      | elapsed:    0.1s\n",
      "[Parallel(n_jobs=6)]: Done  50 out of  50 | elapsed:    0.1s finished\n",
      "[Parallel(n_jobs=6)]: Using backend ThreadingBackend with 6 concurrent workers.\n"
     ]
    },
    {
     "name": "stdout",
     "output_type": "stream",
     "text": [
      "Train accuracy = 95.12%.\n",
      "Best accuracy reached so far: 96.98897944816008 for params: 20, sqrt, 25, 10, 2, True\n",
      "388ème itérateur: 50, 3, 4, 50, 16, False\n"
     ]
    },
    {
     "name": "stderr",
     "output_type": "stream",
     "text": [
      "[Parallel(n_jobs=6)]: Done  38 tasks      | elapsed:    1.2s\n",
      "[Parallel(n_jobs=6)]: Done  50 out of  50 | elapsed:    1.5s finished\n",
      "[Parallel(n_jobs=6)]: Using backend ThreadingBackend with 6 concurrent workers.\n",
      "[Parallel(n_jobs=6)]: Done  38 tasks      | elapsed:    0.0s\n",
      "[Parallel(n_jobs=6)]: Done  50 out of  50 | elapsed:    0.0s finished\n",
      "[Parallel(n_jobs=6)]: Using backend ThreadingBackend with 6 concurrent workers.\n"
     ]
    },
    {
     "name": "stdout",
     "output_type": "stream",
     "text": [
      "Test accuracy = 95.10%. "
     ]
    },
    {
     "name": "stderr",
     "output_type": "stream",
     "text": [
      "[Parallel(n_jobs=6)]: Done  38 tasks      | elapsed:    0.1s\n",
      "[Parallel(n_jobs=6)]: Done  50 out of  50 | elapsed:    0.1s finished\n",
      "[Parallel(n_jobs=6)]: Using backend ThreadingBackend with 6 concurrent workers.\n"
     ]
    },
    {
     "name": "stdout",
     "output_type": "stream",
     "text": [
      "Train accuracy = 95.11%.\n",
      "Best accuracy reached so far: 96.98897944816008 for params: 20, sqrt, 25, 10, 2, True\n",
      "389ème itérateur: 50, 3, 5, 40, 128, True\n"
     ]
    },
    {
     "name": "stderr",
     "output_type": "stream",
     "text": [
      "[Parallel(n_jobs=6)]: Done  38 tasks      | elapsed:    1.1s\n",
      "[Parallel(n_jobs=6)]: Done  50 out of  50 | elapsed:    1.4s finished\n",
      "[Parallel(n_jobs=6)]: Using backend ThreadingBackend with 6 concurrent workers.\n",
      "[Parallel(n_jobs=6)]: Done  38 tasks      | elapsed:    0.0s\n",
      "[Parallel(n_jobs=6)]: Done  50 out of  50 | elapsed:    0.0s finished\n",
      "[Parallel(n_jobs=6)]: Using backend ThreadingBackend with 6 concurrent workers.\n"
     ]
    },
    {
     "name": "stdout",
     "output_type": "stream",
     "text": [
      "Test accuracy = 95.36%. "
     ]
    },
    {
     "name": "stderr",
     "output_type": "stream",
     "text": [
      "[Parallel(n_jobs=6)]: Done  38 tasks      | elapsed:    0.1s\n",
      "[Parallel(n_jobs=6)]: Done  50 out of  50 | elapsed:    0.1s finished\n",
      "[Parallel(n_jobs=6)]: Using backend ThreadingBackend with 6 concurrent workers.\n"
     ]
    },
    {
     "name": "stdout",
     "output_type": "stream",
     "text": [
      "Train accuracy = 95.34%.\n",
      "Best accuracy reached so far: 96.98897944816008 for params: 20, sqrt, 25, 10, 2, True\n",
      "390ème itérateur: 50, 3, 7, 50, 128, True\n"
     ]
    },
    {
     "name": "stderr",
     "output_type": "stream",
     "text": [
      "[Parallel(n_jobs=6)]: Done  38 tasks      | elapsed:    2.0s\n",
      "[Parallel(n_jobs=6)]: Done  50 out of  50 | elapsed:    2.3s finished\n",
      "[Parallel(n_jobs=6)]: Using backend ThreadingBackend with 6 concurrent workers.\n",
      "[Parallel(n_jobs=6)]: Done  38 tasks      | elapsed:    0.0s\n",
      "[Parallel(n_jobs=6)]: Done  50 out of  50 | elapsed:    0.0s finished\n",
      "[Parallel(n_jobs=6)]: Using backend ThreadingBackend with 6 concurrent workers.\n"
     ]
    },
    {
     "name": "stdout",
     "output_type": "stream",
     "text": [
      "Test accuracy = 95.79%. "
     ]
    },
    {
     "name": "stderr",
     "output_type": "stream",
     "text": [
      "[Parallel(n_jobs=6)]: Done  38 tasks      | elapsed:    0.1s\n",
      "[Parallel(n_jobs=6)]: Done  50 out of  50 | elapsed:    0.1s finished\n",
      "[Parallel(n_jobs=6)]: Using backend ThreadingBackend with 6 concurrent workers.\n"
     ]
    },
    {
     "name": "stdout",
     "output_type": "stream",
     "text": [
      "Train accuracy = 95.89%.\n",
      "Best accuracy reached so far: 96.98897944816008 for params: 20, sqrt, 25, 10, 2, True\n",
      "391ème itérateur: 50, 3, 10, 30, 32, False\n"
     ]
    },
    {
     "name": "stderr",
     "output_type": "stream",
     "text": [
      "[Parallel(n_jobs=6)]: Done  38 tasks      | elapsed:    3.1s\n",
      "[Parallel(n_jobs=6)]: Done  50 out of  50 | elapsed:    3.8s finished\n",
      "[Parallel(n_jobs=6)]: Using backend ThreadingBackend with 6 concurrent workers.\n",
      "[Parallel(n_jobs=6)]: Done  38 tasks      | elapsed:    0.0s\n",
      "[Parallel(n_jobs=6)]: Done  50 out of  50 | elapsed:    0.0s finished\n",
      "[Parallel(n_jobs=6)]: Using backend ThreadingBackend with 6 concurrent workers.\n"
     ]
    },
    {
     "name": "stdout",
     "output_type": "stream",
     "text": [
      "Test accuracy = 96.52%. "
     ]
    },
    {
     "name": "stderr",
     "output_type": "stream",
     "text": [
      "[Parallel(n_jobs=6)]: Done  38 tasks      | elapsed:    0.1s\n",
      "[Parallel(n_jobs=6)]: Done  50 out of  50 | elapsed:    0.1s finished\n",
      "[Parallel(n_jobs=6)]: Using backend ThreadingBackend with 6 concurrent workers.\n"
     ]
    },
    {
     "name": "stdout",
     "output_type": "stream",
     "text": [
      "Train accuracy = 96.70%.\n",
      "Best accuracy reached so far: 96.98897944816008 for params: 20, sqrt, 25, 10, 2, True\n",
      "392ème itérateur: 50, 3, 20, 2, 1, False\n"
     ]
    },
    {
     "name": "stderr",
     "output_type": "stream",
     "text": [
      "[Parallel(n_jobs=6)]: Done  38 tasks      | elapsed:    3.4s\n",
      "[Parallel(n_jobs=6)]: Done  50 out of  50 | elapsed:    4.2s finished\n",
      "[Parallel(n_jobs=6)]: Using backend ThreadingBackend with 6 concurrent workers.\n",
      "[Parallel(n_jobs=6)]: Done  38 tasks      | elapsed:    0.0s\n",
      "[Parallel(n_jobs=6)]: Done  50 out of  50 | elapsed:    0.0s finished\n",
      "[Parallel(n_jobs=6)]: Using backend ThreadingBackend with 6 concurrent workers.\n"
     ]
    },
    {
     "name": "stdout",
     "output_type": "stream",
     "text": [
      "Test accuracy = 97.02%. "
     ]
    },
    {
     "name": "stderr",
     "output_type": "stream",
     "text": [
      "[Parallel(n_jobs=6)]: Done  38 tasks      | elapsed:    0.1s\n",
      "[Parallel(n_jobs=6)]: Done  50 out of  50 | elapsed:    0.2s finished\n",
      "[Parallel(n_jobs=6)]: Using backend ThreadingBackend with 6 concurrent workers.\n"
     ]
    },
    {
     "name": "stdout",
     "output_type": "stream",
     "text": [
      "Train accuracy = 99.28%.\n",
      "Best accuracy reached so far: 97.02418022799274 for params: 50, 3, 20, 2, 1, False\n",
      "393ème itérateur: 50, 3, 20, 70, 16, False\n"
     ]
    },
    {
     "name": "stderr",
     "output_type": "stream",
     "text": [
      "[Parallel(n_jobs=6)]: Done  38 tasks      | elapsed:    2.6s\n",
      "[Parallel(n_jobs=6)]: Done  50 out of  50 | elapsed:    3.3s finished\n",
      "[Parallel(n_jobs=6)]: Using backend ThreadingBackend with 6 concurrent workers.\n",
      "[Parallel(n_jobs=6)]: Done  38 tasks      | elapsed:    0.0s\n",
      "[Parallel(n_jobs=6)]: Done  50 out of  50 | elapsed:    0.0s finished\n",
      "[Parallel(n_jobs=6)]: Using backend ThreadingBackend with 6 concurrent workers.\n"
     ]
    },
    {
     "name": "stdout",
     "output_type": "stream",
     "text": [
      "Test accuracy = 96.92%. "
     ]
    },
    {
     "name": "stderr",
     "output_type": "stream",
     "text": [
      "[Parallel(n_jobs=6)]: Done  38 tasks      | elapsed:    0.1s\n",
      "[Parallel(n_jobs=6)]: Done  50 out of  50 | elapsed:    0.2s finished\n",
      "[Parallel(n_jobs=6)]: Using backend ThreadingBackend with 6 concurrent workers.\n"
     ]
    },
    {
     "name": "stdout",
     "output_type": "stream",
     "text": [
      "Train accuracy = 97.35%.\n",
      "Best accuracy reached so far: 97.02418022799274 for params: 50, 3, 20, 2, 1, False\n",
      "394ème itérateur: 50, 3, 25, 5, 32, False\n"
     ]
    },
    {
     "name": "stderr",
     "output_type": "stream",
     "text": [
      "[Parallel(n_jobs=6)]: Done  38 tasks      | elapsed:    2.6s\n",
      "[Parallel(n_jobs=6)]: Done  50 out of  50 | elapsed:    3.2s finished\n",
      "[Parallel(n_jobs=6)]: Using backend ThreadingBackend with 6 concurrent workers.\n",
      "[Parallel(n_jobs=6)]: Done  38 tasks      | elapsed:    0.0s\n",
      "[Parallel(n_jobs=6)]: Done  50 out of  50 | elapsed:    0.0s finished\n",
      "[Parallel(n_jobs=6)]: Using backend ThreadingBackend with 6 concurrent workers.\n"
     ]
    },
    {
     "name": "stdout",
     "output_type": "stream",
     "text": [
      "Test accuracy = 96.85%. "
     ]
    },
    {
     "name": "stderr",
     "output_type": "stream",
     "text": [
      "[Parallel(n_jobs=6)]: Done  38 tasks      | elapsed:    0.1s\n",
      "[Parallel(n_jobs=6)]: Done  50 out of  50 | elapsed:    0.2s finished\n",
      "[Parallel(n_jobs=6)]: Using backend ThreadingBackend with 6 concurrent workers.\n"
     ]
    },
    {
     "name": "stdout",
     "output_type": "stream",
     "text": [
      "Train accuracy = 97.21%.\n",
      "Best accuracy reached so far: 97.02418022799274 for params: 50, 3, 20, 2, 1, False\n",
      "395ème itérateur: 50, 8, 3, 50, 128, True\n"
     ]
    },
    {
     "name": "stderr",
     "output_type": "stream",
     "text": [
      "[Parallel(n_jobs=6)]: Done  38 tasks      | elapsed:    1.4s\n",
      "[Parallel(n_jobs=6)]: Done  50 out of  50 | elapsed:    1.8s finished\n",
      "[Parallel(n_jobs=6)]: Using backend ThreadingBackend with 6 concurrent workers.\n",
      "[Parallel(n_jobs=6)]: Done  38 tasks      | elapsed:    0.0s\n",
      "[Parallel(n_jobs=6)]: Done  50 out of  50 | elapsed:    0.0s finished\n",
      "[Parallel(n_jobs=6)]: Using backend ThreadingBackend with 6 concurrent workers.\n"
     ]
    },
    {
     "name": "stdout",
     "output_type": "stream",
     "text": [
      "Test accuracy = 94.99%. Train accuracy = 94.94%.\n",
      "Best accuracy reached so far: 97.02418022799274 for params: 50, 3, 20, 2, 1, False\n",
      "396ème itérateur: 50, 8, 5, 2, 4, True\n"
     ]
    },
    {
     "name": "stderr",
     "output_type": "stream",
     "text": [
      "[Parallel(n_jobs=6)]: Done  38 tasks      | elapsed:    0.1s\n",
      "[Parallel(n_jobs=6)]: Done  50 out of  50 | elapsed:    0.1s finished\n",
      "[Parallel(n_jobs=6)]: Using backend ThreadingBackend with 6 concurrent workers.\n",
      "[Parallel(n_jobs=6)]: Done  38 tasks      | elapsed:    2.3s\n",
      "[Parallel(n_jobs=6)]: Done  50 out of  50 | elapsed:    2.8s finished\n",
      "[Parallel(n_jobs=6)]: Using backend ThreadingBackend with 6 concurrent workers.\n",
      "[Parallel(n_jobs=6)]: Done  38 tasks      | elapsed:    0.0s\n",
      "[Parallel(n_jobs=6)]: Done  50 out of  50 | elapsed:    0.0s finished\n",
      "[Parallel(n_jobs=6)]: Using backend ThreadingBackend with 6 concurrent workers.\n"
     ]
    },
    {
     "name": "stdout",
     "output_type": "stream",
     "text": [
      "Test accuracy = 96.06%. Train accuracy = 95.99%.\n",
      "Best accuracy reached so far: 97.02418022799274 for params: 50, 3, 20, 2, 1, False\n",
      "397ème itérateur: 50, 8, 10, 20, 128, True\n"
     ]
    },
    {
     "name": "stderr",
     "output_type": "stream",
     "text": [
      "[Parallel(n_jobs=6)]: Done  38 tasks      | elapsed:    0.1s\n",
      "[Parallel(n_jobs=6)]: Done  50 out of  50 | elapsed:    0.1s finished\n",
      "[Parallel(n_jobs=6)]: Using backend ThreadingBackend with 6 concurrent workers.\n",
      "[Parallel(n_jobs=6)]: Done  38 tasks      | elapsed:    3.7s\n",
      "[Parallel(n_jobs=6)]: Done  50 out of  50 | elapsed:    4.6s finished\n",
      "[Parallel(n_jobs=6)]: Using backend ThreadingBackend with 6 concurrent workers.\n",
      "[Parallel(n_jobs=6)]: Done  38 tasks      | elapsed:    0.1s\n",
      "[Parallel(n_jobs=6)]: Done  50 out of  50 | elapsed:    0.1s finished\n",
      "[Parallel(n_jobs=6)]: Using backend ThreadingBackend with 6 concurrent workers.\n"
     ]
    },
    {
     "name": "stdout",
     "output_type": "stream",
     "text": [
      "Test accuracy = 96.60%. "
     ]
    },
    {
     "name": "stderr",
     "output_type": "stream",
     "text": [
      "[Parallel(n_jobs=6)]: Done  38 tasks      | elapsed:    0.1s\n",
      "[Parallel(n_jobs=6)]: Done  50 out of  50 | elapsed:    0.2s finished\n",
      "[Parallel(n_jobs=6)]: Using backend ThreadingBackend with 6 concurrent workers.\n"
     ]
    },
    {
     "name": "stdout",
     "output_type": "stream",
     "text": [
      "Train accuracy = 96.63%.\n",
      "Best accuracy reached so far: 97.02418022799274 for params: 50, 3, 20, 2, 1, False\n",
      "398ème itérateur: 50, 8, 10, 40, 16, False\n"
     ]
    },
    {
     "name": "stderr",
     "output_type": "stream",
     "text": [
      "[Parallel(n_jobs=6)]: Done  38 tasks      | elapsed:    5.1s\n",
      "[Parallel(n_jobs=6)]: Done  50 out of  50 | elapsed:    6.3s finished\n",
      "[Parallel(n_jobs=6)]: Using backend ThreadingBackend with 6 concurrent workers.\n",
      "[Parallel(n_jobs=6)]: Done  38 tasks      | elapsed:    0.0s\n",
      "[Parallel(n_jobs=6)]: Done  50 out of  50 | elapsed:    0.0s finished\n",
      "[Parallel(n_jobs=6)]: Using backend ThreadingBackend with 6 concurrent workers.\n"
     ]
    },
    {
     "name": "stdout",
     "output_type": "stream",
     "text": [
      "Test accuracy = 96.80%. "
     ]
    },
    {
     "name": "stderr",
     "output_type": "stream",
     "text": [
      "[Parallel(n_jobs=6)]: Done  38 tasks      | elapsed:    0.1s\n",
      "[Parallel(n_jobs=6)]: Done  50 out of  50 | elapsed:    0.1s finished\n",
      "[Parallel(n_jobs=6)]: Using backend ThreadingBackend with 6 concurrent workers.\n"
     ]
    },
    {
     "name": "stdout",
     "output_type": "stream",
     "text": [
      "Train accuracy = 97.03%.\n",
      "Best accuracy reached so far: 97.02418022799274 for params: 50, 3, 20, 2, 1, False\n",
      "399ème itérateur: 50, 8, 13, 70, 4, True\n"
     ]
    },
    {
     "name": "stderr",
     "output_type": "stream",
     "text": [
      "[Parallel(n_jobs=6)]: Done  38 tasks      | elapsed:    4.4s\n",
      "[Parallel(n_jobs=6)]: Done  50 out of  50 | elapsed:    5.5s finished\n",
      "[Parallel(n_jobs=6)]: Using backend ThreadingBackend with 6 concurrent workers.\n",
      "[Parallel(n_jobs=6)]: Done  38 tasks      | elapsed:    0.0s\n",
      "[Parallel(n_jobs=6)]: Done  50 out of  50 | elapsed:    0.0s finished\n",
      "[Parallel(n_jobs=6)]: Using backend ThreadingBackend with 6 concurrent workers.\n"
     ]
    },
    {
     "name": "stdout",
     "output_type": "stream",
     "text": [
      "Test accuracy = 96.85%. "
     ]
    },
    {
     "name": "stderr",
     "output_type": "stream",
     "text": [
      "[Parallel(n_jobs=6)]: Done  38 tasks      | elapsed:    0.1s\n",
      "[Parallel(n_jobs=6)]: Done  50 out of  50 | elapsed:    0.1s finished\n",
      "[Parallel(n_jobs=6)]: Using backend ThreadingBackend with 6 concurrent workers.\n"
     ]
    },
    {
     "name": "stdout",
     "output_type": "stream",
     "text": [
      "Train accuracy = 97.17%.\n",
      "Best accuracy reached so far: 97.02418022799274 for params: 50, 3, 20, 2, 1, False\n",
      "400ème itérateur: 50, 8, 17, 20, 16, True\n"
     ]
    },
    {
     "name": "stderr",
     "output_type": "stream",
     "text": [
      "[Parallel(n_jobs=6)]: Done  38 tasks      | elapsed:    4.6s\n",
      "[Parallel(n_jobs=6)]: Done  50 out of  50 | elapsed:    5.7s finished\n",
      "[Parallel(n_jobs=6)]: Using backend ThreadingBackend with 6 concurrent workers.\n",
      "[Parallel(n_jobs=6)]: Done  38 tasks      | elapsed:    0.0s\n",
      "[Parallel(n_jobs=6)]: Done  50 out of  50 | elapsed:    0.0s finished\n",
      "[Parallel(n_jobs=6)]: Using backend ThreadingBackend with 6 concurrent workers.\n"
     ]
    },
    {
     "name": "stdout",
     "output_type": "stream",
     "text": [
      "Test accuracy = 96.92%. "
     ]
    },
    {
     "name": "stderr",
     "output_type": "stream",
     "text": [
      "[Parallel(n_jobs=6)]: Done  38 tasks      | elapsed:    0.1s\n",
      "[Parallel(n_jobs=6)]: Done  50 out of  50 | elapsed:    0.1s finished\n",
      "[Parallel(n_jobs=6)]: Using backend ThreadingBackend with 6 concurrent workers.\n"
     ]
    },
    {
     "name": "stdout",
     "output_type": "stream",
     "text": [
      "Train accuracy = 97.41%.\n",
      "Best accuracy reached so far: 97.02418022799274 for params: 50, 3, 20, 2, 1, False\n",
      "401ème itérateur: 50, 8, 17, 30, 32, False\n"
     ]
    },
    {
     "name": "stderr",
     "output_type": "stream",
     "text": [
      "[Parallel(n_jobs=6)]: Done  38 tasks      | elapsed:    5.9s\n",
      "[Parallel(n_jobs=6)]: Done  50 out of  50 | elapsed:    7.6s finished\n",
      "[Parallel(n_jobs=6)]: Using backend ThreadingBackend with 6 concurrent workers.\n",
      "[Parallel(n_jobs=6)]: Done  38 tasks      | elapsed:    0.0s\n",
      "[Parallel(n_jobs=6)]: Done  50 out of  50 | elapsed:    0.0s finished\n",
      "[Parallel(n_jobs=6)]: Using backend ThreadingBackend with 6 concurrent workers.\n"
     ]
    },
    {
     "name": "stdout",
     "output_type": "stream",
     "text": [
      "Test accuracy = 96.89%. "
     ]
    },
    {
     "name": "stderr",
     "output_type": "stream",
     "text": [
      "[Parallel(n_jobs=6)]: Done  38 tasks      | elapsed:    0.1s\n",
      "[Parallel(n_jobs=6)]: Done  50 out of  50 | elapsed:    0.1s finished\n",
      "[Parallel(n_jobs=6)]: Using backend ThreadingBackend with 6 concurrent workers.\n"
     ]
    },
    {
     "name": "stdout",
     "output_type": "stream",
     "text": [
      "Train accuracy = 97.30%.\n",
      "Best accuracy reached so far: 97.02418022799274 for params: 50, 3, 20, 2, 1, False\n",
      "402ème itérateur: 50, 8, 17, 50, 8, True\n"
     ]
    },
    {
     "name": "stderr",
     "output_type": "stream",
     "text": [
      "[Parallel(n_jobs=6)]: Done  38 tasks      | elapsed:    4.6s\n",
      "[Parallel(n_jobs=6)]: Done  50 out of  50 | elapsed:    5.8s finished\n",
      "[Parallel(n_jobs=6)]: Using backend ThreadingBackend with 6 concurrent workers.\n",
      "[Parallel(n_jobs=6)]: Done  38 tasks      | elapsed:    0.0s\n",
      "[Parallel(n_jobs=6)]: Done  50 out of  50 | elapsed:    0.0s finished\n",
      "[Parallel(n_jobs=6)]: Using backend ThreadingBackend with 6 concurrent workers.\n"
     ]
    },
    {
     "name": "stdout",
     "output_type": "stream",
     "text": [
      "Test accuracy = 96.91%. "
     ]
    },
    {
     "name": "stderr",
     "output_type": "stream",
     "text": [
      "[Parallel(n_jobs=6)]: Done  38 tasks      | elapsed:    0.1s\n",
      "[Parallel(n_jobs=6)]: Done  50 out of  50 | elapsed:    0.2s finished\n",
      "[Parallel(n_jobs=6)]: Using backend ThreadingBackend with 6 concurrent workers.\n"
     ]
    },
    {
     "name": "stdout",
     "output_type": "stream",
     "text": [
      "Train accuracy = 97.37%.\n",
      "Best accuracy reached so far: 97.02418022799274 for params: 50, 3, 20, 2, 1, False\n",
      "403ème itérateur: 50, 8, None, 2, 32, False\n"
     ]
    },
    {
     "name": "stderr",
     "output_type": "stream",
     "text": [
      "[Parallel(n_jobs=6)]: Done  38 tasks      | elapsed:    7.4s\n",
      "[Parallel(n_jobs=6)]: Done  50 out of  50 | elapsed:    9.1s finished\n",
      "[Parallel(n_jobs=6)]: Using backend ThreadingBackend with 6 concurrent workers.\n",
      "[Parallel(n_jobs=6)]: Done  38 tasks      | elapsed:    0.0s\n",
      "[Parallel(n_jobs=6)]: Done  50 out of  50 | elapsed:    0.0s finished\n",
      "[Parallel(n_jobs=6)]: Using backend ThreadingBackend with 6 concurrent workers.\n"
     ]
    },
    {
     "name": "stdout",
     "output_type": "stream",
     "text": [
      "Test accuracy = 96.89%. "
     ]
    },
    {
     "name": "stderr",
     "output_type": "stream",
     "text": [
      "[Parallel(n_jobs=6)]: Done  38 tasks      | elapsed:    0.1s\n",
      "[Parallel(n_jobs=6)]: Done  50 out of  50 | elapsed:    0.2s finished\n",
      "[Parallel(n_jobs=6)]: Using backend ThreadingBackend with 6 concurrent workers.\n"
     ]
    },
    {
     "name": "stdout",
     "output_type": "stream",
     "text": [
      "Train accuracy = 97.31%.\n",
      "Best accuracy reached so far: 97.02418022799274 for params: 50, 3, 20, 2, 1, False\n",
      "404ème itérateur: 50, 8, None, 50, 4, True\n"
     ]
    },
    {
     "name": "stderr",
     "output_type": "stream",
     "text": [
      "[Parallel(n_jobs=6)]: Done  38 tasks      | elapsed:    5.6s\n",
      "[Parallel(n_jobs=6)]: Done  50 out of  50 | elapsed:    7.0s finished\n",
      "[Parallel(n_jobs=6)]: Using backend ThreadingBackend with 6 concurrent workers.\n",
      "[Parallel(n_jobs=6)]: Done  38 tasks      | elapsed:    0.0s\n",
      "[Parallel(n_jobs=6)]: Done  50 out of  50 | elapsed:    0.0s finished\n",
      "[Parallel(n_jobs=6)]: Using backend ThreadingBackend with 6 concurrent workers.\n"
     ]
    },
    {
     "name": "stdout",
     "output_type": "stream",
     "text": [
      "Test accuracy = 96.93%. "
     ]
    },
    {
     "name": "stderr",
     "output_type": "stream",
     "text": [
      "[Parallel(n_jobs=6)]: Done  38 tasks      | elapsed:    0.1s\n",
      "[Parallel(n_jobs=6)]: Done  50 out of  50 | elapsed:    0.2s finished\n",
      "[Parallel(n_jobs=6)]: Using backend ThreadingBackend with 6 concurrent workers.\n"
     ]
    },
    {
     "name": "stdout",
     "output_type": "stream",
     "text": [
      "Train accuracy = 97.45%.\n",
      "Best accuracy reached so far: 97.02418022799274 for params: 50, 3, 20, 2, 1, False\n",
      "405ème itérateur: 50, sqrt, 3, 50, 2, False\n"
     ]
    },
    {
     "name": "stderr",
     "output_type": "stream",
     "text": [
      "[Parallel(n_jobs=6)]: Done  38 tasks      | elapsed:    1.3s\n",
      "[Parallel(n_jobs=6)]: Done  50 out of  50 | elapsed:    1.6s finished\n",
      "[Parallel(n_jobs=6)]: Using backend ThreadingBackend with 6 concurrent workers.\n",
      "[Parallel(n_jobs=6)]: Done  38 tasks      | elapsed:    0.0s\n",
      "[Parallel(n_jobs=6)]: Done  50 out of  50 | elapsed:    0.0s finished\n",
      "[Parallel(n_jobs=6)]: Using backend ThreadingBackend with 6 concurrent workers.\n"
     ]
    },
    {
     "name": "stdout",
     "output_type": "stream",
     "text": [
      "Test accuracy = 94.47%. Train accuracy = 94.56%.\n",
      "Best accuracy reached so far: 97.02418022799274 for params: 50, 3, 20, 2, 1, False\n",
      "406ème itérateur: 50, sqrt, 13, 5, 64, False\n"
     ]
    },
    {
     "name": "stderr",
     "output_type": "stream",
     "text": [
      "[Parallel(n_jobs=6)]: Done  38 tasks      | elapsed:    0.1s\n",
      "[Parallel(n_jobs=6)]: Done  50 out of  50 | elapsed:    0.1s finished\n",
      "[Parallel(n_jobs=6)]: Using backend ThreadingBackend with 6 concurrent workers.\n",
      "[Parallel(n_jobs=6)]: Done  38 tasks      | elapsed:    3.7s\n",
      "[Parallel(n_jobs=6)]: Done  50 out of  50 | elapsed:    4.7s finished\n",
      "[Parallel(n_jobs=6)]: Using backend ThreadingBackend with 6 concurrent workers.\n",
      "[Parallel(n_jobs=6)]: Done  38 tasks      | elapsed:    0.0s\n",
      "[Parallel(n_jobs=6)]: Done  50 out of  50 | elapsed:    0.0s finished\n",
      "[Parallel(n_jobs=6)]: Using backend ThreadingBackend with 6 concurrent workers.\n"
     ]
    },
    {
     "name": "stdout",
     "output_type": "stream",
     "text": [
      "Test accuracy = 96.82%. "
     ]
    },
    {
     "name": "stderr",
     "output_type": "stream",
     "text": [
      "[Parallel(n_jobs=6)]: Done  38 tasks      | elapsed:    0.1s\n",
      "[Parallel(n_jobs=6)]: Done  50 out of  50 | elapsed:    0.1s finished\n",
      "[Parallel(n_jobs=6)]: Using backend ThreadingBackend with 6 concurrent workers.\n"
     ]
    },
    {
     "name": "stdout",
     "output_type": "stream",
     "text": [
      "Train accuracy = 96.98%.\n",
      "Best accuracy reached so far: 97.02418022799274 for params: 50, 3, 20, 2, 1, False\n",
      "407ème itérateur: 50, sqrt, 13, 30, 4, False\n"
     ]
    },
    {
     "name": "stderr",
     "output_type": "stream",
     "text": [
      "[Parallel(n_jobs=6)]: Done  38 tasks      | elapsed:    4.0s\n",
      "[Parallel(n_jobs=6)]: Done  50 out of  50 | elapsed:    5.0s finished\n",
      "[Parallel(n_jobs=6)]: Using backend ThreadingBackend with 6 concurrent workers.\n",
      "[Parallel(n_jobs=6)]: Done  38 tasks      | elapsed:    0.0s\n",
      "[Parallel(n_jobs=6)]: Done  50 out of  50 | elapsed:    0.0s finished\n",
      "[Parallel(n_jobs=6)]: Using backend ThreadingBackend with 6 concurrent workers.\n"
     ]
    },
    {
     "name": "stdout",
     "output_type": "stream",
     "text": [
      "Test accuracy = 96.93%. "
     ]
    },
    {
     "name": "stderr",
     "output_type": "stream",
     "text": [
      "[Parallel(n_jobs=6)]: Done  38 tasks      | elapsed:    0.1s\n",
      "[Parallel(n_jobs=6)]: Done  50 out of  50 | elapsed:    0.1s finished\n",
      "[Parallel(n_jobs=6)]: Using backend ThreadingBackend with 6 concurrent workers.\n"
     ]
    },
    {
     "name": "stdout",
     "output_type": "stream",
     "text": [
      "Train accuracy = 97.51%.\n",
      "Best accuracy reached so far: 97.02418022799274 for params: 50, 3, 20, 2, 1, False\n",
      "408ème itérateur: 50, sqrt, 17, 10, 32, False\n"
     ]
    },
    {
     "name": "stderr",
     "output_type": "stream",
     "text": [
      "[Parallel(n_jobs=6)]: Done  38 tasks      | elapsed:    4.6s\n",
      "[Parallel(n_jobs=6)]: Done  50 out of  50 | elapsed:    5.9s finished\n",
      "[Parallel(n_jobs=6)]: Using backend ThreadingBackend with 6 concurrent workers.\n",
      "[Parallel(n_jobs=6)]: Done  38 tasks      | elapsed:    0.0s\n",
      "[Parallel(n_jobs=6)]: Done  50 out of  50 | elapsed:    0.1s finished\n",
      "[Parallel(n_jobs=6)]: Using backend ThreadingBackend with 6 concurrent workers.\n"
     ]
    },
    {
     "name": "stdout",
     "output_type": "stream",
     "text": [
      "Test accuracy = 96.91%. "
     ]
    },
    {
     "name": "stderr",
     "output_type": "stream",
     "text": [
      "[Parallel(n_jobs=6)]: Done  38 tasks      | elapsed:    0.2s\n",
      "[Parallel(n_jobs=6)]: Done  50 out of  50 | elapsed:    0.2s finished\n",
      "[Parallel(n_jobs=6)]: Using backend ThreadingBackend with 6 concurrent workers.\n"
     ]
    },
    {
     "name": "stdout",
     "output_type": "stream",
     "text": [
      "Train accuracy = 97.29%.\n",
      "Best accuracy reached so far: 97.02418022799274 for params: 50, 3, 20, 2, 1, False\n",
      "409ème itérateur: 50, None, 1, 20, 4, True\n"
     ]
    },
    {
     "name": "stderr",
     "output_type": "stream",
     "text": [
      "[Parallel(n_jobs=6)]: Done  38 tasks      | elapsed:    2.0s\n",
      "[Parallel(n_jobs=6)]: Done  50 out of  50 | elapsed:    2.5s finished\n",
      "[Parallel(n_jobs=6)]: Using backend ThreadingBackend with 6 concurrent workers.\n",
      "[Parallel(n_jobs=6)]: Done  38 tasks      | elapsed:    0.0s\n",
      "[Parallel(n_jobs=6)]: Done  50 out of  50 | elapsed:    0.0s finished\n",
      "[Parallel(n_jobs=6)]: Using backend ThreadingBackend with 6 concurrent workers.\n"
     ]
    },
    {
     "name": "stdout",
     "output_type": "stream",
     "text": [
      "Test accuracy = 92.47%. "
     ]
    },
    {
     "name": "stderr",
     "output_type": "stream",
     "text": [
      "[Parallel(n_jobs=6)]: Done  38 tasks      | elapsed:    0.1s\n",
      "[Parallel(n_jobs=6)]: Done  50 out of  50 | elapsed:    0.1s finished\n",
      "[Parallel(n_jobs=6)]: Using backend ThreadingBackend with 6 concurrent workers.\n"
     ]
    },
    {
     "name": "stdout",
     "output_type": "stream",
     "text": [
      "Train accuracy = 92.53%.\n",
      "Best accuracy reached so far: 97.02418022799274 for params: 50, 3, 20, 2, 1, False\n",
      "410ème itérateur: 50, None, 7, 50, 128, True\n"
     ]
    },
    {
     "name": "stderr",
     "output_type": "stream",
     "text": [
      "[Parallel(n_jobs=6)]: Done  38 tasks      | elapsed:   11.1s\n",
      "[Parallel(n_jobs=6)]: Done  50 out of  50 | elapsed:   13.5s finished\n",
      "[Parallel(n_jobs=6)]: Using backend ThreadingBackend with 6 concurrent workers.\n",
      "[Parallel(n_jobs=6)]: Done  38 tasks      | elapsed:    0.0s\n",
      "[Parallel(n_jobs=6)]: Done  50 out of  50 | elapsed:    0.0s finished\n",
      "[Parallel(n_jobs=6)]: Using backend ThreadingBackend with 6 concurrent workers.\n"
     ]
    },
    {
     "name": "stdout",
     "output_type": "stream",
     "text": [
      "Test accuracy = 96.11%. Train accuracy = 96.20%.\n",
      "Best accuracy reached so far: 97.02418022799274 for params: 50, 3, 20, 2, 1, False\n",
      "411ème itérateur: 50, None, 10, 20, 64, True\n"
     ]
    },
    {
     "name": "stderr",
     "output_type": "stream",
     "text": [
      "[Parallel(n_jobs=6)]: Done  38 tasks      | elapsed:    0.1s\n",
      "[Parallel(n_jobs=6)]: Done  50 out of  50 | elapsed:    0.1s finished\n",
      "[Parallel(n_jobs=6)]: Using backend ThreadingBackend with 6 concurrent workers.\n",
      "[Parallel(n_jobs=6)]: Done  38 tasks      | elapsed:   13.9s\n",
      "[Parallel(n_jobs=6)]: Done  50 out of  50 | elapsed:   17.3s finished\n",
      "[Parallel(n_jobs=6)]: Using backend ThreadingBackend with 6 concurrent workers.\n",
      "[Parallel(n_jobs=6)]: Done  38 tasks      | elapsed:    0.0s\n",
      "[Parallel(n_jobs=6)]: Done  50 out of  50 | elapsed:    0.0s finished\n"
     ]
    },
    {
     "name": "stdout",
     "output_type": "stream",
     "text": [
      "Test accuracy = 96.51%. "
     ]
    },
    {
     "name": "stderr",
     "output_type": "stream",
     "text": [
      "[Parallel(n_jobs=6)]: Using backend ThreadingBackend with 6 concurrent workers.\n",
      "[Parallel(n_jobs=6)]: Done  38 tasks      | elapsed:    0.1s\n",
      "[Parallel(n_jobs=6)]: Done  50 out of  50 | elapsed:    0.1s finished\n"
     ]
    },
    {
     "name": "stdout",
     "output_type": "stream",
     "text": [
      "Train accuracy = 96.65%.\n",
      "Best accuracy reached so far: 97.02418022799274 for params: 50, 3, 20, 2, 1, False\n",
      "412ème itérateur: 50, None, 10, 30, 8, True\n"
     ]
    },
    {
     "name": "stderr",
     "output_type": "stream",
     "text": [
      "[Parallel(n_jobs=6)]: Using backend ThreadingBackend with 6 concurrent workers.\n",
      "[Parallel(n_jobs=6)]: Done  38 tasks      | elapsed:   16.1s\n",
      "[Parallel(n_jobs=6)]: Done  50 out of  50 | elapsed:   19.6s finished\n",
      "[Parallel(n_jobs=6)]: Using backend ThreadingBackend with 6 concurrent workers.\n",
      "[Parallel(n_jobs=6)]: Done  38 tasks      | elapsed:    0.0s\n",
      "[Parallel(n_jobs=6)]: Done  50 out of  50 | elapsed:    0.0s finished\n"
     ]
    },
    {
     "name": "stdout",
     "output_type": "stream",
     "text": [
      "Test accuracy = 96.71%. "
     ]
    },
    {
     "name": "stderr",
     "output_type": "stream",
     "text": [
      "[Parallel(n_jobs=6)]: Using backend ThreadingBackend with 6 concurrent workers.\n",
      "[Parallel(n_jobs=6)]: Done  38 tasks      | elapsed:    0.1s\n",
      "[Parallel(n_jobs=6)]: Done  50 out of  50 | elapsed:    0.2s finished\n"
     ]
    },
    {
     "name": "stdout",
     "output_type": "stream",
     "text": [
      "Train accuracy = 96.94%.\n",
      "Best accuracy reached so far: 97.02418022799274 for params: 50, 3, 20, 2, 1, False\n",
      "413ème itérateur: 50, None, 13, 40, 8, False\n"
     ]
    },
    {
     "name": "stderr",
     "output_type": "stream",
     "text": [
      "[Parallel(n_jobs=6)]: Using backend ThreadingBackend with 6 concurrent workers.\n",
      "[Parallel(n_jobs=6)]: Done  38 tasks      | elapsed:   22.0s\n",
      "[Parallel(n_jobs=6)]: Done  50 out of  50 | elapsed:   27.1s finished\n",
      "[Parallel(n_jobs=6)]: Using backend ThreadingBackend with 6 concurrent workers.\n",
      "[Parallel(n_jobs=6)]: Done  38 tasks      | elapsed:    0.0s\n",
      "[Parallel(n_jobs=6)]: Done  50 out of  50 | elapsed:    0.0s finished\n",
      "[Parallel(n_jobs=6)]: Using backend ThreadingBackend with 6 concurrent workers.\n"
     ]
    },
    {
     "name": "stdout",
     "output_type": "stream",
     "text": [
      "Test accuracy = 96.50%. "
     ]
    },
    {
     "name": "stderr",
     "output_type": "stream",
     "text": [
      "[Parallel(n_jobs=6)]: Done  38 tasks      | elapsed:    0.1s\n",
      "[Parallel(n_jobs=6)]: Done  50 out of  50 | elapsed:    0.1s finished\n",
      "[Parallel(n_jobs=6)]: Using backend ThreadingBackend with 6 concurrent workers.\n"
     ]
    },
    {
     "name": "stdout",
     "output_type": "stream",
     "text": [
      "Train accuracy = 97.12%.\n",
      "Best accuracy reached so far: 97.02418022799274 for params: 50, 3, 20, 2, 1, False\n",
      "414ème itérateur: 50, None, 17, 5, 64, True\n"
     ]
    },
    {
     "name": "stderr",
     "output_type": "stream",
     "text": [
      "[Parallel(n_jobs=6)]: Done  38 tasks      | elapsed:   17.1s\n",
      "[Parallel(n_jobs=6)]: Done  50 out of  50 | elapsed:   21.3s finished\n",
      "[Parallel(n_jobs=6)]: Using backend ThreadingBackend with 6 concurrent workers.\n",
      "[Parallel(n_jobs=6)]: Done  38 tasks      | elapsed:    0.0s\n",
      "[Parallel(n_jobs=6)]: Done  50 out of  50 | elapsed:    0.0s finished\n",
      "[Parallel(n_jobs=6)]: Using backend ThreadingBackend with 6 concurrent workers.\n"
     ]
    },
    {
     "name": "stdout",
     "output_type": "stream",
     "text": [
      "Test accuracy = 96.54%. "
     ]
    },
    {
     "name": "stderr",
     "output_type": "stream",
     "text": [
      "[Parallel(n_jobs=6)]: Done  38 tasks      | elapsed:    0.1s\n",
      "[Parallel(n_jobs=6)]: Done  50 out of  50 | elapsed:    0.1s finished\n",
      "[Parallel(n_jobs=6)]: Using backend ThreadingBackend with 6 concurrent workers.\n"
     ]
    },
    {
     "name": "stdout",
     "output_type": "stream",
     "text": [
      "Train accuracy = 96.75%.\n",
      "Best accuracy reached so far: 97.02418022799274 for params: 50, 3, 20, 2, 1, False\n",
      "415ème itérateur: 50, None, 17, 10, 2, True\n"
     ]
    },
    {
     "name": "stderr",
     "output_type": "stream",
     "text": [
      "[Parallel(n_jobs=6)]: Done  38 tasks      | elapsed:   17.9s\n",
      "[Parallel(n_jobs=6)]: Done  50 out of  50 | elapsed:   22.6s finished\n",
      "[Parallel(n_jobs=6)]: Using backend ThreadingBackend with 6 concurrent workers.\n",
      "[Parallel(n_jobs=6)]: Done  38 tasks      | elapsed:    0.0s\n",
      "[Parallel(n_jobs=6)]: Done  50 out of  50 | elapsed:    0.0s finished\n",
      "[Parallel(n_jobs=6)]: Using backend ThreadingBackend with 6 concurrent workers.\n"
     ]
    },
    {
     "name": "stdout",
     "output_type": "stream",
     "text": [
      "Test accuracy = 96.91%. "
     ]
    },
    {
     "name": "stderr",
     "output_type": "stream",
     "text": [
      "[Parallel(n_jobs=6)]: Done  38 tasks      | elapsed:    0.1s\n",
      "[Parallel(n_jobs=6)]: Done  50 out of  50 | elapsed:    0.1s finished\n",
      "[Parallel(n_jobs=6)]: Using backend ThreadingBackend with 6 concurrent workers.\n"
     ]
    },
    {
     "name": "stdout",
     "output_type": "stream",
     "text": [
      "Train accuracy = 98.33%.\n",
      "Best accuracy reached so far: 97.02418022799274 for params: 50, 3, 20, 2, 1, False\n",
      "416ème itérateur: 50, None, 20, 30, 64, False\n"
     ]
    },
    {
     "name": "stderr",
     "output_type": "stream",
     "text": [
      "[Parallel(n_jobs=6)]: Done  38 tasks      | elapsed:   23.5s\n",
      "[Parallel(n_jobs=6)]: Done  50 out of  50 | elapsed:   29.1s finished\n",
      "[Parallel(n_jobs=6)]: Using backend ThreadingBackend with 6 concurrent workers.\n",
      "[Parallel(n_jobs=6)]: Done  38 tasks      | elapsed:    0.0s\n",
      "[Parallel(n_jobs=6)]: Done  50 out of  50 | elapsed:    0.0s finished\n",
      "[Parallel(n_jobs=6)]: Using backend ThreadingBackend with 6 concurrent workers.\n"
     ]
    },
    {
     "name": "stdout",
     "output_type": "stream",
     "text": [
      "Test accuracy = 96.34%. "
     ]
    },
    {
     "name": "stderr",
     "output_type": "stream",
     "text": [
      "[Parallel(n_jobs=6)]: Done  38 tasks      | elapsed:    0.1s\n",
      "[Parallel(n_jobs=6)]: Done  50 out of  50 | elapsed:    0.2s finished\n",
      "[Parallel(n_jobs=6)]: Using backend ThreadingBackend with 6 concurrent workers.\n"
     ]
    },
    {
     "name": "stdout",
     "output_type": "stream",
     "text": [
      "Train accuracy = 96.65%.\n",
      "Best accuracy reached so far: 97.02418022799274 for params: 50, 3, 20, 2, 1, False\n",
      "417ème itérateur: 60, 1, 1, 5, 16, False\n"
     ]
    },
    {
     "name": "stderr",
     "output_type": "stream",
     "text": [
      "[Parallel(n_jobs=6)]: Done  38 tasks      | elapsed:    0.3s\n",
      "[Parallel(n_jobs=6)]: Done  60 out of  60 | elapsed:    0.4s finished\n",
      "[Parallel(n_jobs=6)]: Using backend ThreadingBackend with 6 concurrent workers.\n",
      "[Parallel(n_jobs=6)]: Done  38 tasks      | elapsed:    0.0s\n",
      "[Parallel(n_jobs=6)]: Done  60 out of  60 | elapsed:    0.0s finished\n"
     ]
    },
    {
     "name": "stdout",
     "output_type": "stream",
     "text": [
      "Test accuracy = 90.00%. "
     ]
    },
    {
     "name": "stderr",
     "output_type": "stream",
     "text": [
      "[Parallel(n_jobs=6)]: Using backend ThreadingBackend with 6 concurrent workers.\n",
      "[Parallel(n_jobs=6)]: Done  38 tasks      | elapsed:    0.1s\n",
      "[Parallel(n_jobs=6)]: Done  60 out of  60 | elapsed:    0.1s finished\n"
     ]
    },
    {
     "name": "stdout",
     "output_type": "stream",
     "text": [
      "Train accuracy = 90.22%.\n",
      "Best accuracy reached so far: 97.02418022799274 for params: 50, 3, 20, 2, 1, False\n",
      "418ème itérateur: 60, 1, 1, 20, 8, True\n"
     ]
    },
    {
     "name": "stderr",
     "output_type": "stream",
     "text": [
      "[Parallel(n_jobs=6)]: Using backend ThreadingBackend with 6 concurrent workers.\n",
      "[Parallel(n_jobs=6)]: Done  38 tasks      | elapsed:    0.3s\n",
      "[Parallel(n_jobs=6)]: Done  60 out of  60 | elapsed:    0.4s finished\n",
      "[Parallel(n_jobs=6)]: Using backend ThreadingBackend with 6 concurrent workers.\n",
      "[Parallel(n_jobs=6)]: Done  38 tasks      | elapsed:    0.0s\n",
      "[Parallel(n_jobs=6)]: Done  60 out of  60 | elapsed:    0.0s finished\n",
      "[Parallel(n_jobs=6)]: Using backend ThreadingBackend with 6 concurrent workers.\n",
      "[Parallel(n_jobs=6)]: Done  38 tasks      | elapsed:    0.1s\n"
     ]
    },
    {
     "name": "stdout",
     "output_type": "stream",
     "text": [
      "Test accuracy = 90.03%. "
     ]
    },
    {
     "name": "stderr",
     "output_type": "stream",
     "text": [
      "[Parallel(n_jobs=6)]: Done  60 out of  60 | elapsed:    0.1s finished\n",
      "[Parallel(n_jobs=6)]: Using backend ThreadingBackend with 6 concurrent workers.\n"
     ]
    },
    {
     "name": "stdout",
     "output_type": "stream",
     "text": [
      "Train accuracy = 90.19%.\n",
      "Best accuracy reached so far: 97.02418022799274 for params: 50, 3, 20, 2, 1, False\n",
      "419ème itérateur: 60, 1, 4, 50, 2, False\n"
     ]
    },
    {
     "name": "stderr",
     "output_type": "stream",
     "text": [
      "[Parallel(n_jobs=6)]: Done  38 tasks      | elapsed:    0.6s\n",
      "[Parallel(n_jobs=6)]: Done  60 out of  60 | elapsed:    0.9s finished\n",
      "[Parallel(n_jobs=6)]: Using backend ThreadingBackend with 6 concurrent workers.\n",
      "[Parallel(n_jobs=6)]: Done  38 tasks      | elapsed:    0.0s\n",
      "[Parallel(n_jobs=6)]: Done  60 out of  60 | elapsed:    0.0s finished\n",
      "[Parallel(n_jobs=6)]: Using backend ThreadingBackend with 6 concurrent workers.\n"
     ]
    },
    {
     "name": "stdout",
     "output_type": "stream",
     "text": [
      "Test accuracy = 93.38%. "
     ]
    },
    {
     "name": "stderr",
     "output_type": "stream",
     "text": [
      "[Parallel(n_jobs=6)]: Done  38 tasks      | elapsed:    0.1s\n",
      "[Parallel(n_jobs=6)]: Done  60 out of  60 | elapsed:    0.1s finished\n",
      "[Parallel(n_jobs=6)]: Using backend ThreadingBackend with 6 concurrent workers.\n"
     ]
    },
    {
     "name": "stdout",
     "output_type": "stream",
     "text": [
      "Train accuracy = 93.54%.\n",
      "Best accuracy reached so far: 97.02418022799274 for params: 50, 3, 20, 2, 1, False\n",
      "420ème itérateur: 60, 1, 5, 50, 64, True\n"
     ]
    },
    {
     "name": "stderr",
     "output_type": "stream",
     "text": [
      "[Parallel(n_jobs=6)]: Done  38 tasks      | elapsed:    0.6s\n",
      "[Parallel(n_jobs=6)]: Done  60 out of  60 | elapsed:    0.9s finished\n",
      "[Parallel(n_jobs=6)]: Using backend ThreadingBackend with 6 concurrent workers.\n",
      "[Parallel(n_jobs=6)]: Done  38 tasks      | elapsed:    0.0s\n",
      "[Parallel(n_jobs=6)]: Done  60 out of  60 | elapsed:    0.0s finished\n",
      "[Parallel(n_jobs=6)]: Using backend ThreadingBackend with 6 concurrent workers.\n"
     ]
    },
    {
     "name": "stdout",
     "output_type": "stream",
     "text": [
      "Test accuracy = 94.34%. "
     ]
    },
    {
     "name": "stderr",
     "output_type": "stream",
     "text": [
      "[Parallel(n_jobs=6)]: Done  38 tasks      | elapsed:    0.1s\n",
      "[Parallel(n_jobs=6)]: Done  60 out of  60 | elapsed:    0.1s finished\n",
      "[Parallel(n_jobs=6)]: Using backend ThreadingBackend with 6 concurrent workers.\n"
     ]
    },
    {
     "name": "stdout",
     "output_type": "stream",
     "text": [
      "Train accuracy = 94.39%.\n",
      "Best accuracy reached so far: 97.02418022799274 for params: 50, 3, 20, 2, 1, False\n",
      "421ème itérateur: 60, 1, 5, 60, 32, True\n"
     ]
    },
    {
     "name": "stderr",
     "output_type": "stream",
     "text": [
      "[Parallel(n_jobs=6)]: Done  38 tasks      | elapsed:    0.6s\n",
      "[Parallel(n_jobs=6)]: Done  60 out of  60 | elapsed:    0.9s finished\n",
      "[Parallel(n_jobs=6)]: Using backend ThreadingBackend with 6 concurrent workers.\n",
      "[Parallel(n_jobs=6)]: Done  38 tasks      | elapsed:    0.0s\n",
      "[Parallel(n_jobs=6)]: Done  60 out of  60 | elapsed:    0.0s finished\n",
      "[Parallel(n_jobs=6)]: Using backend ThreadingBackend with 6 concurrent workers.\n"
     ]
    },
    {
     "name": "stdout",
     "output_type": "stream",
     "text": [
      "Test accuracy = 94.28%. "
     ]
    },
    {
     "name": "stderr",
     "output_type": "stream",
     "text": [
      "[Parallel(n_jobs=6)]: Done  38 tasks      | elapsed:    0.1s\n",
      "[Parallel(n_jobs=6)]: Done  60 out of  60 | elapsed:    0.1s finished\n",
      "[Parallel(n_jobs=6)]: Using backend ThreadingBackend with 6 concurrent workers.\n"
     ]
    },
    {
     "name": "stdout",
     "output_type": "stream",
     "text": [
      "Train accuracy = 94.35%.\n",
      "Best accuracy reached so far: 97.02418022799274 for params: 50, 3, 20, 2, 1, False\n",
      "422ème itérateur: 60, 1, 10, 20, 4, False\n"
     ]
    },
    {
     "name": "stderr",
     "output_type": "stream",
     "text": [
      "[Parallel(n_jobs=6)]: Done  38 tasks      | elapsed:    1.0s\n",
      "[Parallel(n_jobs=6)]: Done  60 out of  60 | elapsed:    1.5s finished\n",
      "[Parallel(n_jobs=6)]: Using backend ThreadingBackend with 6 concurrent workers.\n",
      "[Parallel(n_jobs=6)]: Done  38 tasks      | elapsed:    0.0s\n",
      "[Parallel(n_jobs=6)]: Done  60 out of  60 | elapsed:    0.0s finished\n",
      "[Parallel(n_jobs=6)]: Using backend ThreadingBackend with 6 concurrent workers.\n"
     ]
    },
    {
     "name": "stdout",
     "output_type": "stream",
     "text": [
      "Test accuracy = 95.73%. "
     ]
    },
    {
     "name": "stderr",
     "output_type": "stream",
     "text": [
      "[Parallel(n_jobs=6)]: Done  38 tasks      | elapsed:    0.1s\n",
      "[Parallel(n_jobs=6)]: Done  60 out of  60 | elapsed:    0.2s finished\n",
      "[Parallel(n_jobs=6)]: Using backend ThreadingBackend with 6 concurrent workers.\n"
     ]
    },
    {
     "name": "stdout",
     "output_type": "stream",
     "text": [
      "Train accuracy = 96.00%.\n",
      "Best accuracy reached so far: 97.02418022799274 for params: 50, 3, 20, 2, 1, False\n",
      "423ème itérateur: 60, 1, 20, 2, 16, False\n"
     ]
    },
    {
     "name": "stderr",
     "output_type": "stream",
     "text": [
      "[Parallel(n_jobs=6)]: Done  38 tasks      | elapsed:    1.2s\n",
      "[Parallel(n_jobs=6)]: Done  60 out of  60 | elapsed:    1.8s finished\n",
      "[Parallel(n_jobs=6)]: Using backend ThreadingBackend with 6 concurrent workers.\n",
      "[Parallel(n_jobs=6)]: Done  38 tasks      | elapsed:    0.0s\n",
      "[Parallel(n_jobs=6)]: Done  60 out of  60 | elapsed:    0.0s finished\n",
      "[Parallel(n_jobs=6)]: Using backend ThreadingBackend with 6 concurrent workers.\n"
     ]
    },
    {
     "name": "stdout",
     "output_type": "stream",
     "text": [
      "Test accuracy = 96.22%. "
     ]
    },
    {
     "name": "stderr",
     "output_type": "stream",
     "text": [
      "[Parallel(n_jobs=6)]: Done  38 tasks      | elapsed:    0.1s\n",
      "[Parallel(n_jobs=6)]: Done  60 out of  60 | elapsed:    0.2s finished\n",
      "[Parallel(n_jobs=6)]: Using backend ThreadingBackend with 6 concurrent workers.\n"
     ]
    },
    {
     "name": "stdout",
     "output_type": "stream",
     "text": [
      "Train accuracy = 96.74%.\n",
      "Best accuracy reached so far: 97.02418022799274 for params: 50, 3, 20, 2, 1, False\n",
      "424ème itérateur: 60, 1, 20, 5, 128, False\n"
     ]
    },
    {
     "name": "stderr",
     "output_type": "stream",
     "text": [
      "[Parallel(n_jobs=6)]: Done  38 tasks      | elapsed:    1.0s\n",
      "[Parallel(n_jobs=6)]: Done  60 out of  60 | elapsed:    1.5s finished\n",
      "[Parallel(n_jobs=6)]: Using backend ThreadingBackend with 6 concurrent workers.\n",
      "[Parallel(n_jobs=6)]: Done  38 tasks      | elapsed:    0.0s\n",
      "[Parallel(n_jobs=6)]: Done  60 out of  60 | elapsed:    0.0s finished\n",
      "[Parallel(n_jobs=6)]: Using backend ThreadingBackend with 6 concurrent workers.\n"
     ]
    },
    {
     "name": "stdout",
     "output_type": "stream",
     "text": [
      "Test accuracy = 95.79%. "
     ]
    },
    {
     "name": "stderr",
     "output_type": "stream",
     "text": [
      "[Parallel(n_jobs=6)]: Done  38 tasks      | elapsed:    0.1s\n",
      "[Parallel(n_jobs=6)]: Done  60 out of  60 | elapsed:    0.2s finished\n",
      "[Parallel(n_jobs=6)]: Using backend ThreadingBackend with 6 concurrent workers.\n"
     ]
    },
    {
     "name": "stdout",
     "output_type": "stream",
     "text": [
      "Train accuracy = 95.96%.\n",
      "Best accuracy reached so far: 97.02418022799274 for params: 50, 3, 20, 2, 1, False\n",
      "425ème itérateur: 60, 1, 20, 10, 8, False\n"
     ]
    },
    {
     "name": "stderr",
     "output_type": "stream",
     "text": [
      "[Parallel(n_jobs=6)]: Done  38 tasks      | elapsed:    1.2s\n",
      "[Parallel(n_jobs=6)]: Done  60 out of  60 | elapsed:    1.9s finished\n",
      "[Parallel(n_jobs=6)]: Using backend ThreadingBackend with 6 concurrent workers.\n",
      "[Parallel(n_jobs=6)]: Done  38 tasks      | elapsed:    0.0s\n",
      "[Parallel(n_jobs=6)]: Done  60 out of  60 | elapsed:    0.1s finished\n",
      "[Parallel(n_jobs=6)]: Using backend ThreadingBackend with 6 concurrent workers.\n"
     ]
    },
    {
     "name": "stdout",
     "output_type": "stream",
     "text": [
      "Test accuracy = 96.45%. "
     ]
    },
    {
     "name": "stderr",
     "output_type": "stream",
     "text": [
      "[Parallel(n_jobs=6)]: Done  38 tasks      | elapsed:    0.1s\n",
      "[Parallel(n_jobs=6)]: Done  60 out of  60 | elapsed:    0.2s finished\n",
      "[Parallel(n_jobs=6)]: Using backend ThreadingBackend with 6 concurrent workers.\n"
     ]
    },
    {
     "name": "stdout",
     "output_type": "stream",
     "text": [
      "Train accuracy = 97.18%.\n",
      "Best accuracy reached so far: 97.02418022799274 for params: 50, 3, 20, 2, 1, False\n",
      "426ème itérateur: 60, 1, 25, 70, 128, True\n"
     ]
    },
    {
     "name": "stderr",
     "output_type": "stream",
     "text": [
      "[Parallel(n_jobs=6)]: Done  38 tasks      | elapsed:    0.8s\n",
      "[Parallel(n_jobs=6)]: Done  60 out of  60 | elapsed:    1.2s finished\n",
      "[Parallel(n_jobs=6)]: Using backend ThreadingBackend with 6 concurrent workers.\n",
      "[Parallel(n_jobs=6)]: Done  38 tasks      | elapsed:    0.0s\n",
      "[Parallel(n_jobs=6)]: Done  60 out of  60 | elapsed:    0.0s finished\n",
      "[Parallel(n_jobs=6)]: Using backend ThreadingBackend with 6 concurrent workers.\n"
     ]
    },
    {
     "name": "stdout",
     "output_type": "stream",
     "text": [
      "Test accuracy = 95.56%. "
     ]
    },
    {
     "name": "stderr",
     "output_type": "stream",
     "text": [
      "[Parallel(n_jobs=6)]: Done  38 tasks      | elapsed:    0.1s\n",
      "[Parallel(n_jobs=6)]: Done  60 out of  60 | elapsed:    0.1s finished\n",
      "[Parallel(n_jobs=6)]: Using backend ThreadingBackend with 6 concurrent workers.\n"
     ]
    },
    {
     "name": "stdout",
     "output_type": "stream",
     "text": [
      "Train accuracy = 95.67%.\n",
      "Best accuracy reached so far: 97.02418022799274 for params: 50, 3, 20, 2, 1, False\n",
      "427ème itérateur: 60, 1, None, 5, 128, True\n"
     ]
    },
    {
     "name": "stderr",
     "output_type": "stream",
     "text": [
      "[Parallel(n_jobs=6)]: Done  38 tasks      | elapsed:    0.8s\n",
      "[Parallel(n_jobs=6)]: Done  60 out of  60 | elapsed:    1.2s finished\n",
      "[Parallel(n_jobs=6)]: Using backend ThreadingBackend with 6 concurrent workers.\n",
      "[Parallel(n_jobs=6)]: Done  38 tasks      | elapsed:    0.0s\n",
      "[Parallel(n_jobs=6)]: Done  60 out of  60 | elapsed:    0.0s finished\n",
      "[Parallel(n_jobs=6)]: Using backend ThreadingBackend with 6 concurrent workers.\n"
     ]
    },
    {
     "name": "stdout",
     "output_type": "stream",
     "text": [
      "Test accuracy = 95.59%. "
     ]
    },
    {
     "name": "stderr",
     "output_type": "stream",
     "text": [
      "[Parallel(n_jobs=6)]: Done  38 tasks      | elapsed:    0.1s\n",
      "[Parallel(n_jobs=6)]: Done  60 out of  60 | elapsed:    0.1s finished\n",
      "[Parallel(n_jobs=6)]: Using backend ThreadingBackend with 6 concurrent workers.\n"
     ]
    },
    {
     "name": "stdout",
     "output_type": "stream",
     "text": [
      "Train accuracy = 95.68%.\n",
      "Best accuracy reached so far: 97.02418022799274 for params: 50, 3, 20, 2, 1, False\n",
      "428ème itérateur: 60, 2, 1, 40, 64, True\n"
     ]
    },
    {
     "name": "stderr",
     "output_type": "stream",
     "text": [
      "[Parallel(n_jobs=6)]: Done  38 tasks      | elapsed:    0.3s\n",
      "[Parallel(n_jobs=6)]: Done  60 out of  60 | elapsed:    0.5s finished\n",
      "[Parallel(n_jobs=6)]: Using backend ThreadingBackend with 6 concurrent workers.\n",
      "[Parallel(n_jobs=6)]: Done  38 tasks      | elapsed:    0.0s\n",
      "[Parallel(n_jobs=6)]: Done  60 out of  60 | elapsed:    0.0s finished\n",
      "[Parallel(n_jobs=6)]: Using backend ThreadingBackend with 6 concurrent workers.\n",
      "[Parallel(n_jobs=6)]: Done  38 tasks      | elapsed:    0.1s\n",
      "[Parallel(n_jobs=6)]: Done  60 out of  60 | elapsed:    0.1s finished\n"
     ]
    },
    {
     "name": "stdout",
     "output_type": "stream",
     "text": [
      "Test accuracy = 93.69%. Train accuracy = 93.72%.\n",
      "Best accuracy reached so far: 97.02418022799274 for params: 50, 3, 20, 2, 1, False\n",
      "429ème itérateur: 60, 2, 2, 70, 128, True\n"
     ]
    },
    {
     "name": "stderr",
     "output_type": "stream",
     "text": [
      "[Parallel(n_jobs=6)]: Using backend ThreadingBackend with 6 concurrent workers.\n",
      "[Parallel(n_jobs=6)]: Done  38 tasks      | elapsed:    0.5s\n",
      "[Parallel(n_jobs=6)]: Done  60 out of  60 | elapsed:    0.7s finished\n",
      "[Parallel(n_jobs=6)]: Using backend ThreadingBackend with 6 concurrent workers.\n",
      "[Parallel(n_jobs=6)]: Done  38 tasks      | elapsed:    0.0s\n",
      "[Parallel(n_jobs=6)]: Done  60 out of  60 | elapsed:    0.0s finished\n",
      "[Parallel(n_jobs=6)]: Using backend ThreadingBackend with 6 concurrent workers.\n"
     ]
    },
    {
     "name": "stdout",
     "output_type": "stream",
     "text": [
      "Test accuracy = 93.60%. "
     ]
    },
    {
     "name": "stderr",
     "output_type": "stream",
     "text": [
      "[Parallel(n_jobs=6)]: Done  38 tasks      | elapsed:    0.1s\n",
      "[Parallel(n_jobs=6)]: Done  60 out of  60 | elapsed:    0.1s finished\n",
      "[Parallel(n_jobs=6)]: Using backend ThreadingBackend with 6 concurrent workers.\n"
     ]
    },
    {
     "name": "stdout",
     "output_type": "stream",
     "text": [
      "Train accuracy = 93.69%.\n",
      "Best accuracy reached so far: 97.02418022799274 for params: 50, 3, 20, 2, 1, False\n",
      "430ème itérateur: 60, 2, 4, 30, 128, False\n"
     ]
    },
    {
     "name": "stderr",
     "output_type": "stream",
     "text": [
      "[Parallel(n_jobs=6)]: Done  38 tasks      | elapsed:    0.8s\n",
      "[Parallel(n_jobs=6)]: Done  60 out of  60 | elapsed:    1.2s finished\n",
      "[Parallel(n_jobs=6)]: Using backend ThreadingBackend with 6 concurrent workers.\n",
      "[Parallel(n_jobs=6)]: Done  38 tasks      | elapsed:    0.0s\n",
      "[Parallel(n_jobs=6)]: Done  60 out of  60 | elapsed:    0.0s finished\n",
      "[Parallel(n_jobs=6)]: Using backend ThreadingBackend with 6 concurrent workers.\n"
     ]
    },
    {
     "name": "stdout",
     "output_type": "stream",
     "text": [
      "Test accuracy = 94.84%. "
     ]
    },
    {
     "name": "stderr",
     "output_type": "stream",
     "text": [
      "[Parallel(n_jobs=6)]: Done  38 tasks      | elapsed:    0.1s\n",
      "[Parallel(n_jobs=6)]: Done  60 out of  60 | elapsed:    0.1s finished\n",
      "[Parallel(n_jobs=6)]: Using backend ThreadingBackend with 6 concurrent workers.\n"
     ]
    },
    {
     "name": "stdout",
     "output_type": "stream",
     "text": [
      "Train accuracy = 94.88%.\n",
      "Best accuracy reached so far: 97.02418022799274 for params: 50, 3, 20, 2, 1, False\n",
      "431ème itérateur: 60, 2, 17, 30, 4, True\n"
     ]
    },
    {
     "name": "stderr",
     "output_type": "stream",
     "text": [
      "[Parallel(n_jobs=6)]: Done  38 tasks      | elapsed:    1.6s\n",
      "[Parallel(n_jobs=6)]: Done  60 out of  60 | elapsed:    2.3s finished\n",
      "[Parallel(n_jobs=6)]: Using backend ThreadingBackend with 6 concurrent workers.\n",
      "[Parallel(n_jobs=6)]: Done  38 tasks      | elapsed:    0.0s\n",
      "[Parallel(n_jobs=6)]: Done  60 out of  60 | elapsed:    0.0s finished\n",
      "[Parallel(n_jobs=6)]: Using backend ThreadingBackend with 6 concurrent workers.\n"
     ]
    },
    {
     "name": "stdout",
     "output_type": "stream",
     "text": [
      "Test accuracy = 96.81%. "
     ]
    },
    {
     "name": "stderr",
     "output_type": "stream",
     "text": [
      "[Parallel(n_jobs=6)]: Done  38 tasks      | elapsed:    0.1s\n",
      "[Parallel(n_jobs=6)]: Done  60 out of  60 | elapsed:    0.2s finished\n",
      "[Parallel(n_jobs=6)]: Using backend ThreadingBackend with 6 concurrent workers.\n"
     ]
    },
    {
     "name": "stdout",
     "output_type": "stream",
     "text": [
      "Train accuracy = 97.31%.\n",
      "Best accuracy reached so far: 97.02418022799274 for params: 50, 3, 20, 2, 1, False\n",
      "432ème itérateur: 60, 3, 1, 20, 32, False\n"
     ]
    },
    {
     "name": "stderr",
     "output_type": "stream",
     "text": [
      "[Parallel(n_jobs=6)]: Done  38 tasks      | elapsed:    0.4s\n",
      "[Parallel(n_jobs=6)]: Done  60 out of  60 | elapsed:    0.6s finished\n",
      "[Parallel(n_jobs=6)]: Using backend ThreadingBackend with 6 concurrent workers.\n",
      "[Parallel(n_jobs=6)]: Done  38 tasks      | elapsed:    0.0s\n",
      "[Parallel(n_jobs=6)]: Done  60 out of  60 | elapsed:    0.0s finished\n",
      "[Parallel(n_jobs=6)]: Using backend ThreadingBackend with 6 concurrent workers.\n",
      "[Parallel(n_jobs=6)]: Done  38 tasks      | elapsed:    0.1s\n"
     ]
    },
    {
     "name": "stdout",
     "output_type": "stream",
     "text": [
      "Test accuracy = 92.86%. "
     ]
    },
    {
     "name": "stderr",
     "output_type": "stream",
     "text": [
      "[Parallel(n_jobs=6)]: Done  60 out of  60 | elapsed:    0.1s finished\n",
      "[Parallel(n_jobs=6)]: Using backend ThreadingBackend with 6 concurrent workers.\n"
     ]
    },
    {
     "name": "stdout",
     "output_type": "stream",
     "text": [
      "Train accuracy = 92.88%.\n",
      "Best accuracy reached so far: 97.02418022799274 for params: 50, 3, 20, 2, 1, False\n",
      "433ème itérateur: 60, 3, 4, 30, 64, False\n"
     ]
    },
    {
     "name": "stderr",
     "output_type": "stream",
     "text": [
      "[Parallel(n_jobs=6)]: Done  38 tasks      | elapsed:    1.1s\n",
      "[Parallel(n_jobs=6)]: Done  60 out of  60 | elapsed:    1.6s finished\n",
      "[Parallel(n_jobs=6)]: Using backend ThreadingBackend with 6 concurrent workers.\n",
      "[Parallel(n_jobs=6)]: Done  38 tasks      | elapsed:    0.0s\n",
      "[Parallel(n_jobs=6)]: Done  60 out of  60 | elapsed:    0.0s finished\n",
      "[Parallel(n_jobs=6)]: Using backend ThreadingBackend with 6 concurrent workers.\n"
     ]
    },
    {
     "name": "stdout",
     "output_type": "stream",
     "text": [
      "Test accuracy = 95.12%. "
     ]
    },
    {
     "name": "stderr",
     "output_type": "stream",
     "text": [
      "[Parallel(n_jobs=6)]: Done  38 tasks      | elapsed:    0.1s\n",
      "[Parallel(n_jobs=6)]: Done  60 out of  60 | elapsed:    0.1s finished\n",
      "[Parallel(n_jobs=6)]: Using backend ThreadingBackend with 6 concurrent workers.\n"
     ]
    },
    {
     "name": "stdout",
     "output_type": "stream",
     "text": [
      "Train accuracy = 95.18%.\n",
      "Best accuracy reached so far: 97.02418022799274 for params: 50, 3, 20, 2, 1, False\n",
      "434ème itérateur: 60, 3, 5, 10, 128, True\n"
     ]
    },
    {
     "name": "stderr",
     "output_type": "stream",
     "text": [
      "[Parallel(n_jobs=6)]: Done  38 tasks      | elapsed:    1.1s\n",
      "[Parallel(n_jobs=6)]: Done  60 out of  60 | elapsed:    1.6s finished\n",
      "[Parallel(n_jobs=6)]: Using backend ThreadingBackend with 6 concurrent workers.\n",
      "[Parallel(n_jobs=6)]: Done  38 tasks      | elapsed:    0.0s\n",
      "[Parallel(n_jobs=6)]: Done  60 out of  60 | elapsed:    0.0s finished\n",
      "[Parallel(n_jobs=6)]: Using backend ThreadingBackend with 6 concurrent workers.\n"
     ]
    },
    {
     "name": "stdout",
     "output_type": "stream",
     "text": [
      "Test accuracy = 95.33%. "
     ]
    },
    {
     "name": "stderr",
     "output_type": "stream",
     "text": [
      "[Parallel(n_jobs=6)]: Done  38 tasks      | elapsed:    0.1s\n",
      "[Parallel(n_jobs=6)]: Done  60 out of  60 | elapsed:    0.1s finished\n",
      "[Parallel(n_jobs=6)]: Using backend ThreadingBackend with 6 concurrent workers.\n"
     ]
    },
    {
     "name": "stdout",
     "output_type": "stream",
     "text": [
      "Train accuracy = 95.31%.\n",
      "Best accuracy reached so far: 97.02418022799274 for params: 50, 3, 20, 2, 1, False\n",
      "435ème itérateur: 60, 3, 7, 10, 64, False\n"
     ]
    },
    {
     "name": "stderr",
     "output_type": "stream",
     "text": [
      "[Parallel(n_jobs=6)]: Done  38 tasks      | elapsed:    1.8s\n",
      "[Parallel(n_jobs=6)]: Done  60 out of  60 | elapsed:    2.6s finished\n",
      "[Parallel(n_jobs=6)]: Using backend ThreadingBackend with 6 concurrent workers.\n",
      "[Parallel(n_jobs=6)]: Done  38 tasks      | elapsed:    0.0s\n",
      "[Parallel(n_jobs=6)]: Done  60 out of  60 | elapsed:    0.0s finished\n",
      "[Parallel(n_jobs=6)]: Using backend ThreadingBackend with 6 concurrent workers.\n"
     ]
    },
    {
     "name": "stdout",
     "output_type": "stream",
     "text": [
      "Test accuracy = 96.03%. "
     ]
    },
    {
     "name": "stderr",
     "output_type": "stream",
     "text": [
      "[Parallel(n_jobs=6)]: Done  38 tasks      | elapsed:    0.1s\n",
      "[Parallel(n_jobs=6)]: Done  60 out of  60 | elapsed:    0.1s finished\n",
      "[Parallel(n_jobs=6)]: Using backend ThreadingBackend with 6 concurrent workers.\n"
     ]
    },
    {
     "name": "stdout",
     "output_type": "stream",
     "text": [
      "Train accuracy = 96.12%.\n",
      "Best accuracy reached so far: 97.02418022799274 for params: 50, 3, 20, 2, 1, False\n",
      "436ème itérateur: 60, 3, 13, 40, 128, True\n"
     ]
    },
    {
     "name": "stderr",
     "output_type": "stream",
     "text": [
      "[Parallel(n_jobs=6)]: Done  38 tasks      | elapsed:    1.9s\n",
      "[Parallel(n_jobs=6)]: Done  60 out of  60 | elapsed:    2.7s finished\n",
      "[Parallel(n_jobs=6)]: Using backend ThreadingBackend with 6 concurrent workers.\n",
      "[Parallel(n_jobs=6)]: Done  38 tasks      | elapsed:    0.0s\n",
      "[Parallel(n_jobs=6)]: Done  60 out of  60 | elapsed:    0.0s finished\n",
      "[Parallel(n_jobs=6)]: Using backend ThreadingBackend with 6 concurrent workers.\n"
     ]
    },
    {
     "name": "stdout",
     "output_type": "stream",
     "text": [
      "Test accuracy = 96.46%. "
     ]
    },
    {
     "name": "stderr",
     "output_type": "stream",
     "text": [
      "[Parallel(n_jobs=6)]: Done  38 tasks      | elapsed:    0.1s\n",
      "[Parallel(n_jobs=6)]: Done  60 out of  60 | elapsed:    0.2s finished\n",
      "[Parallel(n_jobs=6)]: Using backend ThreadingBackend with 6 concurrent workers.\n"
     ]
    },
    {
     "name": "stdout",
     "output_type": "stream",
     "text": [
      "Train accuracy = 96.53%.\n",
      "Best accuracy reached so far: 97.02418022799274 for params: 50, 3, 20, 2, 1, False\n",
      "437ème itérateur: 60, 3, 13, 50, 16, True\n"
     ]
    },
    {
     "name": "stderr",
     "output_type": "stream",
     "text": [
      "[Parallel(n_jobs=6)]: Done  38 tasks      | elapsed:    2.0s\n",
      "[Parallel(n_jobs=6)]: Done  60 out of  60 | elapsed:    2.9s finished\n",
      "[Parallel(n_jobs=6)]: Using backend ThreadingBackend with 6 concurrent workers.\n",
      "[Parallel(n_jobs=6)]: Done  38 tasks      | elapsed:    0.0s\n",
      "[Parallel(n_jobs=6)]: Done  60 out of  60 | elapsed:    0.0s finished\n",
      "[Parallel(n_jobs=6)]: Using backend ThreadingBackend with 6 concurrent workers.\n"
     ]
    },
    {
     "name": "stdout",
     "output_type": "stream",
     "text": [
      "Test accuracy = 96.81%. "
     ]
    },
    {
     "name": "stderr",
     "output_type": "stream",
     "text": [
      "[Parallel(n_jobs=6)]: Done  38 tasks      | elapsed:    0.1s\n",
      "[Parallel(n_jobs=6)]: Done  60 out of  60 | elapsed:    0.2s finished\n",
      "[Parallel(n_jobs=6)]: Using backend ThreadingBackend with 6 concurrent workers.\n"
     ]
    },
    {
     "name": "stdout",
     "output_type": "stream",
     "text": [
      "Train accuracy = 97.05%.\n",
      "Best accuracy reached so far: 97.02418022799274 for params: 50, 3, 20, 2, 1, False\n",
      "438ème itérateur: 60, 3, 20, 40, 128, True\n"
     ]
    },
    {
     "name": "stderr",
     "output_type": "stream",
     "text": [
      "[Parallel(n_jobs=6)]: Done  38 tasks      | elapsed:    1.9s\n",
      "[Parallel(n_jobs=6)]: Done  60 out of  60 | elapsed:    2.8s finished\n",
      "[Parallel(n_jobs=6)]: Using backend ThreadingBackend with 6 concurrent workers.\n",
      "[Parallel(n_jobs=6)]: Done  38 tasks      | elapsed:    0.0s\n",
      "[Parallel(n_jobs=6)]: Done  60 out of  60 | elapsed:    0.0s finished\n",
      "[Parallel(n_jobs=6)]: Using backend ThreadingBackend with 6 concurrent workers.\n"
     ]
    },
    {
     "name": "stdout",
     "output_type": "stream",
     "text": [
      "Test accuracy = 96.44%. "
     ]
    },
    {
     "name": "stderr",
     "output_type": "stream",
     "text": [
      "[Parallel(n_jobs=6)]: Done  38 tasks      | elapsed:    0.1s\n",
      "[Parallel(n_jobs=6)]: Done  60 out of  60 | elapsed:    0.2s finished\n",
      "[Parallel(n_jobs=6)]: Using backend ThreadingBackend with 6 concurrent workers.\n"
     ]
    },
    {
     "name": "stdout",
     "output_type": "stream",
     "text": [
      "Train accuracy = 96.53%.\n",
      "Best accuracy reached so far: 97.02418022799274 for params: 50, 3, 20, 2, 1, False\n",
      "439ème itérateur: 60, 3, 20, 60, 8, False\n"
     ]
    },
    {
     "name": "stderr",
     "output_type": "stream",
     "text": [
      "[Parallel(n_jobs=6)]: Done  38 tasks      | elapsed:    2.9s\n",
      "[Parallel(n_jobs=6)]: Done  60 out of  60 | elapsed:    4.2s finished\n",
      "[Parallel(n_jobs=6)]: Using backend ThreadingBackend with 6 concurrent workers.\n",
      "[Parallel(n_jobs=6)]: Done  38 tasks      | elapsed:    0.0s\n",
      "[Parallel(n_jobs=6)]: Done  60 out of  60 | elapsed:    0.0s finished\n"
     ]
    },
    {
     "name": "stdout",
     "output_type": "stream",
     "text": [
      "Test accuracy = 96.90%. "
     ]
    },
    {
     "name": "stderr",
     "output_type": "stream",
     "text": [
      "[Parallel(n_jobs=6)]: Using backend ThreadingBackend with 6 concurrent workers.\n",
      "[Parallel(n_jobs=6)]: Done  38 tasks      | elapsed:    0.1s\n",
      "[Parallel(n_jobs=6)]: Done  60 out of  60 | elapsed:    0.2s finished\n"
     ]
    },
    {
     "name": "stdout",
     "output_type": "stream",
     "text": [
      "Train accuracy = 97.48%.\n",
      "Best accuracy reached so far: 97.02418022799274 for params: 50, 3, 20, 2, 1, False\n",
      "440ème itérateur: 60, 8, 1, 10, 32, True\n"
     ]
    },
    {
     "name": "stderr",
     "output_type": "stream",
     "text": [
      "[Parallel(n_jobs=6)]: Using backend ThreadingBackend with 6 concurrent workers.\n",
      "[Parallel(n_jobs=6)]: Done  38 tasks      | elapsed:    0.6s\n",
      "[Parallel(n_jobs=6)]: Done  60 out of  60 | elapsed:    0.9s finished\n",
      "[Parallel(n_jobs=6)]: Using backend ThreadingBackend with 6 concurrent workers.\n",
      "[Parallel(n_jobs=6)]: Done  38 tasks      | elapsed:    0.0s\n",
      "[Parallel(n_jobs=6)]: Done  60 out of  60 | elapsed:    0.0s finished\n",
      "[Parallel(n_jobs=6)]: Using backend ThreadingBackend with 6 concurrent workers.\n",
      "[Parallel(n_jobs=6)]: Done  38 tasks      | elapsed:    0.1s\n"
     ]
    },
    {
     "name": "stdout",
     "output_type": "stream",
     "text": [
      "Test accuracy = 92.89%. "
     ]
    },
    {
     "name": "stderr",
     "output_type": "stream",
     "text": [
      "[Parallel(n_jobs=6)]: Done  60 out of  60 | elapsed:    0.1s finished\n",
      "[Parallel(n_jobs=6)]: Using backend ThreadingBackend with 6 concurrent workers.\n"
     ]
    },
    {
     "name": "stdout",
     "output_type": "stream",
     "text": [
      "Train accuracy = 92.97%.\n",
      "Best accuracy reached so far: 97.02418022799274 for params: 50, 3, 20, 2, 1, False\n",
      "441ème itérateur: 60, 8, 2, 10, 8, True\n"
     ]
    },
    {
     "name": "stderr",
     "output_type": "stream",
     "text": [
      "[Parallel(n_jobs=6)]: Done  38 tasks      | elapsed:    1.1s\n",
      "[Parallel(n_jobs=6)]: Done  60 out of  60 | elapsed:    1.6s finished\n",
      "[Parallel(n_jobs=6)]: Using backend ThreadingBackend with 6 concurrent workers.\n",
      "[Parallel(n_jobs=6)]: Done  38 tasks      | elapsed:    0.0s\n",
      "[Parallel(n_jobs=6)]: Done  60 out of  60 | elapsed:    0.0s finished\n",
      "[Parallel(n_jobs=6)]: Using backend ThreadingBackend with 6 concurrent workers.\n"
     ]
    },
    {
     "name": "stdout",
     "output_type": "stream",
     "text": [
      "Test accuracy = 94.29%. "
     ]
    },
    {
     "name": "stderr",
     "output_type": "stream",
     "text": [
      "[Parallel(n_jobs=6)]: Done  38 tasks      | elapsed:    0.1s\n",
      "[Parallel(n_jobs=6)]: Done  60 out of  60 | elapsed:    0.1s finished\n",
      "[Parallel(n_jobs=6)]: Using backend ThreadingBackend with 6 concurrent workers.\n"
     ]
    },
    {
     "name": "stdout",
     "output_type": "stream",
     "text": [
      "Train accuracy = 94.29%.\n",
      "Best accuracy reached so far: 97.02418022799274 for params: 50, 3, 20, 2, 1, False\n",
      "442ème itérateur: 60, 8, 2, 20, 4, False\n"
     ]
    },
    {
     "name": "stderr",
     "output_type": "stream",
     "text": [
      "[Parallel(n_jobs=6)]: Done  38 tasks      | elapsed:    1.4s\n",
      "[Parallel(n_jobs=6)]: Done  60 out of  60 | elapsed:    2.1s finished\n",
      "[Parallel(n_jobs=6)]: Using backend ThreadingBackend with 6 concurrent workers.\n",
      "[Parallel(n_jobs=6)]: Done  38 tasks      | elapsed:    0.0s\n",
      "[Parallel(n_jobs=6)]: Done  60 out of  60 | elapsed:    0.0s finished\n"
     ]
    },
    {
     "name": "stdout",
     "output_type": "stream",
     "text": [
      "Test accuracy = 94.26%. "
     ]
    },
    {
     "name": "stderr",
     "output_type": "stream",
     "text": [
      "[Parallel(n_jobs=6)]: Using backend ThreadingBackend with 6 concurrent workers.\n",
      "[Parallel(n_jobs=6)]: Done  38 tasks      | elapsed:    0.1s\n",
      "[Parallel(n_jobs=6)]: Done  60 out of  60 | elapsed:    0.1s finished\n"
     ]
    },
    {
     "name": "stdout",
     "output_type": "stream",
     "text": [
      "Train accuracy = 94.25%.\n",
      "Best accuracy reached so far: 97.02418022799274 for params: 50, 3, 20, 2, 1, False\n",
      "443ème itérateur: 60, 8, 2, 40, 4, True\n"
     ]
    },
    {
     "name": "stderr",
     "output_type": "stream",
     "text": [
      "[Parallel(n_jobs=6)]: Using backend ThreadingBackend with 6 concurrent workers.\n",
      "[Parallel(n_jobs=6)]: Done  38 tasks      | elapsed:    1.1s\n",
      "[Parallel(n_jobs=6)]: Done  60 out of  60 | elapsed:    1.6s finished\n",
      "[Parallel(n_jobs=6)]: Using backend ThreadingBackend with 6 concurrent workers.\n",
      "[Parallel(n_jobs=6)]: Done  38 tasks      | elapsed:    0.0s\n",
      "[Parallel(n_jobs=6)]: Done  60 out of  60 | elapsed:    0.0s finished\n",
      "[Parallel(n_jobs=6)]: Using backend ThreadingBackend with 6 concurrent workers.\n"
     ]
    },
    {
     "name": "stdout",
     "output_type": "stream",
     "text": [
      "Test accuracy = 94.29%. "
     ]
    },
    {
     "name": "stderr",
     "output_type": "stream",
     "text": [
      "[Parallel(n_jobs=6)]: Done  38 tasks      | elapsed:    0.1s\n",
      "[Parallel(n_jobs=6)]: Done  60 out of  60 | elapsed:    0.1s finished\n",
      "[Parallel(n_jobs=6)]: Using backend ThreadingBackend with 6 concurrent workers.\n"
     ]
    },
    {
     "name": "stdout",
     "output_type": "stream",
     "text": [
      "Train accuracy = 94.29%.\n",
      "Best accuracy reached so far: 97.02418022799274 for params: 50, 3, 20, 2, 1, False\n",
      "444ème itérateur: 60, 8, 3, 20, 64, True\n"
     ]
    },
    {
     "name": "stderr",
     "output_type": "stream",
     "text": [
      "[Parallel(n_jobs=6)]: Done  38 tasks      | elapsed:    1.6s\n",
      "[Parallel(n_jobs=6)]: Done  60 out of  60 | elapsed:    2.3s finished\n",
      "[Parallel(n_jobs=6)]: Using backend ThreadingBackend with 6 concurrent workers.\n",
      "[Parallel(n_jobs=6)]: Done  38 tasks      | elapsed:    0.0s\n",
      "[Parallel(n_jobs=6)]: Done  60 out of  60 | elapsed:    0.0s finished\n",
      "[Parallel(n_jobs=6)]: Using backend ThreadingBackend with 6 concurrent workers.\n"
     ]
    },
    {
     "name": "stdout",
     "output_type": "stream",
     "text": [
      "Test accuracy = 95.00%. "
     ]
    },
    {
     "name": "stderr",
     "output_type": "stream",
     "text": [
      "[Parallel(n_jobs=6)]: Done  38 tasks      | elapsed:    0.1s\n",
      "[Parallel(n_jobs=6)]: Done  60 out of  60 | elapsed:    0.1s finished\n",
      "[Parallel(n_jobs=6)]: Using backend ThreadingBackend with 6 concurrent workers.\n"
     ]
    },
    {
     "name": "stdout",
     "output_type": "stream",
     "text": [
      "Train accuracy = 95.01%.\n",
      "Best accuracy reached so far: 97.02418022799274 for params: 50, 3, 20, 2, 1, False\n",
      "445ème itérateur: 60, 8, 4, 2, 64, False\n"
     ]
    },
    {
     "name": "stderr",
     "output_type": "stream",
     "text": [
      "[Parallel(n_jobs=6)]: Done  38 tasks      | elapsed:    2.5s\n",
      "[Parallel(n_jobs=6)]: Done  60 out of  60 | elapsed:    3.6s finished\n",
      "[Parallel(n_jobs=6)]: Using backend ThreadingBackend with 6 concurrent workers.\n",
      "[Parallel(n_jobs=6)]: Done  38 tasks      | elapsed:    0.0s\n",
      "[Parallel(n_jobs=6)]: Done  60 out of  60 | elapsed:    0.0s finished\n",
      "[Parallel(n_jobs=6)]: Using backend ThreadingBackend with 6 concurrent workers.\n"
     ]
    },
    {
     "name": "stdout",
     "output_type": "stream",
     "text": [
      "Test accuracy = 95.65%. "
     ]
    },
    {
     "name": "stderr",
     "output_type": "stream",
     "text": [
      "[Parallel(n_jobs=6)]: Done  38 tasks      | elapsed:    0.1s\n",
      "[Parallel(n_jobs=6)]: Done  60 out of  60 | elapsed:    0.1s finished\n",
      "[Parallel(n_jobs=6)]: Using backend ThreadingBackend with 6 concurrent workers.\n"
     ]
    },
    {
     "name": "stdout",
     "output_type": "stream",
     "text": [
      "Train accuracy = 95.60%.\n",
      "Best accuracy reached so far: 97.02418022799274 for params: 50, 3, 20, 2, 1, False\n",
      "446ème itérateur: 60, 8, 5, 40, 16, False\n"
     ]
    },
    {
     "name": "stderr",
     "output_type": "stream",
     "text": [
      "[Parallel(n_jobs=6)]: Done  38 tasks      | elapsed:    3.1s\n",
      "[Parallel(n_jobs=6)]: Done  60 out of  60 | elapsed:    4.5s finished\n",
      "[Parallel(n_jobs=6)]: Using backend ThreadingBackend with 6 concurrent workers.\n",
      "[Parallel(n_jobs=6)]: Done  38 tasks      | elapsed:    0.0s\n",
      "[Parallel(n_jobs=6)]: Done  60 out of  60 | elapsed:    0.0s finished\n",
      "[Parallel(n_jobs=6)]: Using backend ThreadingBackend with 6 concurrent workers.\n"
     ]
    },
    {
     "name": "stdout",
     "output_type": "stream",
     "text": [
      "Test accuracy = 96.03%. "
     ]
    },
    {
     "name": "stderr",
     "output_type": "stream",
     "text": [
      "[Parallel(n_jobs=6)]: Done  38 tasks      | elapsed:    0.1s\n",
      "[Parallel(n_jobs=6)]: Done  60 out of  60 | elapsed:    0.1s finished\n",
      "[Parallel(n_jobs=6)]: Using backend ThreadingBackend with 6 concurrent workers.\n"
     ]
    },
    {
     "name": "stdout",
     "output_type": "stream",
     "text": [
      "Train accuracy = 95.97%.\n",
      "Best accuracy reached so far: 97.02418022799274 for params: 50, 3, 20, 2, 1, False\n",
      "447ème itérateur: 60, 8, 5, 60, 32, True\n"
     ]
    },
    {
     "name": "stderr",
     "output_type": "stream",
     "text": [
      "[Parallel(n_jobs=6)]: Done  38 tasks      | elapsed:    2.4s\n",
      "[Parallel(n_jobs=6)]: Done  60 out of  60 | elapsed:    3.6s finished\n",
      "[Parallel(n_jobs=6)]: Using backend ThreadingBackend with 6 concurrent workers.\n",
      "[Parallel(n_jobs=6)]: Done  38 tasks      | elapsed:    0.0s\n",
      "[Parallel(n_jobs=6)]: Done  60 out of  60 | elapsed:    0.0s finished\n",
      "[Parallel(n_jobs=6)]: Using backend ThreadingBackend with 6 concurrent workers.\n"
     ]
    },
    {
     "name": "stdout",
     "output_type": "stream",
     "text": [
      "Test accuracy = 96.18%. "
     ]
    },
    {
     "name": "stderr",
     "output_type": "stream",
     "text": [
      "[Parallel(n_jobs=6)]: Done  38 tasks      | elapsed:    0.1s\n",
      "[Parallel(n_jobs=6)]: Done  60 out of  60 | elapsed:    0.1s finished\n",
      "[Parallel(n_jobs=6)]: Using backend ThreadingBackend with 6 concurrent workers.\n"
     ]
    },
    {
     "name": "stdout",
     "output_type": "stream",
     "text": [
      "Train accuracy = 96.12%.\n",
      "Best accuracy reached so far: 97.02418022799274 for params: 50, 3, 20, 2, 1, False\n",
      "448ème itérateur: 60, 8, 13, 10, 16, False\n"
     ]
    },
    {
     "name": "stderr",
     "output_type": "stream",
     "text": [
      "[Parallel(n_jobs=6)]: Done  38 tasks      | elapsed:    6.2s\n",
      "[Parallel(n_jobs=6)]: Done  60 out of  60 | elapsed:    9.2s finished\n",
      "[Parallel(n_jobs=6)]: Using backend ThreadingBackend with 6 concurrent workers.\n",
      "[Parallel(n_jobs=6)]: Done  38 tasks      | elapsed:    0.0s\n",
      "[Parallel(n_jobs=6)]: Done  60 out of  60 | elapsed:    0.0s finished\n",
      "[Parallel(n_jobs=6)]: Using backend ThreadingBackend with 6 concurrent workers.\n"
     ]
    },
    {
     "name": "stdout",
     "output_type": "stream",
     "text": [
      "Test accuracy = 96.92%. "
     ]
    },
    {
     "name": "stderr",
     "output_type": "stream",
     "text": [
      "[Parallel(n_jobs=6)]: Done  38 tasks      | elapsed:    0.1s\n",
      "[Parallel(n_jobs=6)]: Done  60 out of  60 | elapsed:    0.2s finished\n",
      "[Parallel(n_jobs=6)]: Using backend ThreadingBackend with 6 concurrent workers.\n"
     ]
    },
    {
     "name": "stdout",
     "output_type": "stream",
     "text": [
      "Train accuracy = 97.43%.\n",
      "Best accuracy reached so far: 97.02418022799274 for params: 50, 3, 20, 2, 1, False\n",
      "449ème itérateur: 60, 8, 17, 10, 32, False\n"
     ]
    },
    {
     "name": "stderr",
     "output_type": "stream",
     "text": [
      "[Parallel(n_jobs=6)]: Done  38 tasks      | elapsed:    8.4s\n",
      "[Parallel(n_jobs=6)]: Done  60 out of  60 | elapsed:   11.8s finished\n",
      "[Parallel(n_jobs=6)]: Using backend ThreadingBackend with 6 concurrent workers.\n",
      "[Parallel(n_jobs=6)]: Done  38 tasks      | elapsed:    0.0s\n",
      "[Parallel(n_jobs=6)]: Done  60 out of  60 | elapsed:    0.0s finished\n",
      "[Parallel(n_jobs=6)]: Using backend ThreadingBackend with 6 concurrent workers.\n"
     ]
    },
    {
     "name": "stdout",
     "output_type": "stream",
     "text": [
      "Test accuracy = 96.91%. "
     ]
    },
    {
     "name": "stderr",
     "output_type": "stream",
     "text": [
      "[Parallel(n_jobs=6)]: Done  38 tasks      | elapsed:    0.1s\n",
      "[Parallel(n_jobs=6)]: Done  60 out of  60 | elapsed:    0.2s finished\n",
      "[Parallel(n_jobs=6)]: Using backend ThreadingBackend with 6 concurrent workers.\n"
     ]
    },
    {
     "name": "stdout",
     "output_type": "stream",
     "text": [
      "Train accuracy = 97.31%.\n",
      "Best accuracy reached so far: 97.02418022799274 for params: 50, 3, 20, 2, 1, False\n",
      "450ème itérateur: 60, 8, 25, 50, 8, False\n"
     ]
    },
    {
     "name": "stderr",
     "output_type": "stream",
     "text": [
      "[Parallel(n_jobs=6)]: Done  38 tasks      | elapsed:    8.6s\n",
      "[Parallel(n_jobs=6)]: Done  60 out of  60 | elapsed:   12.9s finished\n",
      "[Parallel(n_jobs=6)]: Using backend ThreadingBackend with 6 concurrent workers.\n",
      "[Parallel(n_jobs=6)]: Done  38 tasks      | elapsed:    0.0s\n",
      "[Parallel(n_jobs=6)]: Done  60 out of  60 | elapsed:    0.1s finished\n",
      "[Parallel(n_jobs=6)]: Using backend ThreadingBackend with 6 concurrent workers.\n"
     ]
    },
    {
     "name": "stdout",
     "output_type": "stream",
     "text": [
      "Test accuracy = 96.91%. "
     ]
    },
    {
     "name": "stderr",
     "output_type": "stream",
     "text": [
      "[Parallel(n_jobs=6)]: Done  38 tasks      | elapsed:    0.1s\n",
      "[Parallel(n_jobs=6)]: Done  60 out of  60 | elapsed:    0.2s finished\n",
      "[Parallel(n_jobs=6)]: Using backend ThreadingBackend with 6 concurrent workers.\n"
     ]
    },
    {
     "name": "stdout",
     "output_type": "stream",
     "text": [
      "Train accuracy = 97.71%.\n",
      "Best accuracy reached so far: 97.02418022799274 for params: 50, 3, 20, 2, 1, False\n",
      "451ème itérateur: 60, sqrt, 1, 70, 32, True\n"
     ]
    },
    {
     "name": "stderr",
     "output_type": "stream",
     "text": [
      "[Parallel(n_jobs=6)]: Done  38 tasks      | elapsed:    0.4s\n",
      "[Parallel(n_jobs=6)]: Done  60 out of  60 | elapsed:    0.7s finished\n",
      "[Parallel(n_jobs=6)]: Using backend ThreadingBackend with 6 concurrent workers.\n",
      "[Parallel(n_jobs=6)]: Done  38 tasks      | elapsed:    0.0s\n",
      "[Parallel(n_jobs=6)]: Done  60 out of  60 | elapsed:    0.0s finished\n",
      "[Parallel(n_jobs=6)]: Using backend ThreadingBackend with 6 concurrent workers.\n"
     ]
    },
    {
     "name": "stdout",
     "output_type": "stream",
     "text": [
      "Test accuracy = 93.42%. "
     ]
    },
    {
     "name": "stderr",
     "output_type": "stream",
     "text": [
      "[Parallel(n_jobs=6)]: Done  38 tasks      | elapsed:    0.1s\n",
      "[Parallel(n_jobs=6)]: Done  60 out of  60 | elapsed:    0.1s finished\n",
      "[Parallel(n_jobs=6)]: Using backend ThreadingBackend with 6 concurrent workers.\n"
     ]
    },
    {
     "name": "stdout",
     "output_type": "stream",
     "text": [
      "Train accuracy = 93.38%.\n",
      "Best accuracy reached so far: 97.02418022799274 for params: 50, 3, 20, 2, 1, False\n",
      "452ème itérateur: 60, sqrt, 4, 20, 64, False\n"
     ]
    },
    {
     "name": "stderr",
     "output_type": "stream",
     "text": [
      "[Parallel(n_jobs=6)]: Done  38 tasks      | elapsed:    1.9s\n",
      "[Parallel(n_jobs=6)]: Done  60 out of  60 | elapsed:    2.6s finished\n",
      "[Parallel(n_jobs=6)]: Using backend ThreadingBackend with 6 concurrent workers.\n",
      "[Parallel(n_jobs=6)]: Done  38 tasks      | elapsed:    0.0s\n",
      "[Parallel(n_jobs=6)]: Done  60 out of  60 | elapsed:    0.0s finished\n",
      "[Parallel(n_jobs=6)]: Using backend ThreadingBackend with 6 concurrent workers.\n"
     ]
    },
    {
     "name": "stdout",
     "output_type": "stream",
     "text": [
      "Test accuracy = 95.39%. "
     ]
    },
    {
     "name": "stderr",
     "output_type": "stream",
     "text": [
      "[Parallel(n_jobs=6)]: Done  38 tasks      | elapsed:    0.1s\n",
      "[Parallel(n_jobs=6)]: Done  60 out of  60 | elapsed:    0.1s finished\n",
      "[Parallel(n_jobs=6)]: Using backend ThreadingBackend with 6 concurrent workers.\n"
     ]
    },
    {
     "name": "stdout",
     "output_type": "stream",
     "text": [
      "Train accuracy = 95.47%.\n",
      "Best accuracy reached so far: 97.02418022799274 for params: 50, 3, 20, 2, 1, False\n",
      "453ème itérateur: 60, sqrt, 5, 70, 1, False\n"
     ]
    },
    {
     "name": "stderr",
     "output_type": "stream",
     "text": [
      "[Parallel(n_jobs=6)]: Done  38 tasks      | elapsed:    2.0s\n",
      "[Parallel(n_jobs=6)]: Done  60 out of  60 | elapsed:    2.9s finished\n",
      "[Parallel(n_jobs=6)]: Using backend ThreadingBackend with 6 concurrent workers.\n",
      "[Parallel(n_jobs=6)]: Done  38 tasks      | elapsed:    0.0s\n",
      "[Parallel(n_jobs=6)]: Done  60 out of  60 | elapsed:    0.0s finished\n",
      "[Parallel(n_jobs=6)]: Using backend ThreadingBackend with 6 concurrent workers.\n"
     ]
    },
    {
     "name": "stdout",
     "output_type": "stream",
     "text": [
      "Test accuracy = 95.66%. "
     ]
    },
    {
     "name": "stderr",
     "output_type": "stream",
     "text": [
      "[Parallel(n_jobs=6)]: Done  38 tasks      | elapsed:    0.1s\n",
      "[Parallel(n_jobs=6)]: Done  60 out of  60 | elapsed:    0.1s finished\n",
      "[Parallel(n_jobs=6)]: Using backend ThreadingBackend with 6 concurrent workers.\n"
     ]
    },
    {
     "name": "stdout",
     "output_type": "stream",
     "text": [
      "Train accuracy = 95.71%.\n",
      "Best accuracy reached so far: 97.02418022799274 for params: 50, 3, 20, 2, 1, False\n",
      "454ème itérateur: 60, sqrt, 7, 30, 4, True\n"
     ]
    },
    {
     "name": "stderr",
     "output_type": "stream",
     "text": [
      "[Parallel(n_jobs=6)]: Done  38 tasks      | elapsed:    2.0s\n",
      "[Parallel(n_jobs=6)]: Done  60 out of  60 | elapsed:    3.0s finished\n",
      "[Parallel(n_jobs=6)]: Using backend ThreadingBackend with 6 concurrent workers.\n",
      "[Parallel(n_jobs=6)]: Done  38 tasks      | elapsed:    0.0s\n",
      "[Parallel(n_jobs=6)]: Done  60 out of  60 | elapsed:    0.0s finished\n"
     ]
    },
    {
     "name": "stdout",
     "output_type": "stream",
     "text": [
      "Test accuracy = 96.34%. "
     ]
    },
    {
     "name": "stderr",
     "output_type": "stream",
     "text": [
      "[Parallel(n_jobs=6)]: Using backend ThreadingBackend with 6 concurrent workers.\n",
      "[Parallel(n_jobs=6)]: Done  38 tasks      | elapsed:    0.1s\n",
      "[Parallel(n_jobs=6)]: Done  60 out of  60 | elapsed:    0.1s finished\n"
     ]
    },
    {
     "name": "stdout",
     "output_type": "stream",
     "text": [
      "Train accuracy = 96.37%.\n",
      "Best accuracy reached so far: 97.02418022799274 for params: 50, 3, 20, 2, 1, False\n",
      "455ème itérateur: 60, sqrt, 10, 5, 4, False\n"
     ]
    },
    {
     "name": "stderr",
     "output_type": "stream",
     "text": [
      "[Parallel(n_jobs=6)]: Using backend ThreadingBackend with 6 concurrent workers.\n",
      "[Parallel(n_jobs=6)]: Done  38 tasks      | elapsed:    3.8s\n",
      "[Parallel(n_jobs=6)]: Done  60 out of  60 | elapsed:    5.5s finished\n",
      "[Parallel(n_jobs=6)]: Using backend ThreadingBackend with 6 concurrent workers.\n",
      "[Parallel(n_jobs=6)]: Done  38 tasks      | elapsed:    0.0s\n",
      "[Parallel(n_jobs=6)]: Done  60 out of  60 | elapsed:    0.1s finished\n",
      "[Parallel(n_jobs=6)]: Using backend ThreadingBackend with 6 concurrent workers.\n"
     ]
    },
    {
     "name": "stdout",
     "output_type": "stream",
     "text": [
      "Test accuracy = 96.82%. "
     ]
    },
    {
     "name": "stderr",
     "output_type": "stream",
     "text": [
      "[Parallel(n_jobs=6)]: Done  38 tasks      | elapsed:    0.1s\n",
      "[Parallel(n_jobs=6)]: Done  60 out of  60 | elapsed:    0.2s finished\n",
      "[Parallel(n_jobs=6)]: Using backend ThreadingBackend with 6 concurrent workers.\n"
     ]
    },
    {
     "name": "stdout",
     "output_type": "stream",
     "text": [
      "Train accuracy = 97.08%.\n",
      "Best accuracy reached so far: 97.02418022799274 for params: 50, 3, 20, 2, 1, False\n",
      "456ème itérateur: 60, sqrt, 20, 2, 64, False\n"
     ]
    },
    {
     "name": "stderr",
     "output_type": "stream",
     "text": [
      "[Parallel(n_jobs=6)]: Done  38 tasks      | elapsed:    4.1s\n",
      "[Parallel(n_jobs=6)]: Done  60 out of  60 | elapsed:    6.2s finished\n",
      "[Parallel(n_jobs=6)]: Using backend ThreadingBackend with 6 concurrent workers.\n",
      "[Parallel(n_jobs=6)]: Done  38 tasks      | elapsed:    0.0s\n",
      "[Parallel(n_jobs=6)]: Done  60 out of  60 | elapsed:    0.0s finished\n",
      "[Parallel(n_jobs=6)]: Using backend ThreadingBackend with 6 concurrent workers.\n"
     ]
    },
    {
     "name": "stdout",
     "output_type": "stream",
     "text": [
      "Test accuracy = 96.82%. "
     ]
    },
    {
     "name": "stderr",
     "output_type": "stream",
     "text": [
      "[Parallel(n_jobs=6)]: Done  38 tasks      | elapsed:    0.1s\n",
      "[Parallel(n_jobs=6)]: Done  60 out of  60 | elapsed:    0.2s finished\n",
      "[Parallel(n_jobs=6)]: Using backend ThreadingBackend with 6 concurrent workers.\n"
     ]
    },
    {
     "name": "stdout",
     "output_type": "stream",
     "text": [
      "Train accuracy = 97.06%.\n",
      "Best accuracy reached so far: 97.02418022799274 for params: 50, 3, 20, 2, 1, False\n",
      "457ème itérateur: 60, sqrt, 20, 50, 1, True\n"
     ]
    },
    {
     "name": "stderr",
     "output_type": "stream",
     "text": [
      "[Parallel(n_jobs=6)]: Done  38 tasks      | elapsed:    3.4s\n",
      "[Parallel(n_jobs=6)]: Done  60 out of  60 | elapsed:    5.1s finished\n",
      "[Parallel(n_jobs=6)]: Using backend ThreadingBackend with 6 concurrent workers.\n",
      "[Parallel(n_jobs=6)]: Done  38 tasks      | elapsed:    0.0s\n",
      "[Parallel(n_jobs=6)]: Done  60 out of  60 | elapsed:    0.0s finished\n",
      "[Parallel(n_jobs=6)]: Using backend ThreadingBackend with 6 concurrent workers.\n"
     ]
    },
    {
     "name": "stdout",
     "output_type": "stream",
     "text": [
      "Test accuracy = 96.91%. "
     ]
    },
    {
     "name": "stderr",
     "output_type": "stream",
     "text": [
      "[Parallel(n_jobs=6)]: Done  38 tasks      | elapsed:    0.1s\n",
      "[Parallel(n_jobs=6)]: Done  60 out of  60 | elapsed:    0.2s finished\n",
      "[Parallel(n_jobs=6)]: Using backend ThreadingBackend with 6 concurrent workers.\n"
     ]
    },
    {
     "name": "stdout",
     "output_type": "stream",
     "text": [
      "Train accuracy = 97.50%.\n",
      "Best accuracy reached so far: 97.02418022799274 for params: 50, 3, 20, 2, 1, False\n",
      "458ème itérateur: 60, sqrt, None, 60, 64, False\n"
     ]
    },
    {
     "name": "stderr",
     "output_type": "stream",
     "text": [
      "[Parallel(n_jobs=6)]: Done  38 tasks      | elapsed:    4.0s\n",
      "[Parallel(n_jobs=6)]: Done  60 out of  60 | elapsed:    6.2s finished\n",
      "[Parallel(n_jobs=6)]: Using backend ThreadingBackend with 6 concurrent workers.\n",
      "[Parallel(n_jobs=6)]: Done  38 tasks      | elapsed:    0.0s\n",
      "[Parallel(n_jobs=6)]: Done  60 out of  60 | elapsed:    0.0s finished\n",
      "[Parallel(n_jobs=6)]: Using backend ThreadingBackend with 6 concurrent workers.\n"
     ]
    },
    {
     "name": "stdout",
     "output_type": "stream",
     "text": [
      "Test accuracy = 96.85%. "
     ]
    },
    {
     "name": "stderr",
     "output_type": "stream",
     "text": [
      "[Parallel(n_jobs=6)]: Done  38 tasks      | elapsed:    0.1s\n",
      "[Parallel(n_jobs=6)]: Done  60 out of  60 | elapsed:    0.2s finished\n",
      "[Parallel(n_jobs=6)]: Using backend ThreadingBackend with 6 concurrent workers.\n"
     ]
    },
    {
     "name": "stdout",
     "output_type": "stream",
     "text": [
      "Train accuracy = 97.05%.\n",
      "Best accuracy reached so far: 97.02418022799274 for params: 50, 3, 20, 2, 1, False\n",
      "459ème itérateur: 60, None, 3, 30, 1, False\n"
     ]
    },
    {
     "name": "stderr",
     "output_type": "stream",
     "text": [
      "[Parallel(n_jobs=6)]: Done  38 tasks      | elapsed:    6.3s\n",
      "[Parallel(n_jobs=6)]: Done  60 out of  60 | elapsed:    9.1s finished\n",
      "[Parallel(n_jobs=6)]: Using backend ThreadingBackend with 6 concurrent workers.\n",
      "[Parallel(n_jobs=6)]: Done  38 tasks      | elapsed:    0.0s\n",
      "[Parallel(n_jobs=6)]: Done  60 out of  60 | elapsed:    0.0s finished\n",
      "[Parallel(n_jobs=6)]: Using backend ThreadingBackend with 6 concurrent workers.\n"
     ]
    },
    {
     "name": "stdout",
     "output_type": "stream",
     "text": [
      "Test accuracy = 95.01%. "
     ]
    },
    {
     "name": "stderr",
     "output_type": "stream",
     "text": [
      "[Parallel(n_jobs=6)]: Done  38 tasks      | elapsed:    0.1s\n",
      "[Parallel(n_jobs=6)]: Done  60 out of  60 | elapsed:    0.1s finished\n",
      "[Parallel(n_jobs=6)]: Using backend ThreadingBackend with 6 concurrent workers.\n"
     ]
    },
    {
     "name": "stdout",
     "output_type": "stream",
     "text": [
      "Train accuracy = 95.13%.\n",
      "Best accuracy reached so far: 97.02418022799274 for params: 50, 3, 20, 2, 1, False\n",
      "460ème itérateur: 60, None, 3, 30, 4, True\n"
     ]
    },
    {
     "name": "stderr",
     "output_type": "stream",
     "text": [
      "[Parallel(n_jobs=6)]: Done  38 tasks      | elapsed:    5.5s\n",
      "[Parallel(n_jobs=6)]: Done  60 out of  60 | elapsed:    7.9s finished\n",
      "[Parallel(n_jobs=6)]: Using backend ThreadingBackend with 6 concurrent workers.\n",
      "[Parallel(n_jobs=6)]: Done  38 tasks      | elapsed:    0.0s\n",
      "[Parallel(n_jobs=6)]: Done  60 out of  60 | elapsed:    0.0s finished\n",
      "[Parallel(n_jobs=6)]: Using backend ThreadingBackend with 6 concurrent workers.\n"
     ]
    },
    {
     "name": "stdout",
     "output_type": "stream",
     "text": [
      "Test accuracy = 95.01%. "
     ]
    },
    {
     "name": "stderr",
     "output_type": "stream",
     "text": [
      "[Parallel(n_jobs=6)]: Done  38 tasks      | elapsed:    0.1s\n",
      "[Parallel(n_jobs=6)]: Done  60 out of  60 | elapsed:    0.1s finished\n",
      "[Parallel(n_jobs=6)]: Using backend ThreadingBackend with 6 concurrent workers.\n"
     ]
    },
    {
     "name": "stdout",
     "output_type": "stream",
     "text": [
      "Train accuracy = 95.14%.\n",
      "Best accuracy reached so far: 97.02418022799274 for params: 50, 3, 20, 2, 1, False\n",
      "461ème itérateur: 60, None, 3, 30, 128, True\n"
     ]
    },
    {
     "name": "stderr",
     "output_type": "stream",
     "text": [
      "[Parallel(n_jobs=6)]: Done  38 tasks      | elapsed:    5.2s\n",
      "[Parallel(n_jobs=6)]: Done  60 out of  60 | elapsed:    7.4s finished\n",
      "[Parallel(n_jobs=6)]: Using backend ThreadingBackend with 6 concurrent workers.\n",
      "[Parallel(n_jobs=6)]: Done  38 tasks      | elapsed:    0.0s\n",
      "[Parallel(n_jobs=6)]: Done  60 out of  60 | elapsed:    0.0s finished\n",
      "[Parallel(n_jobs=6)]: Using backend ThreadingBackend with 6 concurrent workers.\n"
     ]
    },
    {
     "name": "stdout",
     "output_type": "stream",
     "text": [
      "Test accuracy = 95.01%. "
     ]
    },
    {
     "name": "stderr",
     "output_type": "stream",
     "text": [
      "[Parallel(n_jobs=6)]: Done  38 tasks      | elapsed:    0.1s\n",
      "[Parallel(n_jobs=6)]: Done  60 out of  60 | elapsed:    0.1s finished\n",
      "[Parallel(n_jobs=6)]: Using backend ThreadingBackend with 6 concurrent workers.\n"
     ]
    },
    {
     "name": "stdout",
     "output_type": "stream",
     "text": [
      "Train accuracy = 95.14%.\n",
      "Best accuracy reached so far: 97.02418022799274 for params: 50, 3, 20, 2, 1, False\n",
      "462ème itérateur: 60, None, 4, 5, 4, True\n"
     ]
    },
    {
     "name": "stderr",
     "output_type": "stream",
     "text": [
      "[Parallel(n_jobs=6)]: Done  38 tasks      | elapsed:    6.4s\n",
      "[Parallel(n_jobs=6)]: Done  60 out of  60 | elapsed:    9.1s finished\n",
      "[Parallel(n_jobs=6)]: Using backend ThreadingBackend with 6 concurrent workers.\n",
      "[Parallel(n_jobs=6)]: Done  38 tasks      | elapsed:    0.0s\n",
      "[Parallel(n_jobs=6)]: Done  60 out of  60 | elapsed:    0.0s finished\n",
      "[Parallel(n_jobs=6)]: Using backend ThreadingBackend with 6 concurrent workers.\n"
     ]
    },
    {
     "name": "stdout",
     "output_type": "stream",
     "text": [
      "Test accuracy = 95.65%. "
     ]
    },
    {
     "name": "stderr",
     "output_type": "stream",
     "text": [
      "[Parallel(n_jobs=6)]: Done  38 tasks      | elapsed:    0.1s\n",
      "[Parallel(n_jobs=6)]: Done  60 out of  60 | elapsed:    0.1s finished\n",
      "[Parallel(n_jobs=6)]: Using backend ThreadingBackend with 6 concurrent workers.\n"
     ]
    },
    {
     "name": "stdout",
     "output_type": "stream",
     "text": [
      "Train accuracy = 95.72%.\n",
      "Best accuracy reached so far: 97.02418022799274 for params: 50, 3, 20, 2, 1, False\n",
      "463ème itérateur: 60, None, 4, 30, 128, False\n"
     ]
    },
    {
     "name": "stderr",
     "output_type": "stream",
     "text": [
      "[Parallel(n_jobs=6)]: Done  38 tasks      | elapsed:    9.0s\n",
      "[Parallel(n_jobs=6)]: Done  60 out of  60 | elapsed:   13.1s finished\n",
      "[Parallel(n_jobs=6)]: Using backend ThreadingBackend with 6 concurrent workers.\n",
      "[Parallel(n_jobs=6)]: Done  38 tasks      | elapsed:    0.0s\n",
      "[Parallel(n_jobs=6)]: Done  60 out of  60 | elapsed:    0.0s finished\n",
      "[Parallel(n_jobs=6)]: Using backend ThreadingBackend with 6 concurrent workers.\n",
      "[Parallel(n_jobs=6)]: Done  38 tasks      | elapsed:    0.1s\n"
     ]
    },
    {
     "name": "stdout",
     "output_type": "stream",
     "text": [
      "Test accuracy = 95.61%. "
     ]
    },
    {
     "name": "stderr",
     "output_type": "stream",
     "text": [
      "[Parallel(n_jobs=6)]: Done  60 out of  60 | elapsed:    0.1s finished\n",
      "[Parallel(n_jobs=6)]: Using backend ThreadingBackend with 6 concurrent workers.\n"
     ]
    },
    {
     "name": "stdout",
     "output_type": "stream",
     "text": [
      "Train accuracy = 95.69%.\n",
      "Best accuracy reached so far: 97.02418022799274 for params: 50, 3, 20, 2, 1, False\n",
      "464ème itérateur: 60, None, 5, 10, 128, False\n"
     ]
    },
    {
     "name": "stderr",
     "output_type": "stream",
     "text": [
      "[Parallel(n_jobs=6)]: Done  38 tasks      | elapsed:   11.0s\n",
      "[Parallel(n_jobs=6)]: Done  60 out of  60 | elapsed:   15.7s finished\n",
      "[Parallel(n_jobs=6)]: Using backend ThreadingBackend with 6 concurrent workers.\n",
      "[Parallel(n_jobs=6)]: Done  38 tasks      | elapsed:    0.0s\n",
      "[Parallel(n_jobs=6)]: Done  60 out of  60 | elapsed:    0.0s finished\n"
     ]
    },
    {
     "name": "stdout",
     "output_type": "stream",
     "text": [
      "Test accuracy = 95.84%. "
     ]
    },
    {
     "name": "stderr",
     "output_type": "stream",
     "text": [
      "[Parallel(n_jobs=6)]: Using backend ThreadingBackend with 6 concurrent workers.\n",
      "[Parallel(n_jobs=6)]: Done  38 tasks      | elapsed:    0.1s\n",
      "[Parallel(n_jobs=6)]: Done  60 out of  60 | elapsed:    0.2s finished\n"
     ]
    },
    {
     "name": "stdout",
     "output_type": "stream",
     "text": [
      "Train accuracy = 95.99%.\n",
      "Best accuracy reached so far: 97.02418022799274 for params: 50, 3, 20, 2, 1, False\n",
      "465ème itérateur: 60, None, 10, 2, 16, True\n"
     ]
    },
    {
     "name": "stderr",
     "output_type": "stream",
     "text": [
      "[Parallel(n_jobs=6)]: Using backend ThreadingBackend with 6 concurrent workers.\n",
      "[Parallel(n_jobs=6)]: Done  38 tasks      | elapsed:   15.4s\n",
      "[Parallel(n_jobs=6)]: Done  60 out of  60 | elapsed:   21.9s finished\n",
      "[Parallel(n_jobs=6)]: Using backend ThreadingBackend with 6 concurrent workers.\n",
      "[Parallel(n_jobs=6)]: Done  38 tasks      | elapsed:    0.0s\n",
      "[Parallel(n_jobs=6)]: Done  60 out of  60 | elapsed:    0.0s finished\n",
      "[Parallel(n_jobs=6)]: Using backend ThreadingBackend with 6 concurrent workers.\n"
     ]
    },
    {
     "name": "stdout",
     "output_type": "stream",
     "text": [
      "Test accuracy = 96.70%. "
     ]
    },
    {
     "name": "stderr",
     "output_type": "stream",
     "text": [
      "[Parallel(n_jobs=6)]: Done  38 tasks      | elapsed:    0.1s\n",
      "[Parallel(n_jobs=6)]: Done  60 out of  60 | elapsed:    0.1s finished\n",
      "[Parallel(n_jobs=6)]: Using backend ThreadingBackend with 6 concurrent workers.\n"
     ]
    },
    {
     "name": "stdout",
     "output_type": "stream",
     "text": [
      "Train accuracy = 96.92%.\n",
      "Best accuracy reached so far: 97.02418022799274 for params: 50, 3, 20, 2, 1, False\n",
      "466ème itérateur: 60, None, 10, 70, 1, True\n"
     ]
    },
    {
     "name": "stderr",
     "output_type": "stream",
     "text": [
      "[Parallel(n_jobs=6)]: Done  38 tasks      | elapsed:   14.5s\n",
      "[Parallel(n_jobs=6)]: Done  60 out of  60 | elapsed:   20.9s finished\n",
      "[Parallel(n_jobs=6)]: Using backend ThreadingBackend with 6 concurrent workers.\n",
      "[Parallel(n_jobs=6)]: Done  38 tasks      | elapsed:    0.0s\n",
      "[Parallel(n_jobs=6)]: Done  60 out of  60 | elapsed:    0.0s finished\n",
      "[Parallel(n_jobs=6)]: Using backend ThreadingBackend with 6 concurrent workers.\n"
     ]
    },
    {
     "name": "stdout",
     "output_type": "stream",
     "text": [
      "Test accuracy = 96.70%. "
     ]
    },
    {
     "name": "stderr",
     "output_type": "stream",
     "text": [
      "[Parallel(n_jobs=6)]: Done  38 tasks      | elapsed:    0.1s\n",
      "[Parallel(n_jobs=6)]: Done  60 out of  60 | elapsed:    0.1s finished\n",
      "[Parallel(n_jobs=6)]: Using backend ThreadingBackend with 6 concurrent workers.\n"
     ]
    },
    {
     "name": "stdout",
     "output_type": "stream",
     "text": [
      "Train accuracy = 96.89%.\n",
      "Best accuracy reached so far: 97.02418022799274 for params: 50, 3, 20, 2, 1, False\n",
      "467ème itérateur: 70, 1, 1, 60, 16, True\n"
     ]
    },
    {
     "name": "stderr",
     "output_type": "stream",
     "text": [
      "[Parallel(n_jobs=6)]: Done  38 tasks      | elapsed:    0.3s\n",
      "[Parallel(n_jobs=6)]: Done  70 out of  70 | elapsed:    0.5s finished\n",
      "[Parallel(n_jobs=6)]: Using backend ThreadingBackend with 6 concurrent workers.\n",
      "[Parallel(n_jobs=6)]: Done  38 tasks      | elapsed:    0.0s\n",
      "[Parallel(n_jobs=6)]: Done  70 out of  70 | elapsed:    0.0s finished\n",
      "[Parallel(n_jobs=6)]: Using backend ThreadingBackend with 6 concurrent workers.\n"
     ]
    },
    {
     "name": "stdout",
     "output_type": "stream",
     "text": [
      "Test accuracy = 90.45%. "
     ]
    },
    {
     "name": "stderr",
     "output_type": "stream",
     "text": [
      "[Parallel(n_jobs=6)]: Done  38 tasks      | elapsed:    0.1s\n",
      "[Parallel(n_jobs=6)]: Done  70 out of  70 | elapsed:    0.1s finished\n",
      "[Parallel(n_jobs=6)]: Using backend ThreadingBackend with 6 concurrent workers.\n"
     ]
    },
    {
     "name": "stdout",
     "output_type": "stream",
     "text": [
      "Train accuracy = 90.60%.\n",
      "Best accuracy reached so far: 97.02418022799274 for params: 50, 3, 20, 2, 1, False\n",
      "468ème itérateur: 70, 1, 5, 30, 32, True\n"
     ]
    },
    {
     "name": "stderr",
     "output_type": "stream",
     "text": [
      "[Parallel(n_jobs=6)]: Done  38 tasks      | elapsed:    0.6s\n",
      "[Parallel(n_jobs=6)]: Done  70 out of  70 | elapsed:    1.0s finished\n",
      "[Parallel(n_jobs=6)]: Using backend ThreadingBackend with 6 concurrent workers.\n",
      "[Parallel(n_jobs=6)]: Done  38 tasks      | elapsed:    0.0s\n",
      "[Parallel(n_jobs=6)]: Done  70 out of  70 | elapsed:    0.0s finished\n",
      "[Parallel(n_jobs=6)]: Using backend ThreadingBackend with 6 concurrent workers.\n"
     ]
    },
    {
     "name": "stdout",
     "output_type": "stream",
     "text": [
      "Test accuracy = 94.33%. "
     ]
    },
    {
     "name": "stderr",
     "output_type": "stream",
     "text": [
      "[Parallel(n_jobs=6)]: Done  38 tasks      | elapsed:    0.1s\n",
      "[Parallel(n_jobs=6)]: Done  70 out of  70 | elapsed:    0.1s finished\n",
      "[Parallel(n_jobs=6)]: Using backend ThreadingBackend with 6 concurrent workers.\n"
     ]
    },
    {
     "name": "stdout",
     "output_type": "stream",
     "text": [
      "Train accuracy = 94.40%.\n",
      "Best accuracy reached so far: 97.02418022799274 for params: 50, 3, 20, 2, 1, False\n",
      "469ème itérateur: 70, 1, 7, 5, 4, True\n"
     ]
    },
    {
     "name": "stderr",
     "output_type": "stream",
     "text": [
      "[Parallel(n_jobs=6)]: Done  38 tasks      | elapsed:    0.7s\n",
      "[Parallel(n_jobs=6)]: Done  70 out of  70 | elapsed:    1.5s finished\n",
      "[Parallel(n_jobs=6)]: Using backend ThreadingBackend with 6 concurrent workers.\n",
      "[Parallel(n_jobs=6)]: Done  38 tasks      | elapsed:    0.0s\n",
      "[Parallel(n_jobs=6)]: Done  70 out of  70 | elapsed:    0.1s finished\n"
     ]
    },
    {
     "name": "stdout",
     "output_type": "stream",
     "text": [
      "Test accuracy = 95.08%. "
     ]
    },
    {
     "name": "stderr",
     "output_type": "stream",
     "text": [
      "[Parallel(n_jobs=6)]: Using backend ThreadingBackend with 6 concurrent workers.\n",
      "[Parallel(n_jobs=6)]: Done  38 tasks      | elapsed:    0.1s\n",
      "[Parallel(n_jobs=6)]: Done  70 out of  70 | elapsed:    0.2s finished\n",
      "[Parallel(n_jobs=6)]: Using backend ThreadingBackend with 6 concurrent workers.\n"
     ]
    },
    {
     "name": "stdout",
     "output_type": "stream",
     "text": [
      "Train accuracy = 95.18%.\n",
      "Best accuracy reached so far: 97.02418022799274 for params: 50, 3, 20, 2, 1, False\n",
      "470ème itérateur: 70, 1, 7, 40, 4, True\n"
     ]
    },
    {
     "name": "stderr",
     "output_type": "stream",
     "text": [
      "[Parallel(n_jobs=6)]: Done  38 tasks      | elapsed:    1.0s\n",
      "[Parallel(n_jobs=6)]: Done  70 out of  70 | elapsed:    1.6s finished\n",
      "[Parallel(n_jobs=6)]: Using backend ThreadingBackend with 6 concurrent workers.\n",
      "[Parallel(n_jobs=6)]: Done  38 tasks      | elapsed:    0.0s\n",
      "[Parallel(n_jobs=6)]: Done  70 out of  70 | elapsed:    0.0s finished\n",
      "[Parallel(n_jobs=6)]: Using backend ThreadingBackend with 6 concurrent workers.\n"
     ]
    },
    {
     "name": "stdout",
     "output_type": "stream",
     "text": [
      "Test accuracy = 95.02%. "
     ]
    },
    {
     "name": "stderr",
     "output_type": "stream",
     "text": [
      "[Parallel(n_jobs=6)]: Done  38 tasks      | elapsed:    0.1s\n",
      "[Parallel(n_jobs=6)]: Done  70 out of  70 | elapsed:    0.2s finished\n",
      "[Parallel(n_jobs=6)]: Using backend ThreadingBackend with 6 concurrent workers.\n"
     ]
    },
    {
     "name": "stdout",
     "output_type": "stream",
     "text": [
      "Train accuracy = 95.15%.\n",
      "Best accuracy reached so far: 97.02418022799274 for params: 50, 3, 20, 2, 1, False\n",
      "471ème itérateur: 70, 1, 13, 10, 64, True\n"
     ]
    },
    {
     "name": "stderr",
     "output_type": "stream",
     "text": [
      "[Parallel(n_jobs=6)]: Done  38 tasks      | elapsed:    1.0s\n",
      "[Parallel(n_jobs=6)]: Done  70 out of  70 | elapsed:    1.7s finished\n",
      "[Parallel(n_jobs=6)]: Using backend ThreadingBackend with 6 concurrent workers.\n",
      "[Parallel(n_jobs=6)]: Done  38 tasks      | elapsed:    0.0s\n",
      "[Parallel(n_jobs=6)]: Done  70 out of  70 | elapsed:    0.0s finished\n",
      "[Parallel(n_jobs=6)]: Using backend ThreadingBackend with 6 concurrent workers.\n"
     ]
    },
    {
     "name": "stdout",
     "output_type": "stream",
     "text": [
      "Test accuracy = 95.78%. "
     ]
    },
    {
     "name": "stderr",
     "output_type": "stream",
     "text": [
      "[Parallel(n_jobs=6)]: Done  38 tasks      | elapsed:    0.1s\n",
      "[Parallel(n_jobs=6)]: Done  70 out of  70 | elapsed:    0.2s finished\n",
      "[Parallel(n_jobs=6)]: Using backend ThreadingBackend with 6 concurrent workers.\n"
     ]
    },
    {
     "name": "stdout",
     "output_type": "stream",
     "text": [
      "Train accuracy = 95.86%.\n",
      "Best accuracy reached so far: 97.02418022799274 for params: 50, 3, 20, 2, 1, False\n",
      "472ème itérateur: 70, 1, None, 60, 64, True\n"
     ]
    },
    {
     "name": "stderr",
     "output_type": "stream",
     "text": [
      "[Parallel(n_jobs=6)]: Done  38 tasks      | elapsed:    1.0s\n",
      "[Parallel(n_jobs=6)]: Done  70 out of  70 | elapsed:    1.6s finished\n",
      "[Parallel(n_jobs=6)]: Using backend ThreadingBackend with 6 concurrent workers.\n",
      "[Parallel(n_jobs=6)]: Done  38 tasks      | elapsed:    0.0s\n",
      "[Parallel(n_jobs=6)]: Done  70 out of  70 | elapsed:    0.0s finished\n",
      "[Parallel(n_jobs=6)]: Using backend ThreadingBackend with 6 concurrent workers.\n"
     ]
    },
    {
     "name": "stdout",
     "output_type": "stream",
     "text": [
      "Test accuracy = 95.80%. "
     ]
    },
    {
     "name": "stderr",
     "output_type": "stream",
     "text": [
      "[Parallel(n_jobs=6)]: Done  38 tasks      | elapsed:    0.1s\n",
      "[Parallel(n_jobs=6)]: Done  70 out of  70 | elapsed:    0.2s finished\n",
      "[Parallel(n_jobs=6)]: Using backend ThreadingBackend with 6 concurrent workers.\n"
     ]
    },
    {
     "name": "stdout",
     "output_type": "stream",
     "text": [
      "Train accuracy = 95.92%.\n",
      "Best accuracy reached so far: 97.02418022799274 for params: 50, 3, 20, 2, 1, False\n",
      "473ème itérateur: 70, 2, 1, 2, 2, True\n"
     ]
    },
    {
     "name": "stderr",
     "output_type": "stream",
     "text": [
      "[Parallel(n_jobs=6)]: Done  38 tasks      | elapsed:    0.3s\n",
      "[Parallel(n_jobs=6)]: Done  70 out of  70 | elapsed:    0.6s finished\n",
      "[Parallel(n_jobs=6)]: Using backend ThreadingBackend with 6 concurrent workers.\n",
      "[Parallel(n_jobs=6)]: Done  38 tasks      | elapsed:    0.0s\n",
      "[Parallel(n_jobs=6)]: Done  70 out of  70 | elapsed:    0.0s finished\n",
      "[Parallel(n_jobs=6)]: Using backend ThreadingBackend with 6 concurrent workers.\n"
     ]
    },
    {
     "name": "stdout",
     "output_type": "stream",
     "text": [
      "Test accuracy = 93.62%. "
     ]
    },
    {
     "name": "stderr",
     "output_type": "stream",
     "text": [
      "[Parallel(n_jobs=6)]: Done  38 tasks      | elapsed:    0.1s\n",
      "[Parallel(n_jobs=6)]: Done  70 out of  70 | elapsed:    0.1s finished\n",
      "[Parallel(n_jobs=6)]: Using backend ThreadingBackend with 6 concurrent workers.\n"
     ]
    },
    {
     "name": "stdout",
     "output_type": "stream",
     "text": [
      "Train accuracy = 93.70%.\n",
      "Best accuracy reached so far: 97.02418022799274 for params: 50, 3, 20, 2, 1, False\n",
      "474ème itérateur: 70, 2, 4, 30, 4, True\n"
     ]
    },
    {
     "name": "stderr",
     "output_type": "stream",
     "text": [
      "[Parallel(n_jobs=6)]: Done  38 tasks      | elapsed:    0.7s\n",
      "[Parallel(n_jobs=6)]: Done  70 out of  70 | elapsed:    1.3s finished\n",
      "[Parallel(n_jobs=6)]: Using backend ThreadingBackend with 6 concurrent workers.\n",
      "[Parallel(n_jobs=6)]: Done  38 tasks      | elapsed:    0.0s\n",
      "[Parallel(n_jobs=6)]: Done  70 out of  70 | elapsed:    0.0s finished\n",
      "[Parallel(n_jobs=6)]: Using backend ThreadingBackend with 6 concurrent workers.\n"
     ]
    },
    {
     "name": "stdout",
     "output_type": "stream",
     "text": [
      "Test accuracy = 94.97%. "
     ]
    },
    {
     "name": "stderr",
     "output_type": "stream",
     "text": [
      "[Parallel(n_jobs=6)]: Done  38 tasks      | elapsed:    0.1s\n",
      "[Parallel(n_jobs=6)]: Done  70 out of  70 | elapsed:    0.1s finished\n",
      "[Parallel(n_jobs=6)]: Using backend ThreadingBackend with 6 concurrent workers.\n"
     ]
    },
    {
     "name": "stdout",
     "output_type": "stream",
     "text": [
      "Train accuracy = 94.97%.\n",
      "Best accuracy reached so far: 97.02418022799274 for params: 50, 3, 20, 2, 1, False\n",
      "475ème itérateur: 70, 2, 4, 50, 16, False\n"
     ]
    },
    {
     "name": "stderr",
     "output_type": "stream",
     "text": [
      "[Parallel(n_jobs=6)]: Done  38 tasks      | elapsed:    0.8s\n",
      "[Parallel(n_jobs=6)]: Done  70 out of  70 | elapsed:    1.4s finished\n",
      "[Parallel(n_jobs=6)]: Using backend ThreadingBackend with 6 concurrent workers.\n",
      "[Parallel(n_jobs=6)]: Done  38 tasks      | elapsed:    0.0s\n",
      "[Parallel(n_jobs=6)]: Done  70 out of  70 | elapsed:    0.0s finished\n",
      "[Parallel(n_jobs=6)]: Using backend ThreadingBackend with 6 concurrent workers.\n",
      "[Parallel(n_jobs=6)]: Done  38 tasks      | elapsed:    0.1s\n"
     ]
    },
    {
     "name": "stdout",
     "output_type": "stream",
     "text": [
      "Test accuracy = 94.96%. "
     ]
    },
    {
     "name": "stderr",
     "output_type": "stream",
     "text": [
      "[Parallel(n_jobs=6)]: Done  70 out of  70 | elapsed:    0.2s finished\n",
      "[Parallel(n_jobs=6)]: Using backend ThreadingBackend with 6 concurrent workers.\n"
     ]
    },
    {
     "name": "stdout",
     "output_type": "stream",
     "text": [
      "Train accuracy = 94.97%.\n",
      "Best accuracy reached so far: 97.02418022799274 for params: 50, 3, 20, 2, 1, False\n",
      "476ème itérateur: 70, 2, 5, 70, 16, False\n"
     ]
    },
    {
     "name": "stderr",
     "output_type": "stream",
     "text": [
      "[Parallel(n_jobs=6)]: Done  38 tasks      | elapsed:    1.1s\n",
      "[Parallel(n_jobs=6)]: Done  70 out of  70 | elapsed:    1.9s finished\n",
      "[Parallel(n_jobs=6)]: Using backend ThreadingBackend with 6 concurrent workers.\n",
      "[Parallel(n_jobs=6)]: Done  38 tasks      | elapsed:    0.0s\n",
      "[Parallel(n_jobs=6)]: Done  70 out of  70 | elapsed:    0.0s finished\n",
      "[Parallel(n_jobs=6)]: Using backend ThreadingBackend with 6 concurrent workers.\n"
     ]
    },
    {
     "name": "stdout",
     "output_type": "stream",
     "text": [
      "Test accuracy = 95.30%. "
     ]
    },
    {
     "name": "stderr",
     "output_type": "stream",
     "text": [
      "[Parallel(n_jobs=6)]: Done  38 tasks      | elapsed:    0.1s\n",
      "[Parallel(n_jobs=6)]: Done  70 out of  70 | elapsed:    0.2s finished\n",
      "[Parallel(n_jobs=6)]: Using backend ThreadingBackend with 6 concurrent workers.\n"
     ]
    },
    {
     "name": "stdout",
     "output_type": "stream",
     "text": [
      "Train accuracy = 95.33%.\n",
      "Best accuracy reached so far: 97.02418022799274 for params: 50, 3, 20, 2, 1, False\n",
      "477ème itérateur: 70, 2, 17, 30, 64, True\n"
     ]
    },
    {
     "name": "stderr",
     "output_type": "stream",
     "text": [
      "[Parallel(n_jobs=6)]: Done  38 tasks      | elapsed:    1.7s\n",
      "[Parallel(n_jobs=6)]: Done  70 out of  70 | elapsed:    2.9s finished\n",
      "[Parallel(n_jobs=6)]: Using backend ThreadingBackend with 6 concurrent workers.\n",
      "[Parallel(n_jobs=6)]: Done  38 tasks      | elapsed:    0.0s\n",
      "[Parallel(n_jobs=6)]: Done  70 out of  70 | elapsed:    0.1s finished\n",
      "[Parallel(n_jobs=6)]: Using backend ThreadingBackend with 6 concurrent workers.\n"
     ]
    },
    {
     "name": "stdout",
     "output_type": "stream",
     "text": [
      "Test accuracy = 96.50%. "
     ]
    },
    {
     "name": "stderr",
     "output_type": "stream",
     "text": [
      "[Parallel(n_jobs=6)]: Done  38 tasks      | elapsed:    0.2s\n",
      "[Parallel(n_jobs=6)]: Done  70 out of  70 | elapsed:    0.3s finished\n",
      "[Parallel(n_jobs=6)]: Using backend ThreadingBackend with 6 concurrent workers.\n"
     ]
    },
    {
     "name": "stdout",
     "output_type": "stream",
     "text": [
      "Train accuracy = 96.61%.\n",
      "Best accuracy reached so far: 97.02418022799274 for params: 50, 3, 20, 2, 1, False\n",
      "478ème itérateur: 70, 2, 20, 5, 1, False\n"
     ]
    },
    {
     "name": "stderr",
     "output_type": "stream",
     "text": [
      "[Parallel(n_jobs=6)]: Done  38 tasks      | elapsed:    2.1s\n",
      "[Parallel(n_jobs=6)]: Done  70 out of  70 | elapsed:    3.6s finished\n",
      "[Parallel(n_jobs=6)]: Using backend ThreadingBackend with 6 concurrent workers.\n",
      "[Parallel(n_jobs=6)]: Done  38 tasks      | elapsed:    0.0s\n",
      "[Parallel(n_jobs=6)]: Done  70 out of  70 | elapsed:    0.1s finished\n",
      "[Parallel(n_jobs=6)]: Using backend ThreadingBackend with 6 concurrent workers.\n"
     ]
    },
    {
     "name": "stdout",
     "output_type": "stream",
     "text": [
      "Test accuracy = 96.97%. "
     ]
    },
    {
     "name": "stderr",
     "output_type": "stream",
     "text": [
      "[Parallel(n_jobs=6)]: Done  38 tasks      | elapsed:    0.2s\n",
      "[Parallel(n_jobs=6)]: Done  70 out of  70 | elapsed:    0.3s finished\n",
      "[Parallel(n_jobs=6)]: Using backend ThreadingBackend with 6 concurrent workers.\n"
     ]
    },
    {
     "name": "stdout",
     "output_type": "stream",
     "text": [
      "Train accuracy = 99.06%.\n",
      "Best accuracy reached so far: 97.02418022799274 for params: 50, 3, 20, 2, 1, False\n",
      "479ème itérateur: 70, 2, 20, 60, 4, True\n"
     ]
    },
    {
     "name": "stderr",
     "output_type": "stream",
     "text": [
      "[Parallel(n_jobs=6)]: Done  38 tasks      | elapsed:    1.9s\n",
      "[Parallel(n_jobs=6)]: Done  70 out of  70 | elapsed:    3.1s finished\n",
      "[Parallel(n_jobs=6)]: Using backend ThreadingBackend with 6 concurrent workers.\n",
      "[Parallel(n_jobs=6)]: Done  38 tasks      | elapsed:    0.0s\n",
      "[Parallel(n_jobs=6)]: Done  70 out of  70 | elapsed:    0.1s finished\n",
      "[Parallel(n_jobs=6)]: Using backend ThreadingBackend with 6 concurrent workers.\n"
     ]
    },
    {
     "name": "stdout",
     "output_type": "stream",
     "text": [
      "Test accuracy = 96.80%. "
     ]
    },
    {
     "name": "stderr",
     "output_type": "stream",
     "text": [
      "[Parallel(n_jobs=6)]: Done  38 tasks      | elapsed:    0.2s\n",
      "[Parallel(n_jobs=6)]: Done  70 out of  70 | elapsed:    0.3s finished\n",
      "[Parallel(n_jobs=6)]: Using backend ThreadingBackend with 6 concurrent workers.\n"
     ]
    },
    {
     "name": "stdout",
     "output_type": "stream",
     "text": [
      "Train accuracy = 97.21%.\n",
      "Best accuracy reached so far: 97.02418022799274 for params: 50, 3, 20, 2, 1, False\n",
      "480ème itérateur: 70, 2, 25, 70, 1, False\n"
     ]
    },
    {
     "name": "stderr",
     "output_type": "stream",
     "text": [
      "[Parallel(n_jobs=6)]: Done  38 tasks      | elapsed:    2.7s\n",
      "[Parallel(n_jobs=6)]: Done  70 out of  70 | elapsed:    4.6s finished\n",
      "[Parallel(n_jobs=6)]: Using backend ThreadingBackend with 6 concurrent workers.\n",
      "[Parallel(n_jobs=6)]: Done  38 tasks      | elapsed:    0.0s\n",
      "[Parallel(n_jobs=6)]: Done  70 out of  70 | elapsed:    0.1s finished\n",
      "[Parallel(n_jobs=6)]: Using backend ThreadingBackend with 6 concurrent workers.\n"
     ]
    },
    {
     "name": "stdout",
     "output_type": "stream",
     "text": [
      "Test accuracy = 96.87%. "
     ]
    },
    {
     "name": "stderr",
     "output_type": "stream",
     "text": [
      "[Parallel(n_jobs=6)]: Done  38 tasks      | elapsed:    0.2s\n",
      "[Parallel(n_jobs=6)]: Done  70 out of  70 | elapsed:    0.3s finished\n"
     ]
    },
    {
     "name": "stdout",
     "output_type": "stream",
     "text": [
      "Train accuracy = 97.62%.\n",
      "Best accuracy reached so far: 97.02418022799274 for params: 50, 3, 20, 2, 1, False\n",
      "481ème itérateur: 70, 3, 1, 20, 1, True\n"
     ]
    },
    {
     "name": "stderr",
     "output_type": "stream",
     "text": [
      "[Parallel(n_jobs=6)]: Using backend ThreadingBackend with 6 concurrent workers.\n",
      "[Parallel(n_jobs=6)]: Done  38 tasks      | elapsed:    0.6s\n",
      "[Parallel(n_jobs=6)]: Done  70 out of  70 | elapsed:    0.9s finished\n",
      "[Parallel(n_jobs=6)]: Using backend ThreadingBackend with 6 concurrent workers.\n",
      "[Parallel(n_jobs=6)]: Done  38 tasks      | elapsed:    0.0s\n",
      "[Parallel(n_jobs=6)]: Done  70 out of  70 | elapsed:    0.1s finished\n",
      "[Parallel(n_jobs=6)]: Using backend ThreadingBackend with 6 concurrent workers.\n"
     ]
    },
    {
     "name": "stdout",
     "output_type": "stream",
     "text": [
      "Test accuracy = 93.21%. "
     ]
    },
    {
     "name": "stderr",
     "output_type": "stream",
     "text": [
      "[Parallel(n_jobs=6)]: Done  38 tasks      | elapsed:    0.1s\n",
      "[Parallel(n_jobs=6)]: Done  70 out of  70 | elapsed:    0.2s finished\n",
      "[Parallel(n_jobs=6)]: Using backend ThreadingBackend with 6 concurrent workers.\n"
     ]
    },
    {
     "name": "stdout",
     "output_type": "stream",
     "text": [
      "Train accuracy = 93.19%.\n",
      "Best accuracy reached so far: 97.02418022799274 for params: 50, 3, 20, 2, 1, False\n",
      "482ème itérateur: 70, 3, 1, 70, 8, False\n"
     ]
    },
    {
     "name": "stderr",
     "output_type": "stream",
     "text": [
      "[Parallel(n_jobs=6)]: Done  38 tasks      | elapsed:    0.4s\n",
      "[Parallel(n_jobs=6)]: Done  70 out of  70 | elapsed:    0.6s finished\n",
      "[Parallel(n_jobs=6)]: Using backend ThreadingBackend with 6 concurrent workers.\n",
      "[Parallel(n_jobs=6)]: Done  38 tasks      | elapsed:    0.0s\n",
      "[Parallel(n_jobs=6)]: Done  70 out of  70 | elapsed:    0.0s finished\n"
     ]
    },
    {
     "name": "stdout",
     "output_type": "stream",
     "text": [
      "Test accuracy = 93.21%. "
     ]
    },
    {
     "name": "stderr",
     "output_type": "stream",
     "text": [
      "[Parallel(n_jobs=6)]: Using backend ThreadingBackend with 6 concurrent workers.\n",
      "[Parallel(n_jobs=6)]: Done  38 tasks      | elapsed:    0.1s\n",
      "[Parallel(n_jobs=6)]: Done  70 out of  70 | elapsed:    0.2s finished\n"
     ]
    },
    {
     "name": "stdout",
     "output_type": "stream",
     "text": [
      "Train accuracy = 93.18%.\n",
      "Best accuracy reached so far: 97.02418022799274 for params: 50, 3, 20, 2, 1, False\n",
      "483ème itérateur: 70, 3, 2, 70, 16, False\n"
     ]
    },
    {
     "name": "stderr",
     "output_type": "stream",
     "text": [
      "[Parallel(n_jobs=6)]: Using backend ThreadingBackend with 6 concurrent workers.\n",
      "[Parallel(n_jobs=6)]: Done  38 tasks      | elapsed:    0.8s\n",
      "[Parallel(n_jobs=6)]: Done  70 out of  70 | elapsed:    1.3s finished\n",
      "[Parallel(n_jobs=6)]: Using backend ThreadingBackend with 6 concurrent workers.\n",
      "[Parallel(n_jobs=6)]: Done  38 tasks      | elapsed:    0.0s\n",
      "[Parallel(n_jobs=6)]: Done  70 out of  70 | elapsed:    0.0s finished\n",
      "[Parallel(n_jobs=6)]: Using backend ThreadingBackend with 6 concurrent workers.\n"
     ]
    },
    {
     "name": "stdout",
     "output_type": "stream",
     "text": [
      "Test accuracy = 94.01%. "
     ]
    },
    {
     "name": "stderr",
     "output_type": "stream",
     "text": [
      "[Parallel(n_jobs=6)]: Done  38 tasks      | elapsed:    0.1s\n",
      "[Parallel(n_jobs=6)]: Done  70 out of  70 | elapsed:    0.1s finished\n",
      "[Parallel(n_jobs=6)]: Using backend ThreadingBackend with 6 concurrent workers.\n"
     ]
    },
    {
     "name": "stdout",
     "output_type": "stream",
     "text": [
      "Train accuracy = 93.92%.\n",
      "Best accuracy reached so far: 97.02418022799274 for params: 50, 3, 20, 2, 1, False\n",
      "484ème itérateur: 70, 3, 3, 2, 2, True\n"
     ]
    },
    {
     "name": "stderr",
     "output_type": "stream",
     "text": [
      "[Parallel(n_jobs=6)]: Done  38 tasks      | elapsed:    0.8s\n",
      "[Parallel(n_jobs=6)]: Done  70 out of  70 | elapsed:    1.3s finished\n",
      "[Parallel(n_jobs=6)]: Using backend ThreadingBackend with 6 concurrent workers.\n",
      "[Parallel(n_jobs=6)]: Done  38 tasks      | elapsed:    0.0s\n",
      "[Parallel(n_jobs=6)]: Done  70 out of  70 | elapsed:    0.0s finished\n",
      "[Parallel(n_jobs=6)]: Using backend ThreadingBackend with 6 concurrent workers.\n"
     ]
    },
    {
     "name": "stdout",
     "output_type": "stream",
     "text": [
      "Test accuracy = 94.47%. "
     ]
    },
    {
     "name": "stderr",
     "output_type": "stream",
     "text": [
      "[Parallel(n_jobs=6)]: Done  38 tasks      | elapsed:    0.1s\n",
      "[Parallel(n_jobs=6)]: Done  70 out of  70 | elapsed:    0.1s finished\n",
      "[Parallel(n_jobs=6)]: Using backend ThreadingBackend with 6 concurrent workers.\n"
     ]
    },
    {
     "name": "stdout",
     "output_type": "stream",
     "text": [
      "Train accuracy = 94.40%.\n",
      "Best accuracy reached so far: 97.02418022799274 for params: 50, 3, 20, 2, 1, False\n",
      "485ème itérateur: 70, 3, 3, 60, 32, True\n"
     ]
    },
    {
     "name": "stderr",
     "output_type": "stream",
     "text": [
      "[Parallel(n_jobs=6)]: Done  38 tasks      | elapsed:    0.8s\n",
      "[Parallel(n_jobs=6)]: Done  70 out of  70 | elapsed:    1.3s finished\n",
      "[Parallel(n_jobs=6)]: Using backend ThreadingBackend with 6 concurrent workers.\n",
      "[Parallel(n_jobs=6)]: Done  38 tasks      | elapsed:    0.0s\n",
      "[Parallel(n_jobs=6)]: Done  70 out of  70 | elapsed:    0.0s finished\n",
      "[Parallel(n_jobs=6)]: Using backend ThreadingBackend with 6 concurrent workers.\n",
      "[Parallel(n_jobs=6)]: Done  38 tasks      | elapsed:    0.1s\n"
     ]
    },
    {
     "name": "stdout",
     "output_type": "stream",
     "text": [
      "Test accuracy = 94.45%. "
     ]
    },
    {
     "name": "stderr",
     "output_type": "stream",
     "text": [
      "[Parallel(n_jobs=6)]: Done  70 out of  70 | elapsed:    0.1s finished\n",
      "[Parallel(n_jobs=6)]: Using backend ThreadingBackend with 6 concurrent workers.\n"
     ]
    },
    {
     "name": "stdout",
     "output_type": "stream",
     "text": [
      "Train accuracy = 94.39%.\n",
      "Best accuracy reached so far: 97.02418022799274 for params: 50, 3, 20, 2, 1, False\n",
      "486ème itérateur: 70, 3, 4, 30, 4, True\n"
     ]
    },
    {
     "name": "stderr",
     "output_type": "stream",
     "text": [
      "[Parallel(n_jobs=6)]: Done  38 tasks      | elapsed:    0.9s\n",
      "[Parallel(n_jobs=6)]: Done  70 out of  70 | elapsed:    1.6s finished\n",
      "[Parallel(n_jobs=6)]: Using backend ThreadingBackend with 6 concurrent workers.\n",
      "[Parallel(n_jobs=6)]: Done  38 tasks      | elapsed:    0.0s\n",
      "[Parallel(n_jobs=6)]: Done  70 out of  70 | elapsed:    0.0s finished\n",
      "[Parallel(n_jobs=6)]: Using backend ThreadingBackend with 6 concurrent workers.\n"
     ]
    },
    {
     "name": "stdout",
     "output_type": "stream",
     "text": [
      "Test accuracy = 95.18%. "
     ]
    },
    {
     "name": "stderr",
     "output_type": "stream",
     "text": [
      "[Parallel(n_jobs=6)]: Done  38 tasks      | elapsed:    0.1s\n",
      "[Parallel(n_jobs=6)]: Done  70 out of  70 | elapsed:    0.1s finished\n",
      "[Parallel(n_jobs=6)]: Using backend ThreadingBackend with 6 concurrent workers.\n"
     ]
    },
    {
     "name": "stdout",
     "output_type": "stream",
     "text": [
      "Train accuracy = 95.18%.\n",
      "Best accuracy reached so far: 97.02418022799274 for params: 50, 3, 20, 2, 1, False\n",
      "487ème itérateur: 70, 3, 4, 70, 4, True\n"
     ]
    },
    {
     "name": "stderr",
     "output_type": "stream",
     "text": [
      "[Parallel(n_jobs=6)]: Done  38 tasks      | elapsed:    0.9s\n",
      "[Parallel(n_jobs=6)]: Done  70 out of  70 | elapsed:    1.8s finished\n",
      "[Parallel(n_jobs=6)]: Using backend ThreadingBackend with 6 concurrent workers.\n",
      "[Parallel(n_jobs=6)]: Done  38 tasks      | elapsed:    0.0s\n",
      "[Parallel(n_jobs=6)]: Done  70 out of  70 | elapsed:    0.1s finished\n",
      "[Parallel(n_jobs=6)]: Using backend ThreadingBackend with 6 concurrent workers.\n"
     ]
    },
    {
     "name": "stdout",
     "output_type": "stream",
     "text": [
      "Test accuracy = 95.17%. "
     ]
    },
    {
     "name": "stderr",
     "output_type": "stream",
     "text": [
      "[Parallel(n_jobs=6)]: Done  38 tasks      | elapsed:    0.1s\n",
      "[Parallel(n_jobs=6)]: Done  70 out of  70 | elapsed:    0.1s finished\n",
      "[Parallel(n_jobs=6)]: Using backend ThreadingBackend with 6 concurrent workers.\n"
     ]
    },
    {
     "name": "stdout",
     "output_type": "stream",
     "text": [
      "Train accuracy = 95.18%.\n",
      "Best accuracy reached so far: 97.02418022799274 for params: 50, 3, 20, 2, 1, False\n",
      "488ème itérateur: 70, 3, 10, 50, 4, True\n"
     ]
    },
    {
     "name": "stderr",
     "output_type": "stream",
     "text": [
      "[Parallel(n_jobs=6)]: Done  38 tasks      | elapsed:    2.1s\n",
      "[Parallel(n_jobs=6)]: Done  70 out of  70 | elapsed:    3.4s finished\n",
      "[Parallel(n_jobs=6)]: Using backend ThreadingBackend with 6 concurrent workers.\n",
      "[Parallel(n_jobs=6)]: Done  38 tasks      | elapsed:    0.0s\n",
      "[Parallel(n_jobs=6)]: Done  70 out of  70 | elapsed:    0.1s finished\n",
      "[Parallel(n_jobs=6)]: Using backend ThreadingBackend with 6 concurrent workers.\n"
     ]
    },
    {
     "name": "stdout",
     "output_type": "stream",
     "text": [
      "Test accuracy = 96.55%. "
     ]
    },
    {
     "name": "stderr",
     "output_type": "stream",
     "text": [
      "[Parallel(n_jobs=6)]: Done  38 tasks      | elapsed:    0.1s\n",
      "[Parallel(n_jobs=6)]: Done  70 out of  70 | elapsed:    0.2s finished\n",
      "[Parallel(n_jobs=6)]: Using backend ThreadingBackend with 6 concurrent workers.\n"
     ]
    },
    {
     "name": "stdout",
     "output_type": "stream",
     "text": [
      "Train accuracy = 96.71%.\n",
      "Best accuracy reached so far: 97.02418022799274 for params: 50, 3, 20, 2, 1, False\n",
      "489ème itérateur: 70, 3, 20, 60, 128, True\n"
     ]
    },
    {
     "name": "stderr",
     "output_type": "stream",
     "text": [
      "[Parallel(n_jobs=6)]: Done  38 tasks      | elapsed:    1.9s\n",
      "[Parallel(n_jobs=6)]: Done  70 out of  70 | elapsed:    3.4s finished\n",
      "[Parallel(n_jobs=6)]: Using backend ThreadingBackend with 6 concurrent workers.\n",
      "[Parallel(n_jobs=6)]: Done  38 tasks      | elapsed:    0.0s\n",
      "[Parallel(n_jobs=6)]: Done  70 out of  70 | elapsed:    0.0s finished\n",
      "[Parallel(n_jobs=6)]: Using backend ThreadingBackend with 6 concurrent workers.\n"
     ]
    },
    {
     "name": "stdout",
     "output_type": "stream",
     "text": [
      "Test accuracy = 96.43%. "
     ]
    },
    {
     "name": "stderr",
     "output_type": "stream",
     "text": [
      "[Parallel(n_jobs=6)]: Done  38 tasks      | elapsed:    0.1s\n",
      "[Parallel(n_jobs=6)]: Done  70 out of  70 | elapsed:    0.2s finished\n",
      "[Parallel(n_jobs=6)]: Using backend ThreadingBackend with 6 concurrent workers.\n"
     ]
    },
    {
     "name": "stdout",
     "output_type": "stream",
     "text": [
      "Train accuracy = 96.54%.\n",
      "Best accuracy reached so far: 97.02418022799274 for params: 50, 3, 20, 2, 1, False\n",
      "490ème itérateur: 70, 3, 25, 70, 64, False\n"
     ]
    },
    {
     "name": "stderr",
     "output_type": "stream",
     "text": [
      "[Parallel(n_jobs=6)]: Done  38 tasks      | elapsed:    2.8s\n",
      "[Parallel(n_jobs=6)]: Done  70 out of  70 | elapsed:    4.7s finished\n",
      "[Parallel(n_jobs=6)]: Using backend ThreadingBackend with 6 concurrent workers.\n",
      "[Parallel(n_jobs=6)]: Done  38 tasks      | elapsed:    0.0s\n",
      "[Parallel(n_jobs=6)]: Done  70 out of  70 | elapsed:    0.1s finished\n",
      "[Parallel(n_jobs=6)]: Using backend ThreadingBackend with 6 concurrent workers.\n"
     ]
    },
    {
     "name": "stdout",
     "output_type": "stream",
     "text": [
      "Test accuracy = 96.74%. "
     ]
    },
    {
     "name": "stderr",
     "output_type": "stream",
     "text": [
      "[Parallel(n_jobs=6)]: Done  38 tasks      | elapsed:    0.1s\n",
      "[Parallel(n_jobs=6)]: Done  70 out of  70 | elapsed:    0.2s finished\n"
     ]
    },
    {
     "name": "stdout",
     "output_type": "stream",
     "text": [
      "Train accuracy = 96.95%.\n",
      "Best accuracy reached so far: 97.02418022799274 for params: 50, 3, 20, 2, 1, False\n",
      "491ème itérateur: 70, 8, 2, 2, 8, True\n"
     ]
    },
    {
     "name": "stderr",
     "output_type": "stream",
     "text": [
      "[Parallel(n_jobs=6)]: Using backend ThreadingBackend with 6 concurrent workers.\n",
      "[Parallel(n_jobs=6)]: Done  38 tasks      | elapsed:    1.1s\n",
      "[Parallel(n_jobs=6)]: Done  70 out of  70 | elapsed:    1.8s finished\n",
      "[Parallel(n_jobs=6)]: Using backend ThreadingBackend with 6 concurrent workers.\n",
      "[Parallel(n_jobs=6)]: Done  38 tasks      | elapsed:    0.0s\n",
      "[Parallel(n_jobs=6)]: Done  70 out of  70 | elapsed:    0.0s finished\n",
      "[Parallel(n_jobs=6)]: Using backend ThreadingBackend with 6 concurrent workers.\n"
     ]
    },
    {
     "name": "stdout",
     "output_type": "stream",
     "text": [
      "Test accuracy = 94.32%. "
     ]
    },
    {
     "name": "stderr",
     "output_type": "stream",
     "text": [
      "[Parallel(n_jobs=6)]: Done  38 tasks      | elapsed:    0.1s\n",
      "[Parallel(n_jobs=6)]: Done  70 out of  70 | elapsed:    0.1s finished\n",
      "[Parallel(n_jobs=6)]: Using backend ThreadingBackend with 6 concurrent workers.\n"
     ]
    },
    {
     "name": "stdout",
     "output_type": "stream",
     "text": [
      "Train accuracy = 94.30%.\n",
      "Best accuracy reached so far: 97.02418022799274 for params: 50, 3, 20, 2, 1, False\n",
      "492ème itérateur: 70, 8, 3, 50, 1, True\n"
     ]
    },
    {
     "name": "stderr",
     "output_type": "stream",
     "text": [
      "[Parallel(n_jobs=6)]: Done  38 tasks      | elapsed:    1.6s\n",
      "[Parallel(n_jobs=6)]: Done  70 out of  70 | elapsed:    2.7s finished\n",
      "[Parallel(n_jobs=6)]: Using backend ThreadingBackend with 6 concurrent workers.\n",
      "[Parallel(n_jobs=6)]: Done  38 tasks      | elapsed:    0.0s\n",
      "[Parallel(n_jobs=6)]: Done  70 out of  70 | elapsed:    0.0s finished\n",
      "[Parallel(n_jobs=6)]: Using backend ThreadingBackend with 6 concurrent workers.\n"
     ]
    },
    {
     "name": "stdout",
     "output_type": "stream",
     "text": [
      "Test accuracy = 95.08%. "
     ]
    },
    {
     "name": "stderr",
     "output_type": "stream",
     "text": [
      "[Parallel(n_jobs=6)]: Done  38 tasks      | elapsed:    0.1s\n",
      "[Parallel(n_jobs=6)]: Done  70 out of  70 | elapsed:    0.2s finished\n",
      "[Parallel(n_jobs=6)]: Using backend ThreadingBackend with 6 concurrent workers.\n"
     ]
    },
    {
     "name": "stdout",
     "output_type": "stream",
     "text": [
      "Train accuracy = 95.05%.\n",
      "Best accuracy reached so far: 97.02418022799274 for params: 50, 3, 20, 2, 1, False\n",
      "493ème itérateur: 70, 8, 3, 70, 32, True\n"
     ]
    },
    {
     "name": "stderr",
     "output_type": "stream",
     "text": [
      "[Parallel(n_jobs=6)]: Done  38 tasks      | elapsed:    1.7s\n",
      "[Parallel(n_jobs=6)]: Done  70 out of  70 | elapsed:    2.8s finished\n",
      "[Parallel(n_jobs=6)]: Using backend ThreadingBackend with 6 concurrent workers.\n",
      "[Parallel(n_jobs=6)]: Done  38 tasks      | elapsed:    0.0s\n",
      "[Parallel(n_jobs=6)]: Done  70 out of  70 | elapsed:    0.0s finished\n",
      "[Parallel(n_jobs=6)]: Using backend ThreadingBackend with 6 concurrent workers.\n"
     ]
    },
    {
     "name": "stdout",
     "output_type": "stream",
     "text": [
      "Test accuracy = 95.08%. "
     ]
    },
    {
     "name": "stderr",
     "output_type": "stream",
     "text": [
      "[Parallel(n_jobs=6)]: Done  38 tasks      | elapsed:    0.1s\n",
      "[Parallel(n_jobs=6)]: Done  70 out of  70 | elapsed:    0.2s finished\n",
      "[Parallel(n_jobs=6)]: Using backend ThreadingBackend with 6 concurrent workers.\n"
     ]
    },
    {
     "name": "stdout",
     "output_type": "stream",
     "text": [
      "Train accuracy = 95.05%.\n",
      "Best accuracy reached so far: 97.02418022799274 for params: 50, 3, 20, 2, 1, False\n",
      "494ème itérateur: 70, 8, 5, 30, 32, True\n"
     ]
    },
    {
     "name": "stderr",
     "output_type": "stream",
     "text": [
      "[Parallel(n_jobs=6)]: Done  38 tasks      | elapsed:    2.4s\n",
      "[Parallel(n_jobs=6)]: Done  70 out of  70 | elapsed:    4.0s finished\n",
      "[Parallel(n_jobs=6)]: Using backend ThreadingBackend with 6 concurrent workers.\n",
      "[Parallel(n_jobs=6)]: Done  38 tasks      | elapsed:    0.0s\n",
      "[Parallel(n_jobs=6)]: Done  70 out of  70 | elapsed:    0.0s finished\n",
      "[Parallel(n_jobs=6)]: Using backend ThreadingBackend with 6 concurrent workers.\n"
     ]
    },
    {
     "name": "stdout",
     "output_type": "stream",
     "text": [
      "Test accuracy = 96.28%. "
     ]
    },
    {
     "name": "stderr",
     "output_type": "stream",
     "text": [
      "[Parallel(n_jobs=6)]: Done  38 tasks      | elapsed:    0.1s\n",
      "[Parallel(n_jobs=6)]: Done  70 out of  70 | elapsed:    0.1s finished\n",
      "[Parallel(n_jobs=6)]: Using backend ThreadingBackend with 6 concurrent workers.\n"
     ]
    },
    {
     "name": "stdout",
     "output_type": "stream",
     "text": [
      "Train accuracy = 96.19%.\n",
      "Best accuracy reached so far: 97.02418022799274 for params: 50, 3, 20, 2, 1, False\n",
      "495ème itérateur: 70, 8, 5, 30, 64, False\n"
     ]
    },
    {
     "name": "stderr",
     "output_type": "stream",
     "text": [
      "[Parallel(n_jobs=6)]: Done  38 tasks      | elapsed:    3.2s\n",
      "[Parallel(n_jobs=6)]: Done  70 out of  70 | elapsed:    5.5s finished\n",
      "[Parallel(n_jobs=6)]: Using backend ThreadingBackend with 6 concurrent workers.\n",
      "[Parallel(n_jobs=6)]: Done  38 tasks      | elapsed:    0.0s\n",
      "[Parallel(n_jobs=6)]: Done  70 out of  70 | elapsed:    0.0s finished\n",
      "[Parallel(n_jobs=6)]: Using backend ThreadingBackend with 6 concurrent workers.\n"
     ]
    },
    {
     "name": "stdout",
     "output_type": "stream",
     "text": [
      "Test accuracy = 96.23%. "
     ]
    },
    {
     "name": "stderr",
     "output_type": "stream",
     "text": [
      "[Parallel(n_jobs=6)]: Done  38 tasks      | elapsed:    0.1s\n",
      "[Parallel(n_jobs=6)]: Done  70 out of  70 | elapsed:    0.2s finished\n",
      "[Parallel(n_jobs=6)]: Using backend ThreadingBackend with 6 concurrent workers.\n"
     ]
    },
    {
     "name": "stdout",
     "output_type": "stream",
     "text": [
      "Train accuracy = 96.18%.\n",
      "Best accuracy reached so far: 97.02418022799274 for params: 50, 3, 20, 2, 1, False\n",
      "496ème itérateur: 70, 8, 10, 20, 128, True\n"
     ]
    },
    {
     "name": "stderr",
     "output_type": "stream",
     "text": [
      "[Parallel(n_jobs=6)]: Done  38 tasks      | elapsed:    3.7s\n",
      "[Parallel(n_jobs=6)]: Done  70 out of  70 | elapsed:    6.4s finished\n",
      "[Parallel(n_jobs=6)]: Using backend ThreadingBackend with 6 concurrent workers.\n",
      "[Parallel(n_jobs=6)]: Done  38 tasks      | elapsed:    0.0s\n",
      "[Parallel(n_jobs=6)]: Done  70 out of  70 | elapsed:    0.0s finished\n",
      "[Parallel(n_jobs=6)]: Using backend ThreadingBackend with 6 concurrent workers.\n"
     ]
    },
    {
     "name": "stdout",
     "output_type": "stream",
     "text": [
      "Test accuracy = 96.63%. "
     ]
    },
    {
     "name": "stderr",
     "output_type": "stream",
     "text": [
      "[Parallel(n_jobs=6)]: Done  38 tasks      | elapsed:    0.1s\n",
      "[Parallel(n_jobs=6)]: Done  70 out of  70 | elapsed:    0.2s finished\n",
      "[Parallel(n_jobs=6)]: Using backend ThreadingBackend with 6 concurrent workers.\n"
     ]
    },
    {
     "name": "stdout",
     "output_type": "stream",
     "text": [
      "Train accuracy = 96.64%.\n",
      "Best accuracy reached so far: 97.02418022799274 for params: 50, 3, 20, 2, 1, False\n",
      "497ème itérateur: 70, 8, 13, 5, 8, False\n"
     ]
    },
    {
     "name": "stderr",
     "output_type": "stream",
     "text": [
      "[Parallel(n_jobs=6)]: Done  38 tasks      | elapsed:    6.1s\n",
      "[Parallel(n_jobs=6)]: Done  70 out of  70 | elapsed:   10.2s finished\n",
      "[Parallel(n_jobs=6)]: Using backend ThreadingBackend with 6 concurrent workers.\n",
      "[Parallel(n_jobs=6)]: Done  38 tasks      | elapsed:    0.0s\n",
      "[Parallel(n_jobs=6)]: Done  70 out of  70 | elapsed:    0.0s finished\n"
     ]
    },
    {
     "name": "stdout",
     "output_type": "stream",
     "text": [
      "Test accuracy = 96.93%. "
     ]
    },
    {
     "name": "stderr",
     "output_type": "stream",
     "text": [
      "[Parallel(n_jobs=6)]: Using backend ThreadingBackend with 6 concurrent workers.\n",
      "[Parallel(n_jobs=6)]: Done  38 tasks      | elapsed:    0.1s\n",
      "[Parallel(n_jobs=6)]: Done  70 out of  70 | elapsed:    0.2s finished\n"
     ]
    },
    {
     "name": "stdout",
     "output_type": "stream",
     "text": [
      "Train accuracy = 97.67%.\n",
      "Best accuracy reached so far: 97.02418022799274 for params: 50, 3, 20, 2, 1, False\n",
      "498ème itérateur: 70, 8, None, 30, 128, True\n"
     ]
    },
    {
     "name": "stderr",
     "output_type": "stream",
     "text": [
      "[Parallel(n_jobs=6)]: Using backend ThreadingBackend with 6 concurrent workers.\n",
      "[Parallel(n_jobs=6)]: Done  38 tasks      | elapsed:    4.7s\n",
      "[Parallel(n_jobs=6)]: Done  70 out of  70 | elapsed:    8.1s finished\n",
      "[Parallel(n_jobs=6)]: Using backend ThreadingBackend with 6 concurrent workers.\n",
      "[Parallel(n_jobs=6)]: Done  38 tasks      | elapsed:    0.0s\n",
      "[Parallel(n_jobs=6)]: Done  70 out of  70 | elapsed:    0.1s finished\n",
      "[Parallel(n_jobs=6)]: Using backend ThreadingBackend with 6 concurrent workers.\n"
     ]
    },
    {
     "name": "stdout",
     "output_type": "stream",
     "text": [
      "Test accuracy = 96.67%. "
     ]
    },
    {
     "name": "stderr",
     "output_type": "stream",
     "text": [
      "[Parallel(n_jobs=6)]: Done  38 tasks      | elapsed:    0.1s\n",
      "[Parallel(n_jobs=6)]: Done  70 out of  70 | elapsed:    0.2s finished\n"
     ]
    },
    {
     "name": "stdout",
     "output_type": "stream",
     "text": [
      "Train accuracy = 96.65%.\n",
      "Best accuracy reached so far: 97.02418022799274 for params: 50, 3, 20, 2, 1, False\n",
      "499ème itérateur: 70, 8, None, 70, 32, False\n"
     ]
    },
    {
     "name": "stderr",
     "output_type": "stream",
     "text": [
      "[Parallel(n_jobs=6)]: Using backend ThreadingBackend with 6 concurrent workers.\n",
      "[Parallel(n_jobs=6)]: Done  38 tasks      | elapsed:    7.9s\n",
      "[Parallel(n_jobs=6)]: Done  70 out of  70 | elapsed:   13.9s finished\n",
      "[Parallel(n_jobs=6)]: Using backend ThreadingBackend with 6 concurrent workers.\n",
      "[Parallel(n_jobs=6)]: Done  38 tasks      | elapsed:    0.0s\n",
      "[Parallel(n_jobs=6)]: Done  70 out of  70 | elapsed:    0.1s finished\n",
      "[Parallel(n_jobs=6)]: Using backend ThreadingBackend with 6 concurrent workers.\n"
     ]
    },
    {
     "name": "stdout",
     "output_type": "stream",
     "text": [
      "Test accuracy = 96.86%. "
     ]
    },
    {
     "name": "stderr",
     "output_type": "stream",
     "text": [
      "[Parallel(n_jobs=6)]: Done  38 tasks      | elapsed:    0.2s\n",
      "[Parallel(n_jobs=6)]: Done  70 out of  70 | elapsed:    0.3s finished\n"
     ]
    },
    {
     "name": "stdout",
     "output_type": "stream",
     "text": [
      "Train accuracy = 97.30%.\n",
      "Best accuracy reached so far: 97.02418022799274 for params: 50, 3, 20, 2, 1, False\n",
      "500ème itérateur: 70, sqrt, 1, 5, 8, False\n"
     ]
    },
    {
     "name": "stderr",
     "output_type": "stream",
     "text": [
      "[Parallel(n_jobs=6)]: Using backend ThreadingBackend with 6 concurrent workers.\n",
      "[Parallel(n_jobs=6)]: Done  38 tasks      | elapsed:    0.5s\n",
      "[Parallel(n_jobs=6)]: Done  70 out of  70 | elapsed:    1.0s finished\n",
      "[Parallel(n_jobs=6)]: Using backend ThreadingBackend with 6 concurrent workers.\n",
      "[Parallel(n_jobs=6)]: Done  38 tasks      | elapsed:    0.0s\n",
      "[Parallel(n_jobs=6)]: Done  70 out of  70 | elapsed:    0.0s finished\n",
      "[Parallel(n_jobs=6)]: Using backend ThreadingBackend with 6 concurrent workers.\n"
     ]
    },
    {
     "name": "stdout",
     "output_type": "stream",
     "text": [
      "Test accuracy = 93.45%. "
     ]
    },
    {
     "name": "stderr",
     "output_type": "stream",
     "text": [
      "[Parallel(n_jobs=6)]: Done  38 tasks      | elapsed:    0.1s\n",
      "[Parallel(n_jobs=6)]: Done  70 out of  70 | elapsed:    0.1s finished\n",
      "[Parallel(n_jobs=6)]: Using backend ThreadingBackend with 6 concurrent workers.\n"
     ]
    },
    {
     "name": "stdout",
     "output_type": "stream",
     "text": [
      "Train accuracy = 93.45%.\n",
      "Best accuracy reached so far: 97.02418022799274 for params: 50, 3, 20, 2, 1, False\n",
      "501ème itérateur: 70, sqrt, 3, 60, 8, True\n"
     ]
    },
    {
     "name": "stderr",
     "output_type": "stream",
     "text": [
      "[Parallel(n_jobs=6)]: Done  38 tasks      | elapsed:    1.2s\n",
      "[Parallel(n_jobs=6)]: Done  70 out of  70 | elapsed:    2.1s finished\n",
      "[Parallel(n_jobs=6)]: Using backend ThreadingBackend with 6 concurrent workers.\n",
      "[Parallel(n_jobs=6)]: Done  38 tasks      | elapsed:    0.0s\n",
      "[Parallel(n_jobs=6)]: Done  70 out of  70 | elapsed:    0.0s finished\n",
      "[Parallel(n_jobs=6)]: Using backend ThreadingBackend with 6 concurrent workers.\n"
     ]
    },
    {
     "name": "stdout",
     "output_type": "stream",
     "text": [
      "Test accuracy = 94.93%. "
     ]
    },
    {
     "name": "stderr",
     "output_type": "stream",
     "text": [
      "[Parallel(n_jobs=6)]: Done  38 tasks      | elapsed:    0.1s\n",
      "[Parallel(n_jobs=6)]: Done  70 out of  70 | elapsed:    0.2s finished\n",
      "[Parallel(n_jobs=6)]: Using backend ThreadingBackend with 6 concurrent workers.\n"
     ]
    },
    {
     "name": "stdout",
     "output_type": "stream",
     "text": [
      "Train accuracy = 94.90%.\n",
      "Best accuracy reached so far: 97.02418022799274 for params: 50, 3, 20, 2, 1, False\n",
      "502ème itérateur: 70, sqrt, 5, 70, 128, True\n"
     ]
    },
    {
     "name": "stderr",
     "output_type": "stream",
     "text": [
      "[Parallel(n_jobs=6)]: Done  38 tasks      | elapsed:    1.7s\n",
      "[Parallel(n_jobs=6)]: Done  70 out of  70 | elapsed:    3.1s finished\n",
      "[Parallel(n_jobs=6)]: Using backend ThreadingBackend with 6 concurrent workers.\n",
      "[Parallel(n_jobs=6)]: Done  38 tasks      | elapsed:    0.0s\n",
      "[Parallel(n_jobs=6)]: Done  70 out of  70 | elapsed:    0.0s finished\n",
      "[Parallel(n_jobs=6)]: Using backend ThreadingBackend with 6 concurrent workers.\n"
     ]
    },
    {
     "name": "stdout",
     "output_type": "stream",
     "text": [
      "Test accuracy = 95.74%. "
     ]
    },
    {
     "name": "stderr",
     "output_type": "stream",
     "text": [
      "[Parallel(n_jobs=6)]: Done  38 tasks      | elapsed:    0.1s\n",
      "[Parallel(n_jobs=6)]: Done  70 out of  70 | elapsed:    0.2s finished\n",
      "[Parallel(n_jobs=6)]: Using backend ThreadingBackend with 6 concurrent workers.\n"
     ]
    },
    {
     "name": "stdout",
     "output_type": "stream",
     "text": [
      "Train accuracy = 95.75%.\n",
      "Best accuracy reached so far: 97.02418022799274 for params: 50, 3, 20, 2, 1, False\n",
      "503ème itérateur: 70, sqrt, 7, 30, 8, True\n"
     ]
    },
    {
     "name": "stderr",
     "output_type": "stream",
     "text": [
      "[Parallel(n_jobs=6)]: Done  38 tasks      | elapsed:    2.3s\n",
      "[Parallel(n_jobs=6)]: Done  70 out of  70 | elapsed:    4.0s finished\n",
      "[Parallel(n_jobs=6)]: Using backend ThreadingBackend with 6 concurrent workers.\n",
      "[Parallel(n_jobs=6)]: Done  38 tasks      | elapsed:    0.0s\n",
      "[Parallel(n_jobs=6)]: Done  70 out of  70 | elapsed:    0.0s finished\n",
      "[Parallel(n_jobs=6)]: Using backend ThreadingBackend with 6 concurrent workers.\n"
     ]
    },
    {
     "name": "stdout",
     "output_type": "stream",
     "text": [
      "Test accuracy = 96.34%. "
     ]
    },
    {
     "name": "stderr",
     "output_type": "stream",
     "text": [
      "[Parallel(n_jobs=6)]: Done  38 tasks      | elapsed:    0.1s\n",
      "[Parallel(n_jobs=6)]: Done  70 out of  70 | elapsed:    0.2s finished\n",
      "[Parallel(n_jobs=6)]: Using backend ThreadingBackend with 6 concurrent workers.\n"
     ]
    },
    {
     "name": "stdout",
     "output_type": "stream",
     "text": [
      "Train accuracy = 96.38%.\n",
      "Best accuracy reached so far: 97.02418022799274 for params: 50, 3, 20, 2, 1, False\n",
      "504ème itérateur: 70, sqrt, 10, 30, 4, False\n"
     ]
    },
    {
     "name": "stderr",
     "output_type": "stream",
     "text": [
      "[Parallel(n_jobs=6)]: Done  38 tasks      | elapsed:    3.7s\n",
      "[Parallel(n_jobs=6)]: Done  70 out of  70 | elapsed:    6.4s finished\n",
      "[Parallel(n_jobs=6)]: Using backend ThreadingBackend with 6 concurrent workers.\n",
      "[Parallel(n_jobs=6)]: Done  38 tasks      | elapsed:    0.0s\n",
      "[Parallel(n_jobs=6)]: Done  70 out of  70 | elapsed:    0.0s finished\n",
      "[Parallel(n_jobs=6)]: Using backend ThreadingBackend with 6 concurrent workers.\n"
     ]
    },
    {
     "name": "stdout",
     "output_type": "stream",
     "text": [
      "Test accuracy = 96.81%. "
     ]
    },
    {
     "name": "stderr",
     "output_type": "stream",
     "text": [
      "[Parallel(n_jobs=6)]: Done  38 tasks      | elapsed:    0.1s\n",
      "[Parallel(n_jobs=6)]: Done  70 out of  70 | elapsed:    0.2s finished\n",
      "[Parallel(n_jobs=6)]: Using backend ThreadingBackend with 6 concurrent workers.\n"
     ]
    },
    {
     "name": "stdout",
     "output_type": "stream",
     "text": [
      "Train accuracy = 97.04%.\n",
      "Best accuracy reached so far: 97.02418022799274 for params: 50, 3, 20, 2, 1, False\n",
      "505ème itérateur: 70, sqrt, 10, 50, 8, False\n"
     ]
    },
    {
     "name": "stderr",
     "output_type": "stream",
     "text": [
      "[Parallel(n_jobs=6)]: Done  38 tasks      | elapsed:    3.7s\n",
      "[Parallel(n_jobs=6)]: Done  70 out of  70 | elapsed:    6.4s finished\n",
      "[Parallel(n_jobs=6)]: Using backend ThreadingBackend with 6 concurrent workers.\n",
      "[Parallel(n_jobs=6)]: Done  38 tasks      | elapsed:    0.0s\n",
      "[Parallel(n_jobs=6)]: Done  70 out of  70 | elapsed:    0.0s finished\n",
      "[Parallel(n_jobs=6)]: Using backend ThreadingBackend with 6 concurrent workers.\n"
     ]
    },
    {
     "name": "stdout",
     "output_type": "stream",
     "text": [
      "Test accuracy = 96.78%. "
     ]
    },
    {
     "name": "stderr",
     "output_type": "stream",
     "text": [
      "[Parallel(n_jobs=6)]: Done  38 tasks      | elapsed:    0.1s\n",
      "[Parallel(n_jobs=6)]: Done  70 out of  70 | elapsed:    0.2s finished\n",
      "[Parallel(n_jobs=6)]: Using backend ThreadingBackend with 6 concurrent workers.\n"
     ]
    },
    {
     "name": "stdout",
     "output_type": "stream",
     "text": [
      "Train accuracy = 96.99%.\n",
      "Best accuracy reached so far: 97.02418022799274 for params: 50, 3, 20, 2, 1, False\n",
      "506ème itérateur: 70, sqrt, 13, 30, 1, False\n"
     ]
    },
    {
     "name": "stderr",
     "output_type": "stream",
     "text": [
      "[Parallel(n_jobs=6)]: Done  38 tasks      | elapsed:    4.4s\n",
      "[Parallel(n_jobs=6)]: Done  70 out of  70 | elapsed:    7.6s finished\n",
      "[Parallel(n_jobs=6)]: Using backend ThreadingBackend with 6 concurrent workers.\n",
      "[Parallel(n_jobs=6)]: Done  38 tasks      | elapsed:    0.0s\n",
      "[Parallel(n_jobs=6)]: Done  70 out of  70 | elapsed:    0.1s finished\n"
     ]
    },
    {
     "name": "stdout",
     "output_type": "stream",
     "text": [
      "Test accuracy = 96.92%. "
     ]
    },
    {
     "name": "stderr",
     "output_type": "stream",
     "text": [
      "[Parallel(n_jobs=6)]: Using backend ThreadingBackend with 6 concurrent workers.\n",
      "[Parallel(n_jobs=6)]: Done  38 tasks      | elapsed:    0.1s\n",
      "[Parallel(n_jobs=6)]: Done  70 out of  70 | elapsed:    0.2s finished\n",
      "[Parallel(n_jobs=6)]: Using backend ThreadingBackend with 6 concurrent workers.\n"
     ]
    },
    {
     "name": "stdout",
     "output_type": "stream",
     "text": [
      "Train accuracy = 97.56%.\n",
      "Best accuracy reached so far: 97.02418022799274 for params: 50, 3, 20, 2, 1, False\n",
      "507ème itérateur: 70, sqrt, 17, 40, 4, False\n"
     ]
    },
    {
     "name": "stderr",
     "output_type": "stream",
     "text": [
      "[Parallel(n_jobs=6)]: Done  38 tasks      | elapsed:    4.8s\n",
      "[Parallel(n_jobs=6)]: Done  70 out of  70 | elapsed:    8.2s finished\n",
      "[Parallel(n_jobs=6)]: Using backend ThreadingBackend with 6 concurrent workers.\n",
      "[Parallel(n_jobs=6)]: Done  38 tasks      | elapsed:    0.0s\n",
      "[Parallel(n_jobs=6)]: Done  70 out of  70 | elapsed:    0.1s finished\n",
      "[Parallel(n_jobs=6)]: Using backend ThreadingBackend with 6 concurrent workers.\n"
     ]
    },
    {
     "name": "stdout",
     "output_type": "stream",
     "text": [
      "Test accuracy = 96.96%. "
     ]
    },
    {
     "name": "stderr",
     "output_type": "stream",
     "text": [
      "[Parallel(n_jobs=6)]: Done  38 tasks      | elapsed:    0.1s\n",
      "[Parallel(n_jobs=6)]: Done  70 out of  70 | elapsed:    0.2s finished\n"
     ]
    },
    {
     "name": "stdout",
     "output_type": "stream",
     "text": [
      "Train accuracy = 97.76%.\n",
      "Best accuracy reached so far: 97.02418022799274 for params: 50, 3, 20, 2, 1, False\n",
      "508ème itérateur: 70, sqrt, 25, 40, 8, False\n"
     ]
    },
    {
     "name": "stderr",
     "output_type": "stream",
     "text": [
      "[Parallel(n_jobs=6)]: Using backend ThreadingBackend with 6 concurrent workers.\n",
      "[Parallel(n_jobs=6)]: Done  38 tasks      | elapsed:    5.0s\n",
      "[Parallel(n_jobs=6)]: Done  70 out of  70 | elapsed:    8.7s finished\n",
      "[Parallel(n_jobs=6)]: Using backend ThreadingBackend with 6 concurrent workers.\n",
      "[Parallel(n_jobs=6)]: Done  38 tasks      | elapsed:    0.0s\n",
      "[Parallel(n_jobs=6)]: Done  70 out of  70 | elapsed:    0.1s finished\n",
      "[Parallel(n_jobs=6)]: Using backend ThreadingBackend with 6 concurrent workers.\n"
     ]
    },
    {
     "name": "stdout",
     "output_type": "stream",
     "text": [
      "Test accuracy = 96.96%. "
     ]
    },
    {
     "name": "stderr",
     "output_type": "stream",
     "text": [
      "[Parallel(n_jobs=6)]: Done  38 tasks      | elapsed:    0.2s\n",
      "[Parallel(n_jobs=6)]: Done  70 out of  70 | elapsed:    0.3s finished\n"
     ]
    },
    {
     "name": "stdout",
     "output_type": "stream",
     "text": [
      "Train accuracy = 97.78%.\n",
      "Best accuracy reached so far: 97.02418022799274 for params: 50, 3, 20, 2, 1, False\n",
      "509ème itérateur: 70, sqrt, None, 5, 64, True\n"
     ]
    },
    {
     "name": "stderr",
     "output_type": "stream",
     "text": [
      "[Parallel(n_jobs=6)]: Using backend ThreadingBackend with 6 concurrent workers.\n",
      "[Parallel(n_jobs=6)]: Done  38 tasks      | elapsed:    3.4s\n",
      "[Parallel(n_jobs=6)]: Done  70 out of  70 | elapsed:    5.8s finished\n",
      "[Parallel(n_jobs=6)]: Using backend ThreadingBackend with 6 concurrent workers.\n",
      "[Parallel(n_jobs=6)]: Done  38 tasks      | elapsed:    0.0s\n",
      "[Parallel(n_jobs=6)]: Done  70 out of  70 | elapsed:    0.1s finished\n",
      "[Parallel(n_jobs=6)]: Using backend ThreadingBackend with 6 concurrent workers.\n"
     ]
    },
    {
     "name": "stdout",
     "output_type": "stream",
     "text": [
      "Test accuracy = 96.82%. "
     ]
    },
    {
     "name": "stderr",
     "output_type": "stream",
     "text": [
      "[Parallel(n_jobs=6)]: Done  38 tasks      | elapsed:    0.1s\n",
      "[Parallel(n_jobs=6)]: Done  70 out of  70 | elapsed:    0.2s finished\n"
     ]
    },
    {
     "name": "stdout",
     "output_type": "stream",
     "text": [
      "Train accuracy = 96.88%.\n",
      "Best accuracy reached so far: 97.02418022799274 for params: 50, 3, 20, 2, 1, False\n",
      "510ème itérateur: 70, None, 1, 20, 128, False\n"
     ]
    },
    {
     "name": "stderr",
     "output_type": "stream",
     "text": [
      "[Parallel(n_jobs=6)]: Using backend ThreadingBackend with 6 concurrent workers.\n",
      "[Parallel(n_jobs=6)]: Done  38 tasks      | elapsed:    2.5s\n",
      "[Parallel(n_jobs=6)]: Done  70 out of  70 | elapsed:    4.2s finished\n",
      "[Parallel(n_jobs=6)]: Using backend ThreadingBackend with 6 concurrent workers.\n",
      "[Parallel(n_jobs=6)]: Done  38 tasks      | elapsed:    0.0s\n",
      "[Parallel(n_jobs=6)]: Done  70 out of  70 | elapsed:    0.0s finished\n"
     ]
    },
    {
     "name": "stdout",
     "output_type": "stream",
     "text": [
      "Test accuracy = 92.47%. "
     ]
    },
    {
     "name": "stderr",
     "output_type": "stream",
     "text": [
      "[Parallel(n_jobs=6)]: Using backend ThreadingBackend with 6 concurrent workers.\n",
      "[Parallel(n_jobs=6)]: Done  38 tasks      | elapsed:    0.1s\n",
      "[Parallel(n_jobs=6)]: Done  70 out of  70 | elapsed:    0.1s finished\n"
     ]
    },
    {
     "name": "stdout",
     "output_type": "stream",
     "text": [
      "Train accuracy = 92.53%.\n",
      "Best accuracy reached so far: 97.02418022799274 for params: 50, 3, 20, 2, 1, False\n",
      "511ème itérateur: 70, None, 1, 50, 2, False\n"
     ]
    },
    {
     "name": "stderr",
     "output_type": "stream",
     "text": [
      "[Parallel(n_jobs=6)]: Using backend ThreadingBackend with 6 concurrent workers.\n",
      "[Parallel(n_jobs=6)]: Done  38 tasks      | elapsed:    2.4s\n",
      "[Parallel(n_jobs=6)]: Done  70 out of  70 | elapsed:    4.2s finished\n",
      "[Parallel(n_jobs=6)]: Using backend ThreadingBackend with 6 concurrent workers.\n",
      "[Parallel(n_jobs=6)]: Done  38 tasks      | elapsed:    0.0s\n",
      "[Parallel(n_jobs=6)]: Done  70 out of  70 | elapsed:    0.0s finished\n",
      "[Parallel(n_jobs=6)]: Using backend ThreadingBackend with 6 concurrent workers.\n"
     ]
    },
    {
     "name": "stdout",
     "output_type": "stream",
     "text": [
      "Test accuracy = 92.47%. "
     ]
    },
    {
     "name": "stderr",
     "output_type": "stream",
     "text": [
      "[Parallel(n_jobs=6)]: Done  38 tasks      | elapsed:    0.1s\n",
      "[Parallel(n_jobs=6)]: Done  70 out of  70 | elapsed:    0.1s finished\n",
      "[Parallel(n_jobs=6)]: Using backend ThreadingBackend with 6 concurrent workers.\n"
     ]
    },
    {
     "name": "stdout",
     "output_type": "stream",
     "text": [
      "Train accuracy = 92.53%.\n",
      "Best accuracy reached so far: 97.02418022799274 for params: 50, 3, 20, 2, 1, False\n",
      "512ème itérateur: 70, None, 3, 5, 1, False\n"
     ]
    },
    {
     "name": "stderr",
     "output_type": "stream",
     "text": [
      "[Parallel(n_jobs=6)]: Done  38 tasks      | elapsed:    7.0s\n",
      "[Parallel(n_jobs=6)]: Done  70 out of  70 | elapsed:   11.9s finished\n",
      "[Parallel(n_jobs=6)]: Using backend ThreadingBackend with 6 concurrent workers.\n",
      "[Parallel(n_jobs=6)]: Done  38 tasks      | elapsed:    0.0s\n",
      "[Parallel(n_jobs=6)]: Done  70 out of  70 | elapsed:    0.0s finished\n",
      "[Parallel(n_jobs=6)]: Using backend ThreadingBackend with 6 concurrent workers.\n"
     ]
    },
    {
     "name": "stdout",
     "output_type": "stream",
     "text": [
      "Test accuracy = 95.01%. "
     ]
    },
    {
     "name": "stderr",
     "output_type": "stream",
     "text": [
      "[Parallel(n_jobs=6)]: Done  38 tasks      | elapsed:    0.1s\n",
      "[Parallel(n_jobs=6)]: Done  70 out of  70 | elapsed:    0.2s finished\n",
      "[Parallel(n_jobs=6)]: Using backend ThreadingBackend with 6 concurrent workers.\n"
     ]
    },
    {
     "name": "stdout",
     "output_type": "stream",
     "text": [
      "Train accuracy = 95.13%.\n",
      "Best accuracy reached so far: 97.02418022799274 for params: 50, 3, 20, 2, 1, False\n",
      "513ème itérateur: 70, None, 5, 10, 2, False\n"
     ]
    },
    {
     "name": "stderr",
     "output_type": "stream",
     "text": [
      "[Parallel(n_jobs=6)]: Done  38 tasks      | elapsed:   11.2s\n",
      "[Parallel(n_jobs=6)]: Done  70 out of  70 | elapsed:   19.0s finished\n",
      "[Parallel(n_jobs=6)]: Using backend ThreadingBackend with 6 concurrent workers.\n",
      "[Parallel(n_jobs=6)]: Done  38 tasks      | elapsed:    0.0s\n",
      "[Parallel(n_jobs=6)]: Done  70 out of  70 | elapsed:    0.0s finished\n",
      "[Parallel(n_jobs=6)]: Using backend ThreadingBackend with 6 concurrent workers.\n"
     ]
    },
    {
     "name": "stdout",
     "output_type": "stream",
     "text": [
      "Test accuracy = 95.92%. "
     ]
    },
    {
     "name": "stderr",
     "output_type": "stream",
     "text": [
      "[Parallel(n_jobs=6)]: Done  38 tasks      | elapsed:    0.1s\n",
      "[Parallel(n_jobs=6)]: Done  70 out of  70 | elapsed:    0.2s finished\n",
      "[Parallel(n_jobs=6)]: Using backend ThreadingBackend with 6 concurrent workers.\n"
     ]
    },
    {
     "name": "stdout",
     "output_type": "stream",
     "text": [
      "Train accuracy = 96.07%.\n",
      "Best accuracy reached so far: 97.02418022799274 for params: 50, 3, 20, 2, 1, False\n",
      "514ème itérateur: 70, None, 13, 10, 2, False\n"
     ]
    },
    {
     "name": "stderr",
     "output_type": "stream",
     "text": [
      "[Parallel(n_jobs=6)]: Done  38 tasks      | elapsed:   23.2s\n",
      "[Parallel(n_jobs=6)]: Done  70 out of  70 | elapsed:   39.3s finished\n",
      "[Parallel(n_jobs=6)]: Using backend ThreadingBackend with 6 concurrent workers.\n",
      "[Parallel(n_jobs=6)]: Done  38 tasks      | elapsed:    0.0s\n",
      "[Parallel(n_jobs=6)]: Done  70 out of  70 | elapsed:    0.0s finished\n",
      "[Parallel(n_jobs=6)]: Using backend ThreadingBackend with 6 concurrent workers.\n"
     ]
    },
    {
     "name": "stdout",
     "output_type": "stream",
     "text": [
      "Test accuracy = 96.31%. "
     ]
    },
    {
     "name": "stderr",
     "output_type": "stream",
     "text": [
      "[Parallel(n_jobs=6)]: Done  38 tasks      | elapsed:    0.1s\n",
      "[Parallel(n_jobs=6)]: Done  70 out of  70 | elapsed:    0.2s finished\n",
      "[Parallel(n_jobs=6)]: Using backend ThreadingBackend with 6 concurrent workers.\n"
     ]
    },
    {
     "name": "stdout",
     "output_type": "stream",
     "text": [
      "Train accuracy = 97.48%.\n",
      "Best accuracy reached so far: 97.02418022799274 for params: 50, 3, 20, 2, 1, False\n",
      "515ème itérateur: 70, None, 13, 50, 4, False\n"
     ]
    },
    {
     "name": "stderr",
     "output_type": "stream",
     "text": [
      "[Parallel(n_jobs=6)]: Done  38 tasks      | elapsed:   23.3s\n",
      "[Parallel(n_jobs=6)]: Done  70 out of  70 | elapsed:   39.2s finished\n",
      "[Parallel(n_jobs=6)]: Using backend ThreadingBackend with 6 concurrent workers.\n",
      "[Parallel(n_jobs=6)]: Done  38 tasks      | elapsed:    0.0s\n",
      "[Parallel(n_jobs=6)]: Done  70 out of  70 | elapsed:    0.0s finished\n",
      "[Parallel(n_jobs=6)]: Using backend ThreadingBackend with 6 concurrent workers.\n"
     ]
    },
    {
     "name": "stdout",
     "output_type": "stream",
     "text": [
      "Test accuracy = 96.42%. "
     ]
    },
    {
     "name": "stderr",
     "output_type": "stream",
     "text": [
      "[Parallel(n_jobs=6)]: Done  38 tasks      | elapsed:    0.1s\n",
      "[Parallel(n_jobs=6)]: Done  70 out of  70 | elapsed:    0.2s finished\n",
      "[Parallel(n_jobs=6)]: Using backend ThreadingBackend with 6 concurrent workers.\n"
     ]
    },
    {
     "name": "stdout",
     "output_type": "stream",
     "text": [
      "Train accuracy = 97.07%.\n",
      "Best accuracy reached so far: 97.02418022799274 for params: 50, 3, 20, 2, 1, False\n",
      "516ème itérateur: 70, None, 13, 70, 128, True\n"
     ]
    },
    {
     "name": "stderr",
     "output_type": "stream",
     "text": [
      "[Parallel(n_jobs=6)]: Done  38 tasks      | elapsed:   16.6s\n",
      "[Parallel(n_jobs=6)]: Done  70 out of  70 | elapsed:   28.1s finished\n",
      "[Parallel(n_jobs=6)]: Using backend ThreadingBackend with 6 concurrent workers.\n",
      "[Parallel(n_jobs=6)]: Done  38 tasks      | elapsed:    0.0s\n",
      "[Parallel(n_jobs=6)]: Done  70 out of  70 | elapsed:    0.0s finished\n",
      "[Parallel(n_jobs=6)]: Using backend ThreadingBackend with 6 concurrent workers.\n"
     ]
    },
    {
     "name": "stdout",
     "output_type": "stream",
     "text": [
      "Test accuracy = 96.30%. "
     ]
    },
    {
     "name": "stderr",
     "output_type": "stream",
     "text": [
      "[Parallel(n_jobs=6)]: Done  38 tasks      | elapsed:    0.1s\n",
      "[Parallel(n_jobs=6)]: Done  70 out of  70 | elapsed:    0.2s finished\n",
      "[Parallel(n_jobs=6)]: Using backend ThreadingBackend with 6 concurrent workers.\n"
     ]
    },
    {
     "name": "stdout",
     "output_type": "stream",
     "text": [
      "Train accuracy = 96.38%.\n",
      "Best accuracy reached so far: 97.02418022799274 for params: 50, 3, 20, 2, 1, False\n",
      "517ème itérateur: 70, None, 20, 2, 128, True\n"
     ]
    },
    {
     "name": "stderr",
     "output_type": "stream",
     "text": [
      "[Parallel(n_jobs=6)]: Done  38 tasks      | elapsed:   17.6s\n",
      "[Parallel(n_jobs=6)]: Done  70 out of  70 | elapsed:   29.8s finished\n",
      "[Parallel(n_jobs=6)]: Using backend ThreadingBackend with 6 concurrent workers.\n",
      "[Parallel(n_jobs=6)]: Done  38 tasks      | elapsed:    0.0s\n",
      "[Parallel(n_jobs=6)]: Done  70 out of  70 | elapsed:    0.0s finished\n",
      "[Parallel(n_jobs=6)]: Using backend ThreadingBackend with 6 concurrent workers.\n"
     ]
    },
    {
     "name": "stdout",
     "output_type": "stream",
     "text": [
      "Test accuracy = 96.30%. "
     ]
    },
    {
     "name": "stderr",
     "output_type": "stream",
     "text": [
      "[Parallel(n_jobs=6)]: Done  38 tasks      | elapsed:    0.1s\n",
      "[Parallel(n_jobs=6)]: Done  70 out of  70 | elapsed:    0.2s finished\n",
      "[Parallel(n_jobs=6)]: Using backend ThreadingBackend with 6 concurrent workers.\n"
     ]
    },
    {
     "name": "stdout",
     "output_type": "stream",
     "text": [
      "Train accuracy = 96.38%.\n",
      "Best accuracy reached so far: 97.02418022799274 for params: 50, 3, 20, 2, 1, False\n",
      "518ème itérateur: 70, None, 25, 40, 8, True\n"
     ]
    },
    {
     "name": "stderr",
     "output_type": "stream",
     "text": [
      "[Parallel(n_jobs=6)]: Done  38 tasks      | elapsed:   20.2s\n",
      "[Parallel(n_jobs=6)]: Done  70 out of  70 | elapsed:   34.6s finished\n",
      "[Parallel(n_jobs=6)]: Using backend ThreadingBackend with 6 concurrent workers.\n",
      "[Parallel(n_jobs=6)]: Done  38 tasks      | elapsed:    0.0s\n",
      "[Parallel(n_jobs=6)]: Done  70 out of  70 | elapsed:    0.1s finished\n",
      "[Parallel(n_jobs=6)]: Using backend ThreadingBackend with 6 concurrent workers.\n"
     ]
    },
    {
     "name": "stdout",
     "output_type": "stream",
     "text": [
      "Test accuracy = 96.81%. "
     ]
    },
    {
     "name": "stderr",
     "output_type": "stream",
     "text": [
      "[Parallel(n_jobs=6)]: Done  38 tasks      | elapsed:    0.1s\n",
      "[Parallel(n_jobs=6)]: Done  70 out of  70 | elapsed:    0.2s finished\n"
     ]
    },
    {
     "name": "stdout",
     "output_type": "stream",
     "text": [
      "Train accuracy = 97.46%.\n",
      "Best accuracy reached so far: 97.02418022799274 for params: 50, 3, 20, 2, 1, False\n",
      "Nombre d'estimateurs testés: 518\n",
      "Best accuracy reached: 97.02418022799274 for params: 50, 3, 20, 2, 1, False\n"
     ]
    },
    {
     "data": {
      "text/plain": [
       "{62.94170209309252: ['1, 1, 1, 5, 1, False',\n",
       "  '1, 1, 1, 20, 2, False',\n",
       "  '1, 2, 1, 60, 16, False'],\n",
       " 70.88353957379978: ['1, 1, 2, 40, 8, False'],\n",
       " 88.55433104979556: ['1, 1, 4, 50, 1, True'],\n",
       " 91.59784462917332: ['1, 1, 10, 60, 1, True'],\n",
       " 94.18916357531613: ['1, 1, 20, 30, 1, True'],\n",
       " 93.48514797866291: ['1, 1, 20, 40, 2, True'],\n",
       " 92.9435975196989: ['1, 1, 20, 60, 16, True'],\n",
       " 91.64658417048008: ['1, 1, None, 10, 16, False'],\n",
       " 87.37916655384366: ['1, 2, 4, 20, 128, True'],\n",
       " 90.40914137174731: ['1, 2, 5, 40, 2, True'],\n",
       " 92.90568898757141: ['1, 2, 10, 2, 1, True'],\n",
       " 94.24873412580217: ['1, 2, 13, 20, 64, True'],\n",
       " 94.6982210067423: ['1, 2, 13, 40, 1, False', '20, 3, 4, 70, 64, True'],\n",
       " 94.41932252037584: ['1, 2, 17, 40, 8, False'],\n",
       " 93.48244022636808: ['1, 2, 20, 20, 64, True'],\n",
       " 86.85657036094338: ['1, 3, 3, 60, 8, False'],\n",
       " 94.53304811675828: ['1, 3, 10, 2, 128, True'],\n",
       " 94.95004197016057: ['1, 3, 10, 5, 32, False'],\n",
       " 95.08272183260675: ['1, 3, 17, 60, 32, True', '50, 3, 4, 10, 32, True'],\n",
       " 94.74696054804906: ['1, 3, None, 40, 128, False'],\n",
       " 95.45909940158674: ['1, 3, None, 70, 1, False',\n",
       "  '40, sqrt, 5, 2, 128, False',\n",
       "  '50, 2, 5, 30, 32, True'],\n",
       " 92.4724486204002: ['1, 8, 1, 10, 4, True',\n",
       "  '2, None, 1, 30, 32, False',\n",
       "  '5, None, 1, 30, 32, False',\n",
       "  '10, 8, 1, 5, 32, True',\n",
       "  '10, sqrt, 1, 40, 64, False',\n",
       "  '20, None, 1, 2, 1, True',\n",
       "  '40, None, 1, 50, 16, True',\n",
       "  '50, None, 1, 20, 4, True',\n",
       "  '70, None, 1, 20, 128, False',\n",
       "  '70, None, 1, 50, 2, False'],\n",
       " 94.3597519698898: ['1, 8, 3, 30, 4, False',\n",
       "  '1, 8, 3, 30, 16, False',\n",
       "  '1, 8, 3, 70, 8, False'],\n",
       " 95.15853889686171: ['1, 8, 5, 60, 128, False'],\n",
       " 95.40765210798516: ['1, 8, 7, 20, 32, False'],\n",
       " 96.22810105331564: ['1, 8, 17, 30, 32, False',\n",
       "  '1, None, 20, 40, 8, True',\n",
       "  '20, sqrt, 7, 10, 1, True'],\n",
       " 96.16582275053477: ['1, 8, 17, 60, 2, False'],\n",
       " 90.30083127995451: ['1, sqrt, 2, 60, 8, True'],\n",
       " 91.527443069508: ['1, sqrt, 3, 30, 64, False', '1, sqrt, 3, 50, 1, True'],\n",
       " 95.57011724567437: ['1, sqrt, 10, 30, 32, False',\n",
       "  '1, sqrt, 25, 50, 32, True'],\n",
       " 95.69196609894128: ['1, sqrt, 13, 40, 8, True'],\n",
       " 95.81923045679781: ['1, sqrt, 13, 70, 128, False',\n",
       "  '2, 8, 7, 50, 8, False',\n",
       "  '5, sqrt, 7, 70, 2, False'],\n",
       " 95.55928623649508: ['1, sqrt, 17, 30, 64, True', '60, 1, 25, 70, 128, True'],\n",
       " 95.29934201619236: ['1, sqrt, 17, 40, 128, True'],\n",
       " 96.10354444775392: ['1, sqrt, 17, 70, 8, False'],\n",
       " 96.00064986055075: ['1, sqrt, 25, 70, 32, False'],\n",
       " 95.75695215401694: ['1, sqrt, None, 40, 8, True'],\n",
       " 95.86255449351493: ['1, None, 5, 60, 1, True',\n",
       "  '20, None, 5, 5, 64, False',\n",
       "  '30, None, 5, 30, 64, False',\n",
       "  '40, None, 5, 40, 64, False'],\n",
       " 96.25517857626384: ['1, None, 10, 2, 2, True'],\n",
       " 96.37431967723593: ['1, None, 10, 5, 8, True', '50, 1, None, 50, 8, True'],\n",
       " 96.27413284232759: ['1, None, 17, 40, 32, True'],\n",
       " 96.32828788822398: ['1, None, 20, 20, 16, False'],\n",
       " 71.79063659256451: ['2, 1, 2, 40, 128, False'],\n",
       " 85.69223687417076: ['2, 1, 3, 2, 2, True'],\n",
       " 91.74135550079879: ['2, 1, 4, 50, 8, False', '2, 1, 4, 60, 2, False'],\n",
       " 89.60764669248057: ['2, 1, 5, 60, 32, True'],\n",
       " 93.60158132734017: ['2, 1, 13, 5, 32, False'],\n",
       " 94.50597059381008: ['2, 1, None, 5, 16, True'],\n",
       " 64.38493406623162: ['2, 2, 1, 5, 64, True'],\n",
       " 90.59056077550026: ['2, 2, 4, 40, 64, False'],\n",
       " 92.4318323359779: ['2, 2, 5, 70, 8, True'],\n",
       " 93.23061926294982: ['2, 2, 7, 30, 1, True'],\n",
       " 94.61157293330807: ['2, 2, 25, 5, 128, True', '2, 2, None, 50, 128, True'],\n",
       " 95.6405188053397: ['2, 2, None, 70, 8, True'],\n",
       " 88.397281416696: ['2, 3, 1, 40, 8, False'],\n",
       " 88.76012022420188: ['2, 3, 3, 50, 4, True', '2, 3, 3, 70, 4, True'],\n",
       " 93.092523895914: ['2, 3, 4, 2, 32, True', '2, 3, 4, 70, 4, True'],\n",
       " 93.5907503181609: ['2, 3, 5, 2, 16, True'],\n",
       " 93.59345807045571: ['2, 3, 5, 20, 4, True', '2, 3, 5, 30, 2, True'],\n",
       " 95.22081719964257: ['2, 3, 10, 2, 64, True'],\n",
       " 95.37515908044732: ['2, 3, 10, 30, 64, False'],\n",
       " 95.70550486041537: ['2, 3, 10, 40, 2, False'],\n",
       " 95.8977552733476: ['2, 3, 13, 20, 4, True', '2, None, 5, 50, 8, True'],\n",
       " 95.88421651187349: ['2, 3, 13, 30, 1, False'],\n",
       " 95.54574747502099: ['2, 3, 17, 30, 64, True'],\n",
       " 95.79756843843926: ['2, 3, 20, 20, 32, True', '70, 1, None, 60, 64, True'],\n",
       " 95.84901573204083: ['2, 3, None, 10, 4, True'],\n",
       " 95.98981885137148: ['2, 3, None, 70, 8, True'],\n",
       " 93.98066664861499: ['2, 8, 2, 20, 16, True'],\n",
       " 96.51241504427175: ['2, 8, 13, 30, 4, True', '10, None, 10, 10, 64, True'],\n",
       " 96.52053830115621: ['2, 8, 17, 50, 32, False', '50, 2, None, 30, 64, True'],\n",
       " 96.14416073217622: ['2, 8, 20, 50, 128, True'],\n",
       " 90.41455687633695: ['2, sqrt, 1, 20, 128, False',\n",
       "  '2, sqrt, 1, 40, 64, False',\n",
       "  '2, sqrt, 1, 60, 1, False'],\n",
       " 93.56908829980235: ['2, sqrt, 3, 5, 4, False', '30, 1, 5, 2, 16, True'],\n",
       " 93.24957352901356: ['2, sqrt, 3, 10, 128, True', '2, sqrt, 3, 60, 8, True'],\n",
       " 96.25788632855866: ['2, sqrt, 10, 5, 32, False'],\n",
       " 95.92212504400098: ['2, sqrt, 10, 5, 128, False'],\n",
       " 95.95191031924399: ['2, sqrt, 17, 10, 1, False'],\n",
       " 96.04126614497306: ['2, None, 7, 2, 128, False'],\n",
       " 96.08459018169017: ['2, None, 7, 50, 128, True'],\n",
       " 76.3207061817985: ['5, 1, 2, 50, 128, False'],\n",
       " 91.00755462890255: ['5, 1, 5, 30, 128, False'],\n",
       " 90.85862825268745: ['5, 1, 5, 60, 4, False'],\n",
       " 94.01315967615282: ['5, 1, 10, 50, 2, True', '70, 3, 2, 70, 16, False'],\n",
       " 95.52679320895724: ['5, 1, 17, 30, 4, False'],\n",
       " 94.5628333920013: ['5, 1, 20, 40, 64, False'],\n",
       " 95.90587853023206: ['5, 1, None, 50, 1, True'],\n",
       " 82.66767756085673: ['5, 2, 2, 2, 16, False'],\n",
       " 83.11445668950205: ['5, 2, 2, 20, 128, True'],\n",
       " 91.82529582193821: ['5, 2, 4, 10, 32, True'],\n",
       " 91.84154233570713: ['5, 2, 4, 20, 4, True'],\n",
       " 93.01399907936421: ['5, 2, 5, 30, 64, True'],\n",
       " 95.19915518128401: ['5, 2, 10, 30, 64, True'],\n",
       " 96.45555224608053: ['5, 2, 17, 5, 8, False', '30, 2, 20, 70, 64, True'],\n",
       " 95.9789878421922: ['5, 2, 17, 70, 32, True'],\n",
       " 96.19019252118817: ['5, 2, 25, 20, 8, True'],\n",
       " 89.64284747231324: ['5, 3, 1, 2, 8, False',\n",
       "  '5, 3, 1, 70, 2, False',\n",
       "  '5, 3, 1, 70, 16, True'],\n",
       " 95.48888467682977: ['5, 3, 7, 5, 32, True'],\n",
       " 96.64509490671793: ['5, 3, 17, 2, 4, False'],\n",
       " 96.7209119709729: ['5, 3, 17, 5, 8, False'],\n",
       " 96.43659798001678: ['5, 3, 25, 60, 32, False'],\n",
       " 96.12249871381766: ['5, 3, 25, 60, 128, False', '20, 8, 5, 60, 1, True'],\n",
       " 93.29831307032033: ['5, 8, 2, 5, 16, True'],\n",
       " 94.24061086891771: ['5, 8, 3, 20, 16, True'],\n",
       " 94.20541008908505: ['5, 8, 3, 60, 2, False', '50, 1, 5, 50, 4, True'],\n",
       " 96.77235926457448: ['5, 8, 13, 70, 32, False', '50, 2, 25, 50, 8, True'],\n",
       " 96.78319027375376: ['5, 8, 25, 2, 32, True',\n",
       "  '10, None, 25, 2, 4, True',\n",
       "  '70, sqrt, 10, 50, 8, False'],\n",
       " 96.77777476916411: ['5, 8, 25, 60, 8, True'],\n",
       " 92.52389591400178: ['5, sqrt, 1, 30, 64, True', '5, sqrt, 1, 40, 128, False'],\n",
       " 93.7125991714278: ['5, sqrt, 3, 40, 128, False'],\n",
       " 95.063767566543: ['5, sqrt, 5, 30, 64, False'],\n",
       " 95.96815683301291: ['5, sqrt, 7, 60, 8, True'],\n",
       " 96.4501367414909: ['5, sqrt, 10, 20, 4, False',\n",
       "  '40, None, 10, 30, 8, False',\n",
       "  '60, 1, 20, 10, 8, False'],\n",
       " 96.24163981478975: ['5, sqrt, 10, 20, 128, True',\n",
       "  '10, None, 25, 2, 128, False',\n",
       "  '10, None, None, 40, 128, False',\n",
       "  '20, None, 7, 20, 64, True',\n",
       "  '40, None, 25, 10, 128, False'],\n",
       " 96.36078091576182: ['5, sqrt, 10, 60, 32, True'],\n",
       " 96.69112669572988: ['5, sqrt, 17, 5, 16, True'],\n",
       " 96.60989412688528: ['5, sqrt, 17, 70, 64, False', '30, 8, 7, 20, 4, False'],\n",
       " 95.01232027294144: ['5, None, 3, 10, 16, False',\n",
       "  '10, None, 3, 5, 16, False',\n",
       "  '10, None, 3, 40, 1, False',\n",
       "  '10, None, 3, 50, 4, False',\n",
       "  '20, None, 3, 40, 64, False',\n",
       "  '40, None, 3, 2, 1, False',\n",
       "  '40, None, 3, 2, 64, False',\n",
       "  '60, None, 3, 30, 1, False',\n",
       "  '70, None, 3, 5, 1, False'],\n",
       " 95.64593430992933: ['5, None, 4, 2, 8, False',\n",
       "  '10, None, 4, 70, 16, False',\n",
       "  '30, None, 4, 10, 4, False'],\n",
       " 95.9248327962958: ['5, None, 5, 60, 4, True', '70, None, 5, 10, 2, False'],\n",
       " 96.33099564051881: ['5, None, 10, 40, 64, False',\n",
       "  '10, None, 10, 5, 64, False'],\n",
       " 96.7073732094988: ['5, None, 20, 60, 8, True',\n",
       "  '50, 2, 13, 2, 1, False',\n",
       "  '50, None, 10, 30, 8, True'],\n",
       " 96.50970729197694: ['5, None, None, 5, 64, True'],\n",
       " 96.7750670168693: ['5, None, None, 10, 16, True'],\n",
       " 96.68300343884542: ['5, None, None, 70, 16, True'],\n",
       " 86.7645067829195: ['10, 1, 3, 20, 2, True'],\n",
       " 90.83425848203406: ['10, 1, 4, 60, 8, False'],\n",
       " 91.72510898702987: ['10, 1, 5, 5, 16, True'],\n",
       " 91.768433023747: ['10, 1, 5, 10, 128, False'],\n",
       " 93.53659527226449: ['10, 1, 7, 5, 32, False', '10, 2, 5, 40, 128, True'],\n",
       " 93.59616582275054: ['10, 1, 7, 10, 32, True',\n",
       "  '10, 1, 7, 60, 32, True',\n",
       "  '60, 2, 2, 70, 128, True'],\n",
       " 95.80298394302889: ['10, 1, 13, 50, 1, False'],\n",
       " 95.01773577753107: ['10, 1, 13, 60, 32, False', '30, 2, 5, 5, 2, False'],\n",
       " 95.64864206222414: ['10, 1, 17, 30, 16, False', '60, None, 4, 5, 4, True'],\n",
       " 96.18477701659852: ['10, 1, 20, 20, 1, True', '60, 8, 5, 60, 32, True'],\n",
       " 96.26871733773794: ['10, 1, 20, 40, 2, True'],\n",
       " 94.67655898838375: ['10, 1, 20, 50, 64, True'],\n",
       " 96.4122282093634: ['10, 1, 25, 40, 1, True', '30, None, 20, 50, 16, False'],\n",
       " 90.23042972028918: ['10, 2, 2, 30, 16, False', '10, 2, 2, 70, 64, False'],\n",
       " 91.3785166932929: ['10, 2, 3, 20, 16, True'],\n",
       " 93.23332701524465: ['10, 2, 4, 20, 4, False'],\n",
       " 94.08626898811296: ['10, 2, 5, 5, 32, False'],\n",
       " 93.86423329993772: ['10, 2, 5, 60, 1, False'],\n",
       " 94.70905201592159: ['10, 2, 7, 2, 8, False'],\n",
       " 96.41493596165823: ['10, 2, 17, 2, 16, True'],\n",
       " 96.09000568627982: ['10, 2, 17, 60, 128, False'],\n",
       " 96.11166770463838: ['10, 2, 25, 60, 128, False',\n",
       "  '50, None, 7, 50, 128, True'],\n",
       " 96.62884839294901: ['10, 2, 25, 70, 16, False'],\n",
       " 91.3379004088706: ['10, 3, 1, 70, 16, False'],\n",
       " 93.7532154558501: ['10, 3, 2, 40, 8, False'],\n",
       " 96.46096775067016: ['10, 3, 13, 30, 64, False'],\n",
       " 96.82651431047088: ['10, 3, 17, 30, 16, False'],\n",
       " 96.71008096179361: ['10, 3, 25, 60, 4, True'],\n",
       " 94.79028458476618: ['10, 8, 4, 2, 128, True'],\n",
       " 94.93108770409683: ['10, 8, 4, 70, 32, False'],\n",
       " 95.88692426416831: ['10, 8, 5, 2, 16, True'],\n",
       " 95.85443123663048: ['10, 8, 5, 10, 128, False'],\n",
       " 95.76236765860659: ['10, 8, 5, 60, 2, True'],\n",
       " 96.38785843871003: ['10, 8, 7, 70, 2, True'],\n",
       " 96.85900733800872: ['10, 8, 17, 10, 2, True', '40, None, 17, 10, 8, True'],\n",
       " 96.86171509030353: ['10, 8, 17, 40, 2, True', '40, 2, 20, 5, 8, False'],\n",
       " 96.79943678752268: ['10, 8, 25, 10, 2, True', '20, 3, None, 40, 8, True'],\n",
       " 96.65863366819202: ['10, 8, 25, 10, 64, True', '10, 8, 25, 70, 64, True'],\n",
       " 96.7886057783434: ['10, 8, 25, 50, 2, True', '40, 8, 20, 70, 128, False'],\n",
       " 96.46909100755462: ['10, 8, 25, 70, 128, True', '50, 1, 17, 10, 2, True'],\n",
       " 94.4409845387344: ['10, sqrt, 3, 2, 1, False'],\n",
       " 94.45452330020849: ['10, sqrt, 3, 30, 2, True', '70, 3, 3, 60, 32, True'],\n",
       " 96.82109880588123: ['10, sqrt, 17, 60, 4, True',\n",
       "  '70, sqrt, None, 5, 64, True'],\n",
       " 96.88066935636728: ['10, sqrt, 20, 50, 1, True',\n",
       "  '20, None, 25, 2, 4, True',\n",
       "  '30, 8, 20, 30, 32, True'],\n",
       " 96.82380655817606: ['10, sqrt, None, 20, 8, True',\n",
       "  '20, sqrt, 13, 10, 32, False',\n",
       "  '30, 8, None, 10, 64, False',\n",
       "  '60, sqrt, 20, 2, 64, False'],\n",
       " 96.09542119086946: ['10, None, 7, 50, 64, False',\n",
       "  '30, None, 7, 2, 64, False'],\n",
       " 96.75069724621592: ['10, None, 25, 50, 4, True'],\n",
       " 96.37702742953074: ['10, None, 25, 70, 16, False'],\n",
       " 95.44556064011265: ['10, None, None, 10, 1, False'],\n",
       " 92.32622999647992: ['20, 1, 4, 70, 16, False'],\n",
       " 93.51764100620075: ['20, 1, 5, 30, 16, False'],\n",
       " 94.3732907313639: ['20, 1, 7, 20, 32, False'],\n",
       " 94.51409385069454: ['20, 1, 7, 50, 1, True'],\n",
       " 95.9383715577699: ['20, 1, 13, 70, 8, True'],\n",
       " 96.21997779643118: ['20, 1, 17, 5, 4, True', '60, 1, 20, 2, 16, False'],\n",
       " 96.26600958544313: ['20, 1, 17, 70, 1, True', '50, 2, 10, 70, 128, True'],\n",
       " 96.5340770626303: ['20, 1, 20, 20, 2, False', '20, 3, 25, 60, 128, False'],\n",
       " 95.51325444748315: ['20, 1, 25, 50, 128, False'],\n",
       " 94.46535430938778: ['20, 2, 4, 50, 8, False'],\n",
       " 94.69009774985784: ['20, 2, 5, 30, 128, True'],\n",
       " 95.38869784192143: ['20, 2, 7, 2, 8, False', '60, sqrt, 4, 20, 64, False'],\n",
       " 96.59364761311635: ['20, 2, 20, 60, 16, True'],\n",
       " 96.75340499851075: ['20, 2, 25, 30, 16, False'],\n",
       " 96.8562995857139: ['20, 2, 25, 40, 2, False',\n",
       "  '40, 1, None, 5, 1, False',\n",
       "  '70, 8, None, 70, 32, False'],\n",
       " 92.62679050120495: ['20, 3, 1, 40, 4, True'],\n",
       " 93.97795889632017: ['20, 3, 3, 50, 128, True'],\n",
       " 95.10979935555496: ['20, 3, 5, 20, 128, False'],\n",
       " 95.4672226584712: ['20, 8, 4, 5, 8, True'],\n",
       " 96.49887628279765: ['20, 8, 7, 30, 1, False'],\n",
       " 96.84546857653461: ['20, 8, 17, 40, 32, True',\n",
       "  '50, 3, 25, 5, 32, False',\n",
       "  '50, 8, 13, 70, 4, True',\n",
       "  '60, sqrt, None, 60, 64, False'],\n",
       " 96.89420811784139: ['20, 8, 20, 60, 2, False'],\n",
       " 96.66404917278167: ['20, 8, 25, 10, 128, False'],\n",
       " 96.87525385177764: ['20, 8, None, 60, 16, False',\n",
       "  '30, None, None, 5, 4, True'],\n",
       " 96.91587013619994: ['20, 8, None, 70, 8, False',\n",
       "  '50, 3, 20, 70, 16, False',\n",
       "  '50, 8, 17, 20, 16, True'],\n",
       " 92.73510059299775: ['20, sqrt, 1, 20, 2, True'],\n",
       " 95.49159242912458: ['20, sqrt, 4, 50, 1, True'],\n",
       " 95.56199398878991: ['20, sqrt, 5, 5, 8, True'],\n",
       " 96.25247082396903: ['20, sqrt, 7, 40, 64, False'],\n",
       " 96.68571119114023: ['20, sqrt, 10, 2, 1, True'],\n",
       " 96.7479894939211: ['20, sqrt, 10, 10, 16, True'],\n",
       " 96.98897944816008: ['20, sqrt, 25, 10, 2, True'],\n",
       " 95.00961252064661: ['20, None, 3, 50, 4, True'],\n",
       " 96.5178305488614: ['20, None, 13, 2, 16, False'],\n",
       " 96.7913135306382: ['20, None, 20, 20, 16, True'],\n",
       " 96.88879261325174: ['20, None, 25, 10, 2, True'],\n",
       " 88.14275270098292: ['30, 1, 1, 5, 64, False'],\n",
       " 88.09130540738134: ['30, 1, 1, 30, 32, True'],\n",
       " 89.68075600444071: ['30, 1, 2, 50, 1, False'],\n",
       " 92.34247651024884: ['30, 1, 3, 2, 1, False'],\n",
       " 93.04107660231242: ['30, 1, 4, 20, 1, False'],\n",
       " 95.73258238336358: ['30, 1, 10, 50, 2, True'],\n",
       " 96.67217242966613: ['30, 1, 25, 20, 2, False', '70, 8, None, 30, 128, True'],\n",
       " 96.33370339281363: ['30, 1, 25, 20, 8, False'],\n",
       " 96.734450732447: ['30, 1, None, 5, 1, True'],\n",
       " 96.57469334705262: ['30, 1, None, 20, 2, True'],\n",
       " 93.35788362080638: ['30, 2, 1, 2, 16, False'],\n",
       " 95.70821261271018: ['30, 2, 7, 70, 2, True'],\n",
       " 96.27954834691722: ['30, 2, 10, 5, 32, False'],\n",
       " 96.65321816360239: ['30, 2, 13, 5, 16, False'],\n",
       " 96.39868944788931: ['30, 2, 13, 50, 32, True'],\n",
       " 96.76965151227965: ['30, 2, 17, 5, 8, True'],\n",
       " 96.72361972326772: ['30, 2, 17, 70, 8, False'],\n",
       " 93.28748206114105: ['30, 3, 2, 5, 1, True'],\n",
       " 94.85527063984188: ['30, 3, 4, 40, 4, True'],\n",
       " 94.87151715361078: ['30, 3, 4, 70, 128, False'],\n",
       " 95.39140559421624: ['30, 3, 5, 40, 64, True'],\n",
       " 96.65592591589721: ['30, 3, 25, 5, 64, True'],\n",
       " 92.50223389564323: ['30, 8, 1, 5, 1, True'],\n",
       " 93.66115187782623: ['30, 8, 2, 10, 128, True', '30, 8, 2, 30, 16, True'],\n",
       " 94.99065825458287: ['30, 8, 3, 2, 128, False', '30, 8, 3, 5, 128, False'],\n",
       " 95.41848311716444: ['30, 8, 4, 60, 2, False'],\n",
       " 96.83463756735534: ['30, 8, 10, 5, 8, False'],\n",
       " 96.9646096775067: ['30, 8, 25, 20, 8, True'],\n",
       " 96.58823210852671: ['30, 8, 25, 40, 128, True'],\n",
       " 93.31455958408925: ['30, sqrt, 2, 40, 128, True'],\n",
       " 93.99420541008908: ['30, sqrt, 3, 60, 1, True'],\n",
       " 95.51054669518832: ['30, sqrt, 5, 70, 4, False'],\n",
       " 94.386829492838: ['30, None, 2, 10, 4, False',\n",
       "  '40, None, 2, 40, 1, False',\n",
       "  '40, None, 2, 50, 128, False'],\n",
       " 96.15228398906068: ['30, None, 7, 10, 32, False'],\n",
       " 96.89150036554656: ['30, None, 20, 2, 4, True', '50, 8, 17, 30, 32, False'],\n",
       " 96.81026779670195: ['30, None, 25, 50, 4, True'],\n",
       " 96.05480490644716: ['30, None, None, 40, 1, False'],\n",
       " 88.49205274701471: ['40, 1, 1, 60, 2, False'],\n",
       " 90.08691884866373: ['40, 1, 2, 10, 4, True', '40, 1, 2, 30, 16, True'],\n",
       " 92.0933632991254: ['40, 1, 3, 5, 4, False'],\n",
       " 95.06918307113266: ['40, 1, 7, 30, 1, False'],\n",
       " 96.01689637431969: ['40, 1, 25, 50, 32, True'],\n",
       " 93.61512008881428: ['40, 2, 1, 5, 4, False',\n",
       "  '40, 2, 1, 70, 2, False',\n",
       "  '70, 2, 1, 2, 2, True'],\n",
       " 94.84985513525223: ['40, 2, 4, 30, 4, False'],\n",
       " 95.18832417210473: ['40, 2, 5, 70, 2, False'],\n",
       " 95.77319866778588: ['40, 2, 7, 5, 4, True'],\n",
       " 96.83734531965015: ['40, 2, 20, 10, 2, True'],\n",
       " 96.31204137445506: ['40, 2, None, 50, 128, False'],\n",
       " 94.42473802496548: ['40, 3, 3, 20, 1, True'],\n",
       " 96.01148086973004: ['40, 3, 7, 5, 16, True'],\n",
       " 95.99252660366629: ['40, 3, 7, 30, 4, False'],\n",
       " 95.95732582383364: ['40, 3, 7, 40, 4, True'],\n",
       " 96.47992201673391: ['40, 3, 10, 5, 64, True'],\n",
       " 96.94565541144297: ['40, 3, 25, 2, 16, False'],\n",
       " 96.599063117706: ['40, 3, 25, 5, 64, True', '50, 8, 10, 20, 128, True'],\n",
       " 96.94294765914813: ['40, 3, None, 50, 4, False'],\n",
       " 94.99878151146733: ['40, 8, 3, 50, 2, True'],\n",
       " 95.440145135523: ['40, 8, 4, 70, 1, False'],\n",
       " 96.7615282553952: ['40, 8, 10, 40, 1, True'],\n",
       " 96.84276082423979: ['40, 8, 10, 40, 16, True'],\n",
       " 96.94836316373778: ['40, 8, 17, 40, 8, True'],\n",
       " 96.9510709160326: ['40, 8, None, 60, 4, False',\n",
       "  '40, sqrt, 17, 10, 16, False'],\n",
       " 93.16563320787414: ['40, sqrt, 1, 50, 4, False'],\n",
       " 95.31288077766646: ['40, sqrt, 4, 5, 8, False'],\n",
       " 95.61073353009667: ['40, sqrt, 5, 70, 32, True',\n",
       "  '60, None, 4, 30, 128, False'],\n",
       " 96.222685548726: ['40, sqrt, 7, 5, 16, True'],\n",
       " 96.28225609921205: ['40, sqrt, 7, 70, 32, True', '70, 8, 5, 30, 32, True'],\n",
       " 96.79672903522786: ['40, sqrt, 10, 40, 4, False'],\n",
       " 96.97814843898081: ['40, sqrt, 17, 40, 1, False'],\n",
       " 96.93482440226369: ['40, sqrt, 25, 60, 8, False'],\n",
       " 96.96731742980153: ['40, sqrt, None, 30, 1, False'],\n",
       " 96.33641114510844: ['40, None, 17, 70, 64, False',\n",
       "  '50, None, 20, 30, 64, False'],\n",
       " 90.08962660095854: ['50, 1, 1, 20, 4, False'],\n",
       " 90.06525683030516: ['50, 1, 1, 50, 64, True'],\n",
       " 92.70531531775474: ['50, 1, 3, 60, 2, False'],\n",
       " 93.15480219869487: ['50, 1, 4, 20, 16, True'],\n",
       " 93.10877040968293: ['50, 1, 4, 30, 32, True'],\n",
       " 95.84089247515637: ['50, 1, 10, 70, 2, True'],\n",
       " 95.68925834664644: ['50, 1, 10, 70, 8, True', '50, 1, None, 40, 64, True'],\n",
       " 95.80027619073407: ['50, 1, 13, 40, 32, True'],\n",
       " 96.09271343857463: ['50, 1, 20, 70, 16, True'],\n",
       " 93.88589531829629: ['50, 2, 2, 60, 2, True'],\n",
       " 94.97711949310877: ['50, 2, 4, 10, 128, True'],\n",
       " 95.25331022718042: ['50, 2, 5, 5, 2, True'],\n",
       " 96.36619642035147: ['50, 2, 20, 5, 128, False'],\n",
       " 96.52324605345103: ['50, 2, None, 10, 64, False'],\n",
       " 93.70176816224853: ['50, 3, 2, 40, 1, False'],\n",
       " 94.28393490563484: ['50, 3, 3, 60, 1, False',\n",
       "  '50, 3, 3, 60, 32, False',\n",
       "  '60, 1, 5, 60, 32, True'],\n",
       " 95.09626059408085: ['50, 3, 4, 50, 16, False'],\n",
       " 95.36432807126805: ['50, 3, 5, 40, 128, True'],\n",
       " 95.79215293384962: ['50, 3, 7, 50, 128, True', '60, 1, 20, 5, 128, False'],\n",
       " 96.51512279656657: ['50, 3, 10, 30, 32, False'],\n",
       " 97.02418022799274: ['50, 3, 20, 2, 1, False'],\n",
       " 94.98524274999323: ['50, 8, 3, 50, 128, True'],\n",
       " 96.06292816333162: ['50, 8, 5, 2, 4, True'],\n",
       " 96.80485229211232: ['50, 8, 10, 40, 16, False'],\n",
       " 96.90503912702067: ['50, 8, 17, 50, 8, True'],\n",
       " 96.88608486095693: ['50, 8, None, 2, 32, False'],\n",
       " 96.92670114537923: ['50, 8, None, 50, 4, True'],\n",
       " 94.47076981397741: ['50, sqrt, 3, 50, 2, False'],\n",
       " 96.8156833012916: ['50, sqrt, 13, 5, 64, False'],\n",
       " 96.92940889767404: ['50, sqrt, 13, 30, 4, False'],\n",
       " 96.90774687931548: ['50, sqrt, 17, 10, 32, False',\n",
       "  '50, None, 17, 10, 2, True',\n",
       "  '60, 8, 17, 10, 32, False'],\n",
       " 96.50699953968211: ['50, None, 10, 20, 64, True'],\n",
       " 96.49616853050283: ['50, None, 13, 40, 8, False'],\n",
       " 96.54220031951478: ['50, None, 17, 5, 64, True'],\n",
       " 90.0029785275243: ['60, 1, 1, 5, 16, False'],\n",
       " 90.03276380276732: ['60, 1, 1, 20, 8, True'],\n",
       " 93.37954563916493: ['60, 1, 4, 50, 2, False'],\n",
       " 94.34079770382606: ['60, 1, 5, 50, 64, True'],\n",
       " 95.72987463106874: ['60, 1, 10, 20, 4, False'],\n",
       " 95.59177926403292: ['60, 1, None, 5, 128, True'],\n",
       " 93.69093715306924: ['60, 2, 1, 40, 64, True'],\n",
       " 94.84443963066259: ['60, 2, 4, 30, 128, False'],\n",
       " 96.81297554899679: ['60, 2, 17, 30, 4, True',\n",
       "  '60, 3, 13, 50, 16, True',\n",
       "  '70, sqrt, 10, 30, 4, False'],\n",
       " 92.85965719855947: ['60, 3, 1, 20, 32, False'],\n",
       " 95.11521486014459: ['60, 3, 4, 30, 64, False'],\n",
       " 95.33454279602502: ['60, 3, 5, 10, 128, True'],\n",
       " 96.03043513579378: ['60, 3, 7, 10, 64, False'],\n",
       " 96.46367550296499: ['60, 3, 13, 40, 128, True'],\n",
       " 96.44472123690124: ['60, 3, 20, 40, 128, True'],\n",
       " 96.8969158701362: ['60, 3, 20, 60, 8, False'],\n",
       " 92.8894424738025: ['60, 8, 1, 10, 32, True'],\n",
       " 94.29205816251928: ['60, 8, 2, 10, 8, True', '60, 8, 2, 40, 4, True'],\n",
       " 94.25685738268663: ['60, 8, 2, 20, 4, False'],\n",
       " 95.00148926376215: ['60, 8, 3, 20, 64, True'],\n",
       " 95.65405756681379: ['60, 8, 4, 2, 64, False'],\n",
       " 96.02772738349896: ['60, 8, 5, 40, 16, False'],\n",
       " 96.92128564078958: ['60, 8, 13, 10, 16, False'],\n",
       " 96.91045463161029: ['60, 8, 25, 50, 8, False'],\n",
       " 93.42286967588205: ['60, sqrt, 1, 70, 32, True'],\n",
       " 95.66488857599307: ['60, sqrt, 5, 70, 1, False'],\n",
       " 96.34182664969808: ['60, sqrt, 7, 30, 4, True', '70, sqrt, 7, 30, 8, True'],\n",
       " 96.81839105358641: ['60, sqrt, 10, 5, 4, False'],\n",
       " 96.91316238390512: ['60, sqrt, 20, 50, 1, True'],\n",
       " 95.00690476835179: ['60, None, 3, 30, 4, True', '60, None, 3, 30, 128, True'],\n",
       " 95.84360022745119: ['60, None, 5, 10, 128, False'],\n",
       " 96.69924995261432: ['60, None, 10, 2, 16, True'],\n",
       " 96.70466545720397: ['60, None, 10, 70, 1, True'],\n",
       " 90.4470499038748: ['70, 1, 1, 60, 16, True'],\n",
       " 94.32996669464677: ['70, 1, 5, 30, 32, True'],\n",
       " 95.08001408031194: ['70, 1, 7, 5, 4, True'],\n",
       " 95.02315128212071: ['70, 1, 7, 40, 4, True'],\n",
       " 95.77861417237551: ['70, 1, 13, 10, 64, True'],\n",
       " 94.96628848392949: ['70, 2, 4, 30, 4, True'],\n",
       " 94.9554574747502: ['70, 2, 4, 50, 16, False'],\n",
       " 95.30204976848718: ['70, 2, 5, 70, 16, False'],\n",
       " 96.50429178738729: ['70, 2, 17, 30, 64, True'],\n",
       " 96.97273293439116: ['70, 2, 20, 5, 1, False'],\n",
       " 96.8021445398175: ['70, 2, 20, 60, 4, True'],\n",
       " 96.86713059489318: ['70, 2, 25, 70, 1, False'],\n",
       " 93.20895724459126: ['70, 3, 1, 20, 1, True'],\n",
       " 93.21437274918091: ['70, 3, 1, 70, 8, False'],\n",
       " 94.4680620616826: ['70, 3, 3, 2, 2, True'],\n",
       " 95.18020091522028: ['70, 3, 4, 30, 4, True'],\n",
       " 95.16666215374617: ['70, 3, 4, 70, 4, True'],\n",
       " 96.55032357639924: ['70, 3, 10, 50, 4, True'],\n",
       " 96.43118247542715: ['70, 3, 20, 60, 128, True'],\n",
       " 96.74257398933146: ['70, 3, 25, 70, 64, False'],\n",
       " 94.32455119005714: ['70, 8, 2, 2, 8, True'],\n",
       " 95.0773063280171: ['70, 8, 3, 50, 1, True', '70, 8, 3, 70, 32, True'],\n",
       " 96.23351655790529: ['70, 8, 5, 30, 64, False'],\n",
       " 96.62614064065419: ['70, 8, 10, 20, 128, True'],\n",
       " 96.93211664996886: ['70, 8, 13, 5, 8, False'],\n",
       " 93.45265495112507: ['70, sqrt, 1, 5, 8, False'],\n",
       " 94.92567219950719: ['70, sqrt, 3, 60, 8, True'],\n",
       " 95.74341339254285: ['70, sqrt, 5, 70, 128, True'],\n",
       " 96.91857788849477: ['70, sqrt, 13, 30, 1, False'],\n",
       " 96.96190192521188: ['70, sqrt, 17, 40, 4, False'],\n",
       " 96.95919417291707: ['70, sqrt, 25, 40, 8, False'],\n",
       " 96.30933362216024: ['70, None, 13, 10, 2, False'],\n",
       " 96.41764371395305: ['70, None, 13, 50, 4, False'],\n",
       " 96.3039181175706: ['70, None, 13, 70, 128, True'],\n",
       " 96.30121036527578: ['70, None, 20, 2, 128, True'],\n",
       " 96.80756004440714: ['70, None, 25, 40, 8, True']}"
      ]
     },
     "execution_count": 21,
     "metadata": {},
     "output_type": "execute_result"
    }
   ],
   "source": [
    "# Number of trees in random forest\n",
    "n_estimators = [1, 2, 5, 10, 20, 30, 40, 50, 60, 70]  # 100, 200, 400, 700, 1000, 1500, 2000]\n",
    "# Number of features to consider at every split\n",
    "max_features = [1, 2, 3, 8, 'sqrt', None]\n",
    "# Maximum number of levels in tree\n",
    "max_depths = [1, 2, 3, 4, 5, 6, 7]  #, 10, 13, 17, 20, 25]\n",
    "max_depths.append(None)\n",
    "# Minimum number of samples required to split a node\n",
    "min_samples_splits = [2, 5, 10, 20, 30, 40, 50, 60, 70]  #100, 200, 500, 1000, 2000, 5000, 10000]\n",
    "# Minimum number of samples required at each leaf node\n",
    "min_samples_leaves = [1, 2, 4, 8, 16, 32, 64, 128]  #, 256, 512, 1024, 2048, 4096]\n",
    "# Method of selecting samples for training each tree\n",
    "bootstraps = [True, False]\n",
    "\n",
    "nb_of_cases = len(n_estimators) * len(max_features) * len(max_depths) * len(min_samples_splits) * len(min_samples_leaves) * len(bootstraps)\n",
    "print(\"Nombre d'estimateurs: {}\".format(nb_of_cases))\n",
    "\n",
    "threshold = 0.005  # RATIO OF TESTED PARAMETERS\n",
    "print(\"Nombre d'estimateurs testés en théorie: {}\".format(nb_of_cases * threshold))\n",
    "\n",
    "cpt = 0\n",
    "maxValuationAccuracy = 0\n",
    "bestParams = \" \"\n",
    "resDict = {}\n",
    "for n_estimator in n_estimators:\n",
    "    for max_feature in max_features:\n",
    "        for max_depth in max_depths:\n",
    "            for min_samples_split in min_samples_splits:\n",
    "                for min_samples_leaf in min_samples_leaves:\n",
    "                    for bootstrap in bootstraps:\n",
    "                        if np.random.rand() < threshold:\n",
    "                            cpt += 1\n",
    "                            params = \"{}, {}, {}, {}, {}, {}\".format(n_estimator, max_feature, max_depth, min_samples_split, min_samples_leaf, bootstrap)\n",
    "                            print(\"{}ème itérateur: {}\".format(cpt, params))\n",
    "                            model = RandomForestClassifier(\n",
    "                                random_state = 42, \n",
    "                                n_estimators = n_estimator, \n",
    "                                max_features = max_feature,\n",
    "                                max_depth = max_depth,\n",
    "                                min_samples_split = min_samples_split,\n",
    "                                min_samples_leaf = min_samples_leaf,\n",
    "                                bootstrap = bootstrap,\n",
    "                                n_jobs=6,\n",
    "                                verbose = 1\n",
    "                            )\n",
    "                            model.fit(train_features, train_labels)\n",
    "                            acc = evaluate(model, test_features, test_labels, train_features, train_labels)\n",
    "                            if acc > maxValuationAccuracy:\n",
    "                                maxValuationAccuracy = acc\n",
    "                                bestParams = params\n",
    "                            if acc not in resDict:\n",
    "                                resDict[acc] = []\n",
    "                            resDict[acc].append(params)\n",
    "                            print(\"Best accuracy reached so far: {} for params: {}\".format(maxValuationAccuracy, bestParams))\n",
    "\n",
    "\n",
    "print(\"Nombre d'estimateurs testés: {}\".format(cpt))\n",
    "res = \"Best accuracy reached: {} for params: {}\".format(maxValuationAccuracy, bestParams)\n",
    "print(res)\n",
    "resDict\n"
   ]
  },
  {
   "cell_type": "code",
   "execution_count": 22,
   "metadata": {},
   "outputs": [
    {
     "name": "stdout",
     "output_type": "stream",
     "text": [
      "2019-01-08 01:32:00.101530\n"
     ]
    },
    {
     "data": {
      "text/plain": [
       "OrderedDict([(97.02418022799274, ['50, 3, 20, 2, 1, False']),\n",
       "             (96.98897944816008, ['20, sqrt, 25, 10, 2, True']),\n",
       "             (96.97814843898081, ['40, sqrt, 17, 40, 1, False']),\n",
       "             (96.97273293439116, ['70, 2, 20, 5, 1, False']),\n",
       "             (96.96731742980153, ['40, sqrt, None, 30, 1, False']),\n",
       "             (96.9646096775067, ['30, 8, 25, 20, 8, True']),\n",
       "             (96.96190192521188, ['70, sqrt, 17, 40, 4, False']),\n",
       "             (96.95919417291707, ['70, sqrt, 25, 40, 8, False']),\n",
       "             (96.9510709160326,\n",
       "              ['40, 8, None, 60, 4, False', '40, sqrt, 17, 10, 16, False']),\n",
       "             (96.94836316373778, ['40, 8, 17, 40, 8, True']),\n",
       "             (96.94565541144297, ['40, 3, 25, 2, 16, False']),\n",
       "             (96.94294765914813, ['40, 3, None, 50, 4, False']),\n",
       "             (96.93482440226369, ['40, sqrt, 25, 60, 8, False']),\n",
       "             (96.93211664996886, ['70, 8, 13, 5, 8, False']),\n",
       "             (96.92940889767404, ['50, sqrt, 13, 30, 4, False']),\n",
       "             (96.92670114537923, ['50, 8, None, 50, 4, True']),\n",
       "             (96.92128564078958, ['60, 8, 13, 10, 16, False']),\n",
       "             (96.91857788849477, ['70, sqrt, 13, 30, 1, False']),\n",
       "             (96.91587013619994,\n",
       "              ['20, 8, None, 70, 8, False',\n",
       "               '50, 3, 20, 70, 16, False',\n",
       "               '50, 8, 17, 20, 16, True']),\n",
       "             (96.91316238390512, ['60, sqrt, 20, 50, 1, True']),\n",
       "             (96.91045463161029, ['60, 8, 25, 50, 8, False']),\n",
       "             (96.90774687931548,\n",
       "              ['50, sqrt, 17, 10, 32, False',\n",
       "               '50, None, 17, 10, 2, True',\n",
       "               '60, 8, 17, 10, 32, False']),\n",
       "             (96.90503912702067, ['50, 8, 17, 50, 8, True']),\n",
       "             (96.8969158701362, ['60, 3, 20, 60, 8, False']),\n",
       "             (96.89420811784139, ['20, 8, 20, 60, 2, False']),\n",
       "             (96.89150036554656,\n",
       "              ['30, None, 20, 2, 4, True', '50, 8, 17, 30, 32, False']),\n",
       "             (96.88879261325174, ['20, None, 25, 10, 2, True']),\n",
       "             (96.88608486095693, ['50, 8, None, 2, 32, False']),\n",
       "             (96.88066935636728,\n",
       "              ['10, sqrt, 20, 50, 1, True',\n",
       "               '20, None, 25, 2, 4, True',\n",
       "               '30, 8, 20, 30, 32, True']),\n",
       "             (96.87525385177764,\n",
       "              ['20, 8, None, 60, 16, False', '30, None, None, 5, 4, True']),\n",
       "             (96.86713059489318, ['70, 2, 25, 70, 1, False']),\n",
       "             (96.86171509030353,\n",
       "              ['10, 8, 17, 40, 2, True', '40, 2, 20, 5, 8, False']),\n",
       "             (96.85900733800872,\n",
       "              ['10, 8, 17, 10, 2, True', '40, None, 17, 10, 8, True']),\n",
       "             (96.8562995857139,\n",
       "              ['20, 2, 25, 40, 2, False',\n",
       "               '40, 1, None, 5, 1, False',\n",
       "               '70, 8, None, 70, 32, False']),\n",
       "             (96.84546857653461,\n",
       "              ['20, 8, 17, 40, 32, True',\n",
       "               '50, 3, 25, 5, 32, False',\n",
       "               '50, 8, 13, 70, 4, True',\n",
       "               '60, sqrt, None, 60, 64, False']),\n",
       "             (96.84276082423979, ['40, 8, 10, 40, 16, True']),\n",
       "             (96.83734531965015, ['40, 2, 20, 10, 2, True']),\n",
       "             (96.83463756735534, ['30, 8, 10, 5, 8, False']),\n",
       "             (96.82651431047088, ['10, 3, 17, 30, 16, False']),\n",
       "             (96.82380655817606,\n",
       "              ['10, sqrt, None, 20, 8, True',\n",
       "               '20, sqrt, 13, 10, 32, False',\n",
       "               '30, 8, None, 10, 64, False',\n",
       "               '60, sqrt, 20, 2, 64, False']),\n",
       "             (96.82109880588123,\n",
       "              ['10, sqrt, 17, 60, 4, True', '70, sqrt, None, 5, 64, True']),\n",
       "             (96.81839105358641, ['60, sqrt, 10, 5, 4, False']),\n",
       "             (96.8156833012916, ['50, sqrt, 13, 5, 64, False']),\n",
       "             (96.81297554899679,\n",
       "              ['60, 2, 17, 30, 4, True',\n",
       "               '60, 3, 13, 50, 16, True',\n",
       "               '70, sqrt, 10, 30, 4, False']),\n",
       "             (96.81026779670195, ['30, None, 25, 50, 4, True']),\n",
       "             (96.80756004440714, ['70, None, 25, 40, 8, True']),\n",
       "             (96.80485229211232, ['50, 8, 10, 40, 16, False']),\n",
       "             (96.8021445398175, ['70, 2, 20, 60, 4, True']),\n",
       "             (96.79943678752268,\n",
       "              ['10, 8, 25, 10, 2, True', '20, 3, None, 40, 8, True']),\n",
       "             (96.79672903522786, ['40, sqrt, 10, 40, 4, False']),\n",
       "             (96.7913135306382, ['20, None, 20, 20, 16, True']),\n",
       "             (96.7886057783434,\n",
       "              ['10, 8, 25, 50, 2, True', '40, 8, 20, 70, 128, False']),\n",
       "             (96.78319027375376,\n",
       "              ['5, 8, 25, 2, 32, True',\n",
       "               '10, None, 25, 2, 4, True',\n",
       "               '70, sqrt, 10, 50, 8, False']),\n",
       "             (96.77777476916411, ['5, 8, 25, 60, 8, True']),\n",
       "             (96.7750670168693, ['5, None, None, 10, 16, True']),\n",
       "             (96.77235926457448,\n",
       "              ['5, 8, 13, 70, 32, False', '50, 2, 25, 50, 8, True']),\n",
       "             (96.76965151227965, ['30, 2, 17, 5, 8, True']),\n",
       "             (96.7615282553952, ['40, 8, 10, 40, 1, True']),\n",
       "             (96.75340499851075, ['20, 2, 25, 30, 16, False']),\n",
       "             (96.75069724621592, ['10, None, 25, 50, 4, True']),\n",
       "             (96.7479894939211, ['20, sqrt, 10, 10, 16, True']),\n",
       "             (96.74257398933146, ['70, 3, 25, 70, 64, False']),\n",
       "             (96.734450732447, ['30, 1, None, 5, 1, True']),\n",
       "             (96.72361972326772, ['30, 2, 17, 70, 8, False']),\n",
       "             (96.7209119709729, ['5, 3, 17, 5, 8, False']),\n",
       "             (96.71008096179361, ['10, 3, 25, 60, 4, True']),\n",
       "             (96.7073732094988,\n",
       "              ['5, None, 20, 60, 8, True',\n",
       "               '50, 2, 13, 2, 1, False',\n",
       "               '50, None, 10, 30, 8, True']),\n",
       "             (96.70466545720397, ['60, None, 10, 70, 1, True']),\n",
       "             (96.69924995261432, ['60, None, 10, 2, 16, True']),\n",
       "             (96.69112669572988, ['5, sqrt, 17, 5, 16, True']),\n",
       "             (96.68571119114023, ['20, sqrt, 10, 2, 1, True']),\n",
       "             (96.68300343884542, ['5, None, None, 70, 16, True']),\n",
       "             (96.67217242966613,\n",
       "              ['30, 1, 25, 20, 2, False', '70, 8, None, 30, 128, True']),\n",
       "             (96.66404917278167, ['20, 8, 25, 10, 128, False']),\n",
       "             (96.65863366819202,\n",
       "              ['10, 8, 25, 10, 64, True', '10, 8, 25, 70, 64, True']),\n",
       "             (96.65592591589721, ['30, 3, 25, 5, 64, True']),\n",
       "             (96.65321816360239, ['30, 2, 13, 5, 16, False']),\n",
       "             (96.64509490671793, ['5, 3, 17, 2, 4, False']),\n",
       "             (96.62884839294901, ['10, 2, 25, 70, 16, False']),\n",
       "             (96.62614064065419, ['70, 8, 10, 20, 128, True']),\n",
       "             (96.60989412688528,\n",
       "              ['5, sqrt, 17, 70, 64, False', '30, 8, 7, 20, 4, False']),\n",
       "             (96.599063117706,\n",
       "              ['40, 3, 25, 5, 64, True', '50, 8, 10, 20, 128, True']),\n",
       "             (96.59364761311635, ['20, 2, 20, 60, 16, True']),\n",
       "             (96.58823210852671, ['30, 8, 25, 40, 128, True']),\n",
       "             (96.57469334705262, ['30, 1, None, 20, 2, True']),\n",
       "             (96.55032357639924, ['70, 3, 10, 50, 4, True']),\n",
       "             (96.54220031951478, ['50, None, 17, 5, 64, True']),\n",
       "             (96.5340770626303,\n",
       "              ['20, 1, 20, 20, 2, False', '20, 3, 25, 60, 128, False']),\n",
       "             (96.52324605345103, ['50, 2, None, 10, 64, False']),\n",
       "             (96.52053830115621,\n",
       "              ['2, 8, 17, 50, 32, False', '50, 2, None, 30, 64, True']),\n",
       "             (96.5178305488614, ['20, None, 13, 2, 16, False']),\n",
       "             (96.51512279656657, ['50, 3, 10, 30, 32, False']),\n",
       "             (96.51241504427175,\n",
       "              ['2, 8, 13, 30, 4, True', '10, None, 10, 10, 64, True']),\n",
       "             (96.50970729197694, ['5, None, None, 5, 64, True']),\n",
       "             (96.50699953968211, ['50, None, 10, 20, 64, True']),\n",
       "             (96.50429178738729, ['70, 2, 17, 30, 64, True']),\n",
       "             (96.49887628279765, ['20, 8, 7, 30, 1, False']),\n",
       "             (96.49616853050283, ['50, None, 13, 40, 8, False']),\n",
       "             (96.47992201673391, ['40, 3, 10, 5, 64, True']),\n",
       "             (96.46909100755462,\n",
       "              ['10, 8, 25, 70, 128, True', '50, 1, 17, 10, 2, True']),\n",
       "             (96.46367550296499, ['60, 3, 13, 40, 128, True']),\n",
       "             (96.46096775067016, ['10, 3, 13, 30, 64, False']),\n",
       "             (96.45555224608053,\n",
       "              ['5, 2, 17, 5, 8, False', '30, 2, 20, 70, 64, True']),\n",
       "             (96.4501367414909,\n",
       "              ['5, sqrt, 10, 20, 4, False',\n",
       "               '40, None, 10, 30, 8, False',\n",
       "               '60, 1, 20, 10, 8, False']),\n",
       "             (96.44472123690124, ['60, 3, 20, 40, 128, True']),\n",
       "             (96.43659798001678, ['5, 3, 25, 60, 32, False']),\n",
       "             (96.43118247542715, ['70, 3, 20, 60, 128, True']),\n",
       "             (96.41764371395305, ['70, None, 13, 50, 4, False']),\n",
       "             (96.41493596165823, ['10, 2, 17, 2, 16, True']),\n",
       "             (96.4122282093634,\n",
       "              ['10, 1, 25, 40, 1, True', '30, None, 20, 50, 16, False']),\n",
       "             (96.39868944788931, ['30, 2, 13, 50, 32, True']),\n",
       "             (96.38785843871003, ['10, 8, 7, 70, 2, True']),\n",
       "             (96.37702742953074, ['10, None, 25, 70, 16, False']),\n",
       "             (96.37431967723593,\n",
       "              ['1, None, 10, 5, 8, True', '50, 1, None, 50, 8, True']),\n",
       "             (96.36619642035147, ['50, 2, 20, 5, 128, False']),\n",
       "             (96.36078091576182, ['5, sqrt, 10, 60, 32, True']),\n",
       "             (96.34182664969808,\n",
       "              ['60, sqrt, 7, 30, 4, True', '70, sqrt, 7, 30, 8, True']),\n",
       "             (96.33641114510844,\n",
       "              ['40, None, 17, 70, 64, False', '50, None, 20, 30, 64, False']),\n",
       "             (96.33370339281363, ['30, 1, 25, 20, 8, False']),\n",
       "             (96.33099564051881,\n",
       "              ['5, None, 10, 40, 64, False', '10, None, 10, 5, 64, False']),\n",
       "             (96.32828788822398, ['1, None, 20, 20, 16, False']),\n",
       "             (96.31204137445506, ['40, 2, None, 50, 128, False']),\n",
       "             (96.30933362216024, ['70, None, 13, 10, 2, False']),\n",
       "             (96.3039181175706, ['70, None, 13, 70, 128, True']),\n",
       "             (96.30121036527578, ['70, None, 20, 2, 128, True']),\n",
       "             (96.28225609921205,\n",
       "              ['40, sqrt, 7, 70, 32, True', '70, 8, 5, 30, 32, True']),\n",
       "             (96.27954834691722, ['30, 2, 10, 5, 32, False']),\n",
       "             (96.27413284232759, ['1, None, 17, 40, 32, True']),\n",
       "             (96.26871733773794, ['10, 1, 20, 40, 2, True']),\n",
       "             (96.26600958544313,\n",
       "              ['20, 1, 17, 70, 1, True', '50, 2, 10, 70, 128, True']),\n",
       "             (96.25788632855866, ['2, sqrt, 10, 5, 32, False']),\n",
       "             (96.25517857626384, ['1, None, 10, 2, 2, True']),\n",
       "             (96.25247082396903, ['20, sqrt, 7, 40, 64, False']),\n",
       "             (96.24163981478975,\n",
       "              ['5, sqrt, 10, 20, 128, True',\n",
       "               '10, None, 25, 2, 128, False',\n",
       "               '10, None, None, 40, 128, False',\n",
       "               '20, None, 7, 20, 64, True',\n",
       "               '40, None, 25, 10, 128, False']),\n",
       "             (96.23351655790529, ['70, 8, 5, 30, 64, False']),\n",
       "             (96.22810105331564,\n",
       "              ['1, 8, 17, 30, 32, False',\n",
       "               '1, None, 20, 40, 8, True',\n",
       "               '20, sqrt, 7, 10, 1, True']),\n",
       "             (96.222685548726, ['40, sqrt, 7, 5, 16, True']),\n",
       "             (96.21997779643118,\n",
       "              ['20, 1, 17, 5, 4, True', '60, 1, 20, 2, 16, False']),\n",
       "             (96.19019252118817, ['5, 2, 25, 20, 8, True']),\n",
       "             (96.18477701659852,\n",
       "              ['10, 1, 20, 20, 1, True', '60, 8, 5, 60, 32, True']),\n",
       "             (96.16582275053477, ['1, 8, 17, 60, 2, False']),\n",
       "             (96.15228398906068, ['30, None, 7, 10, 32, False']),\n",
       "             (96.14416073217622, ['2, 8, 20, 50, 128, True']),\n",
       "             (96.12249871381766,\n",
       "              ['5, 3, 25, 60, 128, False', '20, 8, 5, 60, 1, True']),\n",
       "             (96.11166770463838,\n",
       "              ['10, 2, 25, 60, 128, False', '50, None, 7, 50, 128, True']),\n",
       "             (96.10354444775392, ['1, sqrt, 17, 70, 8, False']),\n",
       "             (96.09542119086946,\n",
       "              ['10, None, 7, 50, 64, False', '30, None, 7, 2, 64, False']),\n",
       "             (96.09271343857463, ['50, 1, 20, 70, 16, True']),\n",
       "             (96.09000568627982, ['10, 2, 17, 60, 128, False']),\n",
       "             (96.08459018169017, ['2, None, 7, 50, 128, True']),\n",
       "             (96.06292816333162, ['50, 8, 5, 2, 4, True']),\n",
       "             (96.05480490644716, ['30, None, None, 40, 1, False']),\n",
       "             (96.04126614497306, ['2, None, 7, 2, 128, False']),\n",
       "             (96.03043513579378, ['60, 3, 7, 10, 64, False']),\n",
       "             (96.02772738349896, ['60, 8, 5, 40, 16, False']),\n",
       "             (96.01689637431969, ['40, 1, 25, 50, 32, True']),\n",
       "             (96.01148086973004, ['40, 3, 7, 5, 16, True']),\n",
       "             (96.00064986055075, ['1, sqrt, 25, 70, 32, False']),\n",
       "             (95.99252660366629, ['40, 3, 7, 30, 4, False']),\n",
       "             (95.98981885137148, ['2, 3, None, 70, 8, True']),\n",
       "             (95.9789878421922, ['5, 2, 17, 70, 32, True']),\n",
       "             (95.96815683301291, ['5, sqrt, 7, 60, 8, True']),\n",
       "             (95.95732582383364, ['40, 3, 7, 40, 4, True']),\n",
       "             (95.95191031924399, ['2, sqrt, 17, 10, 1, False']),\n",
       "             (95.9383715577699, ['20, 1, 13, 70, 8, True']),\n",
       "             (95.9248327962958,\n",
       "              ['5, None, 5, 60, 4, True', '70, None, 5, 10, 2, False']),\n",
       "             (95.92212504400098, ['2, sqrt, 10, 5, 128, False']),\n",
       "             (95.90587853023206, ['5, 1, None, 50, 1, True']),\n",
       "             (95.8977552733476,\n",
       "              ['2, 3, 13, 20, 4, True', '2, None, 5, 50, 8, True']),\n",
       "             (95.88692426416831, ['10, 8, 5, 2, 16, True']),\n",
       "             (95.88421651187349, ['2, 3, 13, 30, 1, False']),\n",
       "             (95.86255449351493,\n",
       "              ['1, None, 5, 60, 1, True',\n",
       "               '20, None, 5, 5, 64, False',\n",
       "               '30, None, 5, 30, 64, False',\n",
       "               '40, None, 5, 40, 64, False']),\n",
       "             (95.85443123663048, ['10, 8, 5, 10, 128, False']),\n",
       "             (95.84901573204083, ['2, 3, None, 10, 4, True']),\n",
       "             (95.84360022745119, ['60, None, 5, 10, 128, False']),\n",
       "             (95.84089247515637, ['50, 1, 10, 70, 2, True']),\n",
       "             (95.81923045679781,\n",
       "              ['1, sqrt, 13, 70, 128, False',\n",
       "               '2, 8, 7, 50, 8, False',\n",
       "               '5, sqrt, 7, 70, 2, False']),\n",
       "             (95.80298394302889, ['10, 1, 13, 50, 1, False']),\n",
       "             (95.80027619073407, ['50, 1, 13, 40, 32, True']),\n",
       "             (95.79756843843926,\n",
       "              ['2, 3, 20, 20, 32, True', '70, 1, None, 60, 64, True']),\n",
       "             (95.79215293384962,\n",
       "              ['50, 3, 7, 50, 128, True', '60, 1, 20, 5, 128, False']),\n",
       "             (95.77861417237551, ['70, 1, 13, 10, 64, True']),\n",
       "             (95.77319866778588, ['40, 2, 7, 5, 4, True']),\n",
       "             (95.76236765860659, ['10, 8, 5, 60, 2, True']),\n",
       "             (95.75695215401694, ['1, sqrt, None, 40, 8, True']),\n",
       "             (95.74341339254285, ['70, sqrt, 5, 70, 128, True']),\n",
       "             (95.73258238336358, ['30, 1, 10, 50, 2, True']),\n",
       "             (95.72987463106874, ['60, 1, 10, 20, 4, False']),\n",
       "             (95.70821261271018, ['30, 2, 7, 70, 2, True']),\n",
       "             (95.70550486041537, ['2, 3, 10, 40, 2, False']),\n",
       "             (95.69196609894128, ['1, sqrt, 13, 40, 8, True']),\n",
       "             (95.68925834664644,\n",
       "              ['50, 1, 10, 70, 8, True', '50, 1, None, 40, 64, True']),\n",
       "             (95.66488857599307, ['60, sqrt, 5, 70, 1, False']),\n",
       "             (95.65405756681379, ['60, 8, 4, 2, 64, False']),\n",
       "             (95.64864206222414,\n",
       "              ['10, 1, 17, 30, 16, False', '60, None, 4, 5, 4, True']),\n",
       "             (95.64593430992933,\n",
       "              ['5, None, 4, 2, 8, False',\n",
       "               '10, None, 4, 70, 16, False',\n",
       "               '30, None, 4, 10, 4, False']),\n",
       "             (95.6405188053397, ['2, 2, None, 70, 8, True']),\n",
       "             (95.61073353009667,\n",
       "              ['40, sqrt, 5, 70, 32, True', '60, None, 4, 30, 128, False']),\n",
       "             (95.59177926403292, ['60, 1, None, 5, 128, True']),\n",
       "             (95.57011724567437,\n",
       "              ['1, sqrt, 10, 30, 32, False', '1, sqrt, 25, 50, 32, True']),\n",
       "             (95.56199398878991, ['20, sqrt, 5, 5, 8, True']),\n",
       "             (95.55928623649508,\n",
       "              ['1, sqrt, 17, 30, 64, True', '60, 1, 25, 70, 128, True']),\n",
       "             (95.54574747502099, ['2, 3, 17, 30, 64, True']),\n",
       "             (95.52679320895724, ['5, 1, 17, 30, 4, False']),\n",
       "             (95.51325444748315, ['20, 1, 25, 50, 128, False']),\n",
       "             (95.51054669518832, ['30, sqrt, 5, 70, 4, False']),\n",
       "             (95.49159242912458, ['20, sqrt, 4, 50, 1, True']),\n",
       "             (95.48888467682977, ['5, 3, 7, 5, 32, True']),\n",
       "             (95.4672226584712, ['20, 8, 4, 5, 8, True']),\n",
       "             (95.45909940158674,\n",
       "              ['1, 3, None, 70, 1, False',\n",
       "               '40, sqrt, 5, 2, 128, False',\n",
       "               '50, 2, 5, 30, 32, True']),\n",
       "             (95.44556064011265, ['10, None, None, 10, 1, False']),\n",
       "             (95.440145135523, ['40, 8, 4, 70, 1, False']),\n",
       "             (95.41848311716444, ['30, 8, 4, 60, 2, False']),\n",
       "             (95.40765210798516, ['1, 8, 7, 20, 32, False']),\n",
       "             (95.39140559421624, ['30, 3, 5, 40, 64, True']),\n",
       "             (95.38869784192143,\n",
       "              ['20, 2, 7, 2, 8, False', '60, sqrt, 4, 20, 64, False']),\n",
       "             (95.37515908044732, ['2, 3, 10, 30, 64, False']),\n",
       "             (95.36432807126805, ['50, 3, 5, 40, 128, True']),\n",
       "             (95.33454279602502, ['60, 3, 5, 10, 128, True']),\n",
       "             (95.31288077766646, ['40, sqrt, 4, 5, 8, False']),\n",
       "             (95.30204976848718, ['70, 2, 5, 70, 16, False']),\n",
       "             (95.29934201619236, ['1, sqrt, 17, 40, 128, True']),\n",
       "             (95.25331022718042, ['50, 2, 5, 5, 2, True']),\n",
       "             (95.22081719964257, ['2, 3, 10, 2, 64, True']),\n",
       "             (95.19915518128401, ['5, 2, 10, 30, 64, True']),\n",
       "             (95.18832417210473, ['40, 2, 5, 70, 2, False']),\n",
       "             (95.18020091522028, ['70, 3, 4, 30, 4, True']),\n",
       "             (95.16666215374617, ['70, 3, 4, 70, 4, True']),\n",
       "             (95.15853889686171, ['1, 8, 5, 60, 128, False']),\n",
       "             (95.11521486014459, ['60, 3, 4, 30, 64, False']),\n",
       "             (95.10979935555496, ['20, 3, 5, 20, 128, False']),\n",
       "             (95.09626059408085, ['50, 3, 4, 50, 16, False']),\n",
       "             (95.08272183260675,\n",
       "              ['1, 3, 17, 60, 32, True', '50, 3, 4, 10, 32, True']),\n",
       "             (95.08001408031194, ['70, 1, 7, 5, 4, True']),\n",
       "             (95.0773063280171,\n",
       "              ['70, 8, 3, 50, 1, True', '70, 8, 3, 70, 32, True']),\n",
       "             (95.06918307113266, ['40, 1, 7, 30, 1, False']),\n",
       "             (95.063767566543, ['5, sqrt, 5, 30, 64, False']),\n",
       "             (95.02315128212071, ['70, 1, 7, 40, 4, True']),\n",
       "             (95.01773577753107,\n",
       "              ['10, 1, 13, 60, 32, False', '30, 2, 5, 5, 2, False']),\n",
       "             (95.01232027294144,\n",
       "              ['5, None, 3, 10, 16, False',\n",
       "               '10, None, 3, 5, 16, False',\n",
       "               '10, None, 3, 40, 1, False',\n",
       "               '10, None, 3, 50, 4, False',\n",
       "               '20, None, 3, 40, 64, False',\n",
       "               '40, None, 3, 2, 1, False',\n",
       "               '40, None, 3, 2, 64, False',\n",
       "               '60, None, 3, 30, 1, False',\n",
       "               '70, None, 3, 5, 1, False']),\n",
       "             (95.00961252064661, ['20, None, 3, 50, 4, True']),\n",
       "             (95.00690476835179,\n",
       "              ['60, None, 3, 30, 4, True', '60, None, 3, 30, 128, True']),\n",
       "             (95.00148926376215, ['60, 8, 3, 20, 64, True']),\n",
       "             (94.99878151146733, ['40, 8, 3, 50, 2, True']),\n",
       "             (94.99065825458287,\n",
       "              ['30, 8, 3, 2, 128, False', '30, 8, 3, 5, 128, False']),\n",
       "             (94.98524274999323, ['50, 8, 3, 50, 128, True']),\n",
       "             (94.97711949310877, ['50, 2, 4, 10, 128, True']),\n",
       "             (94.96628848392949, ['70, 2, 4, 30, 4, True']),\n",
       "             (94.9554574747502, ['70, 2, 4, 50, 16, False']),\n",
       "             (94.95004197016057, ['1, 3, 10, 5, 32, False']),\n",
       "             (94.93108770409683, ['10, 8, 4, 70, 32, False']),\n",
       "             (94.92567219950719, ['70, sqrt, 3, 60, 8, True']),\n",
       "             (94.87151715361078, ['30, 3, 4, 70, 128, False']),\n",
       "             (94.85527063984188, ['30, 3, 4, 40, 4, True']),\n",
       "             (94.84985513525223, ['40, 2, 4, 30, 4, False']),\n",
       "             (94.84443963066259, ['60, 2, 4, 30, 128, False']),\n",
       "             (94.79028458476618, ['10, 8, 4, 2, 128, True']),\n",
       "             (94.74696054804906, ['1, 3, None, 40, 128, False']),\n",
       "             (94.70905201592159, ['10, 2, 7, 2, 8, False']),\n",
       "             (94.6982210067423,\n",
       "              ['1, 2, 13, 40, 1, False', '20, 3, 4, 70, 64, True']),\n",
       "             (94.69009774985784, ['20, 2, 5, 30, 128, True']),\n",
       "             (94.67655898838375, ['10, 1, 20, 50, 64, True']),\n",
       "             (94.61157293330807,\n",
       "              ['2, 2, 25, 5, 128, True', '2, 2, None, 50, 128, True']),\n",
       "             (94.5628333920013, ['5, 1, 20, 40, 64, False']),\n",
       "             (94.53304811675828, ['1, 3, 10, 2, 128, True']),\n",
       "             (94.51409385069454, ['20, 1, 7, 50, 1, True']),\n",
       "             (94.50597059381008, ['2, 1, None, 5, 16, True']),\n",
       "             (94.47076981397741, ['50, sqrt, 3, 50, 2, False']),\n",
       "             (94.4680620616826, ['70, 3, 3, 2, 2, True']),\n",
       "             (94.46535430938778, ['20, 2, 4, 50, 8, False']),\n",
       "             (94.45452330020849,\n",
       "              ['10, sqrt, 3, 30, 2, True', '70, 3, 3, 60, 32, True']),\n",
       "             (94.4409845387344, ['10, sqrt, 3, 2, 1, False']),\n",
       "             (94.42473802496548, ['40, 3, 3, 20, 1, True']),\n",
       "             (94.41932252037584, ['1, 2, 17, 40, 8, False']),\n",
       "             (94.386829492838,\n",
       "              ['30, None, 2, 10, 4, False',\n",
       "               '40, None, 2, 40, 1, False',\n",
       "               '40, None, 2, 50, 128, False']),\n",
       "             (94.3732907313639, ['20, 1, 7, 20, 32, False']),\n",
       "             (94.3597519698898,\n",
       "              ['1, 8, 3, 30, 4, False',\n",
       "               '1, 8, 3, 30, 16, False',\n",
       "               '1, 8, 3, 70, 8, False']),\n",
       "             (94.34079770382606, ['60, 1, 5, 50, 64, True']),\n",
       "             (94.32996669464677, ['70, 1, 5, 30, 32, True']),\n",
       "             (94.32455119005714, ['70, 8, 2, 2, 8, True']),\n",
       "             (94.29205816251928,\n",
       "              ['60, 8, 2, 10, 8, True', '60, 8, 2, 40, 4, True']),\n",
       "             (94.28393490563484,\n",
       "              ['50, 3, 3, 60, 1, False',\n",
       "               '50, 3, 3, 60, 32, False',\n",
       "               '60, 1, 5, 60, 32, True']),\n",
       "             (94.25685738268663, ['60, 8, 2, 20, 4, False']),\n",
       "             (94.24873412580217, ['1, 2, 13, 20, 64, True']),\n",
       "             (94.24061086891771, ['5, 8, 3, 20, 16, True']),\n",
       "             (94.20541008908505,\n",
       "              ['5, 8, 3, 60, 2, False', '50, 1, 5, 50, 4, True']),\n",
       "             (94.18916357531613, ['1, 1, 20, 30, 1, True']),\n",
       "             (94.08626898811296, ['10, 2, 5, 5, 32, False']),\n",
       "             (94.01315967615282,\n",
       "              ['5, 1, 10, 50, 2, True', '70, 3, 2, 70, 16, False']),\n",
       "             (93.99420541008908, ['30, sqrt, 3, 60, 1, True']),\n",
       "             (93.98066664861499, ['2, 8, 2, 20, 16, True']),\n",
       "             (93.97795889632017, ['20, 3, 3, 50, 128, True']),\n",
       "             (93.88589531829629, ['50, 2, 2, 60, 2, True']),\n",
       "             (93.86423329993772, ['10, 2, 5, 60, 1, False']),\n",
       "             (93.7532154558501, ['10, 3, 2, 40, 8, False']),\n",
       "             (93.7125991714278, ['5, sqrt, 3, 40, 128, False']),\n",
       "             (93.70176816224853, ['50, 3, 2, 40, 1, False']),\n",
       "             (93.69093715306924, ['60, 2, 1, 40, 64, True']),\n",
       "             (93.66115187782623,\n",
       "              ['30, 8, 2, 10, 128, True', '30, 8, 2, 30, 16, True']),\n",
       "             (93.61512008881428,\n",
       "              ['40, 2, 1, 5, 4, False',\n",
       "               '40, 2, 1, 70, 2, False',\n",
       "               '70, 2, 1, 2, 2, True']),\n",
       "             (93.60158132734017, ['2, 1, 13, 5, 32, False']),\n",
       "             (93.59616582275054,\n",
       "              ['10, 1, 7, 10, 32, True',\n",
       "               '10, 1, 7, 60, 32, True',\n",
       "               '60, 2, 2, 70, 128, True']),\n",
       "             (93.59345807045571,\n",
       "              ['2, 3, 5, 20, 4, True', '2, 3, 5, 30, 2, True']),\n",
       "             (93.5907503181609, ['2, 3, 5, 2, 16, True']),\n",
       "             (93.56908829980235,\n",
       "              ['2, sqrt, 3, 5, 4, False', '30, 1, 5, 2, 16, True']),\n",
       "             (93.53659527226449,\n",
       "              ['10, 1, 7, 5, 32, False', '10, 2, 5, 40, 128, True']),\n",
       "             (93.51764100620075, ['20, 1, 5, 30, 16, False']),\n",
       "             (93.48514797866291, ['1, 1, 20, 40, 2, True']),\n",
       "             (93.48244022636808, ['1, 2, 20, 20, 64, True']),\n",
       "             (93.45265495112507, ['70, sqrt, 1, 5, 8, False']),\n",
       "             (93.42286967588205, ['60, sqrt, 1, 70, 32, True']),\n",
       "             (93.37954563916493, ['60, 1, 4, 50, 2, False']),\n",
       "             (93.35788362080638, ['30, 2, 1, 2, 16, False']),\n",
       "             (93.31455958408925, ['30, sqrt, 2, 40, 128, True']),\n",
       "             (93.29831307032033, ['5, 8, 2, 5, 16, True']),\n",
       "             (93.28748206114105, ['30, 3, 2, 5, 1, True']),\n",
       "             (93.24957352901356,\n",
       "              ['2, sqrt, 3, 10, 128, True', '2, sqrt, 3, 60, 8, True']),\n",
       "             (93.23332701524465, ['10, 2, 4, 20, 4, False']),\n",
       "             (93.23061926294982, ['2, 2, 7, 30, 1, True']),\n",
       "             (93.21437274918091, ['70, 3, 1, 70, 8, False']),\n",
       "             (93.20895724459126, ['70, 3, 1, 20, 1, True']),\n",
       "             (93.16563320787414, ['40, sqrt, 1, 50, 4, False']),\n",
       "             (93.15480219869487, ['50, 1, 4, 20, 16, True']),\n",
       "             (93.10877040968293, ['50, 1, 4, 30, 32, True']),\n",
       "             (93.092523895914,\n",
       "              ['2, 3, 4, 2, 32, True', '2, 3, 4, 70, 4, True']),\n",
       "             (93.04107660231242, ['30, 1, 4, 20, 1, False']),\n",
       "             (93.01399907936421, ['5, 2, 5, 30, 64, True']),\n",
       "             (92.9435975196989, ['1, 1, 20, 60, 16, True']),\n",
       "             (92.90568898757141, ['1, 2, 10, 2, 1, True']),\n",
       "             (92.8894424738025, ['60, 8, 1, 10, 32, True']),\n",
       "             (92.85965719855947, ['60, 3, 1, 20, 32, False']),\n",
       "             (92.73510059299775, ['20, sqrt, 1, 20, 2, True']),\n",
       "             (92.70531531775474, ['50, 1, 3, 60, 2, False']),\n",
       "             (92.62679050120495, ['20, 3, 1, 40, 4, True']),\n",
       "             (92.52389591400178,\n",
       "              ['5, sqrt, 1, 30, 64, True', '5, sqrt, 1, 40, 128, False']),\n",
       "             (92.50223389564323, ['30, 8, 1, 5, 1, True']),\n",
       "             (92.4724486204002,\n",
       "              ['1, 8, 1, 10, 4, True',\n",
       "               '2, None, 1, 30, 32, False',\n",
       "               '5, None, 1, 30, 32, False',\n",
       "               '10, 8, 1, 5, 32, True',\n",
       "               '10, sqrt, 1, 40, 64, False',\n",
       "               '20, None, 1, 2, 1, True',\n",
       "               '40, None, 1, 50, 16, True',\n",
       "               '50, None, 1, 20, 4, True',\n",
       "               '70, None, 1, 20, 128, False',\n",
       "               '70, None, 1, 50, 2, False']),\n",
       "             (92.4318323359779, ['2, 2, 5, 70, 8, True']),\n",
       "             (92.34247651024884, ['30, 1, 3, 2, 1, False']),\n",
       "             (92.32622999647992, ['20, 1, 4, 70, 16, False']),\n",
       "             (92.0933632991254, ['40, 1, 3, 5, 4, False']),\n",
       "             (91.84154233570713, ['5, 2, 4, 20, 4, True']),\n",
       "             (91.82529582193821, ['5, 2, 4, 10, 32, True']),\n",
       "             (91.768433023747, ['10, 1, 5, 10, 128, False']),\n",
       "             (91.74135550079879,\n",
       "              ['2, 1, 4, 50, 8, False', '2, 1, 4, 60, 2, False']),\n",
       "             (91.72510898702987, ['10, 1, 5, 5, 16, True']),\n",
       "             (91.64658417048008, ['1, 1, None, 10, 16, False']),\n",
       "             (91.59784462917332, ['1, 1, 10, 60, 1, True']),\n",
       "             (91.527443069508,\n",
       "              ['1, sqrt, 3, 30, 64, False', '1, sqrt, 3, 50, 1, True']),\n",
       "             (91.3785166932929, ['10, 2, 3, 20, 16, True']),\n",
       "             (91.3379004088706, ['10, 3, 1, 70, 16, False']),\n",
       "             (91.00755462890255, ['5, 1, 5, 30, 128, False']),\n",
       "             (90.85862825268745, ['5, 1, 5, 60, 4, False']),\n",
       "             (90.83425848203406, ['10, 1, 4, 60, 8, False']),\n",
       "             (90.59056077550026, ['2, 2, 4, 40, 64, False']),\n",
       "             (90.4470499038748, ['70, 1, 1, 60, 16, True']),\n",
       "             (90.41455687633695,\n",
       "              ['2, sqrt, 1, 20, 128, False',\n",
       "               '2, sqrt, 1, 40, 64, False',\n",
       "               '2, sqrt, 1, 60, 1, False']),\n",
       "             (90.40914137174731, ['1, 2, 5, 40, 2, True']),\n",
       "             (90.30083127995451, ['1, sqrt, 2, 60, 8, True']),\n",
       "             (90.23042972028918,\n",
       "              ['10, 2, 2, 30, 16, False', '10, 2, 2, 70, 64, False']),\n",
       "             (90.08962660095854, ['50, 1, 1, 20, 4, False']),\n",
       "             (90.08691884866373,\n",
       "              ['40, 1, 2, 10, 4, True', '40, 1, 2, 30, 16, True']),\n",
       "             (90.06525683030516, ['50, 1, 1, 50, 64, True']),\n",
       "             (90.03276380276732, ['60, 1, 1, 20, 8, True']),\n",
       "             (90.0029785275243, ['60, 1, 1, 5, 16, False']),\n",
       "             (89.68075600444071, ['30, 1, 2, 50, 1, False']),\n",
       "             (89.64284747231324,\n",
       "              ['5, 3, 1, 2, 8, False',\n",
       "               '5, 3, 1, 70, 2, False',\n",
       "               '5, 3, 1, 70, 16, True']),\n",
       "             (89.60764669248057, ['2, 1, 5, 60, 32, True']),\n",
       "             (88.76012022420188,\n",
       "              ['2, 3, 3, 50, 4, True', '2, 3, 3, 70, 4, True']),\n",
       "             (88.55433104979556, ['1, 1, 4, 50, 1, True']),\n",
       "             (88.49205274701471, ['40, 1, 1, 60, 2, False']),\n",
       "             (88.397281416696, ['2, 3, 1, 40, 8, False']),\n",
       "             (88.14275270098292, ['30, 1, 1, 5, 64, False']),\n",
       "             (88.09130540738134, ['30, 1, 1, 30, 32, True']),\n",
       "             (87.37916655384366, ['1, 2, 4, 20, 128, True']),\n",
       "             (86.85657036094338, ['1, 3, 3, 60, 8, False']),\n",
       "             (86.7645067829195, ['10, 1, 3, 20, 2, True']),\n",
       "             (85.69223687417076, ['2, 1, 3, 2, 2, True']),\n",
       "             (83.11445668950205, ['5, 2, 2, 20, 128, True']),\n",
       "             (82.66767756085673, ['5, 2, 2, 2, 16, False']),\n",
       "             (76.3207061817985, ['5, 1, 2, 50, 128, False']),\n",
       "             (71.79063659256451, ['2, 1, 2, 40, 128, False']),\n",
       "             (70.88353957379978, ['1, 1, 2, 40, 8, False']),\n",
       "             (64.38493406623162, ['2, 2, 1, 5, 64, True']),\n",
       "             (62.94170209309252,\n",
       "              ['1, 1, 1, 5, 1, False',\n",
       "               '1, 1, 1, 20, 2, False',\n",
       "               '1, 2, 1, 60, 16, False'])])"
      ]
     },
     "execution_count": 22,
     "metadata": {},
     "output_type": "execute_result"
    }
   ],
   "source": [
    "import datetime\n",
    "print(datetime.datetime.now())\n",
    "\n",
    "from collections import OrderedDict\n",
    "od = OrderedDict(sorted(resDict.items(), reverse=True))\n",
    "od"
   ]
  },
  {
   "cell_type": "markdown",
   "metadata": {},
   "source": [
    "# Example of the results for a small random search\n",
    "OrderedDict([(95.75311530275707, ['200, sqrt, 7, 2, 64, False']),\n",
    "             (95.66863251612484, ['1000, 8, 7, 5, 256, False']),\n",
    "             (95.65563516433527, ['5, 3, 10, 100, 16, True']),\n",
    "             (95.09999837533103, ['400, 8, 17, 1000, 1024, True']),\n",
    "             (93.10815421357898, ['50, 1, 13, 10000, 2048, False']),\n",
    "             (91.79867102077952, ['1, 2, 10, 1000, 1024, True']),\n",
    "             (83.55347597926922, ['5, 1, 2, 10000, 128, False'])])\n",
    "             \n",
    "# We build our base_model on the best parameters we found"
   ]
  },
  {
   "cell_type": "code",
   "execution_count": 9,
   "metadata": {},
   "outputs": [],
   "source": [
    "# bestParams = '1, None, 4, 16, 2, False' # To display a short decision tree\n",
    "bestParams = '50, 3, 20, 2, 1, False' # To try a model by hand, otherwise, this is automatically set by the random parameter search\n",
    "params = bestParams.split(\", \")\n",
    "max_features = int(params[1]) if params[1].isdigit() else params[1] if params[1] != \"None\" else None\n",
    "base_model = RandomForestClassifier(\n",
    "                                random_state = 42, \n",
    "                                n_estimators = int(params[0]), \n",
    "                                max_features = max_features,\n",
    "                                max_depth = int(params[2]),\n",
    "                                min_samples_split = int(params[3]),\n",
    "                                min_samples_leaf = int(params[4]),\n",
    "                                bootstrap = bool(params[5]),\n",
    "                                n_jobs=-1,\n",
    "                                verbose = 1\n",
    "                            )"
   ]
  },
  {
   "cell_type": "markdown",
   "metadata": {},
   "source": [
    "##### Evaluate the Default Model"
   ]
  },
  {
   "cell_type": "code",
   "execution_count": 10,
   "metadata": {},
   "outputs": [
    {
     "name": "stderr",
     "output_type": "stream",
     "text": [
      "[Parallel(n_jobs=-1)]: Using backend ThreadingBackend with 12 concurrent workers.\n",
      "[Parallel(n_jobs=-1)]: Done  26 tasks      | elapsed:    1.2s\n",
      "[Parallel(n_jobs=-1)]: Done  50 out of  50 | elapsed:    1.9s finished\n",
      "[Parallel(n_jobs=12)]: Using backend ThreadingBackend with 12 concurrent workers.\n",
      "[Parallel(n_jobs=12)]: Done  26 tasks      | elapsed:    0.0s\n",
      "[Parallel(n_jobs=12)]: Done  50 out of  50 | elapsed:    0.0s finished\n",
      "[Parallel(n_jobs=12)]: Using backend ThreadingBackend with 12 concurrent workers.\n"
     ]
    },
    {
     "name": "stdout",
     "output_type": "stream",
     "text": [
      "Test accuracy = 96.59%. Train accuracy = 99.01%.\n"
     ]
    },
    {
     "name": "stderr",
     "output_type": "stream",
     "text": [
      "[Parallel(n_jobs=12)]: Done  26 tasks      | elapsed:    0.1s\n",
      "[Parallel(n_jobs=12)]: Done  50 out of  50 | elapsed:    0.1s finished\n"
     ]
    },
    {
     "data": {
      "text/plain": [
       "96.58552435623189"
      ]
     },
     "execution_count": 10,
     "metadata": {},
     "output_type": "execute_result"
    }
   ],
   "source": [
    "base_model.fit(train_features, train_labels)\n",
    "evaluate(base_model, test_features, test_labels, train_features, train_labels)"
   ]
  },
  {
   "cell_type": "markdown",
   "metadata": {},
   "source": [
    "## Date rule implementation\n",
    "We use the fact that the source document should be dated before the target document to reduce our error"
   ]
  },
  {
   "cell_type": "code",
   "execution_count": 11,
   "metadata": {},
   "outputs": [
    {
     "name": "stdout",
     "output_type": "stream",
     "text": [
      "Changed 0 + 0 values on 36931 Test accuracy = 96.59%. \n"
     ]
    },
    {
     "name": "stderr",
     "output_type": "stream",
     "text": [
      "[Parallel(n_jobs=12)]: Using backend ThreadingBackend with 12 concurrent workers.\n",
      "[Parallel(n_jobs=12)]: Done  26 tasks      | elapsed:    0.0s\n",
      "[Parallel(n_jobs=12)]: Done  50 out of  50 | elapsed:    0.0s finished\n"
     ]
    },
    {
     "data": {
      "text/plain": [
       "96.58552435623189"
      ]
     },
     "execution_count": 11,
     "metadata": {},
     "output_type": "execute_result"
    }
   ],
   "source": [
    "def improve_predictions(test_features, predictions, date_threshold):\n",
    "    modified_date = 0\n",
    "    modified_title = 0\n",
    "    new_predictions = predictions.copy()\n",
    "    for i in range(len(test_features)):\n",
    "        if test_features[i][1] < date_threshold:\n",
    "            new_predictions[i] = 0\n",
    "            modified_date += 1\n",
    "        if \"title_cited\" in to_keep and test_features[i][to_keep.index(\"title_cited\")] > 0:\n",
    "            new_predictions[i] = 1\n",
    "            modified_title += 1\n",
    "    print(\"Changed {} + {} values on {} \".format(modified_date, modified_title, len(predictions)), end='')\n",
    "    return new_predictions\n",
    "\n",
    "predictions = base_model.predict(test_features)\n",
    "new_preds = improve_predictions(test_features, predictions, -100)  # -100 => only title improvements\n",
    "\n",
    "def accuracy(predictions, test_labels):\n",
    "    errors = abs(predictions - test_labels).sum()  # nb of errors\n",
    "    test_accuracy = (1 - 1. * errors / len(test_labels)) * 100\n",
    "    print('Test accuracy = {:0.2f}%. '.format(test_accuracy))\n",
    "    return test_accuracy\n",
    "\n",
    "accuracy(new_preds, test_labels)"
   ]
  },
  {
   "cell_type": "markdown",
   "metadata": {},
   "source": [
    "# We try to find the best threshold\n",
    "We do this hyper-parameter tuning on the test data. This isn't good practice, we should use a validation set for hyper-parameter tuning. However, we just fit a single value and the curve is pretty smooth actually around the maximum (there is a huge drop when we go further than the 1 year gap)."
   ]
  },
  {
   "cell_type": "code",
   "execution_count": 12,
   "metadata": {},
   "outputs": [
    {
     "name": "stdout",
     "output_type": "stream",
     "text": [
      "Test accuracy = 96.59%. \n",
      "baseline 96.58552435623189\n",
      "-2.00 Changed 1961 + 0 values on 36931 Test accuracy = 96.58%. \n",
      "-1.90 Changed 1961 + 0 values on 36931 Test accuracy = 96.58%. \n",
      "-1.80 Changed 1961 + 0 values on 36931 Test accuracy = 96.58%. \n",
      "-1.70 Changed 2784 + 0 values on 36931 Test accuracy = 96.57%. \n",
      "-1.60 Changed 2784 + 0 values on 36931 Test accuracy = 96.57%. \n",
      "-1.50 Changed 2784 + 0 values on 36931 Test accuracy = 96.57%. \n",
      "-1.40 Changed 3730 + 0 values on 36931 Test accuracy = 96.56%. \n",
      "-1.30 Changed 3730 + 0 values on 36931 Test accuracy = 96.56%. \n",
      "-1.20 Changed 3730 + 0 values on 36931 Test accuracy = 96.56%. \n",
      "-1.10 Changed 4858 + 0 values on 36931 Test accuracy = 96.56%. \n",
      "-1.00 Changed 4858 + 0 values on 36931 Test accuracy = 96.56%. \n",
      "-0.90 Changed 4858 + 0 values on 36931 Test accuracy = 96.56%. \n",
      "-0.80 Changed 6198 + 0 values on 36931 Test accuracy = 96.54%. \n",
      "-0.70 Changed 6198 + 0 values on 36931 Test accuracy = 96.54%. \n",
      "-0.60 Changed 7718 + 0 values on 36931 Test accuracy = 96.36%. \n",
      "-0.50 Changed 7718 + 0 values on 36931 Test accuracy = 96.36%. \n",
      "-0.40 Changed 7718 + 0 values on 36931 Test accuracy = 96.36%. \n",
      "-0.30 Changed 13349 + 0 values on 36931 Test accuracy = 85.81%. \n",
      "-0.20 Changed 13349 + 0 values on 36931 Test accuracy = 85.81%. \n",
      "-0.10 Changed 13349 + 0 values on 36931 Test accuracy = 85.81%. \n",
      " 0.00 Changed 20488 + 0 values on 36931 Test accuracy = 71.04%. \n",
      " 0.10 Changed 20488 + 0 values on 36931 Test accuracy = 71.04%. \n",
      " 0.20 Changed 20488 + 0 values on 36931 Test accuracy = 71.04%. \n",
      " 0.30 Changed 25399 + 0 values on 36931 Test accuracy = 61.94%. \n",
      " 0.40 Changed 25399 + 0 values on 36931 Test accuracy = 61.94%. \n",
      " 0.50 Changed 25399 + 0 values on 36931 Test accuracy = 61.94%. \n",
      " 0.60 Changed 28955 + 0 values on 36931 Test accuracy = 55.89%. \n",
      " 0.70 Changed 28955 + 0 values on 36931 Test accuracy = 55.89%. \n",
      " 0.80 Changed 28955 + 0 values on 36931 Test accuracy = 55.89%. \n",
      " 0.90 Changed 31506 + 0 values on 36931 Test accuracy = 52.01%. \n",
      " 1.00 Changed 31506 + 0 values on 36931 Test accuracy = 52.01%. \n",
      " 1.10 Changed 33295 + 0 values on 36931 Test accuracy = 49.61%. \n",
      " 1.20 Changed 33295 + 0 values on 36931 Test accuracy = 49.61%. \n",
      " 1.30 Changed 33295 + 0 values on 36931 Test accuracy = 49.61%. \n",
      " 1.40 Changed 34580 + 0 values on 36931 Test accuracy = 48.07%. \n",
      " 1.50 Changed 34580 + 0 values on 36931 Test accuracy = 48.07%. \n",
      " 1.60 Changed 34580 + 0 values on 36931 Test accuracy = 48.07%. \n",
      " 1.70 Changed 35567 + 0 values on 36931 Test accuracy = 46.92%. \n",
      " 1.80 Changed 35567 + 0 values on 36931 Test accuracy = 46.92%. \n",
      " 1.90 Changed 35567 + 0 values on 36931 Test accuracy = 46.92%. \n",
      " 2.00 Changed 36259 + 0 values on 36931 Test accuracy = 46.21%. \n"
     ]
    },
    {
     "data": {
      "text/plain": [
       "(96.58552435623189, -2)"
      ]
     },
     "execution_count": 12,
     "metadata": {},
     "output_type": "execute_result"
    }
   ],
   "source": [
    "def find_threshold(predictions, test_features, test_labels):\n",
    "    baseline = accuracy(predictions, test_labels)\n",
    "    print(\"baseline {}\".format(baseline))\n",
    "    best_date_threshold = -2\n",
    "    for date_threshold in np.linspace(-2, 2, 41):\n",
    "        print(\"{:>5.2f} \".format(date_threshold), end='')\n",
    "        new_pred = improve_predictions(test_features, predictions, date_threshold)\n",
    "        new_acc = accuracy(new_pred, test_labels)\n",
    "        if new_acc > baseline:\n",
    "            best_date_threshold = date_threshold\n",
    "            baseline = new_acc\n",
    "    return baseline, best_date_threshold\n",
    "\n",
    "find_threshold(predictions, test_features, test_labels)"
   ]
  },
  {
   "cell_type": "markdown",
   "metadata": {},
   "source": [
    "## We analyze our random forest: the features importance"
   ]
  },
  {
   "cell_type": "code",
   "execution_count": 13,
   "metadata": {},
   "outputs": [
    {
     "name": "stdout",
     "output_type": "stream",
     "text": [
      "Variable: (D D.T D)_st         Importance: 0.28\n",
      "Variable: (DD D.T)_st          Importance: 0.20\n",
      "Variable: (D.T DD)_st          Importance: 0.10\n",
      "Variable: tf-idf               Importance: 0.09\n",
      "Variable: (DD)_st              Importance: 0.07\n",
      "Variable: (DDD)_st             Importance: 0.07\n",
      "Variable: year                 Importance: 0.05\n",
      "Variable: (D D.T)_st           Importance: 0.04\n",
      "Variable: (D.T D)_st           Importance: 0.04\n",
      "Variable: Doc2Vec              Importance: 0.02\n",
      "Variable: deg_out(s)           Importance: 0.02\n",
      "Variable: deg_in(t)            Importance: 0.02\n",
      "Variable: title                Importance: 0.01\n",
      "Variable: authors              Importance: 0.00\n"
     ]
    }
   ],
   "source": [
    "## Variable Importances\n",
    "\n",
    "# Get numerical feature importances\n",
    "importances = list(base_model.feature_importances_)\n",
    "\n",
    "# List of tuples with variable and importance\n",
    "feature_importances = [(feature, importance) for feature, importance in zip(to_keep, importances)]\n",
    "\n",
    "# Sort the feature importances by most important first\n",
    "feature_importances = sorted(feature_importances, key = lambda x: x[1], reverse = True)\n",
    "\n",
    "# Print out the feature and importances \n",
    "[print('Variable: {:20} Importance: {:.2f}'.format(*pair)) for pair in feature_importances];"
   ]
  },
  {
   "cell_type": "code",
   "execution_count": 14,
   "metadata": {},
   "outputs": [
    {
     "data": {
      "text/plain": [
       "[('(D D.T D)_st', 0.27772786216235135),\n",
       " ('(DD D.T)_st', 0.20441236561032994),\n",
       " ('(D.T DD)_st', 0.09572768991927873),\n",
       " ('tf-idf', 0.08728807487329102),\n",
       " ('(DD)_st', 0.0666106210533907),\n",
       " ('(DDD)_st', 0.06601315125489465),\n",
       " ('year', 0.05287763007681538),\n",
       " ('(D D.T)_st', 0.044957177450454),\n",
       " ('(D.T D)_st', 0.03905693614490428),\n",
       " ('Doc2Vec', 0.01806836456141697),\n",
       " ('deg_out(s)', 0.017050793832822757),\n",
       " ('deg_in(t)', 0.015045698551095893),\n",
       " ('title', 0.011998663543891357),\n",
       " ('authors', 0.003164970965062961)]"
      ]
     },
     "execution_count": 14,
     "metadata": {},
     "output_type": "execute_result"
    }
   ],
   "source": [
    "feature_importances  # for display.py"
   ]
  },
  {
   "cell_type": "code",
   "execution_count": 19,
   "metadata": {},
   "outputs": [
    {
     "data": {
      "image/png": "[encoded data removed]",
      "text/plain": [
       "<Figure size 720x288 with 1 Axes>"
      ]
     },
     "metadata": {
      "needs_background": "light"
     },
     "output_type": "display_data"
    }
   ],
   "source": [
    "# Plot variable importance\n",
    "import matplotlib.pyplot as plt\n",
    "\n",
    "# list of x locations for plotting\n",
    "x_values = list(range(len(feature_importances)))\n",
    "\n",
    "# Make a bar chart\n",
    "plt.figure(figsize=(10,4))\n",
    "plt.bar(x_values, [importance for (_, importance) in feature_importances], orientation = 'vertical')\n",
    "\n",
    "# Tick labels for x axis\n",
    "plt.xticks(x_values, [name for (name, _) in feature_importances], rotation=90)\n",
    "\n",
    "# Axis labels and title\n",
    "plt.ylabel('Importance'); plt.xlabel('Variable'); plt.title('Variable Importances'); "
   ]
  },
  {
   "cell_type": "markdown",
   "metadata": {},
   "source": [
    "## We compute our predictions on the data used for the Kaggle evaluation"
   ]
  },
  {
   "cell_type": "code",
   "execution_count": 29,
   "metadata": {},
   "outputs": [
    {
     "name": "stderr",
     "output_type": "stream",
     "text": [
      "[Parallel(n_jobs=12)]: Using backend ThreadingBackend with 12 concurrent workers.\n",
      "[Parallel(n_jobs=12)]: Done  26 tasks      | elapsed:    0.0s\n",
      "[Parallel(n_jobs=12)]: Done  50 out of  50 | elapsed:    0.0s finished\n"
     ]
    }
   ],
   "source": [
    "# Predictions to submit\n",
    "\n",
    "predictions = base_model.predict(testing_features).reshape(-1)\n",
    "\n",
    "predictions = zip(range(len(testing_features)), predictions)\n",
    "\n",
    "with open(\"predictions/RF_predictions.csv\",\"w\") as pred1:\n",
    "    csv_out = csv.writer(pred1)\n",
    "    csv_out.writerow([\"id\", \"category\"])\n",
    "    for row in predictions:\n",
    "        csv_out.writerow(row)"
   ]
  },
  {
   "cell_type": "code",
   "execution_count": null,
   "metadata": {},
   "outputs": [],
   "source": []
  }
 ],
 "metadata": {
  "kernelspec": {
   "display_name": "Python 3",
   "language": "python",
   "name": "python3"
  },
  "language_info": {
   "codemirror_mode": {
    "name": "ipython",
    "version": 3
   },
   "file_extension": ".py",
   "mimetype": "text/x-python",
   "name": "python",
   "nbconvert_exporter": "python",
   "pygments_lexer": "ipython3",
   "version": "3.6.4"
  }
 },
 "nbformat": 4,
 "nbformat_minor": 2
}
